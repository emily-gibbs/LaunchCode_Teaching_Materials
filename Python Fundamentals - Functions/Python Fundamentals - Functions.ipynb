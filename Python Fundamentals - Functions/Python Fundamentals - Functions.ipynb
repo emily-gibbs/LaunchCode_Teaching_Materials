{
 "cells": [
  {
   "cell_type": "markdown",
   "id": "acbd9f42-0e8c-4070-b172-3c4add296409",
   "metadata": {},
   "source": [
    "# Commands"
   ]
  },
  {
   "cell_type": "markdown",
   "id": "e3c04bc9-7049-45e2-b474-eb65289c6feb",
   "metadata": {},
   "source": [
    "Humans often give commands to each other. We store instructions inside of a single word or sentence. Think about drill commands:"
   ]
  },
  {
   "cell_type": "markdown",
   "id": "c55eb110-c200-42ee-9bea-482f73db0b86",
   "metadata": {},
   "source": [
    "<center><img src=\"https://th.bing.com/th/id/R.3e094d734ae052c03b9eda8dda9e8ac2?rik=FgTXCLQ8E1lfTQ&riu=http%3a%2f%2f4.bp.blogspot.com%2f-13pf_zT5EW0%2fUkdfMrIm0tI%2fAAAAAAAACT4%2f7OMyrMI3qpo%2fs1600%2f1299607696_soldier-turning-fail.gif&ehk=wYqHkwkvffRXcgBxDcTucpc7LDr4hr2hlpw9CXaBvCA%3d&risl=1&pid=ImgRaw&r=0\" width=\"500\" height=\"500\" />"
   ]
  },
  {
   "cell_type": "markdown",
   "id": "d38acb20-25b4-4ec6-a632-83bd0f9827e5",
   "metadata": {},
   "source": [
    "*Attention*\n",
    "\n",
    "*At Ease*\n",
    "\n",
    "*Fall Out*"
   ]
  },
  {
   "cell_type": "markdown",
   "id": "2c92f69b-4236-4fc7-8a56-1f4ff829b6f1",
   "metadata": {},
   "source": [
    "At some point the cadets learn that each of these phrases means something more complex that sometimes involves several steps."
   ]
  },
  {
   "cell_type": "markdown",
   "id": "270db050-5e24-45ba-9125-e6e10ff04f08",
   "metadata": {},
   "source": [
    "But sometimes that command itself is not enough. Think about when you give commands to humans (or more politely said, ask them to do things 😁)..."
   ]
  },
  {
   "cell_type": "markdown",
   "id": "557e9bf7-7b88-4cd7-af83-b2c989343f81",
   "metadata": {},
   "source": [
    "<center><img src=\"https://clipground.com/images/order-clipart-10.png\" width=\"300\" height=\"300\" />"
   ]
  },
  {
   "cell_type": "markdown",
   "id": "32191a44-b06a-4167-8fbc-c3c4467e6923",
   "metadata": {},
   "source": [
    "*Bring me food.*\n",
    "\n",
    "*Tell me the color.*\n",
    "\n",
    "*Go get the groceries.*"
   ]
  },
  {
   "cell_type": "markdown",
   "id": "922d164e-1ca5-479c-878f-5f5fb640f217",
   "metadata": {},
   "source": [
    "If you tell someone to do these things, what are they going to ask? They know what to do, but they don't have all of the information they need to do it."
   ]
  },
  {
   "cell_type": "markdown",
   "id": "cf19738f-00dd-4edf-aba0-fc76773d5d39",
   "metadata": {},
   "source": [
    "# Functions"
   ]
  },
  {
   "cell_type": "markdown",
   "id": "243c3490-61dc-4473-a627-cbe9326fd6b1",
   "metadata": {},
   "source": [
    "We can give commands to computers too, we've already been doing it! We've commanded the computer display text to the screen with `print()`, convert data values with `int()`, `float()`, and `str()`, tell us the data type of something with `type()`, and others. "
   ]
  },
  {
   "cell_type": "markdown",
   "id": "9487fd83-080f-4eb6-ac6f-9443c71af017",
   "metadata": {},
   "source": [
    "Each of these has several things in common:\n",
    "* A name that says what it does (the command itself)\n",
    "* Needs to be given additional information to perform its commanded task\n",
    "* Gives you back the thing you asked for\n",
    "* You don't know what code it is running in the background to give you the result"
   ]
  },
  {
   "cell_type": "markdown",
   "id": "1d5a6f17-f03f-4565-93e4-7b1b33b19878",
   "metadata": {},
   "source": [
    "With computers, we actually call commands **<span style='color:blue'>functions</span>**. Behind each command/function is some code that does what we want it to do. So just like variables store data, you can think of functions as storing bits of code. A function is like if you put a bit of code inside of a box - when you turn on the box it asks you for certain information, then it gives you a result. You don't see what is happening on the inside, and often you don't need to know. As long as you put in the right input, you'll get out the right output:"
   ]
  },
  {
   "cell_type": "markdown",
   "id": "8eb0bbd7-f469-4cb0-89a1-6e2af929d7ef",
   "metadata": {},
   "source": [
    "<center><img src=\"https://education.launchcode.org/data-analysis/_images/function-machine.png\" width=\"700\" height=\"700\" />"
   ]
  },
  {
   "cell_type": "markdown",
   "id": "cf3a32d2-ddd6-440a-8249-aa4bcb339b80",
   "metadata": {},
   "source": [
    "Say we want to convert `9.5` to an integer. To do that we pick the function that will do the task we want (`int()`), we give it the input that it needs to do its job (the number we want converted, `9.5`), and we get back out answer (`9`):"
   ]
  },
  {
   "cell_type": "code",
   "execution_count": 1,
   "id": "4ff8908a-15df-413a-bb3f-394dad1c8ac7",
   "metadata": {},
   "outputs": [
    {
     "name": "stdout",
     "output_type": "stream",
     "text": [
      "9\n"
     ]
    }
   ],
   "source": [
    "number_to_convert = 9.5 \n",
    "converted_number = int(number_to_convert)\n",
    "print(converted_number)"
   ]
  },
  {
   "cell_type": "markdown",
   "id": "6f563858-8133-4a50-a4bb-956d3f88e55c",
   "metadata": {},
   "source": [
    "When we give a command to computer, we say that we are **<span style='color:blue'>calling</span>** the function. If the function give us a result/output, we say that is has **<span style='color:blue'>returned</span>** something."
   ]
  },
  {
   "cell_type": "code",
   "execution_count": 1,
   "id": "3e745607-fbd3-4fe3-b005-07a48115159c",
   "metadata": {},
   "outputs": [
    {
     "name": "stdin",
     "output_type": "stream",
     "text": [
      "What is your name? Emily\n"
     ]
    }
   ],
   "source": [
    "# What is function name, input, and output/return value of this function call?\n",
    "name = input('What is your name?')"
   ]
  },
  {
   "cell_type": "code",
   "execution_count": 2,
   "id": "0a6d1940-9ce0-4b13-ab49-fbb55779158e",
   "metadata": {},
   "outputs": [
    {
     "name": "stdout",
     "output_type": "stream",
     "text": [
      "Emily\n"
     ]
    }
   ],
   "source": [
    "print(name)"
   ]
  },
  {
   "cell_type": "markdown",
   "id": "a8be3eb9-a212-4c74-90c4-f69e5e702e67",
   "metadata": {},
   "source": [
    "With functions written by other people, usually the only information you will get (unless you choose to dig deeper into their code) is:\n",
    "* The function name\n",
    "* The inputs that are needed (sometimes there are ones that are optional)\n",
    "* What the output will be"
   ]
  },
  {
   "cell_type": "markdown",
   "id": "9e8e712f-c410-490f-a0e2-a11cd9285082",
   "metadata": {},
   "source": [
    "**<span style='color:red'>IMPORTANT</span>** : you must have the right number of inputs, or the function will not work."
   ]
  },
  {
   "cell_type": "markdown",
   "id": "3468d36b-9b4f-4382-89a6-15e46a529c97",
   "metadata": {},
   "source": [
    "# Defining Functions"
   ]
  },
  {
   "cell_type": "markdown",
   "id": "1b2049fd-dc72-45b3-a73f-426753b3e179",
   "metadata": {},
   "source": [
    "There are TONS of functions that have already been written that we can use to do normal things. But what if we need to do something that is very specific to our work? Then we can write our own functions! When you write a function, it is called **<span style='color:blue'>defining</span>** a function."
   ]
  },
  {
   "cell_type": "markdown",
   "id": "9c73b44f-95e6-4118-8054-ca47266c4372",
   "metadata": {},
   "source": [
    "This is the general syntax for writing/defining your own function:\n",
    "\n",
    "```\n",
    "def function_name(input_thing_1, input_thing_2, ...):\n",
    "    # Code to do stuff\n",
    "    return output\n",
    "```\n",
    "\n",
    "Once the code line with `return` in it runs, no more code inside of the function will run. It is basically the 'end of function' command."
   ]
  },
  {
   "cell_type": "markdown",
   "id": "8c62a3ee-0c13-4a44-90bf-615f1d92902a",
   "metadata": {},
   "source": [
    "**<span style='color:orange'>NOTE</span>** : Everything that the function does must be indented under the first line"
   ]
  },
  {
   "cell_type": "markdown",
   "id": "1955501a-63f8-45f4-b2e6-be0c7588e34d",
   "metadata": {},
   "source": [
    "**<span style='color:orange'>NOTE</span>** : when you are defining a function those input value placeholders are called **<span style='color:blue'>parameters</span>**. When you are calling a function the actual input values that you use are called the **<span style='color:blue'>arguments</span>**. "
   ]
  },
  {
   "cell_type": "code",
   "execution_count": 8,
   "id": "54420e77-f9b2-41d4-b9ed-ad0b570184f9",
   "metadata": {},
   "outputs": [
    {
     "name": "stdout",
     "output_type": "stream",
     "text": [
      "3\n",
      "hello\n"
     ]
    }
   ],
   "source": [
    "def my_sum(num1, num2):\n",
    "    print(num1+num2)\n",
    "\n",
    "num3 = my_sum(1, 2)\n",
    "print('hello')"
   ]
  },
  {
   "cell_type": "code",
   "execution_count": 9,
   "id": "04f6d973-3ab1-4b7e-94f7-5219b42e9c6d",
   "metadata": {},
   "outputs": [
    {
     "name": "stdout",
     "output_type": "stream",
     "text": [
      "None\n"
     ]
    }
   ],
   "source": [
    "print(num3)"
   ]
  },
  {
   "cell_type": "markdown",
   "id": "4ff4f984-33d1-4278-98d9-b732fea0fe91",
   "metadata": {},
   "source": [
    "### Steps for Writing Functions"
   ]
  },
  {
   "cell_type": "markdown",
   "id": "804186b3-44f7-4d05-ba24-3fc71f05654b",
   "metadata": {},
   "source": [
    "When we are writing function, these are the questions we need to answer and steps we need to take:"
   ]
  },
  {
   "cell_type": "markdown",
   "id": "8a910e52-05c4-4ff5-96e8-869e389f1a37",
   "metadata": {},
   "source": [
    "1. **What do you want the function to do?** --> *Write this as a comment above the function you will write*"
   ]
  },
  {
   "cell_type": "markdown",
   "id": "4b5f061b-840f-402b-8c27-c1e68e2204ae",
   "metadata": {},
   "source": [
    "2. **Based on that above answer, what do you want the function to return (if anything)?** "
   ]
  },
  {
   "cell_type": "markdown",
   "id": "e9175e11-f812-40af-b59b-cfc93588c0af",
   "metadata": {},
   "source": [
    "3. **Based on the above two answers, what would be a descriptive and precise name for the function?** --> *Write the first line of the function definition with the name (e.g. `def function_name():`)*\n",
    "\n",
    "    - **<span style='color:orange'>NOTE</span>** : functions should do one and only one thing. If you find yourself needing to put 'and' in the function name you are probably trying to do too many things and need to break it into multiple functions"
   ]
  },
  {
   "cell_type": "markdown",
   "id": "492df924-31d9-4b0f-8df5-6541bdf68113",
   "metadata": {},
   "source": [
    "4. **What information does the function need to give me what I want?** -> *Set these as the input parameters inside the parenthesis (give them good names too)*"
   ]
  },
  {
   "cell_type": "markdown",
   "id": "a73993ab-dca0-49ed-971b-103f4bb7d612",
   "metadata": {},
   "source": [
    "5. **What is a good name for the output/returned value?** --> *Write the indented return line of the function (e.g. `return output`)*"
   ]
  },
  {
   "cell_type": "markdown",
   "id": "193ae7af-af2e-4f7d-ad82-0e4d48b5a823",
   "metadata": {},
   "source": [
    "6. **What steps need to be taken to get the output that we need?** --> *Write this as the logic inside the function*"
   ]
  },
  {
   "cell_type": "markdown",
   "id": "338bc550-d061-43a4-b95d-bc9ccad51756",
   "metadata": {},
   "source": [
    "### Re-writing Functions We Know"
   ]
  },
  {
   "cell_type": "markdown",
   "id": "b142d13c-8a9f-4571-8410-7222e4a543ee",
   "metadata": {},
   "source": [
    "A great way to practice writing functions is to define our own version of functions that already exist. For instance there exists a function called `sum()` that takes as input a list of numbers and returns/outputs the sum of all of those numbers:"
   ]
  },
  {
   "cell_type": "code",
   "execution_count": 5,
   "id": "c9e88af9-c8a3-4a15-b2e8-aef2ec567e03",
   "metadata": {},
   "outputs": [
    {
     "name": "stdout",
     "output_type": "stream",
     "text": [
      "19\n"
     ]
    }
   ],
   "source": [
    "our_list = [1, 5, 7, 8, -2]\n",
    "sum_of_numbers_in_list = sum(our_list)\n",
    "print(sum_of_numbers_in_list)"
   ]
  },
  {
   "cell_type": "markdown",
   "id": "e0299615-4690-4b9c-b614-d8c238e23603",
   "metadata": {},
   "source": [
    "In the background `sum()` has some code that figures out the sum of all of the numbers."
   ]
  },
  {
   "cell_type": "code",
   "execution_count": 10,
   "id": "50c8f8c5-33c3-413f-bebc-b15bbb00ef90",
   "metadata": {},
   "outputs": [],
   "source": [
    "# Let's write our own version of the sum function following the above steps\n",
    "# What do we want the function to do? --> Sum all of the numbers in a list\n",
    "    \n",
    "# What do we want the function to return? --> A number, which is the sum of all of the numbers in the given list\n",
    "    \n",
    "# What would be a good name for the function? --> my_sum (we don't want to override the function that already exists)\n",
    "    \n",
    "# What will the function need to take in as input in order to give us what we want? --> The list that has the numbers we want summed\n",
    "    \n",
    "# What is a good name for the output/returned value? --> sum_of_list_nums\n",
    "\n",
    "# What steps need to be taken to get the output that we need? --> step through the list and iteratively add the numbers to a stored value\n",
    "    \n",
    "def my_sum(list_of_nums):\n",
    "    sum_of_list_nums = 0\n",
    "    for num in list_of_nums:\n",
    "        sum_of_list_nums = sum_of_list_nums + num\n",
    "    return sum_of_list_nums"
   ]
  },
  {
   "cell_type": "markdown",
   "id": "f9dae660-5aab-4caf-8bc6-14f3d1ef1c1b",
   "metadata": {},
   "source": [
    "Let's test it out:"
   ]
  },
  {
   "cell_type": "code",
   "execution_count": 13,
   "id": "8139354e-0c24-41cb-b97c-9cb95d00888c",
   "metadata": {},
   "outputs": [
    {
     "name": "stdout",
     "output_type": "stream",
     "text": [
      "15\n",
      "Last line\n"
     ]
    }
   ],
   "source": [
    "print(my_sum([1, 2, 3, 4, 5]))\n",
    "print('Last line')"
   ]
  },
  {
   "cell_type": "markdown",
   "id": "07cc5ec8-1339-4d54-a759-31f351b421d4",
   "metadata": {},
   "source": [
    "We also know that there is function called `min()` that takes in as input a list and returns the smallest value in that list. Let's write our own version of that one:"
   ]
  },
  {
   "cell_type": "code",
   "execution_count": 14,
   "id": "bb6a17c2-61a9-4243-ac6a-7edeff4c774b",
   "metadata": {},
   "outputs": [
    {
     "name": "stdout",
     "output_type": "stream",
     "text": [
      "-10\n"
     ]
    }
   ],
   "source": [
    "my_list = [4, 6, -1, 7, -10, 5]\n",
    "print(min(my_list))"
   ]
  },
  {
   "cell_type": "code",
   "execution_count": 19,
   "id": "55a3cd84-6ed5-4a9c-93e6-41d7c2182054",
   "metadata": {},
   "outputs": [
    {
     "name": "stdout",
     "output_type": "stream",
     "text": [
      "The number we are looking at is 4\n",
      "The number we are looking at is 6\n",
      "The number we are looking at is 5\n",
      "The number we are looking at is 7\n",
      "The number we are looking at is -10\n",
      "That number is less than our current minimum, it is our new minimum\n",
      "The number we are looking at is -1\n",
      "-10\n"
     ]
    }
   ],
   "source": [
    "# Write our own version of the min() function following our steps\n",
    "\n",
    "# What do we want the function to do? --> find and return the minimum number in a list\n",
    "\n",
    "# What do we want the function to return? --> a number, and that number should be the smallest value in the list\n",
    "\n",
    "# What would be a good name for the function? --> my_min\n",
    "\n",
    "# What will the function need to take in as input in order to give us what we want? --> list of numbers that we're are trying to find the min value; \n",
    "\n",
    "# What is a good name for the output/returned value? --> min_of_list\n",
    "\n",
    "# What steps need to be taken to get the output that we need? -->\n",
    "\n",
    "\n",
    "\n",
    "# find and return the minimum number in a list\n",
    "def my_min(list_of_numbers):\n",
    "    \n",
    "    list_of_numbers.sort()\n",
    "    \n",
    "    min_of_list = list_of_numbers[0]\n",
    "    \n",
    "    return min_of_list\n",
    "    \n",
    "my_min([4, 6, -1, 7, -10, 5])\n",
    "\n",
    "\n",
    "\n",
    "\n",
    "def my_min_2(list_of_numbers):\n",
    "    min_of_list = list_of_numbers[0]\n",
    "#     for index in range(0, len(list_of_numbers), 1):  # range(start, stop, step)\n",
    "#         number = list_of_numbers[index]\n",
    "    for number in list_of_numbers:\n",
    "        print(f'The number we are looking at is {number}')\n",
    "        if number < min_of_list:\n",
    "            print(f'That number is less than our current minimum, it is our new minimum')\n",
    "            min_of_list = number\n",
    "\n",
    "    return min_of_list\n",
    "\n",
    "print(my_min_2([4, 6, 5, 7, -10, -1]))"
   ]
  },
  {
   "cell_type": "markdown",
   "id": "d73515c8-2a7c-45c2-afdc-068f23b5484e",
   "metadata": {},
   "source": [
    "**<span style='color:red'>IMPORTANT</span>** : The inputs that you give to the function must be in the same order as they are in the function definition, unless you use the `=` way of defining arguments. This way can make function calls even more understandable, and is especially helpful if there are a lot of function parameters."
   ]
  },
  {
   "cell_type": "code",
   "execution_count": 20,
   "id": "e8be76f8-f9f4-4bcf-a097-100637cce4ce",
   "metadata": {},
   "outputs": [
    {
     "name": "stdout",
     "output_type": "stream",
     "text": [
      "1.8\n",
      "1.8\n"
     ]
    }
   ],
   "source": [
    "def divide(numerator, denominator):\n",
    "    return numerator/denominator\n",
    "\n",
    "print(divide(9, 5))\n",
    "print(divide(denominator=5, numerator=9)) # Must use the same names that were used for the parameters in the function definition"
   ]
  },
  {
   "cell_type": "code",
   "execution_count": 21,
   "id": "d9f0b3ae-17c5-4953-8846-7a317fcfaa46",
   "metadata": {},
   "outputs": [
    {
     "name": "stdout",
     "output_type": "stream",
     "text": [
      "-10\n"
     ]
    }
   ],
   "source": [
    "# How would we call my_min() function we wrote using the '=' way of passing in arguments?\n",
    "print(my_min(list_of_numbers=[4, 6, 5, 7, -10, -1]))"
   ]
  },
  {
   "cell_type": "markdown",
   "id": "16a7f399-f12a-4b02-9cb3-3e7d44f4c317",
   "metadata": {},
   "source": [
    "### Writing a New Function"
   ]
  },
  {
   "cell_type": "markdown",
   "id": "374c2e5b-18fe-4032-856a-48e4c28ee564",
   "metadata": {},
   "source": [
    "Now let's write a function or two that isn't available for us to use already. Say we have a list of items we need for a recipe, and a list of items we have, and we want to create a function that gives us all of the items that we need to buy."
   ]
  },
  {
   "cell_type": "code",
   "execution_count": null,
   "id": "1b1df47f-51f3-4e7c-9da1-56df9d27d9f6",
   "metadata": {},
   "outputs": [],
   "source": [
    "# What do we want this function to do? --> give us the items from a recipe list of items that we still need to buy\n",
    "\n",
    "# What do we want this function to return? --> The list of items that are on the recipe list but NOT on the list of items we already have\n",
    "\n",
    "# What would be a good name for the function? --> \n",
    "\n",
    "# What will the function need to take in as input in order to give us what we want? -->\n",
    "\n",
    "# What is a good name for the output/returned value? -->\n",
    "\n",
    "# What steps need to be taken to get the output that we need? -->\n",
    "\n",
    "recipe_list = ['eggs', 'flour', 'vanilla', 'milk', 'butter', 'brown sugar', 'chocolate chips']\n",
    "items_we_have = ['milk', 'flour', 'eggs', 'butter']\n",
    "items_we_need = ????"
   ]
  },
  {
   "cell_type": "markdown",
   "id": "64f357ca-cc1e-4a17-867f-4d0fc64c8c0a",
   "metadata": {},
   "source": [
    "# Why Functions?"
   ]
  },
  {
   "cell_type": "markdown",
   "id": "bb172e65-a22b-4e7e-8c94-3b9e8b21ab07",
   "metadata": {},
   "source": [
    "<center><img src=\"https://i.pinimg.com/originals/58/6e/69/586e6921bd1b3a49c284533a5997b6c6.gif\" width=\"400\" height=\"400\" />"
   ]
  },
  {
   "cell_type": "markdown",
   "id": "dff915e3-48f6-4443-b1a0-e4584d7adf7b",
   "metadata": {},
   "source": [
    "1. Allows us to re-use code without writing it again\n",
    "1. Easier for us and others to read the code and know what it is doing\n",
    "1. Forces us to break our code down into individual, well-defined steps\n",
    "1. Literally the most helpful and most used coding thing ever"
   ]
  },
  {
   "cell_type": "markdown",
   "id": "7a805283-2df1-4ca5-9bb9-9b22961a9572",
   "metadata": {},
   "source": [
    "# Scope"
   ]
  },
  {
   "cell_type": "markdown",
   "id": "dde65a83-caba-4edc-b4fa-8b6681f05d02",
   "metadata": {},
   "source": [
    "**<span style='color:blue'>Scope</span>** refers to where a variable can be used in a program. For functions the idea of scope is important because anything created inside of a function stays inside that function unless it is returned. So if a variable is created inside a function in order to calculate the answer, you can't access that variable anywhere else in your code unless it gets returned. For example:"
   ]
  },
  {
   "cell_type": "code",
   "execution_count": 27,
   "id": "1cdb7857-e398-48e1-8f71-e1c7073cb7c7",
   "metadata": {},
   "outputs": [],
   "source": [
    "def chat_bot():\n",
    "    understand_customer_need = False\n",
    "    while not understand_customer_need:\n",
    "        customer_need = input('What do you need help with today?')\n",
    "        if 'return' in customer_need:\n",
    "            understand_customer_need = True\n",
    "            item = input('What item do you want to return?')\n",
    "        elif 'damaged' in customer_need:\n",
    "            understand_customer_need = True\n",
    "            item = input('What item is damaged?')\n",
    "        else:\n",
    "            print(\"I'm sorry, I don't understand.\")\n",
    "    \n",
    "    print(f\"Got it, let me connect you to a {item} specialist.\")\n",
    "    \n",
    "    return item\n",
    "    \n",
    "    # Notice that we aren't even returning anything!"
   ]
  },
  {
   "cell_type": "code",
   "execution_count": 30,
   "id": "15d4b822-1bb1-4ea6-8d67-6611006174a2",
   "metadata": {},
   "outputs": [
    {
     "name": "stdin",
     "output_type": "stream",
     "text": [
      "What do you need help with today? return\n",
      "What item do you want to return? unicorn\n"
     ]
    },
    {
     "name": "stdout",
     "output_type": "stream",
     "text": [
      "Got it, let me connect you to a unicorn specialist.\n"
     ]
    }
   ],
   "source": [
    "bot_item = chat_bot()"
   ]
  },
  {
   "cell_type": "code",
   "execution_count": 31,
   "id": "a0d0142e-1f45-498b-b1d0-1bbc73fe736b",
   "metadata": {},
   "outputs": [
    {
     "name": "stdout",
     "output_type": "stream",
     "text": [
      "unicorn\n"
     ]
    }
   ],
   "source": [
    "print(bot_item)"
   ]
  },
  {
   "cell_type": "code",
   "execution_count": 25,
   "id": "19a70a05-9cdd-41eb-a288-e859837441d1",
   "metadata": {},
   "outputs": [
    {
     "name": "stdin",
     "output_type": "stream",
     "text": [
      "What do you need help with today? damaged\n",
      "What item is damaged? shoes\n"
     ]
    },
    {
     "name": "stdout",
     "output_type": "stream",
     "text": [
      "Got it, let me connect you to a shoes specialist.\n"
     ]
    }
   ],
   "source": [
    "returned_thing = chat_bot()"
   ]
  },
  {
   "cell_type": "code",
   "execution_count": null,
   "id": "e8f59c7d-0ad8-40ae-b5ab-f35a9a0ad36d",
   "metadata": {},
   "outputs": [],
   "source": [
    "print(returned_thing)"
   ]
  },
  {
   "cell_type": "markdown",
   "id": "3b2bd0a0-b7db-4f6d-bb8d-deeb7223d52e",
   "metadata": {},
   "source": [
    "Functions also should **ONLY** use variables that are passed into them. Technically, you could define a variable outside of a function and then use it inside a function *without passing it in as an argument*, but this is a **<span style='color:red'>VERY BAD IDEA</span>**. If you do that, you run the risk of getting into the situation where you change one part of your code and have no idea what other code that change is going to affect. A function should be its own little independent space, and should never care what is happening in other parts of your code, it should only care about what is passed into it. "
   ]
  },
  {
   "cell_type": "markdown",
   "id": "5c18c572-f879-4e48-953a-30bd5dd61613",
   "metadata": {},
   "source": [
    "<center><img src=\"https://th.bing.com/th/id/R.4ce5dd5eb5dd9463158f91e4a50ddad5?rik=Ng0deBbxYTRHJg&riu=http%3a%2f%2fwww.reactiongifs.com%2fr%2fjgdc.gif&ehk=3uIkS0s%2b57lEEaau5%2fEgM%2f7xSxwgwucKtH7defblKXk%3d&risl=&pid=ImgRaw&r=0\" width=\"400\" height=\"400\" />"
   ]
  },
  {
   "cell_type": "code",
   "execution_count": 32,
   "id": "70ff39af-9f43-4e98-ac1a-90d151ecce7e",
   "metadata": {},
   "outputs": [
    {
     "name": "stdout",
     "output_type": "stream",
     "text": [
      "Do not use variables inside a function that were not passed into the function.\n",
      "Do not use variables inside a function that were not passed into the function.\n",
      "Do not use variables inside a function that were not passed into the function.\n",
      "Do not use variables inside a function that were not passed into the function.\n",
      "Do not use variables inside a function that were not passed into the function.\n",
      "Do not use variables inside a function that were not passed into the function.\n",
      "Do not use variables inside a function that were not passed into the function.\n",
      "Do not use variables inside a function that were not passed into the function.\n",
      "Do not use variables inside a function that were not passed into the function.\n",
      "Do not use variables inside a function that were not passed into the function.\n"
     ]
    }
   ],
   "source": [
    "number_of_times_to_print = 10\n",
    "\n",
    "def print_several_times(thing_to_print):\n",
    "    for time in range(number_of_times_to_print):\n",
    "        print(thing_to_print)\n",
    "        \n",
    "print_several_times(\"Do not use variables inside a function that were not passed into the function.\")"
   ]
  },
  {
   "cell_type": "code",
   "execution_count": 34,
   "id": "6e5b43f2-c074-47ad-9a39-ec4be1143b94",
   "metadata": {},
   "outputs": [
    {
     "name": "stdout",
     "output_type": "stream",
     "text": [
      "Do not use variables inside a function that were not passed into the function.\n",
      "Do not use variables inside a function that were not passed into the function.\n",
      "Do not use variables inside a function that were not passed into the function.\n",
      "Do not use variables inside a function that were not passed into the function.\n",
      "Do not use variables inside a function that were not passed into the function.\n",
      "Do not use variables inside a function that were not passed into the function.\n",
      "Do not use variables inside a function that were not passed into the function.\n",
      "Do not use variables inside a function that were not passed into the function.\n",
      "Do not use variables inside a function that were not passed into the function.\n",
      "Do not use variables inside a function that were not passed into the function.\n"
     ]
    }
   ],
   "source": [
    "# How should we re-write the function above so that it doesn't do this horrid thing?\n",
    "def print_several_times(thing_to_print, times_to_print):\n",
    "    for time in range(times_to_print):\n",
    "        print(thing_to_print)\n",
    "\n",
    "number_of_times_to_print = 10\n",
    "print_several_times(\"Do not use variables inside a function that were not passed into the function.\", number_of_times_to_print)"
   ]
  },
  {
   "cell_type": "code",
   "execution_count": null,
   "id": "6b3df03e-7e82-444e-bd99-6ae375d37685",
   "metadata": {},
   "outputs": [],
   "source": []
  }
 ],
 "metadata": {
  "kernelspec": {
   "display_name": "Python 3 (ipykernel)",
   "language": "python",
   "name": "python3"
  },
  "language_info": {
   "codemirror_mode": {
    "name": "ipython",
    "version": 3
   },
   "file_extension": ".py",
   "mimetype": "text/x-python",
   "name": "python",
   "nbconvert_exporter": "python",
   "pygments_lexer": "ipython3",
   "version": "3.8.8"
  }
 },
 "nbformat": 4,
 "nbformat_minor": 5
}
