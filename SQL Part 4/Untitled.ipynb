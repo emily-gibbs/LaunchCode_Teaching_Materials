{
 "cells": [
  {
   "cell_type": "markdown",
   "id": "b03a84a7-44e7-42fb-a0b6-370392513a13",
   "metadata": {},
   "source": [
    "# Subqueries"
   ]
  },
  {
   "cell_type": "markdown",
   "id": "674b9aaa-bf1b-43b5-9505-ae24d915c07c",
   "metadata": {},
   "source": [
    "\n",
    "    - Careful : <>ANY will evaluate to true is its not equal to a single value, which is different than NOT IN (different than English speaking usage); <>ALL is like NOT IN instead\n",
    "\n",
    "* The attribute that is compared to the subquery is likely the attribute that you are going to be joining on if you wrote it as a JOIN statement\n"
   ]
  }
 ],
 "metadata": {
  "kernelspec": {
   "display_name": "Python 3 (ipykernel)",
   "language": "python",
   "name": "python3"
  },
  "language_info": {
   "codemirror_mode": {
    "name": "ipython",
    "version": 3
   },
   "file_extension": ".py",
   "mimetype": "text/x-python",
   "name": "python",
   "nbconvert_exporter": "python",
   "pygments_lexer": "ipython3",
   "version": "3.8.8"
  }
 },
 "nbformat": 4,
 "nbformat_minor": 5
}
