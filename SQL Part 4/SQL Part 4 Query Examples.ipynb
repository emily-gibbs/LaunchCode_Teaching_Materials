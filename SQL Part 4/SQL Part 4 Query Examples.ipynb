{
    "metadata": {
        "kernelspec": {
            "name": "SQL",
            "display_name": "SQL",
            "language": "sql"
        },
        "language_info": {
            "name": "sql",
            "version": ""
        }
    },
    "nbformat_minor": 2,
    "nbformat": 4,
    "cells": [
        {
            "cell_type": "markdown",
            "source": [
                "**Subqueries That Return One Value**"
            ],
            "metadata": {
                "azdata_cell_guid": "de95d94f-b89a-4833-a61c-ad2f7ac7f493"
            },
            "attachments": {}
        },
        {
            "cell_type": "markdown",
            "source": [
                "What if we wanted to answer the question \"Which books have more than the average number of version?\". What is the questions within the question?"
            ],
            "metadata": {
                "azdata_cell_guid": "ad2d20cc-0ba2-4a25-94c2-8b4f2a5ee949"
            },
            "attachments": {}
        },
        {
            "cell_type": "code",
            "source": [
                "SELECT AVG(books_count) AS avg_number_of_versions\r\n",
                "FROM BooksDB.dbo.books"
            ],
            "metadata": {
                "azdata_cell_guid": "58e1f09c-a024-4619-b2f6-489980b2339a",
                "language": "sql",
                "tags": [
                    "hide_input"
                ]
            },
            "outputs": [],
            "execution_count": null
        },
        {
            "cell_type": "code",
            "source": [
                "SELECT \r\n",
                "    title,\r\n",
                "    authors,\r\n",
                "    books_count\r\n",
                "FROM \r\n",
                "    BooksDB.dbo.books -- Not using an alias because we are using the same table in the subquery : no abiguity\r\n",
                "WHERE \r\n",
                "    books_count > 75"
            ],
            "metadata": {
                "language": "sql",
                "azdata_cell_guid": "f355a5f3-339d-4c64-b953-a5f08c5dfa98",
                "tags": [
                    "hide_input"
                ]
            },
            "outputs": [],
            "execution_count": null
        },
        {
            "cell_type": "code",
            "source": [
                "SELECT \r\n",
                "    title,\r\n",
                "    authors,\r\n",
                "    books_count\r\n",
                "FROM \r\n",
                "    BooksDB.dbo.books -- Not using an alias because we are using the same table in the subquery : no abiguity\r\n",
                "WHERE \r\n",
                "    books_count >\r\n",
                "    (SELECT AVG(books_count)\r\n",
                "     FROM BooksDB.dbo.books)"
            ],
            "metadata": {
                "azdata_cell_guid": "02032349-9d07-4b65-81a4-b9ba927ff41f",
                "language": "sql",
                "tags": [
                    "hide_input"
                ]
            },
            "outputs": [],
            "execution_count": null
        },
        {
            "cell_type": "markdown",
            "source": [
                "But why do we have to use a whole new internal query? Couldn't we just do:"
            ],
            "metadata": {
                "language": "sql",
                "azdata_cell_guid": "acbe296b-8ef0-404f-a89d-7345d10530fe"
            },
            "attachments": {}
        },
        {
            "cell_type": "code",
            "source": [
                "SELECT \r\n",
                "    title,\r\n",
                "    authors,\r\n",
                "    books_count\r\n",
                "FROM \r\n",
                "    BooksDB.dbo.books AS b\r\n",
                "WHERE \r\n",
                "    books_count > AVG(books_count)"
            ],
            "metadata": {
                "language": "sql",
                "azdata_cell_guid": "73ee4ba7-9a8a-4d9e-a470-e2b47aaca68f",
                "tags": [
                    "hide_input"
                ]
            },
            "outputs": [],
            "execution_count": null
        },
        {
            "cell_type": "markdown",
            "source": [
                "Why can't you do this? Order of evaluations! The WHERE clause is applied to each row as it is read from the parent table to see if it should be included in the query evaluation, but aggregate functions are applied to all rows that pass the WHERE clause. You can't do them both at the same time"
            ],
            "metadata": {
                "language": "sql",
                "azdata_cell_guid": "80615693-1aea-4699-8234-e2544904a786"
            },
            "attachments": {}
        },
        {
            "cell_type": "markdown",
            "source": [
                "**Subqueries That Return Multiple Values**"
            ],
            "metadata": {
                "language": "sql",
                "azdata_cell_guid": "ecf25788-9440-4bf7-b546-4eb45b1ddbf0"
            },
            "attachments": {}
        },
        {
            "cell_type": "markdown",
            "source": [
                "What if we want to know the names of all of the tags that have been assigned to a certain book (e.g. book with book\\_id=1)? What is the question within the question?"
            ],
            "metadata": {
                "language": "sql",
                "azdata_cell_guid": "b8b24fea-c3b9-49ca-b01f-17c7ae697bd5"
            },
            "attachments": {}
        },
        {
            "cell_type": "code",
            "source": [
                "SELECT \r\n",
                "    tag_id\r\n",
                "FROM \r\n",
                "    BooksDB.dbo.book_tags\r\n",
                "WHERE   \r\n",
                "    goodreads_book_id = 1"
            ],
            "metadata": {
                "language": "sql",
                "azdata_cell_guid": "7fe672fc-0966-4f85-8ea4-c51ae5c729cf",
                "tags": [
                    "hide_input"
                ]
            },
            "outputs": [],
            "execution_count": null
        },
        {
            "cell_type": "code",
            "source": [
                "SELECT \r\n",
                "    t.tag_id, \r\n",
                "    t.tag_name\r\n",
                "FROM \r\n",
                "    BooksDB.dbo.tags AS t \r\n",
                "WHERE \r\n",
                "    tag_id IN\r\n",
                "    (SELECT tag_id\r\n",
                "     FROM BooksDB.dbo.book_tags as bt \r\n",
                "     WHERE bt.goodreads_book_id = 1)\r\n",
                "ORDER BY \r\n",
                "    t.tag_id ASC"
            ],
            "metadata": {
                "language": "sql",
                "azdata_cell_guid": "0944927a-f315-4d4f-86db-f9c2a9502d18",
                "tags": [
                    "hide_input"
                ]
            },
            "outputs": [],
            "execution_count": null
        },
        {
            "cell_type": "markdown",
            "source": [
                "Can we write this as a JOIN?"
            ],
            "metadata": {
                "language": "sql",
                "azdata_cell_guid": "6b3feddb-91b3-4652-a0d4-5187c337c835"
            },
            "attachments": {}
        },
        {
            "cell_type": "code",
            "source": [
                "SELECT \r\n",
                "    bt.goodreads_book_id,\r\n",
                "    bt.tag_id,\r\n",
                "    t.tag_name\r\n",
                "FROM    \r\n",
                "    BooksDB.dbo.book_tags AS bt\r\n",
                "INNER JOIN\r\n",
                "    BooksDB.dbo.tags AS t\r\n",
                "ON  \r\n",
                "    bt.tag_id = t.tag_id\r\n",
                "WHERE   \r\n",
                "    bt.goodreads_book_id = 1\r\n",
                "ORDER BY\r\n",
                "    bt.goodreads_book_id ASC,\r\n",
                "    bt.tag_id ASC"
            ],
            "metadata": {
                "language": "sql",
                "azdata_cell_guid": "a76b4985-f2f2-4fd5-a9f7-af6737490cc3",
                "tags": [
                    "hide_input"
                ]
            },
            "outputs": [],
            "execution_count": null
        },
        {
            "cell_type": "markdown",
            "source": [
                "Exercise Question 5: Write a query that returns the names of the tags and the tag ids for tags that were used over 100,000 times for a book. What is the question within the quesiton?"
            ],
            "metadata": {
                "language": "sql",
                "azdata_cell_guid": "515456fb-94a6-413e-8290-d3c5f3c603f8"
            },
            "attachments": {}
        },
        {
            "cell_type": "code",
            "source": [
                "SELECT DISTINCT(bt.tag_id)\r\n",
                "FROM BooksDB.dbo.book_tags AS bt\r\n",
                "WHERE count > 100000"
            ],
            "metadata": {
                "language": "sql",
                "azdata_cell_guid": "0d4b57ab-1fa2-4b8d-bdfe-7a626bd84505",
                "tags": [
                    "hide_input"
                ]
            },
            "outputs": [],
            "execution_count": null
        },
        {
            "cell_type": "code",
            "source": [
                "SELECT \r\n",
                "    t.tag_id,\r\n",
                "    t.tag_name\r\n",
                "FROM \r\n",
                "    BooksDB.dbo.tags AS t\r\n",
                "WHERE t.tag_id IN\r\n",
                "    (SELECT DISTINCT(bt.tag_id)\r\n",
                "     FROM BooksDB.dbo.book_tags AS bt\r\n",
                "     WHERE count > 100000)"
            ],
            "metadata": {
                "language": "sql",
                "azdata_cell_guid": "a4aab13c-a089-4af9-b16f-621417f1fb62",
                "tags": [
                    "hide_input"
                ]
            },
            "outputs": [],
            "execution_count": null
        },
        {
            "cell_type": "markdown",
            "source": [
                "Write a query that returns the names of the tags and the tags ids for tags that were used over 100,000 **in total across all books**"
            ],
            "metadata": {
                "language": "sql",
                "azdata_cell_guid": "f6ec2542-e981-41f0-bc63-29f97e67ceee"
            },
            "attachments": {}
        },
        {
            "cell_type": "code",
            "source": [
                "SELECT \r\n",
                "    tag_id,\r\n",
                "FROM \r\n",
                "    BooksDB.dbo.book_tags\r\n",
                "GROUP BY\r\n",
                "    tag_id\r\n",
                "HAVING\r\n",
                "    SUM(count) > 100000\r\n",
                "ORDER BY \r\n",
                "    total_tags DESC"
            ],
            "metadata": {
                "language": "sql",
                "azdata_cell_guid": "9d753926-090e-4927-a6a0-89f19eb0b948",
                "tags": [
                    "hide_input"
                ]
            },
            "outputs": [],
            "execution_count": null
        },
        {
            "cell_type": "code",
            "source": [
                "SELECT \r\n",
                "    t.tag_id,\r\n",
                "    t.tag_name\r\n",
                "FROM \r\n",
                "    BooksDB.dbo.tags AS t\r\n",
                "WHERE\r\n",
                "    t.tag_id IN \r\n",
                "    (\r\n",
                "        SELECT \r\n",
                "            bt.tag_id\r\n",
                "        FROM \r\n",
                "            BooksDB.dbo.book_tags AS bt\r\n",
                "        GROUP BY\r\n",
                "            tag_id\r\n",
                "        HAVING\r\n",
                "            SUM(count) > 100000\r\n",
                "    )"
            ],
            "metadata": {
                "language": "sql",
                "azdata_cell_guid": "d48bd490-f0ab-43ab-a217-61e0d2accfa1",
                "tags": [
                    "hide_input"
                ]
            },
            "outputs": [],
            "execution_count": null
        },
        {
            "cell_type": "markdown",
            "source": [
                "**Self-Contained Subqueries**"
            ],
            "metadata": {
                "language": "sql",
                "azdata_cell_guid": "bdff680f-7596-49f9-8636-69fe7fbeb7d4"
            },
            "attachments": {}
        },
        {
            "cell_type": "markdown",
            "source": [
                "Everything we've done above!"
            ],
            "metadata": {
                "language": "sql",
                "azdata_cell_guid": "7191bbd8-7c35-400a-80e4-ce1a42d9cb96"
            },
            "attachments": {}
        },
        {
            "cell_type": "markdown",
            "source": [
                "**Correlated Subqueries**"
            ],
            "metadata": {
                "language": "sql",
                "azdata_cell_guid": "ebffa3cc-6364-4555-a335-cede58916d2a"
            },
            "attachments": {}
        },
        {
            "cell_type": "markdown",
            "source": [
                "Exercise Question 1: Write a query that will return the number of users who rated a book above its average rating. What is the question within the question? What is different about this 'question within a question'?"
            ],
            "metadata": {
                "language": "sql",
                "azdata_cell_guid": "f6fc84a5-342d-464a-911e-0ecc679c86a5"
            },
            "attachments": {}
        },
        {
            "cell_type": "code",
            "source": [
                "SELECT \r\n",
                "    average_rating,\r\n",
                "    book_id\r\n",
                "FROM \r\n",
                "    BooksDB.dbo.books"
            ],
            "metadata": {
                "language": "sql",
                "azdata_cell_guid": "28c0b364-707b-4629-9caa-23dde9b3941f",
                "tags": [
                    "hide_input"
                ]
            },
            "outputs": [],
            "execution_count": null
        },
        {
            "cell_type": "code",
            "source": [
                "SELECT\r\n",
                "    COUNT(*) AS happy_readers\r\n",
                "FROM \r\n",
                "    BooksDB.dbo.ratings AS r\r\n",
                "WHERE   \r\n",
                "    r.rating > \r\n",
                "    (\r\n",
                "        SELECT \r\n",
                "            b.average_rating\r\n",
                "        FROM \r\n",
                "            BooksDB.dbo.books AS b\r\n",
                "        WHERE\r\n",
                "            b.book_id = r.book_id\r\n",
                "    )"
            ],
            "metadata": {
                "language": "sql",
                "azdata_cell_guid": "32f12260-67e8-457d-af7c-293feec7bbfb",
                "tags": [
                    "hide_input"
                ]
            },
            "outputs": [],
            "execution_count": null
        },
        {
            "cell_type": "markdown",
            "source": [
                "Write a query that will return the number of users for each particular book who rated the book above the average rating. What is the question within the question?"
            ],
            "metadata": {
                "language": "sql",
                "azdata_cell_guid": "41760d1b-4a9b-4422-8bdc-4cf07bad7e5c"
            },
            "attachments": {}
        },
        {
            "cell_type": "code",
            "source": [
                "SELECT\r\n",
                "    r.book_id,\r\n",
                "    COUNT(*) AS happy_readers\r\n",
                "FROM \r\n",
                "    BooksDB.dbo.ratings AS r\r\n",
                "WHERE   \r\n",
                "    r.rating > \r\n",
                "    (\r\n",
                "        SELECT \r\n",
                "            b.average_rating\r\n",
                "        FROM \r\n",
                "            BooksDB.dbo.books AS b\r\n",
                "        WHERE\r\n",
                "            b.book_id = r.book_id\r\n",
                "    )\r\n",
                "GROUP BY\r\n",
                "    r.book_id"
            ],
            "metadata": {
                "language": "sql",
                "azdata_cell_guid": "cf2b2278-b327-4aaf-a72e-ad8c78f9c17e",
                "tags": [
                    "hide_input"
                ]
            },
            "outputs": [],
            "execution_count": null
        },
        {
            "cell_type": "markdown",
            "source": [
                "**UNION**"
            ],
            "metadata": {
                "language": "sql",
                "azdata_cell_guid": "c1fca495-a48e-4a54-a865-79626c0b1b2f"
            },
            "attachments": {}
        },
        {
            "cell_type": "markdown",
            "source": [
                "Exercise Question 2: Write a query that returns the book ids of all books that have over 1000 ratings of 1 star OR over 1000 ratings of 5 stars"
            ],
            "metadata": {
                "language": "sql",
                "azdata_cell_guid": "80ec4c7e-1c8d-450a-808a-f2dba54169ae"
            },
            "attachments": {}
        },
        {
            "cell_type": "code",
            "source": [
                "SELECT\r\n",
                "    book_id\r\n",
                "FROM\r\n",
                "    BooksDB.dbo.books\r\n",
                "WHERE\r\n",
                "    ratings_5 > 1000\r\n",
                "UNION\r\n",
                "SELECT\r\n",
                "    book_id\r\n",
                "FROM\r\n",
                "    BooksDB.dbo.books\r\n",
                "WHERE\r\n",
                "    ratings_1 > 1000"
            ],
            "metadata": {
                "language": "sql",
                "azdata_cell_guid": "65e777f6-26db-413a-b52e-e819c964b9ec",
                "tags": [
                    "hide_input"
                ]
            },
            "outputs": [],
            "execution_count": null
        },
        {
            "cell_type": "markdown",
            "source": [
                "**INTERSECT**"
            ],
            "metadata": {
                "language": "sql",
                "azdata_cell_guid": "7f00c7b5-6acb-40cd-8c85-50f2d7ee3130"
            },
            "attachments": {}
        },
        {
            "cell_type": "markdown",
            "source": [
                "Exercise Question 3: Write a query that returns the book ids of all books that have over 1000 ratings of 1 star AND over 1000 ratings of 5 stars"
            ],
            "metadata": {
                "language": "sql",
                "azdata_cell_guid": "7ce3e29a-9cd0-4f60-961a-c492ced339ee"
            },
            "attachments": {}
        },
        {
            "cell_type": "code",
            "source": [
                "SELECT\r\n",
                "    book_id\r\n",
                "FROM\r\n",
                "    BooksDB.dbo.books\r\n",
                "WHERE\r\n",
                "    ratings_5 > 1000\r\n",
                "INTERSECT\r\n",
                "SELECT\r\n",
                "    book_id\r\n",
                "FROM\r\n",
                "    BooksDB.dbo.books\r\n",
                "WHERE\r\n",
                "    ratings_1 > 1000"
            ],
            "metadata": {
                "language": "sql",
                "azdata_cell_guid": "b4cc2083-3d68-430d-9b7a-4681f7abcd8d",
                "tags": [
                    "hide_input"
                ]
            },
            "outputs": [],
            "execution_count": null
        },
        {
            "cell_type": "markdown",
            "source": [
                "**EXCEPT**"
            ],
            "metadata": {
                "language": "sql",
                "azdata_cell_guid": "eb062cc7-f7c2-4508-9ea0-03b2d529c0b1"
            },
            "attachments": {}
        },
        {
            "cell_type": "markdown",
            "source": [
                "Exercise Question 4: Write a query that returns the book ids of books that have a language code of 'en-US' and not a language code of 'en-GB'"
            ],
            "metadata": {
                "language": "sql",
                "azdata_cell_guid": "bfae7198-3c58-4eed-88d9-5c3bf2728654"
            },
            "attachments": {}
        },
        {
            "cell_type": "code",
            "source": [
                "SELECT \r\n",
                "    book_id\r\n",
                "FROM \r\n",
                "    BooksDB.dbo.books\r\n",
                "WHERE \r\n",
                "    language_code = 'en-US' \r\n",
                "    AND NOT\r\n",
                "    language_code = 'en-GB'\r\n",
                "\r\n",
                "\r\n",
                "\r\n",
                "\r\n",
                "SELECT \r\n",
                "    book_id\r\n",
                "FROM \r\n",
                "    BooksDB.dbo.books\r\n",
                "WHERE \r\n",
                "    language_code = 'en-US'\r\n",
                "EXCEPT\r\n",
                "SELECT \r\n",
                "    book_id\r\n",
                "FROM \r\n",
                "    BooksDB.dbo.books\r\n",
                "WHERE \r\n",
                "    language_code = 'en-GB'"
            ],
            "metadata": {
                "language": "sql",
                "azdata_cell_guid": "f5d4ca70-0ea4-482f-83e8-e075d6826453",
                "tags": [
                    "hide_input"
                ]
            },
            "outputs": [],
            "execution_count": null
        }
    ]
}