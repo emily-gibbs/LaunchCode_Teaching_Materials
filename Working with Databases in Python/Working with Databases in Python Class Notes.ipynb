{
 "cells": [
  {
   "cell_type": "code",
   "execution_count": 2,
   "id": "243303ca-824f-4304-86e9-d655e46a6c4e",
   "metadata": {},
   "outputs": [],
   "source": [
    "import sqlite3\n",
    "import pandas as pd"
   ]
  },
  {
   "cell_type": "markdown",
   "id": "65a30233-6864-47f0-af62-6e68dbf21a69",
   "metadata": {},
   "source": [
    "<img src=\"https://media3.giphy.com/media/UqeH2KKx0U65oETdDR/source.gif\" width=\"300\" height=\"300\" />"
   ]
  },
  {
   "cell_type": "markdown",
   "id": "e1895468-8cab-4ba8-b744-e36390b28d54",
   "metadata": {},
   "source": [
    "**How do you import data from a csv file into a pandas dataframe?**"
   ]
  },
  {
   "cell_type": "markdown",
   "id": "f899edc6-10b1-428d-b49e-201da883aa2f",
   "metadata": {},
   "source": [
    "**`df = pd.read_csv('sample_file.csv')`**"
   ]
  },
  {
   "cell_type": "markdown",
   "id": "a7e272a3-ddeb-4987-85ce-69e9628df971",
   "metadata": {},
   "source": [
    "So far we've learned how to work with data that we can load from a csv file into pandas. We've also worked with data that lives in a large relational database. But what if we get the data that we want from a database and then want to analyze it using tools that integrate with the Pandas package? We can do that!"
   ]
  },
  {
   "cell_type": "markdown",
   "id": "6d2fecd3-33ce-4945-b2ec-37412397c786",
   "metadata": {},
   "source": [
    "<img src=\"https://th.bing.com/th/id/R.9edf500c38edf7522b9478faf29cb5ab?rik=xOXrm6cWkEeP6Q&riu=http%3a%2f%2f3.bp.blogspot.com%2f-_ZZy4bYmol8%2fUH1ik1fdQII%2fAAAAAAAAYpk%2fCx7N99KeVqM%2fs1600%2f002-funny-animal-gifs-baby-pandas-on-slide.gif&ehk=8ubfZviYci858vTnxvv9fpnof1uuyehHpPi2UixF96o%3d&risl=&pid=ImgRaw&r=0\" width=\"400\" height=\"400\" />"
   ]
  },
  {
   "cell_type": "markdown",
   "id": "d3c4d214-f49c-4378-953f-41a39590f028",
   "metadata": {},
   "source": [
    "# But Why Didn't We Just Do That From the Start??"
   ]
  },
  {
   "cell_type": "markdown",
   "id": "36404484-7549-41e9-8acf-fc4368a5ff5f",
   "metadata": {},
   "source": [
    "There are a couple of reasons why working with data in a database client application (like Azure Data Studio) can be better than working with it in Pandas:"
   ]
  },
  {
   "cell_type": "markdown",
   "id": "2bfcef46-516d-4c37-8c69-dc05c68891e5",
   "metadata": {},
   "source": [
    "* Pandas loads all data into memory before doing any processing on the dataframe. So if the size of the dataset is larger than the memory availabe, you will run into memory errors (or crash your computer 😬)\n",
    "\n",
    "* During certain processing and transformation steps Pandas may create a copy of the dataframe, further increasing the amount of memory used. \n",
    "\n",
    "* Database applications are optimized for querying, JOINs, and memory management.\n",
    "\n",
    "* A database client provides helpful features like SQL autocompletion, syntax highlighting, helpful error messages, etc. "
   ]
  },
  {
   "cell_type": "markdown",
   "id": "7e3fdaf5-b496-4ad2-bf5c-3279deb18053",
   "metadata": {},
   "source": [
    "# DO's for Database Data in Python"
   ]
  },
  {
   "cell_type": "markdown",
   "id": "3f5c7a9f-e444-4a62-a1ce-7466c7d518c0",
   "metadata": {},
   "source": [
    "<img src=\"https://th.bing.com/th/id/R.8e17936f06c399e6173a4637382d6693?rik=OIOAq3ffOXZHwQ&riu=http%3a%2f%2fwww.reactiongifs.us%2fwp-content%2fuploads%2f2013%2f03%2fthumbs_up_matt_leblanc.gif&ehk=iHR1fpLEeDUpZIvxi%2b%2bhmQTmRoQJy1wXdSmoS0atQF4%3d&risl=&pid=ImgRaw&r=0\" width=\"500\" height=\"500\" />"
   ]
  },
  {
   "cell_type": "markdown",
   "id": "60add91f-942c-4e16-a025-ff4474ceb54f",
   "metadata": {},
   "source": [
    "* **<span style=\"color:green\">DO</span>** explore the data in the database before loading it locally to understand the data you are going to be loading.\n",
    "\n",
    "* **<span style=\"color:green\">DO</span>** perform any necessary JOINs in the database client application before loading data.\n",
    "\n",
    "* **<span style=\"color:green\">DO</span>** figure out what subset of the data (fields and number of records) you need for analysis and only load that subset.\n",
    "\n",
    "* **<span style=\"color:green\">DO</span>** estimate your memory usage before loading a bunch of data."
   ]
  },
  {
   "cell_type": "markdown",
   "id": "8b66b1d3-105d-49df-8624-dc719b333f6a",
   "metadata": {},
   "source": [
    "# DO NOT's for Database Data in Python"
   ]
  },
  {
   "cell_type": "markdown",
   "id": "aa8ffd1e-6b56-438e-bf65-56549fe66d99",
   "metadata": {},
   "source": [
    "<img src=\"https://media.tenor.com/images/2472602786a5483a712b076b5c62bcea/tenor.gif\" width=\"450\" height=\"450\" />"
   ]
  },
  {
   "cell_type": "markdown",
   "id": "14c1a164-b84f-4afd-87ac-1c2344aa1113",
   "metadata": {},
   "source": [
    "* **<span style=\"color:red\">DO NOT</span>** decide you don't want to deal with SQL and can just load all of the data into pandas to explore and work with.\n",
    "\n",
    "* **<span style=\"color:red\">DO NOT</span>** perform complex operations like JOINs with pandas.\n",
    "\n",
    "* **<span style=\"color:red\">DO NOT</span>** load all of the data because you 'might need it'.\n",
    "\n",
    "* **<span style=\"color:red\">DO NOT</span>** load data that is larger than 2-3 GB."
   ]
  },
  {
   "cell_type": "markdown",
   "id": "7adcea61-386d-4877-bf70-ec0c13797eb2",
   "metadata": {},
   "source": [
    "# Working with Databases in Python"
   ]
  },
  {
   "cell_type": "markdown",
   "id": "434abb44-028f-4ea1-bea5-d89c60da20c6",
   "metadata": {},
   "source": [
    "If you want to be able to get data from a remote database, you'd have to use a package like `pyodbc`"
   ]
  },
  {
   "cell_type": "code",
   "execution_count": 3,
   "id": "af75d6a2-8da2-4b7b-837f-f68d41c9662c",
   "metadata": {},
   "outputs": [
    {
     "name": "stderr",
     "output_type": "stream",
     "text": [
      "C:\\Users\\emily.lynn\\Anaconda3\\lib\\site-packages\\pandas\\io\\sql.py:761: UserWarning: pandas only support SQLAlchemy connectable(engine/connection) ordatabase string URI or sqlite3 DBAPI2 connectionother DBAPI2 objects are not tested, please consider using SQLAlchemy\n",
      "  warnings.warn(\n"
     ]
    }
   ],
   "source": [
    "import pyodbc\n",
    "\n",
    "connection = pyodbc.connect(\n",
    "    'Driver={SQL Server};'\n",
    "    'Server=159.203.190.176, 1433;'\n",
    "    'Database=BooksDB;'\n",
    "    'UID=my_username;' # Would have to put your own username\n",
    "    'PWD=my_password;' # Would have to put your own password\n",
    ")\n",
    "\n",
    "sql_command = \"\"\"\n",
    "    SELECT TOP 10 *\n",
    "    FROM dbo.books\n",
    "\"\"\"\n",
    "data = pd.read_sql(sql_command, connection)"
   ]
  },
  {
   "cell_type": "code",
   "execution_count": 4,
   "id": "e1796d12-a066-4fba-9b54-ab593b07ffed",
   "metadata": {},
   "outputs": [
    {
     "data": {
      "text/html": [
       "<div>\n",
       "<style scoped>\n",
       "    .dataframe tbody tr th:only-of-type {\n",
       "        vertical-align: middle;\n",
       "    }\n",
       "\n",
       "    .dataframe tbody tr th {\n",
       "        vertical-align: top;\n",
       "    }\n",
       "\n",
       "    .dataframe thead th {\n",
       "        text-align: right;\n",
       "    }\n",
       "</style>\n",
       "<table border=\"1\" class=\"dataframe\">\n",
       "  <thead>\n",
       "    <tr style=\"text-align: right;\">\n",
       "      <th></th>\n",
       "      <th>id</th>\n",
       "      <th>book_id</th>\n",
       "      <th>best_book_id</th>\n",
       "      <th>work_id</th>\n",
       "      <th>books_count</th>\n",
       "      <th>isbn</th>\n",
       "      <th>isbn13</th>\n",
       "      <th>authors</th>\n",
       "      <th>original_publication_year</th>\n",
       "      <th>original_title</th>\n",
       "      <th>...</th>\n",
       "      <th>ratings_count</th>\n",
       "      <th>work_ratings_count</th>\n",
       "      <th>work_text_reviews_count</th>\n",
       "      <th>ratings_1</th>\n",
       "      <th>ratings_2</th>\n",
       "      <th>ratings_3</th>\n",
       "      <th>ratings_4</th>\n",
       "      <th>ratings_5</th>\n",
       "      <th>image_url</th>\n",
       "      <th>small_image_url</th>\n",
       "    </tr>\n",
       "  </thead>\n",
       "  <tbody>\n",
       "    <tr>\n",
       "      <th>0</th>\n",
       "      <td>1</td>\n",
       "      <td>2767052</td>\n",
       "      <td>2767052</td>\n",
       "      <td>2792775</td>\n",
       "      <td>272</td>\n",
       "      <td>439023483</td>\n",
       "      <td>9.780439e+12</td>\n",
       "      <td>Suzanne Collins</td>\n",
       "      <td>2008.0</td>\n",
       "      <td>The Hunger Games</td>\n",
       "      <td>...</td>\n",
       "      <td>4780653</td>\n",
       "      <td>4942365</td>\n",
       "      <td>155254</td>\n",
       "      <td>66715</td>\n",
       "      <td>127936</td>\n",
       "      <td>560092</td>\n",
       "      <td>1481305</td>\n",
       "      <td>2706317</td>\n",
       "      <td>https://images.gr-assets.com/books/1447303603m...</td>\n",
       "      <td>https://images.gr-assets.com/books/1447303603s...</td>\n",
       "    </tr>\n",
       "    <tr>\n",
       "      <th>1</th>\n",
       "      <td>2</td>\n",
       "      <td>3</td>\n",
       "      <td>3</td>\n",
       "      <td>4640799</td>\n",
       "      <td>491</td>\n",
       "      <td>439554934</td>\n",
       "      <td>9.780440e+12</td>\n",
       "      <td>J.K. Rowling, Mary GrandPré</td>\n",
       "      <td>1997.0</td>\n",
       "      <td>Harry Potter and the Philosopher's Stone</td>\n",
       "      <td>...</td>\n",
       "      <td>4602479</td>\n",
       "      <td>4800065</td>\n",
       "      <td>75867</td>\n",
       "      <td>75504</td>\n",
       "      <td>101676</td>\n",
       "      <td>455024</td>\n",
       "      <td>1156318</td>\n",
       "      <td>3011543</td>\n",
       "      <td>https://images.gr-assets.com/books/1474154022m...</td>\n",
       "      <td>https://images.gr-assets.com/books/1474154022s...</td>\n",
       "    </tr>\n",
       "    <tr>\n",
       "      <th>2</th>\n",
       "      <td>3</td>\n",
       "      <td>41865</td>\n",
       "      <td>41865</td>\n",
       "      <td>3212258</td>\n",
       "      <td>226</td>\n",
       "      <td>316015849</td>\n",
       "      <td>9.780316e+12</td>\n",
       "      <td>Stephenie Meyer</td>\n",
       "      <td>2005.0</td>\n",
       "      <td>Twilight</td>\n",
       "      <td>...</td>\n",
       "      <td>3866839</td>\n",
       "      <td>3916824</td>\n",
       "      <td>95009</td>\n",
       "      <td>456191</td>\n",
       "      <td>436802</td>\n",
       "      <td>793319</td>\n",
       "      <td>875073</td>\n",
       "      <td>1355439</td>\n",
       "      <td>https://images.gr-assets.com/books/1361039443m...</td>\n",
       "      <td>https://images.gr-assets.com/books/1361039443s...</td>\n",
       "    </tr>\n",
       "    <tr>\n",
       "      <th>3</th>\n",
       "      <td>4</td>\n",
       "      <td>2657</td>\n",
       "      <td>2657</td>\n",
       "      <td>3275794</td>\n",
       "      <td>487</td>\n",
       "      <td>61120081</td>\n",
       "      <td>9.780061e+12</td>\n",
       "      <td>Harper Lee</td>\n",
       "      <td>1960.0</td>\n",
       "      <td>To Kill a Mockingbird</td>\n",
       "      <td>...</td>\n",
       "      <td>3198671</td>\n",
       "      <td>3340896</td>\n",
       "      <td>72586</td>\n",
       "      <td>60427</td>\n",
       "      <td>117415</td>\n",
       "      <td>446835</td>\n",
       "      <td>1001952</td>\n",
       "      <td>1714267</td>\n",
       "      <td>https://images.gr-assets.com/books/1361975680m...</td>\n",
       "      <td>https://images.gr-assets.com/books/1361975680s...</td>\n",
       "    </tr>\n",
       "    <tr>\n",
       "      <th>4</th>\n",
       "      <td>5</td>\n",
       "      <td>4671</td>\n",
       "      <td>4671</td>\n",
       "      <td>245494</td>\n",
       "      <td>1356</td>\n",
       "      <td>743273567</td>\n",
       "      <td>9.780743e+12</td>\n",
       "      <td>F. Scott Fitzgerald</td>\n",
       "      <td>1925.0</td>\n",
       "      <td>The Great Gatsby</td>\n",
       "      <td>...</td>\n",
       "      <td>2683664</td>\n",
       "      <td>2773745</td>\n",
       "      <td>51992</td>\n",
       "      <td>86236</td>\n",
       "      <td>197621</td>\n",
       "      <td>606158</td>\n",
       "      <td>936012</td>\n",
       "      <td>947718</td>\n",
       "      <td>https://images.gr-assets.com/books/1490528560m...</td>\n",
       "      <td>https://images.gr-assets.com/books/1490528560s...</td>\n",
       "    </tr>\n",
       "    <tr>\n",
       "      <th>5</th>\n",
       "      <td>6</td>\n",
       "      <td>11870085</td>\n",
       "      <td>11870085</td>\n",
       "      <td>16827462</td>\n",
       "      <td>226</td>\n",
       "      <td>525478817</td>\n",
       "      <td>9.780525e+12</td>\n",
       "      <td>John Green</td>\n",
       "      <td>2012.0</td>\n",
       "      <td>The Fault in Our Stars</td>\n",
       "      <td>...</td>\n",
       "      <td>2346404</td>\n",
       "      <td>2478609</td>\n",
       "      <td>140739</td>\n",
       "      <td>47994</td>\n",
       "      <td>92723</td>\n",
       "      <td>327550</td>\n",
       "      <td>698471</td>\n",
       "      <td>1311871</td>\n",
       "      <td>https://images.gr-assets.com/books/1360206420m...</td>\n",
       "      <td>https://images.gr-assets.com/books/1360206420s...</td>\n",
       "    </tr>\n",
       "    <tr>\n",
       "      <th>6</th>\n",
       "      <td>7</td>\n",
       "      <td>5907</td>\n",
       "      <td>5907</td>\n",
       "      <td>1540236</td>\n",
       "      <td>969</td>\n",
       "      <td>618260307</td>\n",
       "      <td>9.780618e+12</td>\n",
       "      <td>J.R.R. Tolkien</td>\n",
       "      <td>1937.0</td>\n",
       "      <td>The Hobbit or There and Back Again</td>\n",
       "      <td>...</td>\n",
       "      <td>2071616</td>\n",
       "      <td>2196809</td>\n",
       "      <td>37653</td>\n",
       "      <td>46023</td>\n",
       "      <td>76784</td>\n",
       "      <td>288649</td>\n",
       "      <td>665635</td>\n",
       "      <td>1119718</td>\n",
       "      <td>https://images.gr-assets.com/books/1372847500m...</td>\n",
       "      <td>https://images.gr-assets.com/books/1372847500s...</td>\n",
       "    </tr>\n",
       "    <tr>\n",
       "      <th>7</th>\n",
       "      <td>8</td>\n",
       "      <td>5107</td>\n",
       "      <td>5107</td>\n",
       "      <td>3036731</td>\n",
       "      <td>360</td>\n",
       "      <td>316769177</td>\n",
       "      <td>9.780317e+12</td>\n",
       "      <td>J.D. Salinger</td>\n",
       "      <td>1951.0</td>\n",
       "      <td>The Catcher in the Rye</td>\n",
       "      <td>...</td>\n",
       "      <td>2044241</td>\n",
       "      <td>2120637</td>\n",
       "      <td>44920</td>\n",
       "      <td>109383</td>\n",
       "      <td>185520</td>\n",
       "      <td>455042</td>\n",
       "      <td>661516</td>\n",
       "      <td>709176</td>\n",
       "      <td>https://images.gr-assets.com/books/1398034300m...</td>\n",
       "      <td>https://images.gr-assets.com/books/1398034300s...</td>\n",
       "    </tr>\n",
       "    <tr>\n",
       "      <th>8</th>\n",
       "      <td>9</td>\n",
       "      <td>960</td>\n",
       "      <td>960</td>\n",
       "      <td>3338963</td>\n",
       "      <td>311</td>\n",
       "      <td>1416524797</td>\n",
       "      <td>9.781417e+12</td>\n",
       "      <td>Dan Brown</td>\n",
       "      <td>2000.0</td>\n",
       "      <td>Angels &amp; Demons</td>\n",
       "      <td>...</td>\n",
       "      <td>2001311</td>\n",
       "      <td>2078754</td>\n",
       "      <td>25112</td>\n",
       "      <td>77841</td>\n",
       "      <td>145740</td>\n",
       "      <td>458429</td>\n",
       "      <td>716569</td>\n",
       "      <td>680175</td>\n",
       "      <td>https://images.gr-assets.com/books/1303390735m...</td>\n",
       "      <td>https://images.gr-assets.com/books/1303390735s...</td>\n",
       "    </tr>\n",
       "    <tr>\n",
       "      <th>9</th>\n",
       "      <td>10</td>\n",
       "      <td>1885</td>\n",
       "      <td>1885</td>\n",
       "      <td>3060926</td>\n",
       "      <td>3455</td>\n",
       "      <td>679783261</td>\n",
       "      <td>9.780680e+12</td>\n",
       "      <td>Jane Austen</td>\n",
       "      <td>1813.0</td>\n",
       "      <td>Pride and Prejudice</td>\n",
       "      <td>...</td>\n",
       "      <td>2035490</td>\n",
       "      <td>2191465</td>\n",
       "      <td>49152</td>\n",
       "      <td>54700</td>\n",
       "      <td>86485</td>\n",
       "      <td>284852</td>\n",
       "      <td>609755</td>\n",
       "      <td>1155673</td>\n",
       "      <td>https://images.gr-assets.com/books/1320399351m...</td>\n",
       "      <td>https://images.gr-assets.com/books/1320399351s...</td>\n",
       "    </tr>\n",
       "  </tbody>\n",
       "</table>\n",
       "<p>10 rows × 23 columns</p>\n",
       "</div>"
      ],
      "text/plain": [
       "   id   book_id  best_book_id   work_id  books_count        isbn  \\\n",
       "0   1   2767052       2767052   2792775          272   439023483   \n",
       "1   2         3             3   4640799          491   439554934   \n",
       "2   3     41865         41865   3212258          226   316015849   \n",
       "3   4      2657          2657   3275794          487    61120081   \n",
       "4   5      4671          4671    245494         1356   743273567   \n",
       "5   6  11870085      11870085  16827462          226   525478817   \n",
       "6   7      5907          5907   1540236          969   618260307   \n",
       "7   8      5107          5107   3036731          360   316769177   \n",
       "8   9       960           960   3338963          311  1416524797   \n",
       "9  10      1885          1885   3060926         3455   679783261   \n",
       "\n",
       "         isbn13                      authors  original_publication_year  \\\n",
       "0  9.780439e+12              Suzanne Collins                     2008.0   \n",
       "1  9.780440e+12  J.K. Rowling, Mary GrandPré                     1997.0   \n",
       "2  9.780316e+12              Stephenie Meyer                     2005.0   \n",
       "3  9.780061e+12                   Harper Lee                     1960.0   \n",
       "4  9.780743e+12          F. Scott Fitzgerald                     1925.0   \n",
       "5  9.780525e+12                   John Green                     2012.0   \n",
       "6  9.780618e+12               J.R.R. Tolkien                     1937.0   \n",
       "7  9.780317e+12                J.D. Salinger                     1951.0   \n",
       "8  9.781417e+12                    Dan Brown                     2000.0   \n",
       "9  9.780680e+12                  Jane Austen                     1813.0   \n",
       "\n",
       "                             original_title  ... ratings_count  \\\n",
       "0                          The Hunger Games  ...       4780653   \n",
       "1  Harry Potter and the Philosopher's Stone  ...       4602479   \n",
       "2                                  Twilight  ...       3866839   \n",
       "3                     To Kill a Mockingbird  ...       3198671   \n",
       "4                          The Great Gatsby  ...       2683664   \n",
       "5                    The Fault in Our Stars  ...       2346404   \n",
       "6        The Hobbit or There and Back Again  ...       2071616   \n",
       "7                    The Catcher in the Rye  ...       2044241   \n",
       "8                          Angels & Demons   ...       2001311   \n",
       "9                       Pride and Prejudice  ...       2035490   \n",
       "\n",
       "  work_ratings_count  work_text_reviews_count  ratings_1  ratings_2  \\\n",
       "0            4942365                   155254      66715     127936   \n",
       "1            4800065                    75867      75504     101676   \n",
       "2            3916824                    95009     456191     436802   \n",
       "3            3340896                    72586      60427     117415   \n",
       "4            2773745                    51992      86236     197621   \n",
       "5            2478609                   140739      47994      92723   \n",
       "6            2196809                    37653      46023      76784   \n",
       "7            2120637                    44920     109383     185520   \n",
       "8            2078754                    25112      77841     145740   \n",
       "9            2191465                    49152      54700      86485   \n",
       "\n",
       "   ratings_3  ratings_4  ratings_5  \\\n",
       "0     560092    1481305    2706317   \n",
       "1     455024    1156318    3011543   \n",
       "2     793319     875073    1355439   \n",
       "3     446835    1001952    1714267   \n",
       "4     606158     936012     947718   \n",
       "5     327550     698471    1311871   \n",
       "6     288649     665635    1119718   \n",
       "7     455042     661516     709176   \n",
       "8     458429     716569     680175   \n",
       "9     284852     609755    1155673   \n",
       "\n",
       "                                           image_url  \\\n",
       "0  https://images.gr-assets.com/books/1447303603m...   \n",
       "1  https://images.gr-assets.com/books/1474154022m...   \n",
       "2  https://images.gr-assets.com/books/1361039443m...   \n",
       "3  https://images.gr-assets.com/books/1361975680m...   \n",
       "4  https://images.gr-assets.com/books/1490528560m...   \n",
       "5  https://images.gr-assets.com/books/1360206420m...   \n",
       "6  https://images.gr-assets.com/books/1372847500m...   \n",
       "7  https://images.gr-assets.com/books/1398034300m...   \n",
       "8  https://images.gr-assets.com/books/1303390735m...   \n",
       "9  https://images.gr-assets.com/books/1320399351m...   \n",
       "\n",
       "                                     small_image_url  \n",
       "0  https://images.gr-assets.com/books/1447303603s...  \n",
       "1  https://images.gr-assets.com/books/1474154022s...  \n",
       "2  https://images.gr-assets.com/books/1361039443s...  \n",
       "3  https://images.gr-assets.com/books/1361975680s...  \n",
       "4  https://images.gr-assets.com/books/1490528560s...  \n",
       "5  https://images.gr-assets.com/books/1360206420s...  \n",
       "6  https://images.gr-assets.com/books/1372847500s...  \n",
       "7  https://images.gr-assets.com/books/1398034300s...  \n",
       "8  https://images.gr-assets.com/books/1303390735s...  \n",
       "9  https://images.gr-assets.com/books/1320399351s...  \n",
       "\n",
       "[10 rows x 23 columns]"
      ]
     },
     "execution_count": 4,
     "metadata": {},
     "output_type": "execute_result"
    }
   ],
   "source": [
    "data"
   ]
  },
  {
   "cell_type": "markdown",
   "id": "6907e23b-4da3-4955-b994-1658640c11c4",
   "metadata": {},
   "source": [
    "If you want to create and work with a local database, python has a native database system called SQLite."
   ]
  },
  {
   "cell_type": "markdown",
   "id": "4ee36959-54fb-4bd5-8fe6-c8336d9cae04",
   "metadata": {},
   "source": [
    "### What is SQLite?"
   ]
  },
  {
   "cell_type": "markdown",
   "id": "d3e76107-7a3b-413c-85a1-d393a3e0a982",
   "metadata": {},
   "source": [
    "So far, we have been working with Azure data studio, which is the client of a client/server database engine. "
   ]
  },
  {
   "cell_type": "markdown",
   "id": "9a1cf57a-074b-4c2d-8871-0fd7856cb452",
   "metadata": {},
   "source": [
    "Client/Server Database Engines:\n",
    "* The **Server** holds and manages all of the data. This server could be hosted on the same computer as the client, but is usually not. \n",
    "    * e.g. Microsoft SQL Server is a server\n",
    "    * Servers usually require a specific type of SQL to communicate with them. (e.g. Microsoft SQL Server requires requests in the T-SQL flavor of SQL)\n",
    "* The **Client** is a front-end application that connects to the server (usually remotely) and communicates with it to make requests. There can be multiple clients, all making requests at the same time (called *concurrency*). \n",
    "    * e.g. Azure Data Studio is a client that can communicate with Microsoft SQL Server\n",
    "* Provides a shared repository of data for a whole company.\n",
    "* Emphasizes scalability, concurrency, centralization, and control."
   ]
  },
  {
   "cell_type": "markdown",
   "id": "ef7d1160-f120-4669-ad53-626a110cbe29",
   "metadata": {},
   "source": [
    "<img src=\"RDBMS-Client-Server-Architecture.jpg\" width=\"700\" height=\"700\" />"
   ]
  },
  {
   "cell_type": "markdown",
   "id": "262763dc-4ea2-4930-b541-1be18897a9e4",
   "metadata": {},
   "source": [
    "*image from https://www.sqlitetutorial.net/what-is-sqlite/*"
   ]
  },
  {
   "cell_type": "markdown",
   "id": "14cbbcfb-b6f3-4f2d-8eb8-306838012980",
   "metadata": {},
   "source": [
    "------------------------------"
   ]
  },
  {
   "cell_type": "markdown",
   "id": "ae9d358c-f7d1-42b9-8fe4-8afe4f3a7512",
   "metadata": {},
   "source": [
    "**SQLite** is a library that implements a small, fast, self-contained, serverless, and embedded SQL database engine. It is the most used database engine in the world."
   ]
  },
  {
   "cell_type": "markdown",
   "id": "d8180c83-26dc-4830-9d59-35db8502821e",
   "metadata": {},
   "source": [
    "Serverless Embedded Database Engines:\n",
    "* There is no server. The data is inside of your application, as a file stored on disk. For this reason, clients on other devices can not directly access that data (unless you use a network filesystem)\n",
    "* Provides local data storage for individual applications and devices (NOT whole companies).\n",
    "* Emphasizes economy, efficiency, independence, and simplicity."
   ]
  },
  {
   "cell_type": "markdown",
   "id": "64d28758-fbb8-4be1-9c91-a982c663c5b3",
   "metadata": {},
   "source": [
    "<img src=\"Serverless-Architecture.jpg\" width=\"700\" height=\"700\" />"
   ]
  },
  {
   "cell_type": "markdown",
   "id": "f8c5efda-6134-4fcf-ad07-f18446b21e72",
   "metadata": {},
   "source": [
    "*image from https://www.sqlitetutorial.net/what-is-sqlite/*"
   ]
  },
  {
   "cell_type": "markdown",
   "id": "a9df2e08-6582-4ff5-8697-a77b909e1754",
   "metadata": {},
   "source": [
    "**<span style=\"color:red\">WARNING</span>** : SQLite has some big differences in implementation compared to the SQL we've been working with so far. For things to watch out for when using SQLite see : [https://www.sqlite.org/quirks.html](https://www.sqlite.org/quirks.html)"
   ]
  },
  {
   "cell_type": "markdown",
   "id": "5ce0f310-04c1-4f15-b352-12f259f162b7",
   "metadata": {},
   "source": [
    "For more details on when client/server systems or SQLite systems are used, see : [https://www.sqlite.org/whentouse.html](https://www.sqlite.org/whentouse.html)"
   ]
  },
  {
   "cell_type": "markdown",
   "id": "2eff2bf5-85e3-4d98-bd67-3080de236424",
   "metadata": {},
   "source": [
    "***But if SQLite stores data locally, what is the difference between it and storing data in pandas??***"
   ]
  },
  {
   "cell_type": "markdown",
   "id": "ed34c0e6-4533-49d8-a600-ff2a9984ed62",
   "metadata": {},
   "source": [
    "Pandas data is stored in **RAM**. This type of data is temporary (why you have to re-create your dataframe every time you restart your notebook) and is used to store all information you computer is actively using (all open applications, browsing the internet, etc.).\n",
    "\n",
    "SQLite data is stored on a **HDD** (Hard Disk Drive, also just called disk). This type of data is permanent (it will persist even after shutdown). \n",
    "\n",
    "Computers have much less RAM than HDD. For instance my computer for work has a 16 GB RAM capacity and a 477 GB disk capacity. "
   ]
  },
  {
   "cell_type": "markdown",
   "id": "8a517da9-62cb-47fe-a83c-9c1ad4202083",
   "metadata": {},
   "source": [
    "### Establishing a Connection (*What database do you want to work with?*)"
   ]
  },
  {
   "cell_type": "markdown",
   "id": "b180a316-92e2-41a9-b104-da203e1b8f2a",
   "metadata": {},
   "source": [
    "<img src=\"https://media.tenor.com/images/09a3f40436ef3e52c547e607e209510a/tenor.gif\" width=\"400\" height=\"400\" />"
   ]
  },
  {
   "cell_type": "markdown",
   "id": "65c7af9f-d569-4347-9538-013e58a46692",
   "metadata": {},
   "source": [
    "You have to tell python what database you want to get data from"
   ]
  },
  {
   "cell_type": "code",
   "execution_count": 5,
   "id": "3758d992-ca74-4612-ac46-919fb52ee4d8",
   "metadata": {},
   "outputs": [],
   "source": [
    "# syntax : connection = sqlite3.connect('database_name')\n",
    "\n",
    "connection = sqlite3.connect('cupcakes.db')"
   ]
  },
  {
   "cell_type": "markdown",
   "id": "f3497e1d-8f7c-4c9b-b166-3f9c48bfe766",
   "metadata": {},
   "source": [
    "If the database indicated by the database name does not exist, this will create a new one with that name in the current directory (include the full path if you want to reference a database stored elsewhere or create one in a different directory)"
   ]
  },
  {
   "cell_type": "markdown",
   "id": "4c33efd1-6423-4585-aa97-5aa86066d9a4",
   "metadata": {},
   "source": [
    "We then have to indicate which connection we are using before every SQLite command by using `with connection:` "
   ]
  },
  {
   "cell_type": "markdown",
   "id": "ab210e8a-9abf-456b-8a78-b6e12af7c3ad",
   "metadata": {},
   "source": [
    "### Create a Table from Scratch"
   ]
  },
  {
   "cell_type": "markdown",
   "id": "3cfcf247-a1b1-4a2f-9a98-e2f91cf17fa8",
   "metadata": {},
   "source": [
    "Remember, with T-SQL the syntax was:"
   ]
  },
  {
   "cell_type": "code",
   "execution_count": null,
   "id": "de914087-72e7-4dd5-81a1-0f3902c7a475",
   "metadata": {},
   "outputs": [],
   "source": [
    "\"\"\"\n",
    "CREATE TABLE database_name*.schema_name.table_name(\n",
    "    column_name1 data_type PRIMARY KEY column_constraint,\n",
    "    column_name2 data_type column_constraint,\n",
    "    ...\n",
    "    column_nameN, data_type column_constraint,\n",
    "    table_constraints\n",
    ")\n",
    "\"\"\""
   ]
  },
  {
   "cell_type": "markdown",
   "id": "305bdad3-aa42-48e1-8cb4-4cbe01707da5",
   "metadata": {},
   "source": [
    "With SQLite it is similar, with slightly different words used sometimes (e.g. REAL instead of DECIMAL). "
   ]
  },
  {
   "cell_type": "code",
   "execution_count": null,
   "id": "e0ebd4ee-fe01-415f-94f1-fda1973487ef",
   "metadata": {},
   "outputs": [],
   "source": [
    "with connection:\n",
    "    connection.execute(\"\"\"\n",
    "        CREATE TABLE icing (\n",
    "            id INTEGER PRIMARY KEY AUTOINCREMENT,\n",
    "            name TEXT NOT NULL,\n",
    "            flavor_profile TEXT,\n",
    "            color TEXT,\n",
    "            rating REAL, \n",
    "            active BOOLEAN\n",
    "            );\n",
    "    \"\"\")"
   ]
  },
  {
   "cell_type": "markdown",
   "id": "83a77b7c-27d4-4ed7-a79e-33148c4a6dc1",
   "metadata": {},
   "source": [
    "SQLite views datatypes in a much more generic way than T-SQL. For more info on how SQLite handles data types, see : [https://www.tutorialspoint.com/sqlite/sqlite_data_types.htm](https://www.tutorialspoint.com/sqlite/sqlite_data_types.htm)"
   ]
  },
  {
   "cell_type": "markdown",
   "id": "22eeff6a-3d06-49ce-8e71-97d74491f3ff",
   "metadata": {},
   "source": [
    "### Create a Table from a Pandas Dataframe"
   ]
  },
  {
   "cell_type": "code",
   "execution_count": 10,
   "id": "90f4a75e-a9ef-4c17-8060-da339b8b6eec",
   "metadata": {},
   "outputs": [
    {
     "data": {
      "text/plain": [
       "4"
      ]
     },
     "execution_count": 10,
     "metadata": {},
     "output_type": "execute_result"
    }
   ],
   "source": [
    "cake_df = pd.DataFrame({\n",
    "    'id': [1, 2, 3, 4],\n",
    "    'name': ['contagious carrot', 'berry cherry', 'sunshine', 'celebration'],\n",
    "    'color': ['orange', 'blue and red', 'yellow', 'white with sprinkles'],\n",
    "    'flavor_profile': ['carrot cake', 'strawberry, blueberry, and cherry', 'tumeric and ginger', 'birthday cake'],\n",
    "    'rating': [9.3, 7.6, 2.4, 9.7],\n",
    "    'active': [1, 1, 0, 1]\n",
    "})\n",
    "\n",
    "cake_df.to_sql('cake', connection)"
   ]
  },
  {
   "cell_type": "markdown",
   "id": "a29930dc-6208-4082-ae26-76eae2b336b1",
   "metadata": {},
   "source": [
    "### Insert Records into a Table"
   ]
  },
  {
   "cell_type": "markdown",
   "id": "0c1cfd84-7585-4a33-b1e7-17a9ce9a5171",
   "metadata": {},
   "source": [
    "Remember, with T-SQL the syntax was :"
   ]
  },
  {
   "cell_type": "code",
   "execution_count": null,
   "id": "04d25ee9-8ef7-4363-8780-faed6703964b",
   "metadata": {},
   "outputs": [],
   "source": [
    "\"\"\"\n",
    "INSERT INTO schema_name.table_name (column_name1, column_name2, ...)\n",
    "VALUES (value1, value2, ...)\n",
    "\"\"\""
   ]
  },
  {
   "cell_type": "markdown",
   "id": "d4c5b9cc-2630-445f-a6d0-eb3421ccb5ba",
   "metadata": {},
   "source": [
    "It's the same with SQLite!"
   ]
  },
  {
   "cell_type": "code",
   "execution_count": 6,
   "id": "f2eb80fd-c5c7-4cd5-8b25-09e88ee5cdbd",
   "metadata": {},
   "outputs": [],
   "source": [
    "# Inserting a single record\n",
    "with connection:\n",
    "    connection.execute(\"\"\"\n",
    "        INSERT INTO icing (name, flavor_profile, color, rating, active)\n",
    "        VALUES ('unicorn fluff', 'strawberry and lemon', 'rainbow', '10.0', 1)\n",
    "    \"\"\")"
   ]
  },
  {
   "cell_type": "code",
   "execution_count": 7,
   "id": "0d3e21af-b46c-495c-86c2-eead8ba3944e",
   "metadata": {},
   "outputs": [],
   "source": [
    "# inserting multiple records\n",
    "with connection:\n",
    "    connection.execute(\"\"\"\n",
    "        INSERT INTO icing (name, flavor_profile, color, rating, active)\n",
    "        VALUES\n",
    "            ('triple chocolate xtreme', 'milk, dark, and white chocolate', 'dark brown, light brown, and white swirls', 8.5, 0),\n",
    "            ('toothpaste', 'harsh mint', 'red, white, and blue swirls', 5.1, 0),\n",
    "            ('galaxy', 'blackberry', 'black with sparkles', 7.5, 1)\n",
    "    \"\"\")"
   ]
  },
  {
   "cell_type": "code",
   "execution_count": 8,
   "id": "2dbc5e24-95ae-4955-9f94-dcf9004457c9",
   "metadata": {},
   "outputs": [],
   "source": [
    "# Inserting multiple records that are defined in a separate list\n",
    "sql_command = \"\"\"\n",
    "    INSERT INTO icing (name, flavor_profile, color, rating, active)\n",
    "    VALUES (?, ?, ?, ?, ?)\n",
    "\"\"\"\n",
    "\n",
    "icing_data = [\n",
    "    ('dragon breath', 'cinnamon and chili pepper', 'red', 3.2, 0),\n",
    "    ('sleepytime', 'chamomile and lavender', 'purple', 4.7, 1)\n",
    "]\n",
    "\n",
    "with connection:\n",
    "    connection.executemany(sql_command, icing_data) # slightly different command"
   ]
  },
  {
   "cell_type": "markdown",
   "id": "e72becfd-ffae-4d76-9758-72111cf2c375",
   "metadata": {},
   "source": [
    "### Querying the Database (*What data do you want?*)"
   ]
  },
  {
   "cell_type": "markdown",
   "id": "625a9537-a1f8-4470-9653-0b0bcd0bc0e4",
   "metadata": {},
   "source": [
    "In T-SQL the syntax for querying is:"
   ]
  },
  {
   "cell_type": "code",
   "execution_count": null,
   "id": "f2985610-ef9d-4e2f-bfb5-173c97ed3996",
   "metadata": {},
   "outputs": [],
   "source": [
    "\"\"\"\n",
    "SELECT \n",
    "       TOP #\n",
    "       [column_name_1], \n",
    "       [column_name_2] AS [new_column_name],\n",
    "       FUNCTION([column_name_3]) AS [created_column_name],\n",
    "FROM [table_name]\n",
    "WHERE [conditions]\n",
    "ORDER BY [column_name] ASC | DESC\n",
    "GROUP BY [column_name]\n",
    "\"\"\""
   ]
  },
  {
   "cell_type": "markdown",
   "id": "15cc5609-148f-4d65-a1e2-a3d0ff5f0918",
   "metadata": {},
   "source": [
    "SQLite is the same, except that instead of 'TOP' it uses 'LIMIT', which appears at the end"
   ]
  },
  {
   "cell_type": "code",
   "execution_count": 12,
   "id": "c33d21c5-bfee-4f8c-83d3-35d560e2cad0",
   "metadata": {},
   "outputs": [
    {
     "name": "stdout",
     "output_type": "stream",
     "text": [
      "('unicorn fluff', 10.0)\n",
      "('triple chocolate xtreme', 8.5)\n"
     ]
    }
   ],
   "source": [
    "with connection:\n",
    "    data = connection.execute(\"\"\"\n",
    "        SELECT name, rating\n",
    "        FROM icing\n",
    "        WHERE rating > 5\n",
    "        ORDER BY rating DESC\n",
    "        LIMIT 2\n",
    "    \"\"\")\n",
    "    for row in data:\n",
    "        print(row)"
   ]
  },
  {
   "cell_type": "markdown",
   "id": "3b506ce3-4d32-49b4-a1dd-a8a57ea383e4",
   "metadata": {},
   "source": [
    "### Creating a DataFrame From a SQLite Query"
   ]
  },
  {
   "cell_type": "code",
   "execution_count": 8,
   "id": "59bbd137-a363-4d69-8a0e-d060f4f05dc8",
   "metadata": {},
   "outputs": [
    {
     "data": {
      "text/html": [
       "<div>\n",
       "<style scoped>\n",
       "    .dataframe tbody tr th:only-of-type {\n",
       "        vertical-align: middle;\n",
       "    }\n",
       "\n",
       "    .dataframe tbody tr th {\n",
       "        vertical-align: top;\n",
       "    }\n",
       "\n",
       "    .dataframe thead th {\n",
       "        text-align: right;\n",
       "    }\n",
       "</style>\n",
       "<table border=\"1\" class=\"dataframe\">\n",
       "  <thead>\n",
       "    <tr style=\"text-align: right;\">\n",
       "      <th></th>\n",
       "      <th>id</th>\n",
       "      <th>name</th>\n",
       "      <th>flavor_profile</th>\n",
       "      <th>color</th>\n",
       "      <th>rating</th>\n",
       "      <th>active</th>\n",
       "    </tr>\n",
       "  </thead>\n",
       "  <tbody>\n",
       "    <tr>\n",
       "      <th>0</th>\n",
       "      <td>1</td>\n",
       "      <td>unicorn fluff</td>\n",
       "      <td>strawberry and lemon</td>\n",
       "      <td>rainbow</td>\n",
       "      <td>10.0</td>\n",
       "      <td>1</td>\n",
       "    </tr>\n",
       "    <tr>\n",
       "      <th>1</th>\n",
       "      <td>2</td>\n",
       "      <td>triple chocolate xtreme</td>\n",
       "      <td>milk, dark, and white chocolate</td>\n",
       "      <td>dark brown, light brown, and white swirls</td>\n",
       "      <td>8.5</td>\n",
       "      <td>0</td>\n",
       "    </tr>\n",
       "    <tr>\n",
       "      <th>2</th>\n",
       "      <td>3</td>\n",
       "      <td>toothpaste</td>\n",
       "      <td>harsh mint</td>\n",
       "      <td>red, white, and blue swirls</td>\n",
       "      <td>5.1</td>\n",
       "      <td>0</td>\n",
       "    </tr>\n",
       "    <tr>\n",
       "      <th>3</th>\n",
       "      <td>4</td>\n",
       "      <td>galaxy</td>\n",
       "      <td>blackberry</td>\n",
       "      <td>black with sparkles</td>\n",
       "      <td>7.5</td>\n",
       "      <td>1</td>\n",
       "    </tr>\n",
       "    <tr>\n",
       "      <th>4</th>\n",
       "      <td>5</td>\n",
       "      <td>dragon breath</td>\n",
       "      <td>cinnnamon and chili pepper</td>\n",
       "      <td>red</td>\n",
       "      <td>3.2</td>\n",
       "      <td>0</td>\n",
       "    </tr>\n",
       "    <tr>\n",
       "      <th>5</th>\n",
       "      <td>6</td>\n",
       "      <td>sleepytime</td>\n",
       "      <td>chamomile and lavender</td>\n",
       "      <td>purple</td>\n",
       "      <td>4.7</td>\n",
       "      <td>1</td>\n",
       "    </tr>\n",
       "  </tbody>\n",
       "</table>\n",
       "</div>"
      ],
      "text/plain": [
       "   id                     name                   flavor_profile  \\\n",
       "0   1            unicorn fluff             strawberry and lemon   \n",
       "1   2  triple chocolate xtreme  milk, dark, and white chocolate   \n",
       "2   3               toothpaste                       harsh mint   \n",
       "3   4                   galaxy                       blackberry   \n",
       "4   5            dragon breath       cinnnamon and chili pepper   \n",
       "5   6               sleepytime           chamomile and lavender   \n",
       "\n",
       "                                       color  rating  active  \n",
       "0                                    rainbow    10.0       1  \n",
       "1  dark brown, light brown, and white swirls     8.5       0  \n",
       "2                red, white, and blue swirls     5.1       0  \n",
       "3                        black with sparkles     7.5       1  \n",
       "4                                        red     3.2       0  \n",
       "5                                     purple     4.7       1  "
      ]
     },
     "execution_count": 8,
     "metadata": {},
     "output_type": "execute_result"
    }
   ],
   "source": [
    "# syntax : df = pd.read_sql_query(sql_query_string, connection_name)\n",
    "\n",
    "sql_command = \"\"\"\n",
    "    SELECT *\n",
    "    FROM icing\n",
    "\"\"\"\n",
    "icing_df = pd.read_sql_query(sql_command, connection)\n",
    "icing_df"
   ]
  },
  {
   "cell_type": "code",
   "execution_count": 11,
   "id": "da481d46-6e10-4737-890e-19974c42bdf5",
   "metadata": {},
   "outputs": [
    {
     "data": {
      "text/html": [
       "<div>\n",
       "<style scoped>\n",
       "    .dataframe tbody tr th:only-of-type {\n",
       "        vertical-align: middle;\n",
       "    }\n",
       "\n",
       "    .dataframe tbody tr th {\n",
       "        vertical-align: top;\n",
       "    }\n",
       "\n",
       "    .dataframe thead th {\n",
       "        text-align: right;\n",
       "    }\n",
       "</style>\n",
       "<table border=\"1\" class=\"dataframe\">\n",
       "  <thead>\n",
       "    <tr style=\"text-align: right;\">\n",
       "      <th></th>\n",
       "      <th>index</th>\n",
       "      <th>id</th>\n",
       "      <th>name</th>\n",
       "      <th>color</th>\n",
       "      <th>flavor_profile</th>\n",
       "      <th>rating</th>\n",
       "      <th>active</th>\n",
       "    </tr>\n",
       "  </thead>\n",
       "  <tbody>\n",
       "    <tr>\n",
       "      <th>0</th>\n",
       "      <td>0</td>\n",
       "      <td>1</td>\n",
       "      <td>contagious carrot</td>\n",
       "      <td>orange</td>\n",
       "      <td>carrot cake</td>\n",
       "      <td>9.3</td>\n",
       "      <td>1</td>\n",
       "    </tr>\n",
       "    <tr>\n",
       "      <th>1</th>\n",
       "      <td>1</td>\n",
       "      <td>2</td>\n",
       "      <td>berry cherry</td>\n",
       "      <td>blue and red</td>\n",
       "      <td>strawberry, blueberry, and cherry</td>\n",
       "      <td>7.6</td>\n",
       "      <td>1</td>\n",
       "    </tr>\n",
       "    <tr>\n",
       "      <th>2</th>\n",
       "      <td>2</td>\n",
       "      <td>3</td>\n",
       "      <td>sunshine</td>\n",
       "      <td>yellow</td>\n",
       "      <td>tumeric and ginger</td>\n",
       "      <td>2.4</td>\n",
       "      <td>0</td>\n",
       "    </tr>\n",
       "    <tr>\n",
       "      <th>3</th>\n",
       "      <td>3</td>\n",
       "      <td>4</td>\n",
       "      <td>celebration</td>\n",
       "      <td>white with sprinkles</td>\n",
       "      <td>birthday cake</td>\n",
       "      <td>9.7</td>\n",
       "      <td>1</td>\n",
       "    </tr>\n",
       "  </tbody>\n",
       "</table>\n",
       "</div>"
      ],
      "text/plain": [
       "   index  id               name                 color  \\\n",
       "0      0   1  contagious carrot                orange   \n",
       "1      1   2       berry cherry          blue and red   \n",
       "2      2   3           sunshine                yellow   \n",
       "3      3   4        celebration  white with sprinkles   \n",
       "\n",
       "                      flavor_profile  rating  active  \n",
       "0                        carrot cake     9.3       1  \n",
       "1  strawberry, blueberry, and cherry     7.6       1  \n",
       "2                 tumeric and ginger     2.4       0  \n",
       "3                      birthday cake     9.7       1  "
      ]
     },
     "execution_count": 11,
     "metadata": {},
     "output_type": "execute_result"
    }
   ],
   "source": [
    "# syntax : df = pd.read_sql_query(sql_query_string, connection_name)\n",
    "\n",
    "sql_command = \"\"\"\n",
    "    SELECT *\n",
    "    FROM cake\n",
    "\"\"\"\n",
    "cake_df = pd.read_sql_query(sql_command, connection)\n",
    "cake_df"
   ]
  },
  {
   "cell_type": "code",
   "execution_count": 13,
   "id": "1110483c-ce92-4716-b6fe-96dedde96d91",
   "metadata": {},
   "outputs": [],
   "source": [
    "with connection:\n",
    "    connection.execute(\"\"\"\n",
    "        DROP TABLE cake\n",
    "    \"\"\")"
   ]
  },
  {
   "cell_type": "code",
   "execution_count": 14,
   "id": "55e0e8ca-2b43-4bef-ac31-b3649c85104e",
   "metadata": {},
   "outputs": [
    {
     "ename": "DatabaseError",
     "evalue": "Execution failed on sql '\n    SELECT *\n    FROM cake\n': no such table: cake",
     "output_type": "error",
     "traceback": [
      "\u001b[1;31m---------------------------------------------------------------------------\u001b[0m",
      "\u001b[1;31mOperationalError\u001b[0m                          Traceback (most recent call last)",
      "\u001b[1;32m~\\Anaconda3\\lib\\site-packages\\pandas\\io\\sql.py\u001b[0m in \u001b[0;36mexecute\u001b[1;34m(self, *args, **kwargs)\u001b[0m\n\u001b[0;32m   1724\u001b[0m         \u001b[1;32mtry\u001b[0m\u001b[1;33m:\u001b[0m\u001b[1;33m\u001b[0m\u001b[1;33m\u001b[0m\u001b[0m\n\u001b[1;32m-> 1725\u001b[1;33m             \u001b[0mcur\u001b[0m\u001b[1;33m.\u001b[0m\u001b[0mexecute\u001b[0m\u001b[1;33m(\u001b[0m\u001b[1;33m*\u001b[0m\u001b[0margs\u001b[0m\u001b[1;33m,\u001b[0m \u001b[1;33m**\u001b[0m\u001b[0mkwargs\u001b[0m\u001b[1;33m)\u001b[0m\u001b[1;33m\u001b[0m\u001b[1;33m\u001b[0m\u001b[0m\n\u001b[0m\u001b[0;32m   1726\u001b[0m             \u001b[1;32mreturn\u001b[0m \u001b[0mcur\u001b[0m\u001b[1;33m\u001b[0m\u001b[1;33m\u001b[0m\u001b[0m\n",
      "\u001b[1;31mOperationalError\u001b[0m: no such table: cake",
      "\nThe above exception was the direct cause of the following exception:\n",
      "\u001b[1;31mDatabaseError\u001b[0m                             Traceback (most recent call last)",
      "\u001b[1;32m~\\AppData\\Local\\Temp\\ipykernel_17252\\3034576827.py\u001b[0m in \u001b[0;36m<module>\u001b[1;34m\u001b[0m\n\u001b[0;32m      3\u001b[0m     \u001b[0mFROM\u001b[0m \u001b[0mcake\u001b[0m\u001b[1;33m\u001b[0m\u001b[1;33m\u001b[0m\u001b[0m\n\u001b[0;32m      4\u001b[0m \"\"\"\n\u001b[1;32m----> 5\u001b[1;33m \u001b[0mcake_df\u001b[0m \u001b[1;33m=\u001b[0m \u001b[0mpd\u001b[0m\u001b[1;33m.\u001b[0m\u001b[0mread_sql_query\u001b[0m\u001b[1;33m(\u001b[0m\u001b[0msql_command\u001b[0m\u001b[1;33m,\u001b[0m \u001b[0mconnection\u001b[0m\u001b[1;33m)\u001b[0m\u001b[1;33m\u001b[0m\u001b[1;33m\u001b[0m\u001b[0m\n\u001b[0m\u001b[0;32m      6\u001b[0m \u001b[0mcake_df\u001b[0m\u001b[1;33m\u001b[0m\u001b[1;33m\u001b[0m\u001b[0m\n",
      "\u001b[1;32m~\\Anaconda3\\lib\\site-packages\\pandas\\io\\sql.py\u001b[0m in \u001b[0;36mread_sql_query\u001b[1;34m(sql, con, index_col, coerce_float, params, parse_dates, chunksize)\u001b[0m\n\u001b[0;32m    386\u001b[0m     \"\"\"\n\u001b[0;32m    387\u001b[0m     \u001b[0mpandas_sql\u001b[0m \u001b[1;33m=\u001b[0m \u001b[0mpandasSQL_builder\u001b[0m\u001b[1;33m(\u001b[0m\u001b[0mcon\u001b[0m\u001b[1;33m)\u001b[0m\u001b[1;33m\u001b[0m\u001b[1;33m\u001b[0m\u001b[0m\n\u001b[1;32m--> 388\u001b[1;33m     return pandas_sql.read_query(\n\u001b[0m\u001b[0;32m    389\u001b[0m         \u001b[0msql\u001b[0m\u001b[1;33m,\u001b[0m\u001b[1;33m\u001b[0m\u001b[1;33m\u001b[0m\u001b[0m\n\u001b[0;32m    390\u001b[0m         \u001b[0mindex_col\u001b[0m\u001b[1;33m=\u001b[0m\u001b[0mindex_col\u001b[0m\u001b[1;33m,\u001b[0m\u001b[1;33m\u001b[0m\u001b[1;33m\u001b[0m\u001b[0m\n",
      "\u001b[1;32m~\\Anaconda3\\lib\\site-packages\\pandas\\io\\sql.py\u001b[0m in \u001b[0;36mread_query\u001b[1;34m(self, sql, index_col, coerce_float, params, parse_dates, chunksize)\u001b[0m\n\u001b[0;32m   1769\u001b[0m \u001b[1;33m\u001b[0m\u001b[0m\n\u001b[0;32m   1770\u001b[0m         \u001b[0margs\u001b[0m \u001b[1;33m=\u001b[0m \u001b[0m_convert_params\u001b[0m\u001b[1;33m(\u001b[0m\u001b[0msql\u001b[0m\u001b[1;33m,\u001b[0m \u001b[0mparams\u001b[0m\u001b[1;33m)\u001b[0m\u001b[1;33m\u001b[0m\u001b[1;33m\u001b[0m\u001b[0m\n\u001b[1;32m-> 1771\u001b[1;33m         \u001b[0mcursor\u001b[0m \u001b[1;33m=\u001b[0m \u001b[0mself\u001b[0m\u001b[1;33m.\u001b[0m\u001b[0mexecute\u001b[0m\u001b[1;33m(\u001b[0m\u001b[1;33m*\u001b[0m\u001b[0margs\u001b[0m\u001b[1;33m)\u001b[0m\u001b[1;33m\u001b[0m\u001b[1;33m\u001b[0m\u001b[0m\n\u001b[0m\u001b[0;32m   1772\u001b[0m         \u001b[0mcolumns\u001b[0m \u001b[1;33m=\u001b[0m \u001b[1;33m[\u001b[0m\u001b[0mcol_desc\u001b[0m\u001b[1;33m[\u001b[0m\u001b[1;36m0\u001b[0m\u001b[1;33m]\u001b[0m \u001b[1;32mfor\u001b[0m \u001b[0mcol_desc\u001b[0m \u001b[1;32min\u001b[0m \u001b[0mcursor\u001b[0m\u001b[1;33m.\u001b[0m\u001b[0mdescription\u001b[0m\u001b[1;33m]\u001b[0m\u001b[1;33m\u001b[0m\u001b[1;33m\u001b[0m\u001b[0m\n\u001b[0;32m   1773\u001b[0m \u001b[1;33m\u001b[0m\u001b[0m\n",
      "\u001b[1;32m~\\Anaconda3\\lib\\site-packages\\pandas\\io\\sql.py\u001b[0m in \u001b[0;36mexecute\u001b[1;34m(self, *args, **kwargs)\u001b[0m\n\u001b[0;32m   1735\u001b[0m \u001b[1;33m\u001b[0m\u001b[0m\n\u001b[0;32m   1736\u001b[0m             \u001b[0mex\u001b[0m \u001b[1;33m=\u001b[0m \u001b[0mDatabaseError\u001b[0m\u001b[1;33m(\u001b[0m\u001b[1;34mf\"Execution failed on sql '{args[0]}': {exc}\"\u001b[0m\u001b[1;33m)\u001b[0m\u001b[1;33m\u001b[0m\u001b[1;33m\u001b[0m\u001b[0m\n\u001b[1;32m-> 1737\u001b[1;33m             \u001b[1;32mraise\u001b[0m \u001b[0mex\u001b[0m \u001b[1;32mfrom\u001b[0m \u001b[0mexc\u001b[0m\u001b[1;33m\u001b[0m\u001b[1;33m\u001b[0m\u001b[0m\n\u001b[0m\u001b[0;32m   1738\u001b[0m \u001b[1;33m\u001b[0m\u001b[0m\n\u001b[0;32m   1739\u001b[0m     \u001b[1;33m@\u001b[0m\u001b[0mstaticmethod\u001b[0m\u001b[1;33m\u001b[0m\u001b[1;33m\u001b[0m\u001b[0m\n",
      "\u001b[1;31mDatabaseError\u001b[0m: Execution failed on sql '\n    SELECT *\n    FROM cake\n': no such table: cake"
     ]
    }
   ],
   "source": [
    "sql_command = \"\"\"\n",
    "    SELECT *\n",
    "    FROM cake\n",
    "\"\"\"\n",
    "cake_df = pd.read_sql_query(sql_command, connection)\n",
    "cake_df"
   ]
  },
  {
   "cell_type": "markdown",
   "id": "08e134e2-853d-46b9-9d2b-3a5448513eaa",
   "metadata": {},
   "source": [
    "Then do whatever you normally would do with a dataframe!"
   ]
  },
  {
   "cell_type": "code",
   "execution_count": 12,
   "id": "08412d05-2685-46de-88b4-e488823c7827",
   "metadata": {},
   "outputs": [
    {
     "data": {
      "image/png": "[encoded data removed]",
      "text/plain": [
       "<Figure size 720x360 with 1 Axes>"
      ]
     },
     "metadata": {
      "needs_background": "light"
     },
     "output_type": "display_data"
    }
   ],
   "source": [
    "import matplotlib.pyplot as plt\n",
    "\n",
    "ratings = icing_df['rating']\n",
    "names = icing_df['name']\n",
    "\n",
    "plt.figure(figsize=(10, 5))\n",
    "plt.barh(names, ratings)\n",
    "plt.title('Icing Popularity', fontsize=20)\n",
    "plt.ylabel('Icing Name', fontsize=15)\n",
    "plt.xlabel('Rating', fontsize=15)\n",
    "plt.show()"
   ]
  },
  {
   "cell_type": "markdown",
   "id": "2c074e38-400e-490a-9c41-7225e54a939e",
   "metadata": {},
   "source": [
    "### Etc..."
   ]
  },
  {
   "cell_type": "markdown",
   "id": "3c7f0981-5cbd-4225-bdf2-8ba6cc5cfba0",
   "metadata": {},
   "source": [
    "You can also do things like dropping/deleting tables, deleting records, etc. "
   ]
  },
  {
   "cell_type": "markdown",
   "id": "ca4723c4-0bf3-4096-9c04-0273d282a6d7",
   "metadata": {},
   "source": [
    "# Alternative to Pandas to Explore for Working with Large Datasets in Python"
   ]
  },
  {
   "cell_type": "markdown",
   "id": "4f90f061-9d35-40ed-a385-fc459f8fa036",
   "metadata": {},
   "source": [
    "* Dask\n",
    "* Pyspark\n",
    "* Koalas\n",
    "* Vaex\n",
    "* etc..."
   ]
  },
  {
   "cell_type": "markdown",
   "id": "55882203-a1c5-491e-9ef9-d815f6a17ce0",
   "metadata": {},
   "source": [
    "Most of these packages provide parallel execution functionality to work with large datasets"
   ]
  },
  {
   "cell_type": "markdown",
   "id": "7430cd4e-ffc7-4436-8bf2-abc0b77fc257",
   "metadata": {},
   "source": [
    "To look into these libraries, see : [https://towardsdatascience.com/8-alternatives-to-pandas-for-processing-large-datasets-928fc927b08c](https://towardsdatascience.com/8-alternatives-to-pandas-for-processing-large-datasets-928fc927b08c)"
   ]
  },
  {
   "cell_type": "code",
   "execution_count": null,
   "id": "0754cd58-12cf-4303-b549-f73770848f7d",
   "metadata": {},
   "outputs": [],
   "source": []
  }
 ],
 "metadata": {
  "kernelspec": {
   "display_name": "Python 3 (ipykernel)",
   "language": "python",
   "name": "python3"
  },
  "language_info": {
   "codemirror_mode": {
    "name": "ipython",
    "version": 3
   },
   "file_extension": ".py",
   "mimetype": "text/x-python",
   "name": "python",
   "nbconvert_exporter": "python",
   "pygments_lexer": "ipython3",
   "version": "3.9.12"
  }
 },
 "nbformat": 4,
 "nbformat_minor": 5
}
