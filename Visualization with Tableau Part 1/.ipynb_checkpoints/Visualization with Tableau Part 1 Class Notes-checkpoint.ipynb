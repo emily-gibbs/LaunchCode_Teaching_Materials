{
 "cells": [
  {
   "cell_type": "markdown",
   "id": "0312add2-9dcf-412f-b32d-2fb102d208d5",
   "metadata": {},
   "source": [
    "# Why Tableau?"
   ]
  },
  {
   "cell_type": "markdown",
   "id": "b01baecb-4dd5-409a-928a-2b9eb3f91f8d",
   "metadata": {},
   "source": [
    "<img src=\"https://media1.tenor.com/images/fd36521e2f6d36ad157995e895a2e3a8/tenor.gif?itemid=8714598\" width=\"300\" height=\"300\" />"
   ]
  },
  {
   "cell_type": "markdown",
   "id": "9e9dacad-0e9f-489e-9280-761d3fc0ece6",
   "metadata": {},
   "source": [
    "* Visualizations are interactive\n",
    "* Very professional looking with much less formatting effort\n",
    "* Doesn't require programming (drag and drop interface)\n",
    "* Ability to easily build dashboards"
   ]
  },
  {
   "cell_type": "markdown",
   "id": "fc251098-c53c-4842-ba33-85855ac93114",
   "metadata": {},
   "source": [
    "--------------------"
   ]
  },
  {
   "cell_type": "markdown",
   "id": "672a3a0c-81d8-4dd3-81d2-bfb4f2604cfe",
   "metadata": {},
   "source": [
    "# Connecting to Data"
   ]
  },
  {
   "cell_type": "markdown",
   "id": "c021d934-c5a1-476e-aa0c-4bab64c698a7",
   "metadata": {},
   "source": [
    "<img src=\"https://giffiles.alphacoders.com/211/211099.gif\" width=\"300\" height=\"300\" />"
   ]
  },
  {
   "cell_type": "markdown",
   "id": "612805f9-6d15-4e00-b454-fd53b1274414",
   "metadata": {},
   "source": [
    "**<span style=\"color:orange\">NOTE</span>** : When connecting to data in Tableau, you never actually modify the original data source. So don't be afraid to play around!"
   ]
  },
  {
   "cell_type": "markdown",
   "id": "2581e857-a939-44f3-9d4f-25a0c16b4187",
   "metadata": {},
   "source": [
    "1. Go to the 'Connect' area of the app. You can get there by clicking on the Tableau logo on the top left\n",
    "1. Choose which type of file you want to connect to (Excel file, text/csv file, Google Sheets, etc.)\n",
    "    * Excel files or text/csv files - you will need to open the file from your file explorer\n",
    "    * Google Sheets - will need to log into your Google account, give Tableau permission to access your files, and select the file you want to connect to\n",
    "1. If Tableau is able to successfully connect, the data will apear under the 'Data Source' tab of the workspace (bottom left in the footer). From here you can choose which specific Excel/Google Sheets sheets of data you want to use by dragging those sheets over. If there is only one sheet, Tableau will automatically grab that data.\n",
    "1. There will be a preview of the data underneath where you dragged the sheet\n",
    "1. Tableau will try to automatically determine the type of each column of data, but you can manually change the data types by clicking on the data type symbol"
   ]
  },
  {
   "cell_type": "markdown",
   "id": "3f5df31f-8f98-4d2c-a6c0-25e9246f56e0",
   "metadata": {},
   "source": [
    "----------------------"
   ]
  },
  {
   "cell_type": "markdown",
   "id": "af27a74e-5e14-4436-968d-c4b9e90d7334",
   "metadata": {},
   "source": [
    "# Workspace Area"
   ]
  },
  {
   "cell_type": "markdown",
   "id": "ff17c8f9-35bf-4a25-a732-8c03a807c88f",
   "metadata": {},
   "source": [
    "**Workbook** : The entire Tableau file that contains your sheets. "
   ]
  },
  {
   "cell_type": "markdown",
   "id": "74b6b6e6-68c8-4d84-9c4e-206e980ef552",
   "metadata": {},
   "source": [
    "### Footer"
   ]
  },
  {
   "cell_type": "markdown",
   "id": "af49e86d-1870-4f64-a7d7-400325989095",
   "metadata": {},
   "source": [
    "<center><img src=\"Footer.png\" width=\"900\" height=\"900\" />"
   ]
  },
  {
   "cell_type": "markdown",
   "id": "481b12ed-7d8c-4f36-bb46-9a5a66dbc735",
   "metadata": {},
   "source": [
    "Allows you to navigate between different sheets and the data source, provides shortcuts to create new sheets, and let's you modify how you see the sheets listed."
   ]
  },
  {
   "cell_type": "markdown",
   "id": "c7b7fc1b-f430-46f0-a7bb-f5b7adb758fe",
   "metadata": {},
   "source": [
    "### Toolbar and Menus"
   ]
  },
  {
   "cell_type": "markdown",
   "id": "18aceaee-e95f-495b-b5e8-f91010c9a48f",
   "metadata": {},
   "source": [
    "<center><img src=\"Toolbar and Menus.png\" width=\"900\" height=\"900\" />"
   ]
  },
  {
   "cell_type": "markdown",
   "id": "47d59ec6-7b8f-4a4a-acb6-e2c2cf642104",
   "metadata": {},
   "source": [
    "Play around and see what options you can find! (my favorite is the 'Undo' button)"
   ]
  },
  {
   "cell_type": "markdown",
   "id": "23dba7a1-d4b4-41ad-ba05-966dc3ac23d3",
   "metadata": {},
   "source": [
    "### Sheets"
   ]
  },
  {
   "cell_type": "markdown",
   "id": "d8bdc121-b2bc-4b76-95fe-3ba3ad04b7ec",
   "metadata": {},
   "source": [
    "**Sheet** : The 'pages' that makes up a workbook. A sheet can be a worksheet, dashboard, or a story. You can add additional sheets to your workbook on the bottom left of the workbook footer."
   ]
  },
  {
   "cell_type": "markdown",
   "id": "46f274c7-f8ab-4122-ad0e-4241ef2d1014",
   "metadata": {},
   "source": [
    "* *Worksheet* : The sheet type where you can build individual visualizations. It is represented by this symbol in the Tableau interface:"
   ]
  },
  {
   "cell_type": "markdown",
   "id": "d7358a20-58ca-4536-a1d2-daf7dd341732",
   "metadata": {},
   "source": [
    "<center><img src=\"Sheet Icon.png\" width=\"100\" height=\"100\"/>"
   ]
  },
  {
   "cell_type": "markdown",
   "id": "2575c9fe-86c4-4091-bde5-b4706cfd546b",
   "metadata": {},
   "source": [
    "* *Dashboard* : The sheet type that is a canvas for displaying multiple visualizations at a time and allowing them to interact with each other; a collection of views from multiple worksheets. It is represented by this symbol in the Tableau interface:"
   ]
  },
  {
   "cell_type": "markdown",
   "id": "781bf544-c4c9-4477-95ff-cd216d7a0ada",
   "metadata": {},
   "source": [
    "<center><img src=\"Dashboard Icon.png\" width=\"100\" height=\"100\" />"
   ]
  },
  {
   "cell_type": "markdown",
   "id": "a488eee3-ac45-4853-a449-2fc20c2c6b33",
   "metadata": {},
   "source": [
    "* *Story* : The sheet type that is a viewing portal that contains a sequence of sheets or dashboards that work togther to convey information. Each individual sheet in a story is called a *story point*. It is represented by this symbol in the Tableau interface:"
   ]
  },
  {
   "cell_type": "markdown",
   "id": "26d35ac2-5906-4446-8538-e6e10d18583a",
   "metadata": {},
   "source": [
    "<center><img src=\"Story Icon.png\" width=\"100\" height=\"100\" />"
   ]
  },
  {
   "cell_type": "markdown",
   "id": "f0b8264b-154c-4349-86cc-2f556286ce0f",
   "metadata": {},
   "source": [
    "**View** : The area in the workspace where your visualization (also called a 'viz') is displayed. It is usually the largest area in the workspace. "
   ]
  },
  {
   "cell_type": "markdown",
   "id": "33e1f5af-776c-4ac1-8821-cf8075ae889e",
   "metadata": {},
   "source": [
    "### Where Can I Find My Data?"
   ]
  },
  {
   "cell_type": "markdown",
   "id": "7b29a6ba-689b-4d37-a48c-19b594ffa099",
   "metadata": {},
   "source": [
    "**Data Pane** : A pane on the left that lists your open data sources and the fields (called dimensions and measures) contained in the selected data sources (These fields are the columns of the data source table)"
   ]
  },
  {
   "cell_type": "markdown",
   "id": "f5f9c393-6fa2-4bd8-98e2-fe0672790465",
   "metadata": {},
   "source": [
    "* *Dimension* - a categorical variable that is used to separate the data into different categories (e.g. country, gender, name, date, ID, etc.). Dimensions are qualitative, descriptive, and usually discrete. You can think of these as having information that you can't measure but instead have to describe "
   ]
  },
  {
   "cell_type": "markdown",
   "id": "15b67e5c-550d-4e5d-9caa-b3692fd446cc",
   "metadata": {},
   "source": [
    "* *Measure* - A quantitative variable from the dataset that could be aggregated (i.e. it makes sense to do math with it, such as GPA, sales, quantity, height, salary, etc.). Measures are numeric and often continuous."
   ]
  },
  {
   "cell_type": "markdown",
   "id": "1a3a0eb8-e978-4cbf-a9fe-0afd02065925",
   "metadata": {},
   "source": [
    "* *Data Types* - Next to each field will be a symbol that indicates what type of data it is."
   ]
  },
  {
   "cell_type": "markdown",
   "id": "0cb9e4e9-2014-4d55-ad4f-96926215bf61",
   "metadata": {},
   "source": [
    "<center><img src=\"Data Type Icons.png\" width=\"900\" height=\"900\" />"
   ]
  },
  {
   "cell_type": "markdown",
   "id": "8daf7725-aac3-49a4-bdbf-34fbee862625",
   "metadata": {},
   "source": [
    "**<span style=\"color:orange\">NOTE</span>** : You can hide fields you do not plan to use."
   ]
  },
  {
   "cell_type": "markdown",
   "id": "3cdd00ee-2860-4ccc-809f-b63c3c13988b",
   "metadata": {},
   "source": [
    "When fields are pulled into a space on your sheet they will appear as 'pills' like these:"
   ]
  },
  {
   "cell_type": "markdown",
   "id": "aeb9ece6-eca1-4c3c-a1c6-27717185fafb",
   "metadata": {},
   "source": [
    "<center><img src=\"Dimension Icon.png\" width=\"200\" height=\"200\" /></center>"
   ]
  },
  {
   "cell_type": "markdown",
   "id": "ed932eb3-5e12-4041-b8ac-b4c545879303",
   "metadata": {},
   "source": [
    "<center><img src=\"Measure Icon.png\" width=\"200\" height=\"200\" />"
   ]
  },
  {
   "cell_type": "markdown",
   "id": "ff49ce1a-6ea9-4e5d-84b6-9a925792502a",
   "metadata": {},
   "source": [
    "The colors indicate whether the field is continuous (blue) or discrete (green). Sometimes you can change whether Tableau considers a field to be one or the other. Tableau will treat continuous and discrete fields different in visualizations. For example:"
   ]
  },
  {
   "cell_type": "markdown",
   "id": "1fba1123-67a4-4fa9-8b75-54c64514bece",
   "metadata": {},
   "source": [
    "<center><img src=\"Continuous vs Discrete Plots.png\" width=\"700\" height=\"700\" /></center>"
   ]
  },
  {
   "cell_type": "markdown",
   "id": "6f36d960-b558-442e-aeaf-b35510c1098a",
   "metadata": {},
   "source": [
    "-------------------"
   ]
  },
  {
   "cell_type": "markdown",
   "id": "0723fa35-cf8e-428a-bb18-f857b546b479",
   "metadata": {},
   "source": [
    "# Creating Visualizations"
   ]
  },
  {
   "cell_type": "markdown",
   "id": "40cadead-5b50-4dac-b367-0da6fdbe27a7",
   "metadata": {},
   "source": [
    "**Rows and Columns Shelves** : Where you determine which variables will go on what axis. \n",
    "* *Row Shelf* - Where you put data you want displayed along the Y-axis\n",
    "* *Column Shelf* - Where you put data you want displayed along the X-axis"
   ]
  },
  {
   "cell_type": "markdown",
   "id": "c4fbe268-7097-471e-8972-6dfc203ae330",
   "metadata": {},
   "source": [
    "<center><img src=\"Columns and Rows Shelves.png\" width=\"400\" height=\"400\" /></center>"
   ]
  },
  {
   "cell_type": "markdown",
   "id": "a17912c0-170f-4f56-9f08-8c3a918d795f",
   "metadata": {},
   "source": [
    "**Aggregation** : When a function is applied to a field so that the values for that field are converted to a single value (like when we aggregated data in SQL with AVG or MAX). It allows you to summarize your data in meaningful ways. The aggregation will be applied to groups based upon any dimension being used to group the data (like when we used the GROUP BY clause in SQL)"
   ]
  },
  {
   "cell_type": "markdown",
   "id": "31124915-55fc-4737-b082-5d46cba9a457",
   "metadata": {},
   "source": [
    "**<span style=\"color:orange\">NOTE</span>** : aggregation is usually done to measures, because it is usually applying mathematical functions. If you try to aggregate a dimension, it will actually create a new field that is a 'measure version' of that dimension field (e.g. if you wanted a count of a dimension)"
   ]
  },
  {
   "cell_type": "markdown",
   "id": "a685d8ea-d8df-4858-b84a-a57a2932860d",
   "metadata": {},
   "source": [
    "As you can see, when a measure (Sales) was pulled into the view/visualization it was aggregated. This will always happen automatically, and the default aggregation is SUM. Other possible aggregation options include:\n",
    "* COUNT\n",
    "* AVG\n",
    "* MAX/MIN\n",
    "* SUM\n",
    "* And many more!\n",
    "\n",
    "For a full list of possible aggregate functions, see [https://help.tableau.com/current/pro/desktop/en-us/calculations_calculatedfields_aggregate_create.htm](https://help.tableau.com/current/pro/desktop/en-us/calculations_calculatedfields_aggregate_create.htm).\n",
    "\n",
    "To change the default aggregation, click on the drop-down arrow for a field -> Default Properties -> Aggregation -> choose one. \n",
    "\n",
    "If you want to change the aggregation of a field already in the visualization, click on the drop-down arrow for the filed -> Measure -> choose one."
   ]
  },
  {
   "cell_type": "markdown",
   "id": "b4733f13-ecc8-40c0-998e-0aebf95ddca6",
   "metadata": {},
   "source": [
    "<center><img src=\"Changing Aggregation.png\" width=\"300\" height=\"300\" /></center>"
   ]
  },
  {
   "cell_type": "markdown",
   "id": "d69e78e0-e554-4ff9-8565-92969e28ec29",
   "metadata": {},
   "source": [
    "**<span style=\"color:pink\">TIP</span>** : You can turn off aggregation using the 'Analysis' menu above the toolbar or by changing a field from 'measure' to 'dimension'"
   ]
  },
  {
   "cell_type": "markdown",
   "id": "7610aa3e-2bd6-461d-af10-2aa9df7d42e3",
   "metadata": {},
   "source": [
    "### Granularity"
   ]
  },
  {
   "cell_type": "markdown",
   "id": "506c6572-4145-48b0-8fef-ceb4bca9101b",
   "metadata": {},
   "source": [
    "<center><img src=\"https://biodeterioration-control.com/site/wp-content/uploads/2020/06/GRANULARITY-28JUN20-BLOG.png\" width=\"600\" height=\"600\" />"
   ]
  },
  {
   "cell_type": "markdown",
   "id": "bdf38714-056a-4c32-8281-7a6f79244656",
   "metadata": {},
   "source": [
    "**Granularity** : The level of detail that you see in your visualization/how the data is sectioned. This is controlled by the dimensions that you have added. It determines what groups of field values the aggregate functions are applied to (like the SQL GROUP BY clause)"
   ]
  },
  {
   "cell_type": "markdown",
   "id": "154616ca-1dc6-42f8-a87e-79f7a7a6e2ed",
   "metadata": {},
   "source": [
    "**<span style=\"color:pink\">TIP</span>** : You can think of granularity as the number of data points on the visualization:\n",
    "* When you use aggregations without a dimension grouping the data, that is the lowest level of granularity you can get (1 data point).\n",
    "\n",
    "* When you use measures without aggregations and without a dimension grouping the data, that is the highest level of granularity that you can get (as many data points as there are values for that field). "
   ]
  },
  {
   "cell_type": "markdown",
   "id": "c1367659-2f39-4a68-9134-bbd21ad2fbeb",
   "metadata": {},
   "source": [
    "### Marks"
   ]
  },
  {
   "cell_type": "markdown",
   "id": "16935579-1068-4414-b74b-ad6d87af77fd",
   "metadata": {},
   "source": [
    "<center><img src=\"Marks Card.png\" width=\"400\" height=\"400\" />"
   ]
  },
  {
   "cell_type": "markdown",
   "id": "7155dca6-6930-4cc6-8a13-ed41b1d60e83",
   "metadata": {},
   "source": [
    "The marks card doesn't change the granularity (e.g. add data points) but instead changes how the current data points look based on a different field. When you add a field here, drag it onto the type of visual change you would like it to apply to and that symbol will show up next to it in the marks card to reflect that."
   ]
  },
  {
   "cell_type": "markdown",
   "id": "993a14d9-bfa3-432a-8e8c-005a8aed04bc",
   "metadata": {},
   "source": [
    "* **Color** -- Each value will be a distinct color if the field is discrete, or the colors will be a range if the field is continuous\n",
    "\n",
    "* **Size** -- Larger values will have larger a larger marker\n",
    "\n",
    "* **Shape** -- Each value will have a different shape (should only use with limited discrete values)\n",
    "\n",
    "* **Text** -- The values for that field will show up as text next to the respective marks\n",
    "\n",
    "* **Detail** -- Will have the information show up when you hover over/click on a mark, but won't change the visualization's appearance"
   ]
  },
  {
   "cell_type": "markdown",
   "id": "eec35cf1-8740-4391-a7be-85ca3263153c",
   "metadata": {},
   "source": [
    "This is also where you can change your chart type from the dropdown (e.g. barplot, map, line chart, etc.). "
   ]
  },
  {
   "cell_type": "markdown",
   "id": "81b2bcf1-69ea-4f56-ba06-66b9396abae1",
   "metadata": {},
   "source": [
    "### Show Me - Exploratory"
   ]
  },
  {
   "cell_type": "markdown",
   "id": "d517dc6d-348b-473d-af1b-8aaff648ee45",
   "metadata": {},
   "source": [
    "<center><img src=\"Show Me.png\" width=\"150\" height=\"150\" />"
   ]
  },
  {
   "cell_type": "markdown",
   "id": "7ec4a149-d429-44ac-a46e-754bcb3bc7f0",
   "metadata": {},
   "source": [
    "You can click on the 'Show Me' button in the top right corner to see the possible visualizations that Tableau recommend based upon your data (and tips on what you need to create that type of chart). If you hold down CTRL on Windows (or Command on Mac) while selecting what field you want to visualize, different possible charts that you could use will become highlighted in the Show Me pane. You can then click on different charts to show them in the view.\n",
    "\n",
    "* Great for playing around with the data to understand it better.\n",
    "* Great for if you have a specific visualization in mind but don't know how to create it.\n",
    "* Great for if you are trying to figure out which chart types works best for data you know you want to visualize\n",
    "\n",
    "From the visualization Tableau creates you can make your own personalizations manually."
   ]
  },
  {
   "cell_type": "markdown",
   "id": "6953f75b-1a7e-4498-ba56-98a07f7a705f",
   "metadata": {},
   "source": [
    "--------------------------"
   ]
  },
  {
   "cell_type": "markdown",
   "id": "0e540306-8d36-4d95-b27a-f7591283d5b2",
   "metadata": {},
   "source": [
    "# Creating Dashboards"
   ]
  },
  {
   "cell_type": "markdown",
   "id": "e61d5db2-3b24-4dac-a145-0ebe2e2a0dbf",
   "metadata": {},
   "source": [
    "<center><img src=\"Dashboard Example.png\" width=\"500\" height=\"500\" /></center>"
   ]
  },
  {
   "cell_type": "markdown",
   "id": "62a274ef-21ae-47a6-83d0-28c8e30c2a02",
   "metadata": {},
   "source": [
    "*image from https://www.clicdata.com/examples/retail/*"
   ]
  },
  {
   "cell_type": "markdown",
   "id": "d9ce2bd2-b7d2-4270-855d-bc51eec70a65",
   "metadata": {},
   "source": [
    "**Dashboard** : graphical interface which provides different pieces of key information at-a-glance. In Tableau, we combine different visualizations from different sheets to create a dashboard.  "
   ]
  },
  {
   "cell_type": "markdown",
   "id": "ec3eeb50-1927-4bbf-bcc7-9d3fdfbd82b6",
   "metadata": {},
   "source": [
    "1. Create a new dashboard sheet\n",
    "1. Drag the visualizations from various worksheets to arrange how you want them\n",
    "1. (Optional) Choose one visualization as a filter for the others"
   ]
  },
  {
   "cell_type": "markdown",
   "id": "364be364-c395-4374-b38f-1016357ba0c3",
   "metadata": {},
   "source": [
    "------------------------------"
   ]
  },
  {
   "cell_type": "markdown",
   "id": "f9798839-ed18-427e-8850-dcab27968cb0",
   "metadata": {},
   "source": [
    "# Publishing to the Web"
   ]
  },
  {
   "cell_type": "markdown",
   "id": "b8ad07ff-284e-431e-8e6e-592497dcda61",
   "metadata": {},
   "source": [
    "* Choose File -> Save to Tableau Public As... and sign into your Tableau Public account. Give the Workbook a name. It will open the visualization in the browser. "
   ]
  },
  {
   "cell_type": "markdown",
   "id": "c5e3492e-0808-475f-beed-f968705d4223",
   "metadata": {},
   "source": [
    "------"
   ]
  },
  {
   "cell_type": "markdown",
   "id": "1d8bc085-5901-436b-aad6-a57fd324f579",
   "metadata": {},
   "source": [
    "# Additional Resources/Inspiration"
   ]
  },
  {
   "cell_type": "markdown",
   "id": "01d707b7-90ce-491b-b7cc-ad50147c3cf6",
   "metadata": {},
   "source": [
    "* Tableau Public Gallery - [https://public.tableau.com/en-us/s/viz-gallery](https://public.tableau.com/en-us/s/viz-gallery)"
   ]
  },
  {
   "cell_type": "markdown",
   "id": "6a0ef0e6-6aa8-4fc2-b79c-4ed7045dbb25",
   "metadata": {},
   "source": [
    "* Tableau chosen 'Viz of the Day' page - [https://public.tableau.com/app/discover/viz-of-the-day](https://public.tableau.com/app/discover/viz-of-the-day)"
   ]
  },
  {
   "cell_type": "markdown",
   "id": "880a86d5-3020-4edb-b0d6-5ca30f23e67f",
   "metadata": {},
   "source": [
    "* Tableau-created resources (including how-to videas, sample data, user forums, etc.) - [https://public.tableau.com/en-us/s/resources](https://public.tableau.com/en-us/s/resources)"
   ]
  },
  {
   "cell_type": "markdown",
   "id": "786a99a4-8164-42ae-b27e-c5c167a9cfff",
   "metadata": {},
   "source": [
    "* A document discussing the most popular 13 Tableau chart types - [https://www.tableau.com/sites/default/files/media/which_chart_v6_final_0.pdf](https://www.tableau.com/sites/default/files/media/which_chart_v6_final_0.pdf)"
   ]
  },
  {
   "cell_type": "markdown",
   "id": "0a82af5f-b214-48aa-ba00-d225ffae6de4",
   "metadata": {},
   "source": [
    "* A blog discussing 24 different Tableau chart types - [https://towardsdatascience.com/the-ultimate-cheat-sheet-on-tableau-charts-642bca94dde5](https://towardsdatascience.com/the-ultimate-cheat-sheet-on-tableau-charts-642bca94dde5)"
   ]
  },
  {
   "cell_type": "markdown",
   "id": "4b48f204-e471-41a9-a939-161f1b0e3206",
   "metadata": {},
   "source": [
    "* Free training videos - [https://www.tableau.com/learn/training/20222](https://www.tableau.com/learn/training/20222)"
   ]
  }
 ],
 "metadata": {
  "kernelspec": {
   "display_name": "Python 3 (ipykernel)",
   "language": "python",
   "name": "python3"
  },
  "language_info": {
   "codemirror_mode": {
    "name": "ipython",
    "version": 3
   },
   "file_extension": ".py",
   "mimetype": "text/x-python",
   "name": "python",
   "nbconvert_exporter": "python",
   "pygments_lexer": "ipython3",
   "version": "3.8.8"
  }
 },
 "nbformat": 4,
 "nbformat_minor": 5
}
