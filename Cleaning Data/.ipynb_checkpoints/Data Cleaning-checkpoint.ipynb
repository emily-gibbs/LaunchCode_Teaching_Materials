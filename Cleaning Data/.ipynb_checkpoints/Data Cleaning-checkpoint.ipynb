{
 "cells": [
  {
   "cell_type": "code",
   "execution_count": 43,
   "id": "14d17dc5-3c22-40a4-a483-057174a4ff4e",
   "metadata": {},
   "outputs": [],
   "source": [
    "import pandas as pd"
   ]
  },
  {
   "cell_type": "markdown",
   "id": "793cc489-7ddd-432e-a42c-f7d3deec59e0",
   "metadata": {},
   "source": [
    "# Cleaning Data"
   ]
  },
  {
   "cell_type": "markdown",
   "id": "59d96820-a3af-47fb-bb80-a8c6d37038ed",
   "metadata": {},
   "source": [
    "<center><img src=\"https://media.giphy.com/media/3DnDRfZe2ubQc/giphy.gif\" width=\"400\" height=\"400\" />"
   ]
  },
  {
   "cell_type": "markdown",
   "id": "cf3d331f-9014-42d7-a49a-7cfe75080c7c",
   "metadata": {},
   "source": [
    "So at this point you should have done some background research on your data and started to explore it to better understand the contents and some of the general trends and patterns. Throughout that process you will more than likely discover that there are issues with the data that you are working with. Before moving on to the main analysis it is important to deal with these issues as best you can with **<span style='color:blue'>data cleaning</span>**."
   ]
  },
  {
   "cell_type": "markdown",
   "id": "28a2d969-d346-4264-acbe-fee7b81e7d73",
   "metadata": {},
   "source": [
    "# What is Data Cleaning?"
   ]
  },
  {
   "cell_type": "markdown",
   "id": "8079a27f-f906-43bf-bb2d-8ee0b55d7d8f",
   "metadata": {},
   "source": [
    "**Data Cleaning** : the process of detecting, correcting, and/or removing corrupted, inaccurate, incorrectly formatted, irrelevant, missing, and duplicate data within a dataset. "
   ]
  },
  {
   "cell_type": "markdown",
   "id": "56fab827-09b0-49cf-88fd-9319aa25ea02",
   "metadata": {},
   "source": [
    "The reality is that data in the real world is messy (usually more messy than the nice data used in general online tutorials) and dirty data can give you inaccurate results from your analysis. Cleaning data takes time (~20-30% of a data analysts time depending on the dataset), but this step is **very important** to make sure that all future steps are as effective as possible. \n",
    "\n",
    "Data cleaning depends on the dataset being cleaned, but in general it will include:\n",
    "* removing unnecessary data\n",
    "* modifying the data to make it more understandable/easier to work with\n",
    "* handling missing values\n",
    "* handling duplicate data\n",
    "* handling outliers\n",
    "* fixing harmful data inconsistencies\n",
    "* reshaping the data"
   ]
  },
  {
   "cell_type": "markdown",
   "id": "a824e90a-1cdc-4c97-a26d-edffb4f375d4",
   "metadata": {},
   "source": [
    "__________________"
   ]
  },
  {
   "cell_type": "markdown",
   "id": "eb2d984a-c7bb-454a-aa07-38fa22a48824",
   "metadata": {
    "tags": []
   },
   "source": [
    "# Remove Unnecessary Data"
   ]
  },
  {
   "cell_type": "markdown",
   "id": "5e994b69-31c7-4b5c-8187-107a0eb53de0",
   "metadata": {},
   "source": [
    "<center><img src=\"https://media0.giphy.com/media/du9tUy0lntYsqGF2Ye/giphy.gif\" width=\"500\" height=\"500\" />"
   ]
  },
  {
   "cell_type": "markdown",
   "id": "57a432ef-27d2-46ac-85fa-1e76b2cd9c3e",
   "metadata": {},
   "source": [
    "After doing the work to understand the columns and revisit your analysis goals (from the EDA step) you can think about which columns you really need. If there are some that you know you don't need, drop them so that you don't waste time cleaning them!"
   ]
  },
  {
   "cell_type": "markdown",
   "id": "9130aaae-29f8-4fc4-b821-151eb951a125",
   "metadata": {},
   "source": [
    "To drop a column from a dataframe use: \n",
    "\n",
    "`dataframe_name.drop([col_names_to_drop], axis=1, inplace = True)` "
   ]
  },
  {
   "cell_type": "markdown",
   "id": "1a0e71ee-cef1-487e-9107-e3d5e3bc9002",
   "metadata": {},
   "source": [
    "From our past exploration we saw that the cabin number is very sparse in this dataset. Because of that it is probably not very useful for whatever analysis that we would want to do, so we can get rid of it: "
   ]
  },
  {
   "cell_type": "code",
   "execution_count": 66,
   "id": "f4973e37-db8d-4cf9-b02f-ee8ebe40e499",
   "metadata": {},
   "outputs": [
    {
     "data": {
      "text/html": [
       "<div>\n",
       "<style scoped>\n",
       "    .dataframe tbody tr th:only-of-type {\n",
       "        vertical-align: middle;\n",
       "    }\n",
       "\n",
       "    .dataframe tbody tr th {\n",
       "        vertical-align: top;\n",
       "    }\n",
       "\n",
       "    .dataframe thead th {\n",
       "        text-align: right;\n",
       "    }\n",
       "</style>\n",
       "<table border=\"1\" class=\"dataframe\">\n",
       "  <thead>\n",
       "    <tr style=\"text-align: right;\">\n",
       "      <th></th>\n",
       "      <th>PassengerId</th>\n",
       "      <th>Survived</th>\n",
       "      <th>Pclass</th>\n",
       "      <th>Name</th>\n",
       "      <th>Sex</th>\n",
       "      <th>Age</th>\n",
       "      <th>SibSp</th>\n",
       "      <th>Parch</th>\n",
       "      <th>Ticket</th>\n",
       "      <th>Fare</th>\n",
       "      <th>Cabin</th>\n",
       "      <th>Embarked</th>\n",
       "    </tr>\n",
       "  </thead>\n",
       "  <tbody>\n",
       "    <tr>\n",
       "      <th>0</th>\n",
       "      <td>1</td>\n",
       "      <td>0</td>\n",
       "      <td>3</td>\n",
       "      <td>Braund, Mr. Owen Harris</td>\n",
       "      <td>male</td>\n",
       "      <td>22.0</td>\n",
       "      <td>1</td>\n",
       "      <td>0</td>\n",
       "      <td>A/5 21171</td>\n",
       "      <td>7.2500</td>\n",
       "      <td>NaN</td>\n",
       "      <td>S</td>\n",
       "    </tr>\n",
       "    <tr>\n",
       "      <th>1</th>\n",
       "      <td>2</td>\n",
       "      <td>1</td>\n",
       "      <td>1</td>\n",
       "      <td>Cumings, Mrs. John Bradley (Florence Briggs Th...</td>\n",
       "      <td>female</td>\n",
       "      <td>38.0</td>\n",
       "      <td>1</td>\n",
       "      <td>0</td>\n",
       "      <td>PC 17599</td>\n",
       "      <td>71.2833</td>\n",
       "      <td>C85</td>\n",
       "      <td>C</td>\n",
       "    </tr>\n",
       "    <tr>\n",
       "      <th>2</th>\n",
       "      <td>3</td>\n",
       "      <td>1</td>\n",
       "      <td>3</td>\n",
       "      <td>Heikkinen, Miss. Laina</td>\n",
       "      <td>female</td>\n",
       "      <td>26.0</td>\n",
       "      <td>0</td>\n",
       "      <td>0</td>\n",
       "      <td>STON/O2. 3101282</td>\n",
       "      <td>7.9250</td>\n",
       "      <td>NaN</td>\n",
       "      <td>S</td>\n",
       "    </tr>\n",
       "    <tr>\n",
       "      <th>3</th>\n",
       "      <td>4</td>\n",
       "      <td>1</td>\n",
       "      <td>1</td>\n",
       "      <td>Futrelle, Mrs. Jacques Heath (Lily May Peel)</td>\n",
       "      <td>female</td>\n",
       "      <td>35.0</td>\n",
       "      <td>1</td>\n",
       "      <td>0</td>\n",
       "      <td>113803</td>\n",
       "      <td>53.1000</td>\n",
       "      <td>C123</td>\n",
       "      <td>S</td>\n",
       "    </tr>\n",
       "    <tr>\n",
       "      <th>4</th>\n",
       "      <td>5</td>\n",
       "      <td>0</td>\n",
       "      <td>3</td>\n",
       "      <td>Allen, Mr. William Henry</td>\n",
       "      <td>male</td>\n",
       "      <td>35.0</td>\n",
       "      <td>0</td>\n",
       "      <td>0</td>\n",
       "      <td>373450</td>\n",
       "      <td>8.0500</td>\n",
       "      <td>NaN</td>\n",
       "      <td>S</td>\n",
       "    </tr>\n",
       "  </tbody>\n",
       "</table>\n",
       "</div>"
      ],
      "text/plain": [
       "   PassengerId  Survived  Pclass  \\\n",
       "0            1         0       3   \n",
       "1            2         1       1   \n",
       "2            3         1       3   \n",
       "3            4         1       1   \n",
       "4            5         0       3   \n",
       "\n",
       "                                                Name     Sex   Age  SibSp  \\\n",
       "0                            Braund, Mr. Owen Harris    male  22.0      1   \n",
       "1  Cumings, Mrs. John Bradley (Florence Briggs Th...  female  38.0      1   \n",
       "2                             Heikkinen, Miss. Laina  female  26.0      0   \n",
       "3       Futrelle, Mrs. Jacques Heath (Lily May Peel)  female  35.0      1   \n",
       "4                           Allen, Mr. William Henry    male  35.0      0   \n",
       "\n",
       "   Parch            Ticket     Fare Cabin Embarked  \n",
       "0      0         A/5 21171   7.2500   NaN        S  \n",
       "1      0          PC 17599  71.2833   C85        C  \n",
       "2      0  STON/O2. 3101282   7.9250   NaN        S  \n",
       "3      0            113803  53.1000  C123        S  \n",
       "4      0            373450   8.0500   NaN        S  "
      ]
     },
     "execution_count": 66,
     "metadata": {},
     "output_type": "execute_result"
    }
   ],
   "source": [
    "titanic_df = pd.read_csv('titanic.csv')\n",
    "titanic_df.head(5)"
   ]
  },
  {
   "cell_type": "code",
   "execution_count": 67,
   "id": "c1c9e990-969b-42aa-8a4d-2bedb103b00f",
   "metadata": {},
   "outputs": [
    {
     "data": {
      "text/plain": [
       "Index(['PassengerId', 'Survived', 'Pclass', 'Name', 'Sex', 'Age', 'SibSp',\n",
       "       'Parch', 'Ticket', 'Fare', 'Cabin', 'Embarked'],\n",
       "      dtype='object')"
      ]
     },
     "execution_count": 67,
     "metadata": {},
     "output_type": "execute_result"
    }
   ],
   "source": [
    "titanic_df.columns"
   ]
  },
  {
   "cell_type": "code",
   "execution_count": 68,
   "id": "a5faecfd-a291-493d-8cae-834455025fb7",
   "metadata": {},
   "outputs": [
    {
     "data": {
      "text/plain": [
       "Index(['PassengerId', 'Survived', 'Pclass', 'Name', 'Sex', 'Age', 'SibSp',\n",
       "       'Parch', 'Ticket', 'Fare', 'Embarked'],\n",
       "      dtype='object')"
      ]
     },
     "execution_count": 68,
     "metadata": {},
     "output_type": "execute_result"
    }
   ],
   "source": [
    "titanic_df.drop(['Cabin'], axis=1, inplace=True)\n",
    "\n",
    "titanic_df.columns"
   ]
  },
  {
   "cell_type": "markdown",
   "id": "b2956c56-9e84-45cf-9294-23a11ff4cfc1",
   "metadata": {},
   "source": [
    "________________________________"
   ]
  },
  {
   "cell_type": "markdown",
   "id": "c40b07e5-de01-4236-acc0-e75380e2eab9",
   "metadata": {},
   "source": [
    "# Modify Data for Understandability and Ease of Use"
   ]
  },
  {
   "cell_type": "markdown",
   "id": "c35d68aa-6d0a-4eca-9382-76395321e433",
   "metadata": {},
   "source": [
    "<center><img src=\"https://www.reactiongifs.com/r/2013/07/reference.gif\" width=\"500\" height=\"500\" />"
   ]
  },
  {
   "cell_type": "markdown",
   "id": "d4601248-0ba1-48e0-9908-c4935435839c",
   "metadata": {},
   "source": [
    "Based upon your previous exploration, you may have come to realize that there are certain column names or values that are not as clear as they could be. For you own sake and the sake of anyone looking at your analysis, you want to make sure that everythin is as easy to understand as possible. "
   ]
  },
  {
   "cell_type": "markdown",
   "id": "e1e58edb-965e-474b-bd03-e26c15aa1c43",
   "metadata": {},
   "source": [
    "### Rename Columns"
   ]
  },
  {
   "cell_type": "markdown",
   "id": "f4770bd0-13f1-42fa-a7bb-5d10d167bafb",
   "metadata": {},
   "source": [
    "If you can think of a more clear and understandable name for columns in a dataset you can change them using:\n",
    "\n",
    "`\n",
    "dataframe_name.rename(columns = {'col1_old_name' : 'col1_new_name', 'col2_old_name' : 'col2_new_name',...}, inplace = True)\n",
    "`"
   ]
  },
  {
   "cell_type": "code",
   "execution_count": 69,
   "id": "44b858ea-6d35-4875-b31c-86868b11381f",
   "metadata": {},
   "outputs": [
    {
     "data": {
      "text/plain": [
       "Index(['PassengerId', 'Survived', 'Pclass', 'Name', 'Sex', 'Age', 'SibSp',\n",
       "       'Parch', 'Ticket', 'Fare', 'Embarked'],\n",
       "      dtype='object')"
      ]
     },
     "execution_count": 69,
     "metadata": {},
     "output_type": "execute_result"
    }
   ],
   "source": [
    "titanic_df.columns"
   ]
  },
  {
   "cell_type": "markdown",
   "id": "30ea4824-1ba9-496c-93bb-8d089f950d52",
   "metadata": {},
   "source": [
    "It is not immediately apparent what 'Pclass' means unless you look at the dataset documentation, where we find that 'Pclass' actually refers to the Ticket Class (as in 1st class, 2nd class, etc.). To make sure that we remember this and that others viewing our data don't have to go digging through documentation as well, let's change that:"
   ]
  },
  {
   "cell_type": "code",
   "execution_count": 70,
   "id": "b1ea989c-15b4-4474-8d0d-564ad7e9b52c",
   "metadata": {},
   "outputs": [
    {
     "data": {
      "text/plain": [
       "Index(['PassengerId', 'Survived', 'Ticket_Class', 'Name', 'Sex', 'Age',\n",
       "       'SibSp', 'Parch', 'Ticket', 'Fare', 'Embarked'],\n",
       "      dtype='object')"
      ]
     },
     "execution_count": 70,
     "metadata": {},
     "output_type": "execute_result"
    }
   ],
   "source": [
    "titanic_df.rename(\n",
    "    columns = {\n",
    "        'Pclass' : 'Ticket_Class'\n",
    "    },\n",
    "    inplace = True\n",
    ")\n",
    "titanic_df.columns"
   ]
  },
  {
   "cell_type": "code",
   "execution_count": 71,
   "id": "f98b3bf8-85d1-443e-b363-0a8adbfdabc6",
   "metadata": {},
   "outputs": [
    {
     "data": {
      "text/plain": [
       "Index(['PassengerId', 'Survived', 'Ticket_Class', 'Name', 'Sex', 'Age',\n",
       "       'Num_siblings_spouses', 'Num_parents_children', 'Ticket', 'Fare',\n",
       "       'Embarked'],\n",
       "      dtype='object')"
      ]
     },
     "execution_count": 71,
     "metadata": {},
     "output_type": "execute_result"
    }
   ],
   "source": [
    "# What are some other column names that aren't very clear?\n",
    "# Change them to more understandable names\n",
    "titanic_df.rename(\n",
    "    columns = {\n",
    "        'Parch' : 'Num_parents_children',\n",
    "        'SibSp' : 'Num_siblings_spouses'\n",
    "    },\n",
    "    inplace = True\n",
    ")\n",
    "titanic_df.columns"
   ]
  },
  {
   "cell_type": "markdown",
   "id": "fea4bca9-c30a-43a1-b9b8-ae78f3f42d4a",
   "metadata": {},
   "source": [
    "### Rename Values"
   ]
  },
  {
   "cell_type": "markdown",
   "id": "d921fdbf-ce50-42d3-89c6-648f23cb4bb7",
   "metadata": {},
   "source": [
    "Sometimes if you have a categorical column the category names are not very clear. For instance you will likely encounter situations where the actual categories have been abstracted to numbers, like with the `Survived` column in the titanic data:"
   ]
  },
  {
   "cell_type": "code",
   "execution_count": 72,
   "id": "2a417c12-c966-4087-aad6-4867106e233b",
   "metadata": {},
   "outputs": [
    {
     "data": {
      "text/plain": [
       "0      0\n",
       "1      1\n",
       "2      1\n",
       "3      1\n",
       "4      0\n",
       "      ..\n",
       "886    0\n",
       "887    1\n",
       "888    0\n",
       "889    1\n",
       "890    0\n",
       "Name: Survived, Length: 891, dtype: int64"
      ]
     },
     "execution_count": 72,
     "metadata": {},
     "output_type": "execute_result"
    }
   ],
   "source": [
    "titanic_df['Survived']"
   ]
  },
  {
   "cell_type": "markdown",
   "id": "c068d3f1-4b95-4de1-81bd-2cf73e295980",
   "metadata": {},
   "source": [
    "To make these value more clear use:\n",
    "\n",
    "`\n",
    "dataframe_name['col_name_with_value'].replace(to_replace = {'old_value1' : 'new_value1', 'old_value2' : 'new_value2', ...}, inplace = True)\n",
    "`"
   ]
  },
  {
   "cell_type": "code",
   "execution_count": 73,
   "id": "e7942a0d-bbc6-44b7-abe3-50c2f9238e0a",
   "metadata": {},
   "outputs": [
    {
     "data": {
      "text/html": [
       "<div>\n",
       "<style scoped>\n",
       "    .dataframe tbody tr th:only-of-type {\n",
       "        vertical-align: middle;\n",
       "    }\n",
       "\n",
       "    .dataframe tbody tr th {\n",
       "        vertical-align: top;\n",
       "    }\n",
       "\n",
       "    .dataframe thead th {\n",
       "        text-align: right;\n",
       "    }\n",
       "</style>\n",
       "<table border=\"1\" class=\"dataframe\">\n",
       "  <thead>\n",
       "    <tr style=\"text-align: right;\">\n",
       "      <th></th>\n",
       "      <th>PassengerId</th>\n",
       "      <th>Survived</th>\n",
       "      <th>Ticket_Class</th>\n",
       "      <th>Name</th>\n",
       "      <th>Sex</th>\n",
       "      <th>Age</th>\n",
       "      <th>Num_siblings_spouses</th>\n",
       "      <th>Num_parents_children</th>\n",
       "      <th>Ticket</th>\n",
       "      <th>Fare</th>\n",
       "      <th>Embarked</th>\n",
       "    </tr>\n",
       "  </thead>\n",
       "  <tbody>\n",
       "    <tr>\n",
       "      <th>0</th>\n",
       "      <td>1</td>\n",
       "      <td>No</td>\n",
       "      <td>3</td>\n",
       "      <td>Braund, Mr. Owen Harris</td>\n",
       "      <td>male</td>\n",
       "      <td>22.0</td>\n",
       "      <td>1</td>\n",
       "      <td>0</td>\n",
       "      <td>A/5 21171</td>\n",
       "      <td>7.2500</td>\n",
       "      <td>S</td>\n",
       "    </tr>\n",
       "    <tr>\n",
       "      <th>1</th>\n",
       "      <td>2</td>\n",
       "      <td>Yes</td>\n",
       "      <td>1</td>\n",
       "      <td>Cumings, Mrs. John Bradley (Florence Briggs Th...</td>\n",
       "      <td>female</td>\n",
       "      <td>38.0</td>\n",
       "      <td>1</td>\n",
       "      <td>0</td>\n",
       "      <td>PC 17599</td>\n",
       "      <td>71.2833</td>\n",
       "      <td>C</td>\n",
       "    </tr>\n",
       "    <tr>\n",
       "      <th>2</th>\n",
       "      <td>3</td>\n",
       "      <td>Yes</td>\n",
       "      <td>3</td>\n",
       "      <td>Heikkinen, Miss. Laina</td>\n",
       "      <td>female</td>\n",
       "      <td>26.0</td>\n",
       "      <td>0</td>\n",
       "      <td>0</td>\n",
       "      <td>STON/O2. 3101282</td>\n",
       "      <td>7.9250</td>\n",
       "      <td>S</td>\n",
       "    </tr>\n",
       "    <tr>\n",
       "      <th>3</th>\n",
       "      <td>4</td>\n",
       "      <td>Yes</td>\n",
       "      <td>1</td>\n",
       "      <td>Futrelle, Mrs. Jacques Heath (Lily May Peel)</td>\n",
       "      <td>female</td>\n",
       "      <td>35.0</td>\n",
       "      <td>1</td>\n",
       "      <td>0</td>\n",
       "      <td>113803</td>\n",
       "      <td>53.1000</td>\n",
       "      <td>S</td>\n",
       "    </tr>\n",
       "    <tr>\n",
       "      <th>4</th>\n",
       "      <td>5</td>\n",
       "      <td>No</td>\n",
       "      <td>3</td>\n",
       "      <td>Allen, Mr. William Henry</td>\n",
       "      <td>male</td>\n",
       "      <td>35.0</td>\n",
       "      <td>0</td>\n",
       "      <td>0</td>\n",
       "      <td>373450</td>\n",
       "      <td>8.0500</td>\n",
       "      <td>S</td>\n",
       "    </tr>\n",
       "    <tr>\n",
       "      <th>...</th>\n",
       "      <td>...</td>\n",
       "      <td>...</td>\n",
       "      <td>...</td>\n",
       "      <td>...</td>\n",
       "      <td>...</td>\n",
       "      <td>...</td>\n",
       "      <td>...</td>\n",
       "      <td>...</td>\n",
       "      <td>...</td>\n",
       "      <td>...</td>\n",
       "      <td>...</td>\n",
       "    </tr>\n",
       "    <tr>\n",
       "      <th>886</th>\n",
       "      <td>887</td>\n",
       "      <td>No</td>\n",
       "      <td>2</td>\n",
       "      <td>Montvila, Rev. Juozas</td>\n",
       "      <td>male</td>\n",
       "      <td>27.0</td>\n",
       "      <td>0</td>\n",
       "      <td>0</td>\n",
       "      <td>211536</td>\n",
       "      <td>13.0000</td>\n",
       "      <td>S</td>\n",
       "    </tr>\n",
       "    <tr>\n",
       "      <th>887</th>\n",
       "      <td>888</td>\n",
       "      <td>Yes</td>\n",
       "      <td>1</td>\n",
       "      <td>Graham, Miss. Margaret Edith</td>\n",
       "      <td>female</td>\n",
       "      <td>19.0</td>\n",
       "      <td>0</td>\n",
       "      <td>0</td>\n",
       "      <td>112053</td>\n",
       "      <td>30.0000</td>\n",
       "      <td>S</td>\n",
       "    </tr>\n",
       "    <tr>\n",
       "      <th>888</th>\n",
       "      <td>889</td>\n",
       "      <td>No</td>\n",
       "      <td>3</td>\n",
       "      <td>Johnston, Miss. Catherine Helen \"Carrie\"</td>\n",
       "      <td>female</td>\n",
       "      <td>NaN</td>\n",
       "      <td>1</td>\n",
       "      <td>2</td>\n",
       "      <td>W./C. 6607</td>\n",
       "      <td>23.4500</td>\n",
       "      <td>S</td>\n",
       "    </tr>\n",
       "    <tr>\n",
       "      <th>889</th>\n",
       "      <td>890</td>\n",
       "      <td>Yes</td>\n",
       "      <td>1</td>\n",
       "      <td>Behr, Mr. Karl Howell</td>\n",
       "      <td>male</td>\n",
       "      <td>26.0</td>\n",
       "      <td>0</td>\n",
       "      <td>0</td>\n",
       "      <td>111369</td>\n",
       "      <td>30.0000</td>\n",
       "      <td>C</td>\n",
       "    </tr>\n",
       "    <tr>\n",
       "      <th>890</th>\n",
       "      <td>891</td>\n",
       "      <td>No</td>\n",
       "      <td>3</td>\n",
       "      <td>Dooley, Mr. Patrick</td>\n",
       "      <td>male</td>\n",
       "      <td>32.0</td>\n",
       "      <td>0</td>\n",
       "      <td>0</td>\n",
       "      <td>370376</td>\n",
       "      <td>7.7500</td>\n",
       "      <td>Q</td>\n",
       "    </tr>\n",
       "  </tbody>\n",
       "</table>\n",
       "<p>891 rows × 11 columns</p>\n",
       "</div>"
      ],
      "text/plain": [
       "     PassengerId Survived  Ticket_Class  \\\n",
       "0              1       No             3   \n",
       "1              2      Yes             1   \n",
       "2              3      Yes             3   \n",
       "3              4      Yes             1   \n",
       "4              5       No             3   \n",
       "..           ...      ...           ...   \n",
       "886          887       No             2   \n",
       "887          888      Yes             1   \n",
       "888          889       No             3   \n",
       "889          890      Yes             1   \n",
       "890          891       No             3   \n",
       "\n",
       "                                                  Name     Sex   Age  \\\n",
       "0                              Braund, Mr. Owen Harris    male  22.0   \n",
       "1    Cumings, Mrs. John Bradley (Florence Briggs Th...  female  38.0   \n",
       "2                               Heikkinen, Miss. Laina  female  26.0   \n",
       "3         Futrelle, Mrs. Jacques Heath (Lily May Peel)  female  35.0   \n",
       "4                             Allen, Mr. William Henry    male  35.0   \n",
       "..                                                 ...     ...   ...   \n",
       "886                              Montvila, Rev. Juozas    male  27.0   \n",
       "887                       Graham, Miss. Margaret Edith  female  19.0   \n",
       "888           Johnston, Miss. Catherine Helen \"Carrie\"  female   NaN   \n",
       "889                              Behr, Mr. Karl Howell    male  26.0   \n",
       "890                                Dooley, Mr. Patrick    male  32.0   \n",
       "\n",
       "     Num_siblings_spouses  Num_parents_children            Ticket     Fare  \\\n",
       "0                       1                     0         A/5 21171   7.2500   \n",
       "1                       1                     0          PC 17599  71.2833   \n",
       "2                       0                     0  STON/O2. 3101282   7.9250   \n",
       "3                       1                     0            113803  53.1000   \n",
       "4                       0                     0            373450   8.0500   \n",
       "..                    ...                   ...               ...      ...   \n",
       "886                     0                     0            211536  13.0000   \n",
       "887                     0                     0            112053  30.0000   \n",
       "888                     1                     2        W./C. 6607  23.4500   \n",
       "889                     0                     0            111369  30.0000   \n",
       "890                     0                     0            370376   7.7500   \n",
       "\n",
       "    Embarked  \n",
       "0          S  \n",
       "1          C  \n",
       "2          S  \n",
       "3          S  \n",
       "4          S  \n",
       "..       ...  \n",
       "886        S  \n",
       "887        S  \n",
       "888        S  \n",
       "889        C  \n",
       "890        Q  \n",
       "\n",
       "[891 rows x 11 columns]"
      ]
     },
     "execution_count": 73,
     "metadata": {},
     "output_type": "execute_result"
    }
   ],
   "source": [
    "titanic_df['Survived'] = titanic_df['Survived'].replace(\n",
    "                            to_replace = {\n",
    "                                0:'No',\n",
    "                                1:'Yes'\n",
    "                            }\n",
    "                        )\n",
    "\n",
    "titanic_df"
   ]
  },
  {
   "cell_type": "code",
   "execution_count": 74,
   "id": "04742390-50f9-4ed1-b7f8-f5df5aaa4b36",
   "metadata": {},
   "outputs": [
    {
     "data": {
      "text/html": [
       "<div>\n",
       "<style scoped>\n",
       "    .dataframe tbody tr th:only-of-type {\n",
       "        vertical-align: middle;\n",
       "    }\n",
       "\n",
       "    .dataframe tbody tr th {\n",
       "        vertical-align: top;\n",
       "    }\n",
       "\n",
       "    .dataframe thead th {\n",
       "        text-align: right;\n",
       "    }\n",
       "</style>\n",
       "<table border=\"1\" class=\"dataframe\">\n",
       "  <thead>\n",
       "    <tr style=\"text-align: right;\">\n",
       "      <th></th>\n",
       "      <th>PassengerId</th>\n",
       "      <th>Survived</th>\n",
       "      <th>Ticket_Class</th>\n",
       "      <th>Name</th>\n",
       "      <th>Sex</th>\n",
       "      <th>Age</th>\n",
       "      <th>Num_siblings_spouses</th>\n",
       "      <th>Num_parents_children</th>\n",
       "      <th>Ticket</th>\n",
       "      <th>Fare</th>\n",
       "      <th>Embarked</th>\n",
       "    </tr>\n",
       "  </thead>\n",
       "  <tbody>\n",
       "    <tr>\n",
       "      <th>0</th>\n",
       "      <td>1</td>\n",
       "      <td>No</td>\n",
       "      <td>3</td>\n",
       "      <td>Braund, Mr. Owen Harris</td>\n",
       "      <td>male</td>\n",
       "      <td>22.0</td>\n",
       "      <td>1</td>\n",
       "      <td>0</td>\n",
       "      <td>A/5 21171</td>\n",
       "      <td>7.2500</td>\n",
       "      <td>Southampton</td>\n",
       "    </tr>\n",
       "    <tr>\n",
       "      <th>1</th>\n",
       "      <td>2</td>\n",
       "      <td>Yes</td>\n",
       "      <td>1</td>\n",
       "      <td>Cumings, Mrs. John Bradley (Florence Briggs Th...</td>\n",
       "      <td>female</td>\n",
       "      <td>38.0</td>\n",
       "      <td>1</td>\n",
       "      <td>0</td>\n",
       "      <td>PC 17599</td>\n",
       "      <td>71.2833</td>\n",
       "      <td>Cherbourg</td>\n",
       "    </tr>\n",
       "    <tr>\n",
       "      <th>2</th>\n",
       "      <td>3</td>\n",
       "      <td>Yes</td>\n",
       "      <td>3</td>\n",
       "      <td>Heikkinen, Miss. Laina</td>\n",
       "      <td>female</td>\n",
       "      <td>26.0</td>\n",
       "      <td>0</td>\n",
       "      <td>0</td>\n",
       "      <td>STON/O2. 3101282</td>\n",
       "      <td>7.9250</td>\n",
       "      <td>Southampton</td>\n",
       "    </tr>\n",
       "    <tr>\n",
       "      <th>3</th>\n",
       "      <td>4</td>\n",
       "      <td>Yes</td>\n",
       "      <td>1</td>\n",
       "      <td>Futrelle, Mrs. Jacques Heath (Lily May Peel)</td>\n",
       "      <td>female</td>\n",
       "      <td>35.0</td>\n",
       "      <td>1</td>\n",
       "      <td>0</td>\n",
       "      <td>113803</td>\n",
       "      <td>53.1000</td>\n",
       "      <td>Southampton</td>\n",
       "    </tr>\n",
       "    <tr>\n",
       "      <th>4</th>\n",
       "      <td>5</td>\n",
       "      <td>No</td>\n",
       "      <td>3</td>\n",
       "      <td>Allen, Mr. William Henry</td>\n",
       "      <td>male</td>\n",
       "      <td>35.0</td>\n",
       "      <td>0</td>\n",
       "      <td>0</td>\n",
       "      <td>373450</td>\n",
       "      <td>8.0500</td>\n",
       "      <td>Southampton</td>\n",
       "    </tr>\n",
       "  </tbody>\n",
       "</table>\n",
       "</div>"
      ],
      "text/plain": [
       "   PassengerId Survived  Ticket_Class  \\\n",
       "0            1       No             3   \n",
       "1            2      Yes             1   \n",
       "2            3      Yes             3   \n",
       "3            4      Yes             1   \n",
       "4            5       No             3   \n",
       "\n",
       "                                                Name     Sex   Age  \\\n",
       "0                            Braund, Mr. Owen Harris    male  22.0   \n",
       "1  Cumings, Mrs. John Bradley (Florence Briggs Th...  female  38.0   \n",
       "2                             Heikkinen, Miss. Laina  female  26.0   \n",
       "3       Futrelle, Mrs. Jacques Heath (Lily May Peel)  female  35.0   \n",
       "4                           Allen, Mr. William Henry    male  35.0   \n",
       "\n",
       "   Num_siblings_spouses  Num_parents_children            Ticket     Fare  \\\n",
       "0                     1                     0         A/5 21171   7.2500   \n",
       "1                     1                     0          PC 17599  71.2833   \n",
       "2                     0                     0  STON/O2. 3101282   7.9250   \n",
       "3                     1                     0            113803  53.1000   \n",
       "4                     0                     0            373450   8.0500   \n",
       "\n",
       "      Embarked  \n",
       "0  Southampton  \n",
       "1    Cherbourg  \n",
       "2  Southampton  \n",
       "3  Southampton  \n",
       "4  Southampton  "
      ]
     },
     "execution_count": 74,
     "metadata": {},
     "output_type": "execute_result"
    }
   ],
   "source": [
    "# What is another column that could have more clear categories? \n",
    "# Replace the old categories with more understandable ones.\n",
    "titanic_df['Embarked'].replace(\n",
    "    to_replace = {'S':'Southampton', 'C':'Cherbourg', 'Q':'Queenstown'},\n",
    "    inplace=True\n",
    ")\n",
    "titanic_df.head()"
   ]
  },
  {
   "cell_type": "markdown",
   "id": "7039bfc7-9492-4000-bec8-9bbcba1989d8",
   "metadata": {},
   "source": [
    "______________________"
   ]
  },
  {
   "cell_type": "markdown",
   "id": "2830ec37-c42b-4a26-99ea-562a31191690",
   "metadata": {},
   "source": [
    "# Handle Missing Data"
   ]
  },
  {
   "cell_type": "markdown",
   "id": "61628c89-e7c1-4a72-b0b2-7a26e4414c5c",
   "metadata": {},
   "source": [
    "<center><img src=\"https://media1.tenor.com/images/6875b3e930118d3dc0154485dd0c7efd/tenor.gif?itemid=12327903\" width=\"300\" height=\"300\" />"
   ]
  },
  {
   "cell_type": "markdown",
   "id": "ed403c72-a112-42ef-b9ae-6b13a38c5b0c",
   "metadata": {},
   "source": [
    "We talked last week about wanting to check for how sparse your dataset is, and we also mentioned the possible different methods for handling this issues. As a recap, some ways you may end up handling Null values are:\n",
    "\n",
    "1. Determine that the data is too sparse to provide meaningful results.\n",
    "\n",
    "1. Leave them and just account for them in analysis (perhapss replace empty values with a constant value like 'MISSING').\n",
    "\n",
    "1. Delete all of the rows with missing values\n",
    "\n",
    "1. Fill in the missing values with:\n",
    "\n",
    "    - results from regression\n",
    "    \n",
    "    - the average value for the column\n",
    "    \n",
    "    - the most common value for that column"
   ]
  },
  {
   "cell_type": "markdown",
   "id": "a8e6dff1-5d23-47ca-afef-48b617cb3ec7",
   "metadata": {},
   "source": [
    "For instance, from last week we learned that there are 2 rows that are missing a value in the 'Embarked' column."
   ]
  },
  {
   "cell_type": "code",
   "execution_count": 16,
   "id": "3abb9ff6-2a55-4b12-8c00-620b1ce21e5b",
   "metadata": {},
   "outputs": [
    {
     "data": {
      "text/plain": [
       "2"
      ]
     },
     "execution_count": 16,
     "metadata": {},
     "output_type": "execute_result"
    }
   ],
   "source": [
    "titanic_df['Embarked'].isnull().sum()"
   ]
  },
  {
   "cell_type": "markdown",
   "id": "eda891d0-01cd-41d8-87a1-ddee9fd083cb",
   "metadata": {},
   "source": [
    "Depending on the situation we could choose to handle this in different ways, but one of those could be to replace those empty values with 'Unknown' as a new category. Replacements like this are especially helpful for determining if there is a trend to the missing data in a dataset. \n",
    "\n",
    "To replace the missing values in a column with a new value use:\n",
    "\n",
    "`\n",
    "dataframe_name['col_name_with_missing_data'].fillna(value = value_to_replace_missing_data, inplace=True)\n",
    "`"
   ]
  },
  {
   "cell_type": "code",
   "execution_count": 75,
   "id": "e592f914-cb67-4272-8ca9-2033a894228a",
   "metadata": {},
   "outputs": [
    {
     "data": {
      "text/plain": [
       "0"
      ]
     },
     "execution_count": 75,
     "metadata": {},
     "output_type": "execute_result"
    }
   ],
   "source": [
    "titanic_df['Embarked'].fillna(value='Unknown', inplace=True)\n",
    "\n",
    "titanic_df['Embarked'].isnull().sum()"
   ]
  },
  {
   "cell_type": "code",
   "execution_count": 76,
   "id": "ecb24bc4-ffd9-422c-8e31-1ef21d63aec7",
   "metadata": {},
   "outputs": [
    {
     "data": {
      "text/plain": [
       "Southampton    644\n",
       "Cherbourg      168\n",
       "Queenstown      77\n",
       "Unknown          2\n",
       "Name: Embarked, dtype: int64"
      ]
     },
     "execution_count": 76,
     "metadata": {},
     "output_type": "execute_result"
    }
   ],
   "source": [
    "titanic_df['Embarked'].value_counts()"
   ]
  },
  {
   "cell_type": "markdown",
   "id": "ef402cb3-a22e-4710-ba3a-348bbb357520",
   "metadata": {},
   "source": [
    "________________________"
   ]
  },
  {
   "cell_type": "markdown",
   "id": "7513b505-2ce2-4b25-8a88-a69f7c9d3b68",
   "metadata": {},
   "source": [
    "# Handle Duplicate Data"
   ]
  },
  {
   "cell_type": "markdown",
   "id": "3ef76ef1-fd5f-4586-ba61-eeb3c61d4f05",
   "metadata": {},
   "source": [
    "<center><img src=\"https://media1.giphy.com/media/mc7uduXz800wtqU7WV/giphy.gif\" width=\"400\" height=\"400\" />"
   ]
  },
  {
   "cell_type": "markdown",
   "id": "cf926608-e99c-4c58-b20a-ba028268a2c7",
   "metadata": {},
   "source": [
    "Duplicates are rows that give redundant information. This may or may not mean that they are the same in every column. "
   ]
  },
  {
   "cell_type": "markdown",
   "id": "4b2df5eb-2c49-4e89-932f-694a44378242",
   "metadata": {},
   "source": [
    "*Can you think of situations that would cause duplicate data?*"
   ]
  },
  {
   "cell_type": "markdown",
   "id": "5b748db3-cb24-4806-acc8-dc10886e7502",
   "metadata": {},
   "source": [
    "In certain datasets repeated data may be significant, but other times it is a mistake. To see if there are rows that share the same values in every single column you can use `dataframe_name.duplicated().sum()`:"
   ]
  },
  {
   "cell_type": "code",
   "execution_count": 15,
   "id": "794351d3-2eaa-4986-b612-c6c049466949",
   "metadata": {},
   "outputs": [
    {
     "data": {
      "text/plain": [
       "0"
      ]
     },
     "execution_count": 15,
     "metadata": {},
     "output_type": "execute_result"
    }
   ],
   "source": [
    "titanic_df.duplicated().sum()"
   ]
  },
  {
   "cell_type": "markdown",
   "id": "aaeee1db-f8a5-4b86-b34e-4df0a73fdf5a",
   "metadata": {},
   "source": [
    "If there were duplicates that shared every single column, you could drop them using:\n",
    "\n",
    "`\n",
    "dataframe_name.drop_duplicates(inplace=True)\n",
    "`"
   ]
  },
  {
   "cell_type": "markdown",
   "id": "e00fb182-2c09-4f45-80f2-af8367febf0a",
   "metadata": {},
   "source": [
    "Careful though! Don't automatically assume that if the above function returns 0 that there aren't any duplicates. There may be a situation where each time a row is added to the dataset it is automatically given a unique ID value. In this case there could be rows that are exactly the same except for the value in that ID column. To see if this is the case, can use something like `df[df.drop(columns=['id']).duplicated()]`. If there are duplicates that share everything but the ID column you could drop those with `df_new = df.drop_duplicates(subset=key)` where key is a list that contains the names of all of the other columns that should be taken into account during the deduplication."
   ]
  },
  {
   "cell_type": "code",
   "execution_count": 79,
   "id": "95d02d2b-79be-4bd0-8fad-1d3548d91159",
   "metadata": {},
   "outputs": [
    {
     "data": {
      "text/html": [
       "<div>\n",
       "<style scoped>\n",
       "    .dataframe tbody tr th:only-of-type {\n",
       "        vertical-align: middle;\n",
       "    }\n",
       "\n",
       "    .dataframe tbody tr th {\n",
       "        vertical-align: top;\n",
       "    }\n",
       "\n",
       "    .dataframe thead th {\n",
       "        text-align: right;\n",
       "    }\n",
       "</style>\n",
       "<table border=\"1\" class=\"dataframe\">\n",
       "  <thead>\n",
       "    <tr style=\"text-align: right;\">\n",
       "      <th></th>\n",
       "      <th>PassengerId</th>\n",
       "      <th>Survived</th>\n",
       "      <th>Ticket_Class</th>\n",
       "      <th>Name</th>\n",
       "      <th>Sex</th>\n",
       "      <th>Age</th>\n",
       "      <th>Num_siblings_spouses</th>\n",
       "      <th>Num_parents_children</th>\n",
       "      <th>Ticket</th>\n",
       "      <th>Fare</th>\n",
       "      <th>Embarked</th>\n",
       "    </tr>\n",
       "  </thead>\n",
       "  <tbody>\n",
       "  </tbody>\n",
       "</table>\n",
       "</div>"
      ],
      "text/plain": [
       "Empty DataFrame\n",
       "Columns: [PassengerId, Survived, Ticket_Class, Name, Sex, Age, Num_siblings_spouses, Num_parents_children, Ticket, Fare, Embarked]\n",
       "Index: []"
      ]
     },
     "execution_count": 79,
     "metadata": {},
     "output_type": "execute_result"
    }
   ],
   "source": [
    "titanic_df[titanic_df.drop(columns=['PassengerId']).duplicated()]"
   ]
  },
  {
   "cell_type": "markdown",
   "id": "22648da3-4dd7-449e-b0d8-87257b5eeb41",
   "metadata": {},
   "source": [
    "_________________________"
   ]
  },
  {
   "cell_type": "markdown",
   "id": "e112e981-8c32-4658-8d6f-6fb388e4185a",
   "metadata": {},
   "source": [
    "# Handle Outliers"
   ]
  },
  {
   "cell_type": "markdown",
   "id": "06789e08-d95f-4c13-abc3-bc9ad9ff2f65",
   "metadata": {},
   "source": [
    "<center><img src=\"https://i2.wp.com/flowingdata.com/wp-content/uploads/2014/09/outlier.gif?fit=609%2C341&ssl=1\" width=\"500\" height=\"500\" />"
   ]
  },
  {
   "cell_type": "markdown",
   "id": "8faf76b2-accc-415d-8f3b-f62fac2b551b",
   "metadata": {},
   "source": [
    "**Outlier** - data point (or group of points) that is significantly different from the other observations. "
   ]
  },
  {
   "cell_type": "markdown",
   "id": "88457b23-80df-4898-bfb7-2377c0ba305e",
   "metadata": {},
   "source": [
    "An outlier could be a legitimate data point with an explanation, or it could be a mistake. A mistake needs to be corrected or deleted, while a legitimate outlier could provide some useful information and insights. So just like with duplicate data or missing values you'll need to think about how they should be addressed."
   ]
  },
  {
   "cell_type": "markdown",
   "id": "2bf9f387-2756-4540-bab3-59d2a8caa126",
   "metadata": {},
   "source": [
    "An outlier can either be with respect to a single column (e.g. everything else is normal but the person's age is recorded as 250) or when taking several columns into consideration (e.g. if you plot age vs. running speed and there is a data point for a person with an age of 80 with a running speed of 20mph). "
   ]
  },
  {
   "cell_type": "markdown",
   "id": "ebbb8c52-fdb1-4398-927d-ba70dcd811a7",
   "metadata": {},
   "source": [
    "### One-Dimensional Outliers"
   ]
  },
  {
   "cell_type": "markdown",
   "id": "96a7a3cf-b077-4047-9932-671859208313",
   "metadata": {},
   "source": [
    "A one-dimensional outlier is where a value is significantly different than the other values in the same column. To look for these you can look at quantiles:"
   ]
  },
  {
   "cell_type": "code",
   "execution_count": 82,
   "id": "850ebdcf-4cbd-47f9-8398-9b01d65b8182",
   "metadata": {},
   "outputs": [
    {
     "data": {
      "text/plain": [
       "0.25    20.125\n",
       "0.50    28.000\n",
       "0.75    38.000\n",
       "1.00    80.000\n",
       "Name: Age, dtype: float64"
      ]
     },
     "execution_count": 82,
     "metadata": {},
     "output_type": "execute_result"
    }
   ],
   "source": [
    "titanic_df['Age'].quantile([.25, .5, .75, 1])"
   ]
  },
  {
   "cell_type": "markdown",
   "id": "fd6093b9-06bf-41f4-bb29-22de5a39e448",
   "metadata": {},
   "source": [
    "Or you can look for anomalies in visualizations like a histogram:"
   ]
  },
  {
   "cell_type": "code",
   "execution_count": 87,
   "id": "cb56bb7d-fbe8-4288-b196-e75d8ffc6167",
   "metadata": {},
   "outputs": [
    {
     "data": {
      "text/plain": [
       "<AxesSubplot:ylabel='Frequency'>"
      ]
     },
     "execution_count": 87,
     "metadata": {},
     "output_type": "execute_result"
    },
    {
     "data": {
      "image/png": "[encoded data removed]",
      "text/plain": [
       "<Figure size 432x288 with 1 Axes>"
      ]
     },
     "metadata": {
      "needs_background": "light"
     },
     "output_type": "display_data"
    }
   ],
   "source": [
    "titanic_df['Age'].plot(kind='hist')"
   ]
  },
  {
   "cell_type": "markdown",
   "id": "2c77839c-f51e-4abf-8425-0c19d9393aca",
   "metadata": {},
   "source": [
    "**<span style='color:orange'>Note</span>** : this is an example of how you can make some quick and dirty plots natively with pandas. These are great for exploration and answering on-the-fly questions. We'll learn how to make much better visualizations in a couple of weeks."
   ]
  },
  {
   "cell_type": "markdown",
   "id": "62f77161-3b32-41db-bfc6-1088f3763678",
   "metadata": {},
   "source": [
    "Or with a box plot (which is like a visual representation of the quantiles) where outliers are marked by dots that are outside of the box's 'whiskers':"
   ]
  },
  {
   "cell_type": "markdown",
   "id": "8f5f37d7-5acd-4422-83fb-8ea0880d8ad0",
   "metadata": {},
   "source": [
    "<center><img src=\"https://chartio.com/assets/26dba4/tutorials/charts/box-plots/046df50d3e23296f1dda99a385bd54925317c413ffff2a63779ffef0a42b9434/box-plot-construction.png\" width=\"400\" height=\"400\" />"
   ]
  },
  {
   "cell_type": "code",
   "execution_count": 35,
   "id": "2cd58bb7-b321-42e2-86ce-8de2782867de",
   "metadata": {},
   "outputs": [
    {
     "data": {
      "text/plain": [
       "<AxesSubplot:>"
      ]
     },
     "execution_count": 35,
     "metadata": {},
     "output_type": "execute_result"
    },
    {
     "data": {
      "image/png": "[encoded data removed]",
      "text/plain": [
       "<Figure size 432x288 with 1 Axes>"
      ]
     },
     "metadata": {
      "needs_background": "light"
     },
     "output_type": "display_data"
    }
   ],
   "source": [
    "titanic_df['Age'].plot(kind='box')"
   ]
  },
  {
   "cell_type": "markdown",
   "id": "ca54d2d5-cc94-4317-855d-450e548d07d7",
   "metadata": {},
   "source": [
    "(for more information on box plots, see https://chartio.com/learn/charts/box-plot-complete-guide/)"
   ]
  },
  {
   "cell_type": "markdown",
   "id": "d78d4e70-04ca-459a-8a04-c1133287c1fa",
   "metadata": {},
   "source": [
    "**<span style='color:red'>Warning</span>** : just because data points are marked as 'outliers' on a boxplot doesn't mean that they need to be removed or fixed, it just means that they are far from where most of the points are and are worth investigating."
   ]
  },
  {
   "cell_type": "markdown",
   "id": "abe6b72a-35b4-4b03-a939-77b2e89f9168",
   "metadata": {},
   "source": [
    "### Multi-Dimensional Outliers"
   ]
  },
  {
   "cell_type": "markdown",
   "id": "26bc46e8-10ec-417d-96eb-c78d8e3100ae",
   "metadata": {},
   "source": [
    "A multi-dimensional outlier means that the values for that row may not be uncommon in their own columns, but the combination of the different values is uncommon. "
   ]
  },
  {
   "cell_type": "markdown",
   "id": "bb5ca373-2598-41ff-859a-5eb5d6f07031",
   "metadata": {},
   "source": [
    "To find these you will usually be using something like a scatter plot:"
   ]
  },
  {
   "cell_type": "code",
   "execution_count": 37,
   "id": "563bff78-b65c-4ce9-b12d-24b9b68670a8",
   "metadata": {},
   "outputs": [
    {
     "data": {
      "text/plain": [
       "<AxesSubplot:xlabel='Age', ylabel='Fare'>"
      ]
     },
     "execution_count": 37,
     "metadata": {},
     "output_type": "execute_result"
    },
    {
     "data": {
      "image/png": "[encoded data removed]",
      "text/plain": [
       "<Figure size 432x288 with 1 Axes>"
      ]
     },
     "metadata": {
      "needs_background": "light"
     },
     "output_type": "display_data"
    }
   ],
   "source": [
    "titanic_df.plot(x='Age', y='Fare', kind='scatter')"
   ]
  },
  {
   "cell_type": "markdown",
   "id": "7a07ee03-0e87-4413-8060-9cae513b0ef5",
   "metadata": {},
   "source": [
    "_____________________"
   ]
  },
  {
   "cell_type": "markdown",
   "id": "505e2ac0-be05-43de-b621-5064d1614789",
   "metadata": {},
   "source": [
    "# Write Results to a File"
   ]
  },
  {
   "cell_type": "markdown",
   "id": "e8624af1-eb3c-435d-a8ad-8335c426f0f1",
   "metadata": {},
   "source": [
    "You are going to want to save all of that good work!"
   ]
  },
  {
   "cell_type": "code",
   "execution_count": 88,
   "id": "69369fff-c47e-4f9c-91b0-5f08e30e22a9",
   "metadata": {},
   "outputs": [],
   "source": [
    "titanic_df.to_csv('cleaned_titanic_data_v1.csv')"
   ]
  }
 ],
 "metadata": {
  "kernelspec": {
   "display_name": "Python 3 (ipykernel)",
   "language": "python",
   "name": "python3"
  },
  "language_info": {
   "codemirror_mode": {
    "name": "ipython",
    "version": 3
   },
   "file_extension": ".py",
   "mimetype": "text/x-python",
   "name": "python",
   "nbconvert_exporter": "python",
   "pygments_lexer": "ipython3",
   "version": "3.9.12"
  }
 },
 "nbformat": 4,
 "nbformat_minor": 5
}
