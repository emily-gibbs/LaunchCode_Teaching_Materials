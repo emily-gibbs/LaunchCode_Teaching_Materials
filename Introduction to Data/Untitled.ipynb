{
 "cells": [
  {
   "cell_type": "code",
   "execution_count": 1,
   "id": "c4e827a0-f742-4cba-8e17-8de4b5284370",
   "metadata": {},
   "outputs": [],
   "source": [
    "name = 'Emily'"
   ]
  },
  {
   "cell_type": "code",
   "execution_count": 2,
   "id": "e97ea345-206e-4531-a399-5f6c414088b4",
   "metadata": {},
   "outputs": [
    {
     "name": "stdout",
     "output_type": "stream",
     "text": [
      "E\n",
      "m\n",
      "i\n",
      "l\n",
      "y\n"
     ]
    }
   ],
   "source": [
    "for char in name:\n",
    "    print(char)"
   ]
  },
  {
   "cell_type": "code",
   "execution_count": null,
   "id": "e027b6d7-9d9c-47df-beeb-662feb793506",
   "metadata": {},
   "outputs": [],
   "source": []
  }
 ],
 "metadata": {
  "kernelspec": {
   "display_name": "Python 3 (ipykernel)",
   "language": "python",
   "name": "python3"
  },
  "language_info": {
   "codemirror_mode": {
    "name": "ipython",
    "version": 3
   },
   "file_extension": ".py",
   "mimetype": "text/x-python",
   "name": "python",
   "nbconvert_exporter": "python",
   "pygments_lexer": "ipython3",
   "version": "3.9.12"
  }
 },
 "nbformat": 4,
 "nbformat_minor": 5
}
