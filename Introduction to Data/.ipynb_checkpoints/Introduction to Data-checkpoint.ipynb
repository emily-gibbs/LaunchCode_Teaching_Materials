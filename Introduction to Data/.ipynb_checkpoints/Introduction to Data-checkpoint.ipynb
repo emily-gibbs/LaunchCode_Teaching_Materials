{
 "cells": [
  {
   "cell_type": "markdown",
   "id": "b7bbc2a2-e745-460d-960f-3f01a4cdcb45",
   "metadata": {},
   "source": [
    "# Data Data Everywhere!"
   ]
  },
  {
   "cell_type": "markdown",
   "id": "f8183308-8023-4fb2-abb8-ba2027469f3b",
   "metadata": {},
   "source": [
    "<center><img src=\"https://media.giphy.com/media/rIq6ASPIqo2k0/giphy-downsized-large.gif\" width=\"400\" height=\"400\" />"
   ]
  },
  {
   "cell_type": "markdown",
   "id": "13314da9-5001-48c0-afc6-fc257642b68d",
   "metadata": {},
   "source": [
    "What even is this data that we are learning to analyze?"
   ]
  },
  {
   "cell_type": "markdown",
   "id": "0d2ce557-7599-4889-9363-f83d52b51f2b",
   "metadata": {},
   "source": [
    "**Data** : information (such as measurements or statistics) used as a basis for reasoning, discussion, or calculation (Merriam Webster)"
   ]
  },
  {
   "cell_type": "markdown",
   "id": "9d8a81a4-d885-4848-bf4a-e1aca121bff0",
   "metadata": {},
   "source": [
    "What data is used for can really depend on the field: \n",
    "* In *science* data is collected in experiements, usually with some type of equipment, and used to better understand our world and reality. \n",
    "* In *business* data is colleted through many different types of formats (surveys, customer actions, buying/selling logs, etc.) and is used to understand and improve the business by helping them make informed decisions, reduce costs, increase sales, etc."
   ]
  },
  {
   "cell_type": "markdown",
   "id": "edaa7ef4-6e6e-47ab-80a3-f1f194f1c242",
   "metadata": {},
   "source": [
    "The world has soooooooooo much data, and that amount is growing every day. By 2025 it has been predicted that the world’s data will grow to 175 zettabytes. On a standard internet connection that would take you 1.8 billion years to download."
   ]
  },
  {
   "cell_type": "markdown",
   "id": "35451aa8-2c39-4161-a006-ff5d1bed7715",
   "metadata": {},
   "source": [
    "<center><img src=\"https://th.bing.com/th/id/R.501ad90b67e79290d40c808894589768?rik=SKQ3nKNmWZlJpA&riu=http%3a%2f%2fwww.reactiongifs.us%2fwp-content%2fuploads%2f2013%2f03%2fmind_blown_nph.gif&ehk=9X2I4KZrLcj7CRaFOObSPKLOOgfwDrGewloXeRJ%2fqD8%3d&risl=&pid=ImgRaw&r=0\" width=\"600\" height=\"600\" />"
   ]
  },
  {
   "cell_type": "markdown",
   "id": "e0c56eb7-1340-4334-b648-7e827f55d10e",
   "metadata": {},
   "source": [
    "### Different Types of Data"
   ]
  },
  {
   "cell_type": "markdown",
   "id": "34444662-b682-465a-b62a-6cd47e40bd85",
   "metadata": {},
   "source": [
    "<center><img src=\"https://i0.wp.com/intellspot.com/wp-content/uploads/2017/09/Discrete-vs-Continuous-Data-graphic.png?resize=720%2C385\" width=\"600\" height=\"600\" />"
   ]
  },
  {
   "cell_type": "markdown",
   "id": "e98e2fbe-dca0-4d20-a050-53750ed11eb7",
   "metadata": {},
   "source": [
    "**Quantitative Data** : Data that can be expressed numerically (E.g. We had 150 customers come into the store today and buy $5324.13 of merchandise)\n",
    "* *Discrete Data* : involves a finite number of values, usually integers/whole numbers; Involves things that can be counted (E.g. the number of coffee's sold in a day, the age of customers, the number of items in stock)\n",
    "*  *Continuous Data* : data that can take on any value including decimals instead of just whole numbers (E.g. the price of an item, the weight of an item, customer height)\n",
    "    \n",
    "\n",
    "**Qualitative Data** : Data that cannot be expressed numerically (E.g. text information, video footage, voice recordings, etc.)"
   ]
  },
  {
   "cell_type": "markdown",
   "id": "54aaf8d9-3535-4014-b7b4-92aafd9e16ab",
   "metadata": {},
   "source": [
    "But data by itself isn't really that helpful, it's just numbers and words sitting there..."
   ]
  },
  {
   "cell_type": "markdown",
   "id": "0f4bbf14-8f85-46b3-a32b-6c1867ea56b3",
   "metadata": {},
   "source": [
    "Enter the data analysis!"
   ]
  },
  {
   "cell_type": "markdown",
   "id": "ddb33dfa-00a0-4317-bb4c-0db437299dd5",
   "metadata": {},
   "source": [
    "___________________"
   ]
  },
  {
   "cell_type": "markdown",
   "id": "14f44234-b885-4c20-ba4a-8a5cdebc8c24",
   "metadata": {},
   "source": [
    "# Data Analysis"
   ]
  },
  {
   "cell_type": "markdown",
   "id": "0b079275-2b1b-4556-ad3b-8cee04605ef4",
   "metadata": {},
   "source": [
    "<center><img src=\"https://static.dribbble.com/users/1523313/screenshots/13671653/media/7c52f9d4b1117aa12f3bf9f9c3b9e1aa.gif\" width=\"600\" height=\"600\" />"
   ]
  },
  {
   "cell_type": "markdown",
   "id": "85d15e8f-ee31-4da5-93e5-805dbdecdf1a",
   "metadata": {},
   "source": [
    "**Data Analysis** : the process of inspecting, cleansing, transforming, and modeling data with the goal of discovering useful information, informing conclusions, and supporting decision-making."
   ]
  },
  {
   "cell_type": "markdown",
   "id": "0aea6812-29f0-49e1-bc30-2ce2f0e9e1ae",
   "metadata": {},
   "source": [
    "And there is actually a lot more involved in it than just analyzing the data..."
   ]
  },
  {
   "cell_type": "markdown",
   "id": "e4e63ad6-48a6-4db9-8d87-f1b61ff3dd27",
   "metadata": {},
   "source": [
    "### Data Analysis Process"
   ]
  },
  {
   "cell_type": "markdown",
   "id": "006e02e9-d6cd-4375-bcdf-4d59be4580d0",
   "metadata": {},
   "source": [
    "1. **ASK** : What question are you trying to answer? Why is it important? Who is it important to? What is the definition of success for this analysis? \n",
    "\n",
    "**<span style='color:orange'>NOTE</span>** : This requires working with the business stakeholders to understand their needs and how you can best meet them."
   ]
  },
  {
   "cell_type": "markdown",
   "id": "fa888844-2a10-4c9b-b2fc-784e50f1dbf0",
   "metadata": {},
   "source": [
    "2. **PREPARE** : Identify what data you will need to answer the question you are trying to answer. Get access to that data or gather it if it doesn't yet exist. Understand where your data came from and how reliable it is.\n",
    "\n",
    "**<span style='color:orange'>NOTE</span>** : Some data sources are more reliable than others. Doing the right steps with bad data often still leads to bad results (You might hear this as 'trash in, trash out')"
   ]
  },
  {
   "cell_type": "markdown",
   "id": "30a5f607-17da-4e4a-9105-465d86159bbe",
   "metadata": {},
   "source": [
    "3. **PROCESS** : Make sure that the data is optimized for analysis. Most data has at least one issue, so cleaning is usually required. This can also involve aggregating data from multiple sources."
   ]
  },
  {
   "cell_type": "markdown",
   "id": "88102107-b77a-438f-bf23-79ed224a479c",
   "metadata": {},
   "source": [
    "4. **ANALYZE** : Find trends, correlations, variations, outliers, patterns, etc. that can help you answer the original question and reach conclusions. Document these findings and the reasoning behind them.  "
   ]
  },
  {
   "cell_type": "markdown",
   "id": "a6cfb0e1-983b-474d-a8ce-65361dc65cb6",
   "metadata": {},
   "source": [
    "5. **SHARE** : Communicate the results to those who need to know them. Create effective visuals and use storytelling to bring the data to life and communicate the insights learned in a compelling and understandable way. "
   ]
  },
  {
   "cell_type": "markdown",
   "id": "1c83e398-60d8-481f-b7c0-90e9e0c08d0d",
   "metadata": {},
   "source": [
    "6. **ACT** : work with the business stakeholders to decide how to best implement changes and take actions based on your findings."
   ]
  },
  {
   "cell_type": "markdown",
   "id": "7b00a171-3b0e-4693-b520-e031cefbb049",
   "metadata": {},
   "source": [
    "<center><img src=\"https://www.datapine.com/blog/wp-content/uploads/2022/03/data-analysis-process.png\" width=\"600\" height=\"600\" />"
   ]
  },
  {
   "cell_type": "markdown",
   "id": "92d63d51-7aa4-44cc-bf05-d416df6a78a5",
   "metadata": {},
   "source": [
    "Remember, the whole point of business data analysis is to support **<span style='color:blue'>data-driven decision making</span>**."
   ]
  },
  {
   "cell_type": "markdown",
   "id": "5fc1070e-6ffe-4617-b197-854d6614aec3",
   "metadata": {},
   "source": [
    "For some examples of business analytics, see https://online.hbs.edu/blog/post/business-analytics-examples"
   ]
  },
  {
   "cell_type": "markdown",
   "id": "b867c262-270b-4856-94b0-a85d240781f2",
   "metadata": {},
   "source": [
    "So it appears the actual analyzing is only one step of the process! But there are different types of analyzing that take place during that step:"
   ]
  },
  {
   "cell_type": "markdown",
   "id": "34b81fff-1090-440a-8db3-13f53cf59dac",
   "metadata": {},
   "source": [
    "### Data Analysis Methods:"
   ]
  },
  {
   "cell_type": "markdown",
   "id": "383a5d67-84c4-4360-9a10-fa807da25660",
   "metadata": {},
   "source": [
    "**Exploratory analysis** - this is where an analysts gets to know their data and get a feel/intuition for it. Enables you to find connections and generate hypothesis and ideas. This is often the starting point of most analysis projects. "
   ]
  },
  {
   "cell_type": "markdown",
   "id": "95902915-d588-4c24-b10f-87be8c1c2997",
   "metadata": {},
   "source": [
    "**Descriptive Analysis** - seeks to answer the question \"what happened?\" and is focused on the past"
   ]
  },
  {
   "cell_type": "markdown",
   "id": "fe85c27e-7ce6-4fee-b5f4-9cd392cf9c00",
   "metadata": {},
   "source": [
    "**Diagnostic Analysis** - seeks to answer the question \"why did it happen?\" and is focused on the past"
   ]
  },
  {
   "cell_type": "markdown",
   "id": "c5c4b2ad-75dd-4245-acd0-052256148b9a",
   "metadata": {},
   "source": [
    "**Predictive Analysis** - seeks to answer the question \"what will likely happen?\" and is focused on the future"
   ]
  },
  {
   "cell_type": "markdown",
   "id": "6fd1f132-ac22-4a11-b827-4b22ab633022",
   "metadata": {},
   "source": [
    "**Prescriptive Analysis** - seeks to answer the question \"how/why will it happen?\" and is focused on the future"
   ]
  },
  {
   "cell_type": "markdown",
   "id": "c9172f9d-531c-4935-acb5-179d71402971",
   "metadata": {},
   "source": [
    "So, who is gonna do all of this work? "
   ]
  },
  {
   "cell_type": "markdown",
   "id": "96835978-5f4f-4918-9241-9452c9fc09ff",
   "metadata": {},
   "source": [
    "___________________"
   ]
  },
  {
   "cell_type": "markdown",
   "id": "b14a5cff-4e71-4dcf-84a8-a1c3b5ee0c8b",
   "metadata": {},
   "source": [
    "# Data Analysts"
   ]
  },
  {
   "cell_type": "markdown",
   "id": "ba92fb93-5a81-4627-8d9f-675f07b33c35",
   "metadata": {},
   "source": [
    "So all of the above is the work of the data analyst! Data analysts have one foot in business and one in tech, and need to be be knowledgeable to some degree on both. Some skills needed by data analysts include:\n",
    "* Some *domain expertise* to help you understand your data and the questions the data is supposed to help answer (data analysts work in a lot of different fields including marketing, HR, finances, risk analysis, healthcare, and many others!)\n",
    "* Some *technical skills* to be able to work with the data (Python, SQL, Tableau, Excel, etc.) - **<span style='color:orange'>NOTE</span>** : these tools may vary depending on the job/project\n",
    "* Some *statistical knowledge* to be able to know what you are looking at in the data, what to look for, and what information is meaningful\n",
    "* Some *visualization and storytelling skills* to be able to communicate your findings in a meaningful, compelling, and understandable way to people who don't have the above skills."
   ]
  },
  {
   "cell_type": "markdown",
   "id": "69c3c4dc-66fd-4a1d-ab5a-9a80c49903d1",
   "metadata": {},
   "source": [
    "The last 3 of which we are going to learn later in this class!"
   ]
  }
 ],
 "metadata": {
  "kernelspec": {
   "display_name": "Python 3 (ipykernel)",
   "language": "python",
   "name": "python3"
  },
  "language_info": {
   "codemirror_mode": {
    "name": "ipython",
    "version": 3
   },
   "file_extension": ".py",
   "mimetype": "text/x-python",
   "name": "python",
   "nbconvert_exporter": "python",
   "pygments_lexer": "ipython3",
   "version": "3.9.12"
  }
 },
 "nbformat": 4,
 "nbformat_minor": 5
}
