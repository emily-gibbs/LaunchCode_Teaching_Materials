{
 "cells": [
  {
   "cell_type": "markdown",
   "id": "4f234413-2654-48b2-8ab6-352c33aa2acc",
   "metadata": {},
   "source": [
    "# Recap of Collections"
   ]
  },
  {
   "cell_type": "markdown",
   "id": "a7c2005b-dcef-4dea-ac48-c70b474e0bc3",
   "metadata": {},
   "source": [
    "A **<span style='color:blue'>collection</span>** is a category of data types that can be broken up into smaller pieces. Think like a puzzle is in itself its own *thing* but its made up of smaller piece *things*."
   ]
  },
  {
   "cell_type": "markdown",
   "id": "669d5cf6-d42c-48b1-a5f2-eb0490af56c8",
   "metadata": {},
   "source": [
    "<center><img src=\"https://contactcenter4all.com/wp-content/uploads/2020/01/AdobeStock_291098376-1-scaled.jpeg\" width=\"400\" height=\"400\" />"
   ]
  },
  {
   "cell_type": "markdown",
   "id": "f148ed2b-9f61-4239-ae66-30ce78b77565",
   "metadata": {},
   "source": [
    "For any of the data types that fall under the **collection** category, we can access each of the individual pieces as well. The way that we do that depends on whether the collection is **<span style='color:blue'>ordered</span>** (the order of the inside pieces/elements matters and doesn't change unless you explicitely tell it to) or **<span style='color:blue'>unordered</span>** (the order of the inside pieces/elements doesn't matter and it might change on its own as the computer does back-end computer stuff). "
   ]
  },
  {
   "cell_type": "markdown",
   "id": "8a984476-e0df-40ff-88f4-35d23b4f1dd6",
   "metadata": {},
   "source": [
    "The way that these collection behave also depends on whether they are **<span style='color:blue'>mutable</span>** (you can change the collection) or **<span style='color:blue'>immutable</span>** (you can't change the collection). "
   ]
  },
  {
   "cell_type": "markdown",
   "id": "8d1d64fc-484f-40c0-9dca-d889c67d7632",
   "metadata": {},
   "source": [
    "**Strings** are ordered and immutable. So you can use the index of a character (or range of indexes for several characters) to access it, but you have to create a new string if you want to modify it. "
   ]
  },
  {
   "cell_type": "markdown",
   "id": "f740a8c5-2dc1-4ebc-93dd-434332c4c6b2",
   "metadata": {},
   "source": [
    "<center><img src=\"https://qph.fs.quoracdn.net/main-qimg-6400819662432f726e2b29e2dd40b646\" width=\"600\" height=\"600\" />"
   ]
  },
  {
   "cell_type": "code",
   "execution_count": 2,
   "id": "3eba3030-572a-4a3a-af40-3d7787fb9213",
   "metadata": {},
   "outputs": [
    {
     "name": "stdout",
     "output_type": "stream",
     "text": [
      "h\n",
      "hello \n"
     ]
    }
   ],
   "source": [
    "my_string = 'hello world'\n",
    "first_letter = my_string[0] # strings are ordered, so we can use indexing\n",
    "print(first_letter)\n",
    "first_word = my_string[0:6] # slicing to get multiple characters\n",
    "print(first_word)"
   ]
  },
  {
   "cell_type": "code",
   "execution_count": 39,
   "id": "4365b3f9-27c6-493a-b752-e1c5bfb00b28",
   "metadata": {},
   "outputs": [
    {
     "ename": "TypeError",
     "evalue": "'str' object does not support item assignment",
     "output_type": "error",
     "traceback": [
      "\u001b[1;31m---------------------------------------------------------------------------\u001b[0m",
      "\u001b[1;31mTypeError\u001b[0m                                 Traceback (most recent call last)",
      "\u001b[1;32m~\\AppData\\Local\\Temp\\ipykernel_12980\\1827118741.py\u001b[0m in \u001b[0;36m<module>\u001b[1;34m\u001b[0m\n\u001b[1;32m----> 1\u001b[1;33m \u001b[0mmy_string\u001b[0m\u001b[1;33m[\u001b[0m\u001b[1;36m0\u001b[0m\u001b[1;33m]\u001b[0m \u001b[1;33m=\u001b[0m \u001b[1;34m'm'\u001b[0m\u001b[1;33m\u001b[0m\u001b[1;33m\u001b[0m\u001b[0m\n\u001b[0m",
      "\u001b[1;31mTypeError\u001b[0m: 'str' object does not support item assignment"
     ]
    }
   ],
   "source": [
    "my_string[0] = 'm' # strings are immutable (we can't change them)"
   ]
  },
  {
   "cell_type": "markdown",
   "id": "8f5d4d4b-0f04-49a3-8f13-b1c43324023e",
   "metadata": {},
   "source": [
    "**Lists** are ordered and mutable. So you can also use indexing to access items in the list, and you can change the list (add items, delete item, change an item, etc.)"
   ]
  },
  {
   "cell_type": "markdown",
   "id": "6839181f-db76-4364-be2d-6ecd5ba2939c",
   "metadata": {},
   "source": [
    "<center><img src=\"https://i.ytimg.com/vi/KAXvMbD1Zac/maxresdefault.jpg\" width=\"600\" height=\"600\" />"
   ]
  },
  {
   "cell_type": "code",
   "execution_count": 7,
   "id": "72007878-6d7c-477e-8acb-cfaa5f54526d",
   "metadata": {},
   "outputs": [
    {
     "name": "stdout",
     "output_type": "stream",
     "text": [
      "ham\n",
      "['spam', 'eggs', 'bacon', 'tomatoes', 'ham', 'cheese']\n",
      "cheese\n"
     ]
    }
   ],
   "source": [
    "my_list = ['spam', 'eggs', 'bacon', 'tomatoes', 'ham']\n",
    "last_item = my_list[-1] # Lists are ordered, so we can use indexing\n",
    "print(last_item)\n",
    "\n",
    "my_list.append('cheese')\n",
    "print(my_list)\n",
    "last_item = my_list[-1] # lists are mutable, so we can change them (e.g. add an item)\n",
    "print(last_item)"
   ]
  },
  {
   "cell_type": "markdown",
   "id": "7c50d24a-9b5c-44ff-9c92-8f1835c4b37c",
   "metadata": {},
   "source": [
    "Now, lists especially are great for storing stuff, but there isn't really a connection between any of the items. For instance, what if I need to know how many of each item to get? We could put the number of items right after each item in the list. But if you want to figure out how many eggs you need to get, first you need to find the index where the eggs are and then go one index further, and in general its just pretty easy to mess up:"
   ]
  },
  {
   "cell_type": "code",
   "execution_count": 13,
   "id": "09b0977b-1846-4b68-b9d6-7a2011538cfb",
   "metadata": {},
   "outputs": [
    {
     "name": "stdout",
     "output_type": "stream",
     "text": [
      "3\n"
     ]
    }
   ],
   "source": [
    "shopping_list = ['spam', 1, 'eggs', 3, 'bacon', 5, 'tomatoes', 2, 'ham', 1, 'cheese', 100]\n",
    "\n",
    "egg_index = shopping_list.index('eggs')\n",
    "num_eggs_index = egg_index + 1\n",
    "num_eggs = shopping_list[num_eggs_index]\n",
    "print(num_eggs)"
   ]
  },
  {
   "cell_type": "markdown",
   "id": "d4fd482a-229f-4fb4-893e-1a689ecf1c61",
   "metadata": {},
   "source": [
    "We could also try having two lists, where the items are in one list and the number of items to get is in the second list, but we would have to be very careful to make sure that they both are in the same order whenever we change anything, and in general its pretty annoying to keep track of two lists:"
   ]
  },
  {
   "cell_type": "code",
   "execution_count": 14,
   "id": "029e4b59-afde-4df7-9de0-47d10762b0ca",
   "metadata": {},
   "outputs": [
    {
     "name": "stdout",
     "output_type": "stream",
     "text": [
      "3\n"
     ]
    }
   ],
   "source": [
    "shopping_items = ['spam', 'eggs', 'bacon', 'tomatoes', 'ham']\n",
    "shopping_item_amounts = [1, 3, 5, 2, 1, 100]\n",
    "\n",
    "egg_index = shopping_items.index('eggs')\n",
    "num_eggs = shopping_item_amounts[egg_index]\n",
    "print(num_eggs)"
   ]
  },
  {
   "cell_type": "markdown",
   "id": "5b6ba6ab-4cd3-40a8-a64a-d6d9d14034a3",
   "metadata": {},
   "source": [
    "Luckily, there is a better way..."
   ]
  },
  {
   "cell_type": "markdown",
   "id": "9d1377f7-b3d7-404b-85d1-7f86b28d23b6",
   "metadata": {},
   "source": [
    "# Dictionaries"
   ]
  },
  {
   "cell_type": "markdown",
   "id": "f5c0e202-fb1e-48c4-bcc6-c077db0abafe",
   "metadata": {},
   "source": [
    "Think about the dictionaries that we use in school. We don't use two different books where one book has the words and the other book has the definitions or anything weird like that. Instead each word is associated with a definition, and you get to that definition by looking up the word. The definition is directly linked to the word it is associated with. "
   ]
  },
  {
   "cell_type": "markdown",
   "id": "570d015a-d0d2-4a2d-a26b-32d11c4f3b8f",
   "metadata": {},
   "source": [
    "<center><img src=\"https://th.bing.com/th/id/OIP.5aDBk0R-hYPX9Lce1-lA2wHaE6?pid=ImgDet&rs=1\" width=\"400\" height=\"400\" />"
   ]
  },
  {
   "cell_type": "markdown",
   "id": "efdbcb6c-747d-463a-8dbf-9a1627666ad4",
   "metadata": {},
   "source": [
    "This inspired a type of data structure in programming that we also call a **<span style='color:blue'>dictionary</span>**. In coding, a dictionary is another type of collection data type. Like dictionary books where words are directly linked to definitions, they are structured so that there are **<span style='color:blue'>keys</span>** that are linked to **<span style='color:blue'>values</span>**. If you know the key, you can use it to get the value."
   ]
  },
  {
   "cell_type": "markdown",
   "id": "b07d2089-8251-4f63-a390-637cc31904e3",
   "metadata": {},
   "source": [
    "<center><img src=\"https://education.launchcode.org/data-analysis/_images/dictionary.png\" width=\"600\" height=\"600\" />"
   ]
  },
  {
   "cell_type": "markdown",
   "id": "4febce53-0be6-41a2-a703-c1fbce48c99d",
   "metadata": {},
   "source": [
    "Here is the syntax we use to create an empty dictionary:\n",
    "\n",
    "```\n",
    "dictionary_name = {}\n",
    "```\n",
    "\n",
    "Here is how we would create a dictionary with items inside of it:\n",
    "\n",
    "```\n",
    "dictionary_name = {key_1 : value_1, key_2 : value_2, key_3 : value3, ...}\n",
    "```\n",
    "\n",
    "Which is often easier to read if you write it like this:\n",
    "\n",
    "```\n",
    "dictionary_name = {\n",
    "    key_1 : value_1,\n",
    "    key_2 : value_2, \n",
    "    key_3 : value_3,\n",
    "    ...\n",
    "}\n",
    "```"
   ]
  },
  {
   "cell_type": "markdown",
   "id": "f3d9ff25-f6c6-4aba-aa77-845a19fe1e27",
   "metadata": {},
   "source": [
    "**<span style='color:orange'>NOTE</span>** : you define dictionaries using curly braces `{}` instead of square braces like lists `[]`"
   ]
  },
  {
   "cell_type": "markdown",
   "id": "7e8291b0-6801-4b15-b20a-3c0b8253b05c",
   "metadata": {},
   "source": [
    "So to make our shopping list that includes the number of each item we need we could do:"
   ]
  },
  {
   "cell_type": "code",
   "execution_count": 29,
   "id": "2027239d-584d-4fcc-b78a-7840d09dff6a",
   "metadata": {},
   "outputs": [],
   "source": [
    "shopping_dict = {\n",
    "    'spam' : 1,\n",
    "    'eggs' : 3,\n",
    "    'bacon' : 5,\n",
    "    'tomatoes' : 2,\n",
    "    'ham' : 1,\n",
    "    'cheese' : 100\n",
    "}\n",
    "\n",
    "# In this dictionary, what are the keys? What are the values? How many key/value pairs are there? "
   ]
  },
  {
   "cell_type": "code",
   "execution_count": 42,
   "id": "46fb969e-c997-402a-ae6b-bbff1b253b27",
   "metadata": {},
   "outputs": [],
   "source": [
    "# Let's make a dictionary that has they keys 'data' and 'data analysis', where the values are the associated defintions of those terms\n",
    "dictionary_name = {\n",
    "    'data' : 'facts and statistics collected together for reference or analysis.',\n",
    "    'data analysis' : 'field that focuses on finding data, digging through it, and reporting the key take-aways'\n",
    "}"
   ]
  },
  {
   "cell_type": "markdown",
   "id": "727a3aa1-6a81-4836-907c-b995b4b8b50b",
   "metadata": {},
   "source": [
    "### Dictionaries are **Unordered**"
   ]
  },
  {
   "cell_type": "markdown",
   "id": "5731233f-856b-4a13-9bd1-9c7cd15c8e07",
   "metadata": {},
   "source": [
    "Unlike both lists and strings, dictionaries don't keep the items that they store in any particular order. This means that you **CANNOT** use indexing to get the items inside like we used with strings and lists. Instead, we use the keys to get the values, just like how we look up definitions in a book dictionary using words."
   ]
  },
  {
   "cell_type": "markdown",
   "id": "40e29a39-f9d9-490b-8a65-d4743a34e8be",
   "metadata": {},
   "source": [
    "To get an item from inside of a dictionary, we still use the square brackets `[]` we used when indexing into strings and lists, just instead of using an index number we use the key:"
   ]
  },
  {
   "cell_type": "code",
   "execution_count": 44,
   "id": "f1dfec13-9e17-461a-9843-3396aa825e1d",
   "metadata": {},
   "outputs": [
    {
     "name": "stdout",
     "output_type": "stream",
     "text": [
      "3\n"
     ]
    }
   ],
   "source": [
    "print(shopping_dict['eggs'])"
   ]
  },
  {
   "cell_type": "markdown",
   "id": "8b197486-0b4a-4cbc-b427-d0b3450bd93d",
   "metadata": {},
   "source": [
    "This is much more understandable and easy to work with than trying to solve this particular issue with lists."
   ]
  },
  {
   "cell_type": "code",
   "execution_count": 51,
   "id": "2766866f-2920-452a-89a4-9751bd4dab2f",
   "metadata": {},
   "outputs": [],
   "source": [
    "employees = {\n",
    "    '23456' : 'Emily Lynn',\n",
    "    '23456' : 'Allison Cannady'\n",
    "}"
   ]
  },
  {
   "cell_type": "code",
   "execution_count": 49,
   "id": "079d32c3-eb95-45da-9bde-4c4e32ee5a07",
   "metadata": {},
   "outputs": [
    {
     "name": "stdout",
     "output_type": "stream",
     "text": [
      "Katerina\n"
     ]
    }
   ],
   "source": [
    "employees['23456'] = 'Katerina'\n",
    "print(employees['23456'])"
   ]
  },
  {
   "cell_type": "markdown",
   "id": "7e386697-cc7c-4664-b395-7fdb30ed980c",
   "metadata": {},
   "source": [
    "Rules for keys:\n",
    "* keys *can* be strings, ints, floats, or booleans... but stick to using strings (remember, readability is a big strength of dictionaries!)\n",
    "* keys must be **unique** - in a single dictionary a key cannot be used more than once.\n",
    "* A key must always be assigned to *something*, even if that something is None"
   ]
  },
  {
   "cell_type": "markdown",
   "id": "c988e8f5-fdc1-45ed-bd04-b7fc734ca2a3",
   "metadata": {},
   "source": [
    "Rules for values:\n",
    "* There are none. Values can be of any data type, and different values can be different data types"
   ]
  },
  {
   "cell_type": "code",
   "execution_count": 54,
   "id": "077e64cd-1192-4ddb-8e22-4cdbcf31d4c2",
   "metadata": {},
   "outputs": [],
   "source": [
    "employee_info = {\n",
    "    'name': 'Karyn Jones',\n",
    "    'tenure': 3,\n",
    "    'date of birth': 'July 10',\n",
    "    'projects' : ['programming project', 'management project'],\n",
    "    'awards': {\n",
    "        'leadership': 'awarded to the most leader',\n",
    "        'compassion': 'awarded to the most compassion'\n",
    "    }\n",
    "}"
   ]
  },
  {
   "cell_type": "code",
   "execution_count": 61,
   "id": "5d6b1c77-a895-4466-86d4-7824672a30a4",
   "metadata": {},
   "outputs": [
    {
     "data": {
      "text/plain": [
       "'awarded to the most leader'"
      ]
     },
     "execution_count": 61,
     "metadata": {},
     "output_type": "execute_result"
    }
   ],
   "source": [
    "employee_info['awards']['leadership']"
   ]
  },
  {
   "cell_type": "code",
   "execution_count": 63,
   "id": "32aae1ad-3ca8-428a-b974-7485e89f3da2",
   "metadata": {},
   "outputs": [
    {
     "data": {
      "text/plain": [
       "'management project'"
      ]
     },
     "execution_count": 63,
     "metadata": {},
     "output_type": "execute_result"
    }
   ],
   "source": [
    "employee_info['projects'][1]"
   ]
  },
  {
   "cell_type": "markdown",
   "id": "9afe24e3-207a-41e4-9323-f520a174a589",
   "metadata": {},
   "source": [
    "### Dictionaries are **Mutable**"
   ]
  },
  {
   "cell_type": "markdown",
   "id": "7f5f1aeb-83c8-48ea-bdee-b04ddb53f11b",
   "metadata": {},
   "source": [
    "Just like lists, we can change what is inside of a dictionary, and it is pretty similar to working with lists."
   ]
  },
  {
   "cell_type": "code",
   "execution_count": 31,
   "id": "1f0ef3bc-fd5b-426b-85d3-88636f4f0fb3",
   "metadata": {},
   "outputs": [
    {
     "name": "stdout",
     "output_type": "stream",
     "text": [
      "{'spam': 1, 'eggs': 3, 'bacon': 5, 'tomatoes': 2, 'ham': 1, 'cheese': 10}\n"
     ]
    }
   ],
   "source": [
    "# To change a value, just reset the key:\n",
    "shopping_dict['cheese'] = 10\n",
    "\n",
    "print(shopping_dict)"
   ]
  },
  {
   "cell_type": "code",
   "execution_count": 32,
   "id": "7fededbb-6784-4f37-a9eb-05be9a65e3e0",
   "metadata": {},
   "outputs": [
    {
     "name": "stdout",
     "output_type": "stream",
     "text": [
      "{'spam': 1, 'eggs': 3, 'bacon': 5, 'tomatoes': 2, 'ham': 1, 'cheese': 10, 'juice': 'orange'}\n"
     ]
    }
   ],
   "source": [
    "# To add a new key/value pair to the dictionary, assign a value to that new key just like we did with an already existing key above:\n",
    "shopping_dict['juice'] = 'orange'\n",
    "\n",
    "print(shopping_dict)"
   ]
  },
  {
   "cell_type": "code",
   "execution_count": 33,
   "id": "ac2f18a5-ceb5-4bbc-8456-1e49cf33b14c",
   "metadata": {},
   "outputs": [
    {
     "name": "stdout",
     "output_type": "stream",
     "text": [
      "{'spam': 1, 'eggs': 3, 'bacon': 5, 'tomatoes': 2, 'ham': 1, 'cheese': 10}\n"
     ]
    }
   ],
   "source": [
    "# To remove a key/value pair, use the 'del' keyword just like we did with lists\n",
    "del shopping_dict['juice']\n",
    "\n",
    "print(shopping_dict)"
   ]
  },
  {
   "cell_type": "markdown",
   "id": "d9fc82fd-8bd3-4fc7-95e2-73088c98c094",
   "metadata": {},
   "source": [
    "So we can always change the value that is associated with a certain key, or add a new key/value pair, but we can't directly change the keys themselves (we'd have to delete it and create a new one)."
   ]
  },
  {
   "cell_type": "code",
   "execution_count": 64,
   "id": "5b0d99a4-895d-49e7-964d-91d047fa6e96",
   "metadata": {},
   "outputs": [
    {
     "name": "stdout",
     "output_type": "stream",
     "text": [
      "{'spam': 1, 'eggs': 3, 'bacon': 5, 'tomatoes': 2, 'cheese': 10, 'pork': 1}\n"
     ]
    }
   ],
   "source": [
    "shopping_dict['pork'] = shopping_dict['ham']\n",
    "del shopping_dict['ham']\n",
    "\n",
    "print(shopping_dict)"
   ]
  },
  {
   "cell_type": "markdown",
   "id": "76c53427-22aa-4e6a-bcf6-2ef6bb259f71",
   "metadata": {},
   "source": [
    "# Helpful Dictionary Methods"
   ]
  },
  {
   "cell_type": "markdown",
   "id": "5bcee7b6-7290-4bad-ba09-71185b24aa28",
   "metadata": {},
   "source": [
    "<center><img src=\"https://media.giphy.com/media/3o6Mb5EPQiC8zByLXq/giphy.gif\" width=\"400\" height=\"400\" />"
   ]
  },
  {
   "cell_type": "markdown",
   "id": "b573dc37-2e6c-4d13-b8e5-a777f37deca0",
   "metadata": {},
   "source": [
    "Just like with lists and strings, there are some methods already written that help us do common tasks with dictionaries."
   ]
  },
  {
   "cell_type": "markdown",
   "id": "23c8de1b-f2fb-4e2c-af06-e07baa1932a8",
   "metadata": {},
   "source": [
    "### Get All of the Keys"
   ]
  },
  {
   "cell_type": "code",
   "execution_count": 34,
   "id": "88ce0ddf-9cd2-42d3-a757-d014362d01bb",
   "metadata": {},
   "outputs": [
    {
     "name": "stdout",
     "output_type": "stream",
     "text": [
      "dict_keys(['spam', 'eggs', 'bacon', 'tomatoes', 'ham', 'cheese'])\n"
     ]
    }
   ],
   "source": [
    "# To get all of the keys in a dictionary as a list\n",
    "shopping_list_items = shopping_dict.keys()\n",
    "print(shopping_list_items)"
   ]
  },
  {
   "cell_type": "markdown",
   "id": "7b045e76-83ef-4df0-bced-1ce6196420b7",
   "metadata": {},
   "source": [
    "Why would this be helpful? Well if you try to access a key in a dictionary that isn't there, you'll get a `KeyError` error:"
   ]
  },
  {
   "cell_type": "code",
   "execution_count": 35,
   "id": "8236a122-2ef2-4de8-8286-f53fb97eb223",
   "metadata": {},
   "outputs": [
    {
     "ename": "KeyError",
     "evalue": "'bread'",
     "output_type": "error",
     "traceback": [
      "\u001b[1;31m---------------------------------------------------------------------------\u001b[0m",
      "\u001b[1;31mKeyError\u001b[0m                                  Traceback (most recent call last)",
      "\u001b[1;32m~\\AppData\\Local\\Temp\\ipykernel_12980\\4202477524.py\u001b[0m in \u001b[0;36m<module>\u001b[1;34m\u001b[0m\n\u001b[1;32m----> 1\u001b[1;33m \u001b[0mshopping_dict\u001b[0m\u001b[1;33m[\u001b[0m\u001b[1;34m'bread'\u001b[0m\u001b[1;33m]\u001b[0m\u001b[1;33m\u001b[0m\u001b[1;33m\u001b[0m\u001b[0m\n\u001b[0m",
      "\u001b[1;31mKeyError\u001b[0m: 'bread'"
     ]
    }
   ],
   "source": [
    "shopping_dict['bread']"
   ]
  },
  {
   "cell_type": "markdown",
   "id": "db531788-afd2-47d8-be82-5ae101b6dcbd",
   "metadata": {},
   "source": [
    "So often before you ask for something in a dictionary, you'll want to check and make sure it is in the dictionary keys first:"
   ]
  },
  {
   "cell_type": "code",
   "execution_count": 67,
   "id": "fa70ed45-537d-4faa-b496-a724340bad49",
   "metadata": {},
   "outputs": [
    {
     "name": "stdin",
     "output_type": "stream",
     "text": [
      "What item in the shopping list do you want to check? cheese\n"
     ]
    },
    {
     "name": "stdout",
     "output_type": "stream",
     "text": [
      "You need to buy 10 cheese\n"
     ]
    }
   ],
   "source": [
    "item = input('What item in the shopping list do you want to check?')\n",
    "\n",
    "# print(shopping_dict[item])\n",
    "\n",
    "if item in shopping_dict.keys():\n",
    "    item_amount = shopping_dict[item]\n",
    "    print(f'You need to buy {item_amount} {item}')\n",
    "else:\n",
    "    print(f'It appears that {item} is not in the shopping list.')"
   ]
  },
  {
   "cell_type": "markdown",
   "id": "d53b2dad-c321-4d24-ac08-7ac1955923b4",
   "metadata": {},
   "source": [
    "### Get All of the Values"
   ]
  },
  {
   "cell_type": "code",
   "execution_count": 38,
   "id": "9ec66942-129e-4a7b-be1a-f282920277bd",
   "metadata": {},
   "outputs": [
    {
     "name": "stdout",
     "output_type": "stream",
     "text": [
      "dict_values([1, 3, 5, 2, 1, 10])\n",
      "You need to buy 22 total items\n"
     ]
    }
   ],
   "source": [
    "# To get all of the values in a dictionary as a list\n",
    "shopping_list_amounts = shopping_dict.values()\n",
    "print(shopping_list_amounts)\n",
    "\n",
    "total_items_to_buy = sum(shopping_list_amounts)\n",
    "print(f'You need to buy {total_items_to_buy} total items')"
   ]
  },
  {
   "cell_type": "markdown",
   "id": "18781116-3960-4f6e-8bb5-9d517ccbb4e0",
   "metadata": {},
   "source": [
    "### Get All of the Key/Value Pairs"
   ]
  },
  {
   "cell_type": "code",
   "execution_count": 28,
   "id": "be987952-99c5-4d1f-8f84-f7ed24c52787",
   "metadata": {},
   "outputs": [
    {
     "name": "stdout",
     "output_type": "stream",
     "text": [
      "dict_items([('spam', 1), ('eggs', 3), ('bacon', 5), ('tomatoes', 2), ('ham', 1), ('cheese', 10)])\n",
      "spam 1\n",
      "eggs 3\n",
      "bacon 5\n",
      "tomatoes 2\n",
      "ham 1\n",
      "cheese 10\n"
     ]
    }
   ],
   "source": [
    "# To get all of the keys values pairs together\n",
    "print(shopping_list.items())\n",
    "\n",
    "for key, value in shopping_list.items():\n",
    "    print(key, value)"
   ]
  },
  {
   "cell_type": "markdown",
   "id": "d6322158-20af-4c87-b581-dc9c8d03d325",
   "metadata": {},
   "source": [
    "# Practice"
   ]
  },
  {
   "cell_type": "markdown",
   "id": "bc652cbd-7a4c-4fca-a99b-8c0c78856a90",
   "metadata": {},
   "source": [
    "Let's create a bot that continue to ask the user for an item to add to the shopping list and how many of that item are needed until the user inputs 'done'."
   ]
  },
  {
   "cell_type": "code",
   "execution_count": null,
   "id": "4c7dbf22-01e6-4528-ad7c-2d1ba0c521b1",
   "metadata": {},
   "outputs": [],
   "source": [
    "#"
   ]
  },
  {
   "cell_type": "markdown",
   "id": "517f50c4-9aa8-4e99-af7c-15fd07a927c7",
   "metadata": {},
   "source": [
    "Now add code so that after every item/number the user adds, the bot tells the user how many total items are needed before asking for another item. "
   ]
  },
  {
   "cell_type": "code",
   "execution_count": null,
   "id": "7b06b8d9-0457-4e1e-9981-f5cfc4023311",
   "metadata": {},
   "outputs": [],
   "source": [
    "# "
   ]
  },
  {
   "cell_type": "markdown",
   "id": "8e1c064c-20cb-4b1b-b121-f993d697ce10",
   "metadata": {},
   "source": [
    "# Why do We Care?"
   ]
  },
  {
   "cell_type": "markdown",
   "id": "239206ac-830c-4664-82e7-b6b79ea5a6aa",
   "metadata": {},
   "source": [
    "Dictionaries may especially seem kind of abstract as far as data analysis goes. But dictionaries, together with lists, are the fundamental building blocks of THE most useful data structure in python - the dataframe. As a data analyst, if you are working with python you will almost always work with data that is in dataframes (think of them as like the python version of an excel table). We will learn about dataframes in 2 weeks. "
   ]
  },
  {
   "cell_type": "markdown",
   "id": "d326b933-1724-4b73-b132-0e24c6493670",
   "metadata": {},
   "source": [
    "# Studio Time!"
   ]
  },
  {
   "cell_type": "markdown",
   "id": "43459dce-44c6-46b8-8a63-da624fe793eb",
   "metadata": {},
   "source": [
    "This is my personal reminder to open the studio for you all to access."
   ]
  },
  {
   "cell_type": "markdown",
   "id": "00a7411f-241e-461d-a8e1-d26081b53fd4",
   "metadata": {},
   "source": [
    "<center><img src=\"https://media1.tenor.com/images/9f4ed2ca326f1e9a9f6b84005f92d170/tenor.gif?itemid=4923608\" width=\"400\" height=\"400\" />"
   ]
  }
 ],
 "metadata": {
  "kernelspec": {
   "display_name": "Python 3 (ipykernel)",
   "language": "python",
   "name": "python3"
  },
  "language_info": {
   "codemirror_mode": {
    "name": "ipython",
    "version": 3
   },
   "file_extension": ".py",
   "mimetype": "text/x-python",
   "name": "python",
   "nbconvert_exporter": "python",
   "pygments_lexer": "ipython3",
   "version": "3.9.12"
  }
 },
 "nbformat": 4,
 "nbformat_minor": 5
}
