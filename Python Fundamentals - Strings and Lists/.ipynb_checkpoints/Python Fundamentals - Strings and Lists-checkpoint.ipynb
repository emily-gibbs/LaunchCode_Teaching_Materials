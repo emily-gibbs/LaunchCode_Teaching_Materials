{
 "cells": [
  {
   "cell_type": "markdown",
   "id": "7e4d0bb2-ddcf-47bf-8f52-37376f88a5fb",
   "metadata": {},
   "source": [
    "# Quick Review"
   ]
  },
  {
   "cell_type": "markdown",
   "id": "2a5e13bc-2e29-4520-961c-471b53043d08",
   "metadata": {},
   "source": [
    "Computers are fast, and they have a lot of memory, but other than that they are pretty dumb. You have to tell them *precisely* what you want them to do or they won't understand (or they will do something you aren't expecting)."
   ]
  },
  {
   "cell_type": "markdown",
   "id": "c6346738-c241-4bbb-bffa-d7f9d9fbd87b",
   "metadata": {},
   "source": [
    "**<span style=\"color:blue\">Data types</span>** are forms of data that each have their own rules of how they can be used. The data types we have learned so far:\n",
    "* **Floats** -- numbers with decimals (e.g. 2.4)\n",
    "* **Integers** -- numbers without decimals (e.g. 2); often shortened to 'int'\n",
    "* **Booleans** -- True/False; often shortened to 'bool'\n",
    "* **Strings** -- text data, or any data that is inside quotation marks (e.g. 'hello' or '2.4'); often shortened to 'str'"
   ]
  },
  {
   "cell_type": "markdown",
   "id": "b1f023f1-5f41-46c1-a8cb-164e9ec6839b",
   "metadata": {},
   "source": [
    "We can check what type something is with the `type()` command:"
   ]
  },
  {
   "cell_type": "code",
   "execution_count": 1,
   "id": "002e25ce-5ed0-45f1-a1a9-f036978648f4",
   "metadata": {},
   "outputs": [
    {
     "data": {
      "text/plain": [
       "str"
      ]
     },
     "execution_count": 1,
     "metadata": {},
     "output_type": "execute_result"
    }
   ],
   "source": [
    "type('2.4')"
   ]
  },
  {
   "cell_type": "markdown",
   "id": "6eb7956f-58c1-47d7-bee4-d5b8b42f752a",
   "metadata": {},
   "source": [
    "We can convert between different types, as long as it makes logical sense. The command used to convert to a specific type is (shortened) name of that type:"
   ]
  },
  {
   "cell_type": "code",
   "execution_count": 2,
   "id": "32c3529c-16f3-4e28-b53c-f82a1c219f7d",
   "metadata": {},
   "outputs": [
    {
     "data": {
      "text/plain": [
       "4"
      ]
     },
     "execution_count": 2,
     "metadata": {},
     "output_type": "execute_result"
    }
   ],
   "source": [
    "int(4.5)"
   ]
  },
  {
   "cell_type": "code",
   "execution_count": 3,
   "id": "a4e453f5-28df-46e1-bdb2-e252cd1fac6f",
   "metadata": {},
   "outputs": [
    {
     "data": {
      "text/plain": [
       "'True'"
      ]
     },
     "execution_count": 3,
     "metadata": {},
     "output_type": "execute_result"
    }
   ],
   "source": [
    "str(True)"
   ]
  },
  {
   "cell_type": "code",
   "execution_count": 4,
   "id": "23f65897-d83f-4271-8de5-8f70b71645b8",
   "metadata": {},
   "outputs": [
    {
     "data": {
      "text/plain": [
       "False"
      ]
     },
     "execution_count": 4,
     "metadata": {},
     "output_type": "execute_result"
    }
   ],
   "source": [
    "bool(0) # 0 represents 'False', and 1 represents 'True'"
   ]
  },
  {
   "cell_type": "markdown",
   "id": "33dfbe07-a412-47ab-bd78-aa4b5318acc0",
   "metadata": {},
   "source": [
    "We can store any of these forms of data in a **<span style='color:blue'>variable</span>** that will represent that value wherever it is put. That way you can change the value of the variable without having to write the new value everywhere."
   ]
  },
  {
   "cell_type": "code",
   "execution_count": 5,
   "id": "5608d9b9-cc8c-4b5d-9a75-adbe002afde9",
   "metadata": {},
   "outputs": [
    {
     "name": "stdout",
     "output_type": "stream",
     "text": [
      "The area of the rectangle is 8\n"
     ]
    }
   ],
   "source": [
    "width = 4\n",
    "height = 2\n",
    "area = width*height\n",
    "\n",
    "print('The area of the rectangle is', area)"
   ]
  },
  {
   "cell_type": "markdown",
   "id": "446903d5-24e8-4c96-9ebd-a342420d9373",
   "metadata": {},
   "source": [
    "You can even store **<span style='color:blue'>user input</span>** data in a variable using the `input()` command. But be careful, the data is always taken in as a string!"
   ]
  },
  {
   "cell_type": "code",
   "execution_count": 6,
   "id": "5dedb399-51a4-4258-ae05-9156d4f18896",
   "metadata": {},
   "outputs": [
    {
     "name": "stdin",
     "output_type": "stream",
     "text": [
      "What is your age? 88\n"
     ]
    },
    {
     "name": "stdout",
     "output_type": "stream",
     "text": [
      "In 100 years you will be 188 years old.\n"
     ]
    }
   ],
   "source": [
    "age = input('What is your age?')\n",
    "age_in_100 = int(age) + 100\n",
    "print('In 100 years you will be', age_in_100, 'years old.')"
   ]
  },
  {
   "cell_type": "markdown",
   "id": "82a46fb9-8521-4ec2-8e0c-4f636e811074",
   "metadata": {},
   "source": [
    "When you need the code to make a **<span style='color:blue'>decision</span>** (think decision tree), you can use `if/elif/else` structure:"
   ]
  },
  {
   "cell_type": "code",
   "execution_count": 7,
   "id": "0452181a-1360-446e-a38a-bdfe38e503a5",
   "metadata": {},
   "outputs": [
    {
     "name": "stdout",
     "output_type": "stream",
     "text": [
      "Too many donuts, sick\n"
     ]
    }
   ],
   "source": [
    "num_donuts_I_ate = 10\n",
    "\n",
    "if (num_donuts_I_ate < 5):\n",
    "    print(\"I'm sad\")\n",
    "elif num_donuts_I_ate == 5:\n",
    "    print(\"Perfect\")\n",
    "else:\n",
    "    print(\"Too many donuts, sick\")"
   ]
  },
  {
   "cell_type": "markdown",
   "id": "ec636873-4cfd-438c-bf50-f10fc63146b5",
   "metadata": {},
   "source": [
    "You can check for **<span style='color:blue'>multiple conditions</span>** at the same time with `and/or`. A statement with `and` will only evaluate to `True` if both things on either side of it are `True`. A statement with `or` will evaluate to `True` if either or both of the things on either side of it are `True`."
   ]
  },
  {
   "cell_type": "markdown",
   "id": "12a52b6c-2846-4dad-b757-3e25b361e5a2",
   "metadata": {},
   "source": [
    "<center><img src=\"https://1.bp.blogspot.com/-JC2p_HRWda0/Xo8sS96vtjI/AAAAAAAAFbI/OZOJ_Wme81g4BH0ic2qJlUmgMNmUg6C4QCLcBGAsYHQ/s400/boolean%2Boperator.jpg\" width=\"600\" height=\"600\" />"
   ]
  },
  {
   "cell_type": "markdown",
   "id": "63087b0e-28a8-4fa7-a7ab-71e5087d6d16",
   "metadata": {},
   "source": [
    "<center><img src=\"https://1.bp.blogspot.com/-Mz2Ng89k1Qs/Xo82U6oI9JI/AAAAAAAAFbU/rCtRfdkNBsk99Codmt3QQ8q5LEGmmYo6wCLcBGAsYHQ/s400/boolean1.jpg\" width=\"600\" height=\"600\" />"
   ]
  },
  {
   "cell_type": "code",
   "execution_count": 8,
   "id": "b1fb5b30-5557-4e5d-9460-9fbf5b2ccbec",
   "metadata": {},
   "outputs": [
    {
     "name": "stdout",
     "output_type": "stream",
     "text": [
      "Keep working\n"
     ]
    }
   ],
   "source": [
    "i_am_hungry = False\n",
    "i_am_bored = False\n",
    "\n",
    "if i_am_hungry or i_am_bored:\n",
    "    print('Eat a snack')\n",
    "else:\n",
    "    print('Keep working')"
   ]
  },
  {
   "cell_type": "markdown",
   "id": "4234cac2-b604-4f2e-8a03-014936187d32",
   "metadata": {},
   "source": [
    "If you need some code to execute multiple times, you can use **<span style='color:blue'>loops</span>**. If there is a set number of times that the code should run you can use a `for` loop. If instead the code should repeat until a certain condition is met, then you can use a `while` loop."
   ]
  },
  {
   "cell_type": "code",
   "execution_count": 9,
   "id": "14011b25-e674-4698-8f9a-fd51a0b48f6e",
   "metadata": {},
   "outputs": [
    {
     "name": "stdout",
     "output_type": "stream",
     "text": [
      "2\n",
      "4\n",
      "6\n",
      "8\n"
     ]
    }
   ],
   "source": [
    "for iterator in range(2, 10, 2):\n",
    "    print(iterator)"
   ]
  },
  {
   "cell_type": "code",
   "execution_count": 10,
   "id": "8889b4a8-95ab-4135-97be-5d720c120cbd",
   "metadata": {},
   "outputs": [
    {
     "name": "stdin",
     "output_type": "stream",
     "text": [
      "What do you want to print? Coding is fun\n",
      "How many times do you want to print? 3\n"
     ]
    },
    {
     "name": "stdout",
     "output_type": "stream",
     "text": [
      "Coding is fun\n",
      "Coding is fun\n",
      "Coding is fun\n"
     ]
    }
   ],
   "source": [
    "what_to_print = input('What do you want to print?')\n",
    "times_to_print = int(input('How many times do you want to print?'))\n",
    "\n",
    "for num in range(times_to_print):\n",
    "    print(what_to_print)"
   ]
  },
  {
   "cell_type": "code",
   "execution_count": 11,
   "id": "d79c93d3-42d0-4fe5-a674-3420122d1927",
   "metadata": {},
   "outputs": [
    {
     "name": "stdout",
     "output_type": "stream",
     "text": [
      "50\n",
      "Number of tries it took to get 50 randomly : 81\n"
     ]
    }
   ],
   "source": [
    "import random\n",
    "\n",
    "num = random.randint(0, 100)\n",
    "num_tries = 0\n",
    "\n",
    "while(num != 50):\n",
    "    num = random.randint(0,100)\n",
    "    num_tries += 1 # This is a shortcut for saying 'num_tries = num_tries + 1'\n",
    "    \n",
    "print(num)\n",
    "print('Number of tries it took to get 50 randomly :', num_tries)"
   ]
  },
  {
   "cell_type": "markdown",
   "id": "f902df85-d92b-4f87-a140-0bb2e403cf47",
   "metadata": {},
   "source": [
    "# Collections"
   ]
  },
  {
   "cell_type": "markdown",
   "id": "60b745db-ab3c-465d-9896-2dfe707d8355",
   "metadata": {},
   "source": [
    "A **<span style='color:blue'>collection</span>** is a category of data types that can be broken up into smaller pieces. Think like a puzzle is in itself its own *thing* but its made up of smaller piece *things*."
   ]
  },
  {
   "cell_type": "markdown",
   "id": "13c79cc2-c8e8-4247-9190-70adbd641f97",
   "metadata": {},
   "source": [
    "<center><img src=\"https://contactcenter4all.com/wp-content/uploads/2020/01/AdobeStock_291098376-1-scaled.jpeg\" width=\"600\" height=\"600\" />"
   ]
  },
  {
   "cell_type": "markdown",
   "id": "c94ccab0-a0a4-4578-a023-7899b2d819e4",
   "metadata": {},
   "source": [
    "For any of the data types that fall under the **collection** category, we can access each of the individual pieces as well. The way that we do that depends on whether the collection is **<span style='color:blue'>ordered</span>** (the order of the inside pieces/elements matters and doesn't change unless you explicitely tell it to) or **<span style='color:blue'>unordered</span>** (the order of the inside pieces/elements doesn't matter and it might change on its own as the computer does back-end computer stuff). "
   ]
  },
  {
   "cell_type": "markdown",
   "id": "80338f1d-8508-45f6-8027-fa3b76ca4c49",
   "metadata": {},
   "source": [
    "The way that these collection behave also depends on whether they are **<span style='color:blue'>mutable</span>** (you can change the collection) or **<span style='color:blue'>immutable</span>** (you can't change the collection). "
   ]
  },
  {
   "cell_type": "markdown",
   "id": "c3a7ec11-d502-42b8-8607-44dd270d8de4",
   "metadata": {},
   "source": [
    "______________________"
   ]
  },
  {
   "cell_type": "markdown",
   "id": "64e04e83-20fe-4b75-b172-c19aa8362939",
   "metadata": {},
   "source": [
    "# Strings as Collections"
   ]
  },
  {
   "cell_type": "markdown",
   "id": "7f505bfa-6168-4602-9306-50fcf64c32cf",
   "metadata": {},
   "source": [
    "We've actually already been working with a data type that falls into the collection category: **strings**. Any string that has more than one character is actually a *collection* of characters, each of which could be considered its own string. Together, they make up one big string."
   ]
  },
  {
   "cell_type": "code",
   "execution_count": 3,
   "id": "e95f1930-22e4-45ff-8c12-0ed3dddf9138",
   "metadata": {},
   "outputs": [
    {
     "name": "stdout",
     "output_type": "stream",
     "text": [
      "hello world\n"
     ]
    }
   ],
   "source": [
    "my_string = 'h' + 'e' + 'l' + 'l' + 'o' + ' ' + 'w' + 'o' + 'r' + 'l' + 'd'\n",
    "print(my_string)"
   ]
  },
  {
   "cell_type": "code",
   "execution_count": 5,
   "id": "8452c535-eea4-481a-88c2-2491921bc083",
   "metadata": {},
   "outputs": [
    {
     "name": "stdout",
     "output_type": "stream",
     "text": [
      "<class 'str'>\n",
      "<class 'str'>\n"
     ]
    }
   ],
   "source": [
    "print(type('h'))\n",
    "print(type(my_string))"
   ]
  },
  {
   "cell_type": "markdown",
   "id": "4dea8cd3-b3d3-490a-acd1-4b650242b64b",
   "metadata": {},
   "source": [
    "So we can either treat a string as one whole *thing*, or we can dig in deeper into the individual **<span style='color:blue'>elements</span>** that it is made of."
   ]
  },
  {
   "cell_type": "markdown",
   "id": "e7b45a72-ffa9-40ad-8a1d-34a4ec84a801",
   "metadata": {},
   "source": [
    "* **Elements** : The smaller pieces that make up a collection"
   ]
  },
  {
   "cell_type": "markdown",
   "id": "8a9f8c68-c1bb-457a-be93-84b11cfad671",
   "metadata": {},
   "source": [
    "### String Indexing"
   ]
  },
  {
   "cell_type": "markdown",
   "id": "1278fe21-913a-47e7-b60d-9fd5405532ff",
   "metadata": {},
   "source": [
    "Strings are **ordered**, so we know that a character is always going to be in the same place until we explicitely move it. If we want to access an internal piece/element/character, we just have to ask for what is at a specific location. That location is what is called an **<span style='color:blue'>index</span>**."
   ]
  },
  {
   "cell_type": "markdown",
   "id": "e4aa704d-a951-47e5-8f92-63afd984d536",
   "metadata": {},
   "source": [
    "* **Index** : The location of an element in a collection. Indexes always start at 0, and they can be positive (relative to the front of the collection) or negative (relative to the back of the collection)."
   ]
  },
  {
   "cell_type": "markdown",
   "id": "70516947-4b21-4dee-8b7a-3b7621d05ed2",
   "metadata": {},
   "source": [
    "<center><img src=\"https://th.bing.com/th/id/R.8a011251950016db0c1cadb04bdc6d2e?rik=sUIFQM%2fkfPGXaw&pid=ImgRaw&r=0\" width=\"600\" height=\"600\" />"
   ]
  },
  {
   "cell_type": "markdown",
   "id": "028b0dd1-55bc-456c-bd1a-6b0539f074fc",
   "metadata": {},
   "source": [
    "The syntax for indexing is: \n",
    "\n",
    "`string_name[index]`\n",
    "\n",
    "We use brackets (`[]`) which shows that it is different than when we are calling a command (e.g. `print()`) which use parenthesis."
   ]
  },
  {
   "cell_type": "code",
   "execution_count": 6,
   "id": "20cfd46d-0ebd-49da-9883-fa46f273e5ec",
   "metadata": {},
   "outputs": [
    {
     "name": "stdout",
     "output_type": "stream",
     "text": [
      "h\n",
      "i\n",
      "i\n"
     ]
    }
   ],
   "source": [
    "my_string = 'hi there!'\n",
    "\n",
    "print(my_string[0])\n",
    "print(my_string[1])\n",
    "print(my_string[-8])"
   ]
  },
  {
   "cell_type": "markdown",
   "id": "89f24d5e-7e92-4259-b745-4f0c8ac03335",
   "metadata": {},
   "source": [
    "**<span style='color:orange'>NOTE</span>** : When going backwards it does not start at 0, because there is no such thing as -0"
   ]
  },
  {
   "cell_type": "code",
   "execution_count": 7,
   "id": "78436383-83c2-44de-b7ac-a3ab89233ae8",
   "metadata": {},
   "outputs": [
    {
     "data": {
      "text/plain": [
       "'h'"
      ]
     },
     "execution_count": 7,
     "metadata": {},
     "output_type": "execute_result"
    }
   ],
   "source": [
    "my_string[-0] # -0 just evaluates to 0, and picks the first item"
   ]
  },
  {
   "cell_type": "markdown",
   "id": "765e774c-6761-4e05-9933-a981fc54e578",
   "metadata": {},
   "source": [
    "We can also get several of the internal pieces at once, using something called **<span style='color:blue'>slicing</span>**, where we specify the beginning and end locations of the group of elements that we want. The syntax for string slicing is:\n",
    "\n",
    "`string_name[start_index:end_index]`"
   ]
  },
  {
   "cell_type": "markdown",
   "id": "cb3f9252-d423-4102-a141-9955b7288b2d",
   "metadata": {},
   "source": [
    "<center><img src=\"https://qph.fs.quoracdn.net/main-qimg-6400819662432f726e2b29e2dd40b646\" width=\"600\" height=\"600\" />"
   ]
  },
  {
   "cell_type": "markdown",
   "id": "34d7c43e-bfe1-43fe-9514-df9fe632ae8f",
   "metadata": {},
   "source": [
    "**<span style='color:orange'>NOTE</span>** : Just like with `range` when we were making `for` loops, the `end_index` value indicates that the slice should stop *right before* that index. So the element at the `end_index` value will not be included in the result."
   ]
  },
  {
   "cell_type": "markdown",
   "id": "9896e36e-eb49-40a7-a358-f13420322969",
   "metadata": {},
   "source": [
    "**<span style='color:orange'>NOTE</span>** : an empty space (see index 5 above) is still a character!"
   ]
  },
  {
   "cell_type": "code",
   "execution_count": 8,
   "id": "1b4051c7-e89c-45d8-bf06-c6853db6ea6b",
   "metadata": {},
   "outputs": [],
   "source": [
    "# How would we get the string 'Monty' out of the full string 'Monty Python'\n",
    "# using positive indexes?"
   ]
  },
  {
   "cell_type": "code",
   "execution_count": 9,
   "id": "3ccf6296-d5c1-4335-abac-a45f780e02e4",
   "metadata": {},
   "outputs": [],
   "source": [
    "# How would we get the string 'Python' out of the full string 'Monty Python'\n",
    "# using negative indexes?"
   ]
  },
  {
   "cell_type": "markdown",
   "id": "dd299868-8154-4804-ad1c-5da03b94a287",
   "metadata": {},
   "source": [
    "### Iterating Over Elements of a String"
   ]
  },
  {
   "cell_type": "markdown",
   "id": "b5be755d-f12b-49ec-8a2c-5e2449197329",
   "metadata": {},
   "source": [
    "Since a string is made up of multiple individual elements, we can iterate through its individual elements in a `for` loop. So instead of looping through numbers like we did with `range()`, now we are looping through characters.\n",
    "\n",
    "We can then adjust our syntax for the `for` loop to be more general:\n",
    "\n",
    "```\n",
    "for item in something_that_can_be_iterated:\n",
    "    # Do this thing\n",
    "    # invisible line where the computer moves to the next item\n",
    "```"
   ]
  },
  {
   "cell_type": "markdown",
   "id": "1bf655a7-5224-463e-90e4-31364db93b55",
   "metadata": {},
   "source": [
    "Thinking back to when we used `range(start, stop, step)`, range was a **collection** of items that started with an element that had value equal to `start` and then every other item it included in the collection was the next value increased by `step` up to and not including the `stop` value. \n",
    "\n",
    "Now our `something_that_can_be_iterated` is just a collection of characters aka a string:"
   ]
  },
  {
   "cell_type": "code",
   "execution_count": 12,
   "id": "1f8355bf-1dbd-4338-ae44-bd3d848c2451",
   "metadata": {},
   "outputs": [
    {
     "name": "stdout",
     "output_type": "stream",
     "text": [
      "h\n",
      "e\n",
      "l\n",
      "l\n",
      "o\n",
      " \n",
      "w\n",
      "o\n",
      "r\n",
      "l\n",
      "d\n"
     ]
    }
   ],
   "source": [
    "for char in 'hello world':\n",
    "    print(char)"
   ]
  },
  {
   "cell_type": "markdown",
   "id": "ecdd4748-fbf7-467d-9538-d1fcebb30add",
   "metadata": {},
   "source": [
    "Just like when we were using numbers, we can use a variable in the `for` loop:"
   ]
  },
  {
   "cell_type": "code",
   "execution_count": 13,
   "id": "7296ad9a-1afa-4676-8f6a-f922d02e81f6",
   "metadata": {},
   "outputs": [
    {
     "name": "stdout",
     "output_type": "stream",
     "text": [
      "h\n",
      "e\n",
      "l\n",
      "l\n",
      "o\n",
      " \n",
      "w\n",
      "o\n",
      "r\n",
      "l\n",
      "d\n"
     ]
    }
   ],
   "source": [
    "my_string = 'hello world'\n",
    "\n",
    "for char in my_string:\n",
    "    print(char)"
   ]
  },
  {
   "cell_type": "markdown",
   "id": "c47531b1-6915-46d0-b355-9d780f7f209a",
   "metadata": {},
   "source": [
    "If you wanted to still loop through numbers, you could loop through the **indices** of the string instead. But how do you know how many times to go through the loop? We can get number of characters in the string (aka its length) by using the `len()` command:"
   ]
  },
  {
   "cell_type": "code",
   "execution_count": 14,
   "id": "843efa70-6edd-48db-9560-377a521f4da7",
   "metadata": {},
   "outputs": [
    {
     "data": {
      "text/plain": [
       "11"
      ]
     },
     "execution_count": 14,
     "metadata": {},
     "output_type": "execute_result"
    }
   ],
   "source": [
    "len('hello world')"
   ]
  },
  {
   "cell_type": "code",
   "execution_count": 15,
   "id": "c1b9c0d4-5513-45f6-b4fc-3360fc07f180",
   "metadata": {},
   "outputs": [
    {
     "name": "stdout",
     "output_type": "stream",
     "text": [
      "h\n",
      "e\n",
      "l\n",
      "l\n",
      "o\n",
      " \n",
      "w\n",
      "o\n",
      "r\n",
      "l\n",
      "d\n"
     ]
    }
   ],
   "source": [
    "my_string = 'hello world'\n",
    "\n",
    "for index in range(len(my_string)):\n",
    "    print(my_string[index])"
   ]
  },
  {
   "cell_type": "markdown",
   "id": "14520dd5-b92a-463b-8a52-a8a7fb4f6ae9",
   "metadata": {},
   "source": [
    "Or, if you are writing a program where you are going to need both the individual elements as well as their index positions, you can use the `enumerate()` command:"
   ]
  },
  {
   "cell_type": "code",
   "execution_count": 16,
   "id": "ec2167f9-a6d4-4d79-9966-31ede496c6d8",
   "metadata": {},
   "outputs": [
    {
     "name": "stdout",
     "output_type": "stream",
     "text": [
      "The element h is at index 0\n",
      "The element e is at index 1\n",
      "The element l is at index 2\n",
      "The element l is at index 3\n",
      "The element o is at index 4\n",
      "The element   is at index 5\n",
      "The element w is at index 6\n",
      "The element o is at index 7\n",
      "The element r is at index 8\n",
      "The element l is at index 9\n",
      "The element d is at index 10\n"
     ]
    }
   ],
   "source": [
    "for index, element in enumerate(my_string):\n",
    "    print('The element', element, 'is at index', index)"
   ]
  },
  {
   "cell_type": "markdown",
   "id": "e6e63416-7a03-4f1c-b228-b293de7f4989",
   "metadata": {},
   "source": [
    "### Other Helpful String Commands and Operators"
   ]
  },
  {
   "cell_type": "markdown",
   "id": "990ea243-e8a9-47db-b7f7-a8bce3d0772f",
   "metadata": {},
   "source": [
    "When analyzing data that includes text data, often you will have to perform some kind of **data cleaning**. We'll learn more about this in a future class, but for now we'll talk about some commands that we can use with strings that will come in handy later on. "
   ]
  },
  {
   "cell_type": "markdown",
   "id": "af5ee3b9-0386-430e-a8ab-a419106b6d9d",
   "metadata": {},
   "source": [
    "<center><img src=\"https://www.gpg-callcenter.com/wp-content/uploads/articol.jpeg\" width=\"600\" height=\"600\" />"
   ]
  },
  {
   "cell_type": "markdown",
   "id": "e3217c9a-8a62-4782-b4f3-713808131c02",
   "metadata": {},
   "source": [
    "**<span style='color:orange'>NOTE</span>** : A lot of these commands are a different type of command called **<span style='color:blue'>methods</span>**. Methods are a little bit different than the commands we have been using so far, in that instead of putting the string inside of the parenthesis the whole command comes after the string with this syntax:\n",
    "\n",
    "`string.method_name(input, input2, input3, ...)`\n",
    "\n",
    "Don't worry too much about this difference for now. Both of these are commands. Just sometimes these commands are called on their own (e.g `print()`) and sometimes they are called attached to something like above. If you can't remember which command follows which format, you can google it. "
   ]
  },
  {
   "cell_type": "markdown",
   "id": "9641a32a-dc44-4f3c-8f43-6bf4c9901694",
   "metadata": {},
   "source": [
    "**<span style='color:orange'>NOTE</span>** : string are **immutable**. So even when you call commands on them, they will never change the original string. If you want to change something, you will have to make a whole new string (which is what a lot of these commands do). "
   ]
  },
  {
   "cell_type": "markdown",
   "id": "dfcd2743-705a-4c34-bfe0-6c7d13e9b1db",
   "metadata": {},
   "source": [
    "#### Upper and Lower Case"
   ]
  },
  {
   "cell_type": "markdown",
   "id": "a87083cb-a2c4-4259-b684-98f5dbc5862b",
   "metadata": {},
   "source": [
    "If you want to be able to check whether a string or a character in a string is in upper or lowercase, you can use the `isupper()` or `islower()` methods, which will return True if all of the characters in the string are upper or lower, respectively. These down't actually take in inputs, and instead act upon the string the command is attached to:"
   ]
  },
  {
   "cell_type": "code",
   "execution_count": 19,
   "id": "2ad9166c-ae12-40a5-b7b4-6e5e6a43d7d9",
   "metadata": {},
   "outputs": [
    {
     "data": {
      "text/plain": [
       "False"
      ]
     },
     "execution_count": 19,
     "metadata": {},
     "output_type": "execute_result"
    }
   ],
   "source": [
    "my_string = 'Hello World'\n",
    "my_string.isupper()"
   ]
  },
  {
   "cell_type": "code",
   "execution_count": 20,
   "id": "d26d6f44-45e2-4ae1-91de-f5c42c55a330",
   "metadata": {},
   "outputs": [
    {
     "data": {
      "text/plain": [
       "False"
      ]
     },
     "execution_count": 20,
     "metadata": {},
     "output_type": "execute_result"
    }
   ],
   "source": [
    "my_string.islower()"
   ]
  },
  {
   "cell_type": "code",
   "execution_count": 21,
   "id": "183856d0-63fa-4243-993f-e293edb533dd",
   "metadata": {},
   "outputs": [
    {
     "data": {
      "text/plain": [
       "True"
      ]
     },
     "execution_count": 21,
     "metadata": {},
     "output_type": "execute_result"
    }
   ],
   "source": [
    "'H'.isupper()"
   ]
  },
  {
   "cell_type": "markdown",
   "id": "8bc80042-6ee5-4846-acbd-8b598b8137fe",
   "metadata": {},
   "source": [
    "If we want to convert a string to all upper or all lower case, we can use the `upper()` or `lower()` string methods. Again, these don't take inputs but instead act upon the string they are attached to:"
   ]
  },
  {
   "cell_type": "code",
   "execution_count": 17,
   "id": "eaac039a-c3e4-48fc-8d3f-52790d74ac89",
   "metadata": {},
   "outputs": [
    {
     "name": "stdout",
     "output_type": "stream",
     "text": [
      "HELLO WORLD\n",
      "hello world\n"
     ]
    }
   ],
   "source": [
    "my_string = 'Hello World'\n",
    "\n",
    "print(my_string.upper())\n",
    "print(my_string.lower())"
   ]
  },
  {
   "cell_type": "code",
   "execution_count": 18,
   "id": "94835434-24ee-41f9-80b8-270f5316babe",
   "metadata": {},
   "outputs": [
    {
     "name": "stdout",
     "output_type": "stream",
     "text": [
      "Hello World\n"
     ]
    }
   ],
   "source": [
    "print(my_string) # See, the original string doesn't change! (immutable)"
   ]
  },
  {
   "cell_type": "code",
   "execution_count": null,
   "id": "b5048292-be13-43a6-8cb7-2380691b4485",
   "metadata": {
    "tags": []
   },
   "outputs": [],
   "source": [
    "# If we had to write out own code to convert a string to all lowercase\n",
    "# how would we do it?"
   ]
  },
  {
   "cell_type": "markdown",
   "id": "f65245fa-3d2a-470c-ae23-8a40c7588cf4",
   "metadata": {},
   "source": [
    "#### Checking If a String is Contained Within Another String"
   ]
  },
  {
   "cell_type": "markdown",
   "id": "af4750b7-bd05-4684-a40d-03189a16dee8",
   "metadata": {},
   "source": [
    "Just like we use `in` as part of the `for` loop syntax to iterate through the characters in a string, we can also use `in` to check whether one string is part of another string. It will return a boolean (True/False) - `True` if it is inside the other string, `False` if it is not inside the other string."
   ]
  },
  {
   "cell_type": "code",
   "execution_count": 27,
   "id": "0b96b472-9a0f-443a-8cca-1e7b82e00696",
   "metadata": {},
   "outputs": [
    {
     "data": {
      "text/plain": [
       "True"
      ]
     },
     "execution_count": 27,
     "metadata": {},
     "output_type": "execute_result"
    }
   ],
   "source": [
    "'hello' in 'hello world'"
   ]
  },
  {
   "cell_type": "markdown",
   "id": "7c66b7f3-b592-4c9e-ac9a-a17af532e34a",
   "metadata": {},
   "source": [
    "The opposite is true if we use `not in`:"
   ]
  },
  {
   "cell_type": "code",
   "execution_count": 28,
   "id": "2d256e91-0db9-4959-afc5-bbd19e942ceb",
   "metadata": {},
   "outputs": [
    {
     "data": {
      "text/plain": [
       "False"
      ]
     },
     "execution_count": 28,
     "metadata": {},
     "output_type": "execute_result"
    }
   ],
   "source": [
    "'hello' not in 'hello world'"
   ]
  },
  {
   "cell_type": "markdown",
   "id": "59020a34-da1f-4184-9bb7-2bf377e84fc4",
   "metadata": {},
   "source": [
    "__________________"
   ]
  },
  {
   "cell_type": "markdown",
   "id": "3a186383-8ed3-4d43-a0be-e5b8e4805943",
   "metadata": {},
   "source": [
    "# Break Time"
   ]
  },
  {
   "cell_type": "markdown",
   "id": "c130c744-4003-49c1-81e4-8691983605ed",
   "metadata": {},
   "source": [
    "<center><img src=\"https://media.tenor.co/images/8c567a4ee9782edbc0044aee1301511d/raw\" width=\"500\" height=\"500\" />"
   ]
  },
  {
   "cell_type": "markdown",
   "id": "e4e9b1f9-98d8-41dd-b198-0c0782969682",
   "metadata": {},
   "source": [
    "_______________"
   ]
  },
  {
   "cell_type": "markdown",
   "id": "a7749060-b2d9-4746-a262-bd805501e032",
   "metadata": {},
   "source": [
    "# List Collections "
   ]
  },
  {
   "cell_type": "markdown",
   "id": "a7110855-3c89-4a92-b5fa-b875c26e7ea1",
   "metadata": {},
   "source": [
    "So a string is basically a collection of characters. What if we need a collection of something else, like a collection of numbers or a collection or words instead of characters? For instance, say we are analyzing survey results and in those results there are 200 names. Do we have to create a new variable for every single one?"
   ]
  },
  {
   "cell_type": "code",
   "execution_count": null,
   "id": "80044659-2fd8-4b6e-bb4f-aaadca2a3a7d",
   "metadata": {},
   "outputs": [],
   "source": [
    "name1 = 'Matthew'\n",
    "name2 = 'Emily'\n",
    "name3 = 'Cynthia'\n",
    "..."
   ]
  },
  {
   "cell_type": "markdown",
   "id": "2297f35d-7964-4d36-abb4-e267e6aaa9a7",
   "metadata": {},
   "source": [
    "Thankfully, the answer is no. Instead, we have a data type that is just a general collection of basically anything! It is called a list."
   ]
  },
  {
   "cell_type": "markdown",
   "id": "75493a64-ff10-4c0b-86bf-50028ee1e9fd",
   "metadata": {},
   "source": [
    "<center><img src=\"https://media.istockphoto.com/vectors/shopping-list-in-supermarket-flat-illustration-vector-id484602535?k=6&m=484602535&s=612x612&w=0&h=WAJyWITxxWAPoH8SBXtOwuIfJvKIrFfgJjheEVtvAeE=\" width=\"400\" height=\"400\" />"
   ]
  },
  {
   "cell_type": "markdown",
   "id": "51c0d850-13b8-4c6b-8d56-f1bae36220b7",
   "metadata": {},
   "source": [
    "A list take the form : `[item1, item2, item3, ...]` where each item can be any other data type (even another list!). They also don't all have to be the same data type."
   ]
  },
  {
   "cell_type": "code",
   "execution_count": 51,
   "id": "00b2c286-4939-47c6-88dd-547411960f07",
   "metadata": {},
   "outputs": [
    {
     "data": {
      "text/plain": [
       "list"
      ]
     },
     "execution_count": 51,
     "metadata": {},
     "output_type": "execute_result"
    }
   ],
   "source": [
    "type(['Matthew', 'Emily', 'Cynthia', True, 2.5, 300])"
   ]
  },
  {
   "cell_type": "markdown",
   "id": "f8c766d0-1316-4d4e-a8eb-e77fcd2e05e7",
   "metadata": {},
   "source": [
    "When you create a list, you can either create one that already has info in it:"
   ]
  },
  {
   "cell_type": "code",
   "execution_count": 25,
   "id": "6ceba9de-e90d-4234-a321-32e682344cb0",
   "metadata": {},
   "outputs": [
    {
     "name": "stdout",
     "output_type": "stream",
     "text": [
      "['Matthew', 'Emily', 'Cynthia']\n"
     ]
    }
   ],
   "source": [
    "survey_names = ['Matthew', 'Emily', 'Cynthia']\n",
    "print(survey_names)"
   ]
  },
  {
   "cell_type": "markdown",
   "id": "9a80bfb9-f046-4fda-b853-2ef8a89e1b07",
   "metadata": {},
   "source": [
    "Or create an empty one that is ready to have stuff put inside of it:"
   ]
  },
  {
   "cell_type": "code",
   "execution_count": 26,
   "id": "9fc22b7c-9b0d-45c0-90ec-79f8d5cb9f96",
   "metadata": {},
   "outputs": [
    {
     "name": "stdout",
     "output_type": "stream",
     "text": [
      "[]\n"
     ]
    }
   ],
   "source": [
    "survey_responses = []\n",
    "print(survey_responses)"
   ]
  },
  {
   "cell_type": "code",
   "execution_count": null,
   "id": "79177c52-afbd-49e7-b3d1-4b03c8250464",
   "metadata": {},
   "outputs": [],
   "source": [
    "# How would we create a list called 'shopping_list' that contains all of the items \n",
    "# left to get in the list above?"
   ]
  },
  {
   "cell_type": "markdown",
   "id": "3385600e-b531-48de-94ca-1c207fc8e5ca",
   "metadata": {},
   "source": [
    "### List Indexing"
   ]
  },
  {
   "cell_type": "markdown",
   "id": "8fa50039-e0cb-4ea3-af34-946a2b9b857d",
   "metadata": {},
   "source": [
    "Just like a string, a list is **ordered**. That means we can get individual elements by their location like we did with strings! For lists the index refers to the position the item is at in the list. We can do the same slicing that we did with strings as well."
   ]
  },
  {
   "cell_type": "markdown",
   "id": "258a015f-8e0d-4110-bb1f-95efe7c222bd",
   "metadata": {},
   "source": [
    "<center><img src=\"https://i.ytimg.com/vi/KAXvMbD1Zac/maxresdefault.jpg\" width=\"600\" height=\"600\" />"
   ]
  },
  {
   "cell_type": "code",
   "execution_count": 36,
   "id": "0a67382b-a494-4d46-98ed-046a4e4bc627",
   "metadata": {},
   "outputs": [
    {
     "name": "stdout",
     "output_type": "stream",
     "text": [
      "Charles Jr.\n",
      "Marvin\n",
      "['Charles Jr.', 'Calvin']\n"
     ]
    }
   ],
   "source": [
    "customers = ['Charles Jr.', 'Calvin', 'Hobbes', 'Marvin']\n",
    "print(customers[0])\n",
    "print(customers[-1])\n",
    "print(customers[0:2]) # returns a list"
   ]
  },
  {
   "cell_type": "markdown",
   "id": "60225a0a-8fb1-4bbe-b33f-8f275e4c541b",
   "metadata": {},
   "source": [
    "### Lists with For Loops"
   ]
  },
  {
   "cell_type": "markdown",
   "id": "73a98f5d-a312-4dd3-98b1-9e019ba69ea6",
   "metadata": {},
   "source": [
    "Just like string, since lists are collections they can be iterated over. So we can use them in a `for` loop just like we use strings by either looping through the items themselves, the indexes of the elements using `len`, or both the indexes and items using `enumerate`:"
   ]
  },
  {
   "cell_type": "code",
   "execution_count": 29,
   "id": "b815db8b-7797-43d2-b09c-45f94931694a",
   "metadata": {},
   "outputs": [
    {
     "name": "stdout",
     "output_type": "stream",
     "text": [
      "spam\n",
      "egg\n",
      "bacon\n",
      "tomato\n",
      "ham\n",
      "lobster\n"
     ]
    }
   ],
   "source": [
    "shopping_list = ['spam', 'egg', 'bacon', 'tomato', 'ham', 'lobster']\n",
    "\n",
    "for item in shopping_list:\n",
    "    print(item)"
   ]
  },
  {
   "cell_type": "code",
   "execution_count": 30,
   "id": "bed9632a-871c-4e45-bd51-a35ea50b303c",
   "metadata": {},
   "outputs": [
    {
     "name": "stdout",
     "output_type": "stream",
     "text": [
      "spam\n",
      "egg\n",
      "bacon\n",
      "tomato\n",
      "ham\n",
      "lobster\n"
     ]
    }
   ],
   "source": [
    "for index in range(len(shopping_list)):\n",
    "    print(shopping_list[index])"
   ]
  },
  {
   "cell_type": "code",
   "execution_count": 31,
   "id": "66ad0b5e-6cd4-450a-9b54-f2d517c82aea",
   "metadata": {},
   "outputs": [
    {
     "name": "stdout",
     "output_type": "stream",
     "text": [
      "The element d is at index 0\n",
      "The element d is at index 1\n",
      "The element d is at index 2\n",
      "The element d is at index 3\n",
      "The element d is at index 4\n",
      "The element d is at index 5\n"
     ]
    }
   ],
   "source": [
    "for index, item in enumerate(shopping_list):\n",
    "    print('The element', element, 'is at index', index)"
   ]
  },
  {
   "cell_type": "markdown",
   "id": "7534f607-63ff-43a9-a82c-0f81242a0251",
   "metadata": {},
   "source": [
    "### List Operators"
   ]
  },
  {
   "cell_type": "markdown",
   "id": "3e3a3b38-9e0c-4606-b2a5-33ecc06bef82",
   "metadata": {},
   "source": [
    "Just like with strings, we can use the `+`, `in`, and `not in` operators with lists:"
   ]
  },
  {
   "cell_type": "code",
   "execution_count": 33,
   "id": "9fa27bdd-6601-49bf-b848-beb14e0c948c",
   "metadata": {},
   "outputs": [
    {
     "name": "stdout",
     "output_type": "stream",
     "text": [
      "['Satisfied', 'Not Satisfied', 'Neutral', 'Angry', 'Peeved', 'Satisfied', 'Overjoyed', 'Angry']\n"
     ]
    }
   ],
   "source": [
    "responses_from_survey_1 = [\n",
    "    \"Satisfied\",\n",
    "    \"Not Satisfied\",\n",
    "    \"Neutral\",\n",
    "    \"Angry\"\n",
    "]\n",
    "responses_from_survey_2 = [\n",
    "    \"Peeved\",\n",
    "    \"Satisfied\",\n",
    "    \"Overjoyed\",\n",
    "    \"Angry\"\n",
    "]\n",
    "\n",
    "all_survey_responses = responses_from_survey_1 + responses_from_survey_2\n",
    "\n",
    "print(all_survey_responses)"
   ]
  },
  {
   "cell_type": "code",
   "execution_count": 34,
   "id": "43c06977-4e8e-421f-93fe-2a2a78845acb",
   "metadata": {},
   "outputs": [
    {
     "data": {
      "text/plain": [
       "False"
      ]
     },
     "execution_count": 34,
     "metadata": {},
     "output_type": "execute_result"
    }
   ],
   "source": [
    "'Excited' in all_survey_responses"
   ]
  },
  {
   "cell_type": "code",
   "execution_count": 35,
   "id": "32518b19-3b3b-488f-8027-481151ed8f10",
   "metadata": {},
   "outputs": [
    {
     "data": {
      "text/plain": [
       "True"
      ]
     },
     "execution_count": 35,
     "metadata": {},
     "output_type": "execute_result"
    }
   ],
   "source": [
    "'Angry' in all_survey_responses"
   ]
  },
  {
   "cell_type": "markdown",
   "id": "9a71dcd5-4989-47b6-b399-a3046fc2b6eb",
   "metadata": {},
   "source": [
    "### Changing a List"
   ]
  },
  {
   "cell_type": "markdown",
   "id": "11746c8e-44a7-4558-ae92-dfffe2c897ab",
   "metadata": {},
   "source": [
    "Unlike strings, lists are **mutable**, which means that you can change them without having to make a whole new list. \n",
    "\n",
    "If we wanted to add an item to the end of a list, we can use the `append(item)` method:"
   ]
  },
  {
   "cell_type": "code",
   "execution_count": 37,
   "id": "bd8dbc65-96dc-4c1f-acf0-260a60e5fc6e",
   "metadata": {},
   "outputs": [
    {
     "name": "stdout",
     "output_type": "stream",
     "text": [
      "[9, 9.5, 3, 5.7, 10, 10, 6, 5]\n"
     ]
    }
   ],
   "source": [
    "ice_cream_ratings = [9, 9.5, 3, 5.7, 10, 10, 6]\n",
    "new_rating = 5\n",
    "ice_cream_ratings.append(5)\n",
    "print(ice_cream_ratings)"
   ]
  },
  {
   "cell_type": "markdown",
   "id": "bf379bd7-8671-4a91-a464-0c661d374934",
   "metadata": {},
   "source": [
    "If we wanted to put the item at a specific spot, we can use the `insert(index_to_put_item, item)` method:"
   ]
  },
  {
   "cell_type": "code",
   "execution_count": 41,
   "id": "6b562d3c-7bce-4998-aa8d-29e949ee3bad",
   "metadata": {},
   "outputs": [
    {
     "name": "stdout",
     "output_type": "stream",
     "text": [
      "['Leonardo', 'Michelangelo', 'Raphael', 'Donatello']\n"
     ]
    }
   ],
   "source": [
    "student_line_order = ['Leonardo', 'Raphael', 'Donatello']\n",
    "new_student = 'Michelangelo'\n",
    "\n",
    "student_line_order.insert(1, new_student)\n",
    "print(student_line_order)"
   ]
  },
  {
   "cell_type": "markdown",
   "id": "783e5a3a-68ad-4109-adf9-786a76d2c8c3",
   "metadata": {},
   "source": [
    "If we want to delete an element of the list, we can use the `del` keyword. \n",
    "\n",
    "**<span style='color:orange'>NOTE</span>** : This is kind of weird because this command doesn't use parenthesis like most commands. "
   ]
  },
  {
   "cell_type": "code",
   "execution_count": 45,
   "id": "d31859dd-c44c-4bb4-90c3-bb77efb5f39e",
   "metadata": {},
   "outputs": [
    {
     "name": "stdout",
     "output_type": "stream",
     "text": [
      "[250000, 423000]\n"
     ]
    }
   ],
   "source": [
    "yearly_revenues = [250000, 270500, 345780, 423000]\n",
    "\n",
    "del yearly_revenues[1:3]\n",
    "\n",
    "print(yearly_revenues)"
   ]
  },
  {
   "cell_type": "code",
   "execution_count": null,
   "id": "638aabb4-b02c-43d2-ac26-6325d9376935",
   "metadata": {},
   "outputs": [],
   "source": [
    "# How could we create a shopping list by continually asking a user to input items?\n",
    "\n",
    "\n",
    "# Do the same for a list of 'items already purchased'\n",
    "\n",
    "\n",
    "# How would we make a new list of items that still need to be purchased?"
   ]
  },
  {
   "cell_type": "markdown",
   "id": "dc8b7485-d0c2-42c6-95f6-c9f1ff88033b",
   "metadata": {},
   "source": [
    "### Helpful List Commands"
   ]
  },
  {
   "cell_type": "markdown",
   "id": "37469fd4-7979-4001-823b-98c5d5522216",
   "metadata": {},
   "source": [
    "`min()` and `max()` are very helpful for determining the highest and lowest number in a list:"
   ]
  },
  {
   "cell_type": "code",
   "execution_count": 46,
   "id": "9c4d20f8-6212-457d-943e-d89393824c57",
   "metadata": {},
   "outputs": [
    {
     "name": "stdout",
     "output_type": "stream",
     "text": [
      "The minimum ice cream rating is 3\n",
      "The maximum ice cream rating is 10\n"
     ]
    }
   ],
   "source": [
    "ice_cream_ratings = [9, 9.5, 3, 5.7, 10, 10, 6]\n",
    "print('The minimum ice cream rating is', min(ice_cream_ratings))\n",
    "print('The maximum ice cream rating is', max(ice_cream_ratings))"
   ]
  },
  {
   "cell_type": "markdown",
   "id": "1c1adb71-73aa-4215-9713-46094f9604e0",
   "metadata": {},
   "source": [
    "`sort()` is very helpful for putting things in a list in either numeric or alphabetical order:"
   ]
  },
  {
   "cell_type": "code",
   "execution_count": 47,
   "id": "e72bb439-c442-4d6e-97a8-7848c56d70a9",
   "metadata": {},
   "outputs": [
    {
     "name": "stdout",
     "output_type": "stream",
     "text": [
      "[3, 5.7, 6, 9, 9.5, 10, 10]\n"
     ]
    }
   ],
   "source": [
    "ice_cream_ratings = [9, 9.5, 3, 5.7, 10, 10, 6]\n",
    "ice_cream_ratings.sort()\n",
    "print(ice_cream_ratings)"
   ]
  },
  {
   "cell_type": "code",
   "execution_count": 50,
   "id": "9741faa6-6847-4e9d-9a42-10edc83a15ef",
   "metadata": {},
   "outputs": [
    {
     "name": "stdout",
     "output_type": "stream",
     "text": [
      "['Analise', 'Bella', 'Cathy', 'Chase', 'Xander']\n"
     ]
    }
   ],
   "source": [
    "student_names = ['Xander', 'Analise', 'Chase', 'Cathy', 'Bella']\n",
    "student_names.sort()\n",
    "print(student_names)"
   ]
  },
  {
   "cell_type": "markdown",
   "id": "5d35fdde-8c84-469d-85c3-f3d46b1ab991",
   "metadata": {},
   "source": [
    "# So Many Commands!!"
   ]
  },
  {
   "cell_type": "markdown",
   "id": "e269d27e-3649-4b5a-b83b-81138e8ef8d3",
   "metadata": {},
   "source": [
    "We've gone over a lot of different commands so far. And in class we've only discussed a few of them! There are SO many more out there."
   ]
  },
  {
   "cell_type": "markdown",
   "id": "b3ad42ab-e560-4e08-8b3c-23b259587885",
   "metadata": {},
   "source": [
    "Don't worry, no one remembers all of these off the top of their head all of the time! If you forget the name or syntax of a command, google it! If you are trying to figure out if there is a command that does something you are wanting to do (there probably is...) look it up! "
   ]
  },
  {
   "cell_type": "markdown",
   "id": "ada1f313-114a-4027-98ca-e41edce32039",
   "metadata": {},
   "source": [
    "<center><img src=\"https://www.iphones.ru/wp-content/uploads/2016/09/programmers_in_google.jpg\" width=\"900\" height=\"900\" />"
   ]
  },
  {
   "cell_type": "markdown",
   "id": "7d0798de-274b-41f6-b032-d31fc3fbc18b",
   "metadata": {},
   "source": [
    "# Studio Time!"
   ]
  },
  {
   "cell_type": "markdown",
   "id": "82f02251-9478-4654-8b37-9f93fae3771a",
   "metadata": {},
   "source": [
    "Some guidelines for studios:\n",
    "\n",
    "* You will be with the same group for studio every week. Get to know each other and learn to work together!\n",
    "\n",
    "* This is a time for *students* to work together. It is best to see if together you can figure it out. If you are really stuck the TA can jump in with some tips/guidance. Team problem solving is something you will be doing often in your career.\n",
    "\n",
    "* Make mistakes! If you aren't making mistakes, you probably aren't learning. If you aren't comfortable making mistakes (especially in front of other people) this is a good time for you to practice because you will be doing this for the rest of your career 😁\n",
    "\n",
    "* Pick one person in your group to be the coder. That person should share their screen and be typing while everyone is problem solving together. Preferrably this person driving will be a different person every week.\n",
    "    - Each week this person should share the studio results with the rest of the studio group after class"
   ]
  }
 ],
 "metadata": {
  "kernelspec": {
   "display_name": "Python 3 (ipykernel)",
   "language": "python",
   "name": "python3"
  },
  "language_info": {
   "codemirror_mode": {
    "name": "ipython",
    "version": 3
   },
   "file_extension": ".py",
   "mimetype": "text/x-python",
   "name": "python",
   "nbconvert_exporter": "python",
   "pygments_lexer": "ipython3",
   "version": "3.8.8"
  }
 },
 "nbformat": 4,
 "nbformat_minor": 5
}
