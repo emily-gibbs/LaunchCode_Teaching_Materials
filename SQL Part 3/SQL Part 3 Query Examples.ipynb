{
    "metadata": {
        "kernelspec": {
            "name": "SQL",
            "display_name": "SQL",
            "language": "sql"
        },
        "language_info": {
            "name": "sql",
            "version": ""
        }
    },
    "nbformat_minor": 2,
    "nbformat": 4,
    "cells": [
        {
            "cell_type": "markdown",
            "source": [
                "**Inner Join**"
            ],
            "metadata": {
                "azdata_cell_guid": "2653e1b5-426d-48c2-ac5a-3980f65ee377"
            },
            "attachments": {}
        },
        {
            "cell_type": "code",
            "source": [
                "SELECT \r\n",
                "    TOP 30 b.title, b.average_rating, b.books_count, tr.user_id, tr.book_id\r\n",
                "FROM \r\n",
                "    BooksDB.dbo.books AS b --- aliases making out lives easier!\r\n",
                "INNER JOIN \r\n",
                "    BooksDB.dbo.to_read AS tr\r\n",
                "ON \r\n",
                "    b.book_id = tr.book_id"
            ],
            "metadata": {
                "azdata_cell_guid": "f9e43e05-18cf-44bd-b258-8c441ebe5c05",
                "language": "sql",
                "tags": []
            },
            "outputs": [
                {
                    "output_type": "display_data",
                    "data": {
                        "text/html": "(30 rows affected)"
                    },
                    "metadata": {}
                },
                {
                    "output_type": "display_data",
                    "data": {
                        "text/html": "Total execution time: 00:00:00.075"
                    },
                    "metadata": {}
                },
                {
                    "output_type": "execute_result",
                    "metadata": {},
                    "execution_count": 4,
                    "data": {
                        "application/vnd.dataresource+json": {
                            "schema": {
                                "fields": [
                                    {
                                        "name": "title"
                                    },
                                    {
                                        "name": "average_rating"
                                    },
                                    {
                                        "name": "books_count"
                                    },
                                    {
                                        "name": "user_id"
                                    },
                                    {
                                        "name": "book_id"
                                    }
                                ]
                            },
                            "data": [
                                {
                                    "0": "Children of Dune (Dune Chronicles #3)",
                                    "1": "3.9",
                                    "2": "116",
                                    "3": "1",
                                    "4": "112"
                                },
                                {
                                    "0": "The Hitchhiker's Guide to the Galaxy (Hitchhiker's Guide to the Galaxy, #1)",
                                    "1": "4.2",
                                    "2": "257",
                                    "3": "2",
                                    "4": "11"
                                },
                                {
                                    "0": "The Ultimate Hitchhiker's Guide to the Galaxy",
                                    "1": "4.37",
                                    "2": "32",
                                    "3": "2",
                                    "4": "13"
                                },
                                {
                                    "0": "Dune Messiah (Dune Chronicles #2)",
                                    "1": "3.86",
                                    "2": "140",
                                    "3": "2",
                                    "4": "106"
                                },
                                {
                                    "0": "The Iliad",
                                    "1": "3.83",
                                    "2": "1726",
                                    "3": "2",
                                    "4": "1371"
                                },
                                {
                                    "0": "Harry Potter Collection (Harry Potter, #1-6)",
                                    "1": "4.73",
                                    "2": "6",
                                    "3": "3",
                                    "4": "10"
                                },
                                {
                                    "0": "The Virtue of Selfishness: A New Concept of Egoism",
                                    "1": "3.47",
                                    "2": "53",
                                    "3": "5",
                                    "4": "665"
                                },
                                {
                                    "0": "Sherlock Holmes: The Complete Novels and Stories, Volume I",
                                    "1": "4.45",
                                    "2": "13",
                                    "3": "5",
                                    "4": "3581"
                                },
                                {
                                    "0": "The War of Art: Break Through the Blocks & Win Your Inner Creative Battles",
                                    "1": "4.07",
                                    "2": "29",
                                    "3": "6",
                                    "4": "1319"
                                },
                                {
                                    "0": "Harry Potter Collection (Harry Potter, #1-6)",
                                    "1": "4.73",
                                    "2": "6",
                                    "3": "7",
                                    "4": "10"
                                },
                                {
                                    "0": "The Pilgrimage",
                                    "1": "3.64",
                                    "2": "171",
                                    "3": "8",
                                    "4": "4004"
                                },
                                {
                                    "0": "Harry Potter Boxed Set, Books 1-5 (Harry Potter, #1-5)",
                                    "1": "4.77",
                                    "2": "11",
                                    "3": "9",
                                    "4": "8"
                                },
                                {
                                    "0": "Children of Dune (Dune Chronicles #3)",
                                    "1": "3.9",
                                    "2": "116",
                                    "3": "9",
                                    "4": "112"
                                },
                                {
                                    "0": "Icy Sparks",
                                    "1": "3.68",
                                    "2": "27",
                                    "3": "9",
                                    "4": "3476"
                                },
                                {
                                    "0": "Harry Potter and the Goblet of Fire (Harry Potter, #4)",
                                    "1": "4.53",
                                    "2": "332",
                                    "3": "10",
                                    "4": "6"
                                },
                                {
                                    "0": "Atlas Shrugged",
                                    "1": "3.68",
                                    "2": "147",
                                    "3": "10",
                                    "4": "662"
                                },
                                {
                                    "0": "Harry Potter and the Half-Blood Prince (Harry Potter, #6)",
                                    "1": "4.54",
                                    "2": "275",
                                    "3": "12",
                                    "4": "1"
                                },
                                {
                                    "0": "Sherlock Holmes: The Complete Novels and Stories, Volume I",
                                    "1": "4.45",
                                    "2": "13",
                                    "3": "14",
                                    "4": "3581"
                                },
                                {
                                    "0": "The Lover",
                                    "1": "3.76",
                                    "2": "148",
                                    "3": "15",
                                    "4": "275"
                                },
                                {
                                    "0": "The Good Soldier",
                                    "1": "3.72",
                                    "2": "362",
                                    "3": "20",
                                    "4": "7628"
                                },
                                {
                                    "0": "The Thorn Birds",
                                    "1": "4.22",
                                    "2": "201",
                                    "3": "26",
                                    "4": "3412"
                                },
                                {
                                    "0": "The Complete Sherlock Holmes, Vol 2",
                                    "1": "4.46",
                                    "2": "117",
                                    "3": "26",
                                    "4": "3586"
                                },
                                {
                                    "0": "The Dark Tower (The Dark Tower, #7)",
                                    "1": "4.27",
                                    "2": "105",
                                    "3": "26",
                                    "4": "5091"
                                },
                                {
                                    "0": "The Lord of the Rings: Weapons and Warfare",
                                    "1": "4.53",
                                    "2": "12",
                                    "3": "29",
                                    "4": "36"
                                },
                                {
                                    "0": "Slouching Towards Bethlehem",
                                    "1": "4.24",
                                    "2": "34",
                                    "3": "29",
                                    "4": "424"
                                },
                                {
                                    "0": "Atlas Shrugged",
                                    "1": "3.68",
                                    "2": "147",
                                    "3": "29",
                                    "4": "662"
                                },
                                {
                                    "0": "The Elegant Universe: Superstrings, Hidden Dimensions, and the Quest for the Ultimate Theory",
                                    "1": "4.06",
                                    "2": "75",
                                    "3": "29",
                                    "4": "771"
                                },
                                {
                                    "0": "The Known World",
                                    "1": "3.82",
                                    "2": "42",
                                    "3": "30",
                                    "4": "67"
                                },
                                {
                                    "0": "Tropic of Cancer",
                                    "1": "3.71",
                                    "2": "205",
                                    "3": "30",
                                    "4": "249"
                                },
                                {
                                    "0": "The Odyssey",
                                    "1": "3.73",
                                    "2": "1703",
                                    "3": "30",
                                    "4": "1381"
                                }
                            ]
                        },
                        "text/html": [
                            "<table>",
                            "<tr><th>title</th><th>average_rating</th><th>books_count</th><th>user_id</th><th>book_id</th></tr>",
                            "<tr><td>Children of Dune (Dune Chronicles #3)</td><td>3.9</td><td>116</td><td>1</td><td>112</td></tr>",
                            "<tr><td>The Hitchhiker's Guide to the Galaxy (Hitchhiker's Guide to the Galaxy, #1)</td><td>4.2</td><td>257</td><td>2</td><td>11</td></tr>",
                            "<tr><td>The Ultimate Hitchhiker's Guide to the Galaxy</td><td>4.37</td><td>32</td><td>2</td><td>13</td></tr>",
                            "<tr><td>Dune Messiah (Dune Chronicles #2)</td><td>3.86</td><td>140</td><td>2</td><td>106</td></tr>",
                            "<tr><td>The Iliad</td><td>3.83</td><td>1726</td><td>2</td><td>1371</td></tr>",
                            "<tr><td>Harry Potter Collection (Harry Potter, #1-6)</td><td>4.73</td><td>6</td><td>3</td><td>10</td></tr>",
                            "<tr><td>The Virtue of Selfishness: A New Concept of Egoism</td><td>3.47</td><td>53</td><td>5</td><td>665</td></tr>",
                            "<tr><td>Sherlock Holmes: The Complete Novels and Stories, Volume I</td><td>4.45</td><td>13</td><td>5</td><td>3581</td></tr>",
                            "<tr><td>The War of Art: Break Through the Blocks &amp; Win Your Inner Creative Battles</td><td>4.07</td><td>29</td><td>6</td><td>1319</td></tr>",
                            "<tr><td>Harry Potter Collection (Harry Potter, #1-6)</td><td>4.73</td><td>6</td><td>7</td><td>10</td></tr>",
                            "<tr><td>The Pilgrimage</td><td>3.64</td><td>171</td><td>8</td><td>4004</td></tr>",
                            "<tr><td>Harry Potter Boxed Set, Books 1-5 (Harry Potter, #1-5)</td><td>4.77</td><td>11</td><td>9</td><td>8</td></tr>",
                            "<tr><td>Children of Dune (Dune Chronicles #3)</td><td>3.9</td><td>116</td><td>9</td><td>112</td></tr>",
                            "<tr><td>Icy Sparks</td><td>3.68</td><td>27</td><td>9</td><td>3476</td></tr>",
                            "<tr><td>Harry Potter and the Goblet of Fire (Harry Potter, #4)</td><td>4.53</td><td>332</td><td>10</td><td>6</td></tr>",
                            "<tr><td>Atlas Shrugged</td><td>3.68</td><td>147</td><td>10</td><td>662</td></tr>",
                            "<tr><td>Harry Potter and the Half-Blood Prince (Harry Potter, #6)</td><td>4.54</td><td>275</td><td>12</td><td>1</td></tr>",
                            "<tr><td>Sherlock Holmes: The Complete Novels and Stories, Volume I</td><td>4.45</td><td>13</td><td>14</td><td>3581</td></tr>",
                            "<tr><td>The Lover</td><td>3.76</td><td>148</td><td>15</td><td>275</td></tr>",
                            "<tr><td>The Good Soldier</td><td>3.72</td><td>362</td><td>20</td><td>7628</td></tr>",
                            "<tr><td>The Thorn Birds</td><td>4.22</td><td>201</td><td>26</td><td>3412</td></tr>",
                            "<tr><td>The Complete Sherlock Holmes, Vol 2</td><td>4.46</td><td>117</td><td>26</td><td>3586</td></tr>",
                            "<tr><td>The Dark Tower (The Dark Tower, #7)</td><td>4.27</td><td>105</td><td>26</td><td>5091</td></tr>",
                            "<tr><td>The Lord of the Rings: Weapons and Warfare</td><td>4.53</td><td>12</td><td>29</td><td>36</td></tr>",
                            "<tr><td>Slouching Towards Bethlehem</td><td>4.24</td><td>34</td><td>29</td><td>424</td></tr>",
                            "<tr><td>Atlas Shrugged</td><td>3.68</td><td>147</td><td>29</td><td>662</td></tr>",
                            "<tr><td>The Elegant Universe: Superstrings, Hidden Dimensions, and the Quest for the Ultimate Theory</td><td>4.06</td><td>75</td><td>29</td><td>771</td></tr>",
                            "<tr><td>The Known World</td><td>3.82</td><td>42</td><td>30</td><td>67</td></tr>",
                            "<tr><td>Tropic of Cancer</td><td>3.71</td><td>205</td><td>30</td><td>249</td></tr>",
                            "<tr><td>The Odyssey</td><td>3.73</td><td>1703</td><td>30</td><td>1381</td></tr>",
                            "</table>"
                        ]
                    }
                }
            ],
            "execution_count": 4
        },
        {
            "cell_type": "markdown",
            "source": [
                "**Full Join**"
            ],
            "metadata": {
                "language": "sql",
                "azdata_cell_guid": "0dbc29c7-3977-41aa-8d0a-9007bca6b407"
            },
            "attachments": {}
        },
        {
            "cell_type": "code",
            "source": [
                "SELECT \r\n",
                "    TOP 30 b.title, tr.user_id, tr.book_id\r\n",
                "FROM \r\n",
                "    BooksDB.dbo.books AS b\r\n",
                "FULL JOIN\r\n",
                "    BooksDB.dbo.to_read AS tr\r\n",
                "ON \r\n",
                "    b.book_id = tr.book_id"
            ],
            "metadata": {
                "language": "sql",
                "azdata_cell_guid": "f8dcb3e5-4cc2-486b-992b-204838e8ea55",
                "tags": []
            },
            "outputs": [
                {
                    "output_type": "display_data",
                    "data": {
                        "text/html": "(30 rows affected)"
                    },
                    "metadata": {}
                },
                {
                    "output_type": "display_data",
                    "data": {
                        "text/html": "Total execution time: 00:00:00.063"
                    },
                    "metadata": {}
                },
                {
                    "output_type": "execute_result",
                    "metadata": {},
                    "execution_count": 5,
                    "data": {
                        "application/vnd.dataresource+json": {
                            "schema": {
                                "fields": [
                                    {
                                        "name": "title"
                                    },
                                    {
                                        "name": "user_id"
                                    },
                                    {
                                        "name": "book_id"
                                    }
                                ]
                            },
                            "data": [
                                {
                                    "0": "Children of Dune (Dune Chronicles #3)",
                                    "1": "1",
                                    "2": "112"
                                },
                                {
                                    "0": "NULL",
                                    "1": "1",
                                    "2": "235"
                                },
                                {
                                    "0": "NULL",
                                    "1": "1",
                                    "2": "533"
                                },
                                {
                                    "0": "NULL",
                                    "1": "1",
                                    "2": "1198"
                                },
                                {
                                    "0": "NULL",
                                    "1": "1",
                                    "2": "1874"
                                },
                                {
                                    "0": "NULL",
                                    "1": "1",
                                    "2": "2058"
                                },
                                {
                                    "0": "NULL",
                                    "1": "1",
                                    "2": "3334"
                                },
                                {
                                    "0": "NULL",
                                    "1": "2",
                                    "2": "4"
                                },
                                {
                                    "0": "The Hitchhiker's Guide to the Galaxy (Hitchhiker's Guide to the Galaxy, #1)",
                                    "1": "2",
                                    "2": "11"
                                },
                                {
                                    "0": "The Ultimate Hitchhiker's Guide to the Galaxy",
                                    "1": "2",
                                    "2": "13"
                                },
                                {
                                    "0": "NULL",
                                    "1": "2",
                                    "2": "16"
                                },
                                {
                                    "0": "NULL",
                                    "1": "2",
                                    "2": "92"
                                },
                                {
                                    "0": "Dune Messiah (Dune Chronicles #2)",
                                    "1": "2",
                                    "2": "106"
                                },
                                {
                                    "0": "NULL",
                                    "1": "2",
                                    "2": "113"
                                },
                                {
                                    "0": "NULL",
                                    "1": "2",
                                    "2": "233"
                                },
                                {
                                    "0": "NULL",
                                    "1": "2",
                                    "2": "247"
                                },
                                {
                                    "0": "NULL",
                                    "1": "2",
                                    "2": "380"
                                },
                                {
                                    "0": "NULL",
                                    "1": "2",
                                    "2": "408"
                                },
                                {
                                    "0": "NULL",
                                    "1": "2",
                                    "2": "439"
                                },
                                {
                                    "0": "NULL",
                                    "1": "2",
                                    "2": "479"
                                },
                                {
                                    "0": "NULL",
                                    "1": "2",
                                    "2": "516"
                                },
                                {
                                    "0": "NULL",
                                    "1": "2",
                                    "2": "619"
                                },
                                {
                                    "0": "NULL",
                                    "1": "2",
                                    "2": "1069"
                                },
                                {
                                    "0": "The Iliad",
                                    "1": "2",
                                    "2": "1371"
                                },
                                {
                                    "0": "NULL",
                                    "1": "2",
                                    "2": "1384"
                                },
                                {
                                    "0": "NULL",
                                    "1": "2",
                                    "2": "1597"
                                },
                                {
                                    "0": "NULL",
                                    "1": "2",
                                    "2": "1926"
                                },
                                {
                                    "0": "NULL",
                                    "1": "2",
                                    "2": "1967"
                                },
                                {
                                    "0": "NULL",
                                    "1": "2",
                                    "2": "1969"
                                },
                                {
                                    "0": "NULL",
                                    "1": "2",
                                    "2": "2220"
                                }
                            ]
                        },
                        "text/html": [
                            "<table>",
                            "<tr><th>title</th><th>user_id</th><th>book_id</th></tr>",
                            "<tr><td>Children of Dune (Dune Chronicles #3)</td><td>1</td><td>112</td></tr>",
                            "<tr><td>NULL</td><td>1</td><td>235</td></tr>",
                            "<tr><td>NULL</td><td>1</td><td>533</td></tr>",
                            "<tr><td>NULL</td><td>1</td><td>1198</td></tr>",
                            "<tr><td>NULL</td><td>1</td><td>1874</td></tr>",
                            "<tr><td>NULL</td><td>1</td><td>2058</td></tr>",
                            "<tr><td>NULL</td><td>1</td><td>3334</td></tr>",
                            "<tr><td>NULL</td><td>2</td><td>4</td></tr>",
                            "<tr><td>The Hitchhiker's Guide to the Galaxy (Hitchhiker's Guide to the Galaxy, #1)</td><td>2</td><td>11</td></tr>",
                            "<tr><td>The Ultimate Hitchhiker's Guide to the Galaxy</td><td>2</td><td>13</td></tr>",
                            "<tr><td>NULL</td><td>2</td><td>16</td></tr>",
                            "<tr><td>NULL</td><td>2</td><td>92</td></tr>",
                            "<tr><td>Dune Messiah (Dune Chronicles #2)</td><td>2</td><td>106</td></tr>",
                            "<tr><td>NULL</td><td>2</td><td>113</td></tr>",
                            "<tr><td>NULL</td><td>2</td><td>233</td></tr>",
                            "<tr><td>NULL</td><td>2</td><td>247</td></tr>",
                            "<tr><td>NULL</td><td>2</td><td>380</td></tr>",
                            "<tr><td>NULL</td><td>2</td><td>408</td></tr>",
                            "<tr><td>NULL</td><td>2</td><td>439</td></tr>",
                            "<tr><td>NULL</td><td>2</td><td>479</td></tr>",
                            "<tr><td>NULL</td><td>2</td><td>516</td></tr>",
                            "<tr><td>NULL</td><td>2</td><td>619</td></tr>",
                            "<tr><td>NULL</td><td>2</td><td>1069</td></tr>",
                            "<tr><td>The Iliad</td><td>2</td><td>1371</td></tr>",
                            "<tr><td>NULL</td><td>2</td><td>1384</td></tr>",
                            "<tr><td>NULL</td><td>2</td><td>1597</td></tr>",
                            "<tr><td>NULL</td><td>2</td><td>1926</td></tr>",
                            "<tr><td>NULL</td><td>2</td><td>1967</td></tr>",
                            "<tr><td>NULL</td><td>2</td><td>1969</td></tr>",
                            "<tr><td>NULL</td><td>2</td><td>2220</td></tr>",
                            "</table>"
                        ]
                    }
                }
            ],
            "execution_count": 5
        },
        {
            "cell_type": "code",
            "source": [
                "SELECT *\r\n",
                "FROM BooksDB.dbo.books\r\n",
                "WHERE book_id = 235"
            ],
            "metadata": {
                "language": "sql",
                "azdata_cell_guid": "d4d5c307-61e5-4aa7-95bd-8aa9b1858689"
            },
            "outputs": [
                {
                    "output_type": "display_data",
                    "data": {
                        "text/html": "(0 rows affected)"
                    },
                    "metadata": {}
                },
                {
                    "output_type": "display_data",
                    "data": {
                        "text/html": "Total execution time: 00:00:00.064"
                    },
                    "metadata": {}
                },
                {
                    "output_type": "execute_result",
                    "metadata": {},
                    "execution_count": 6,
                    "data": {
                        "application/vnd.dataresource+json": {
                            "schema": {
                                "fields": [
                                    {
                                        "name": "id"
                                    },
                                    {
                                        "name": "book_id"
                                    },
                                    {
                                        "name": "best_book_id"
                                    },
                                    {
                                        "name": "work_id"
                                    },
                                    {
                                        "name": "books_count"
                                    },
                                    {
                                        "name": "isbn"
                                    },
                                    {
                                        "name": "isbn13"
                                    },
                                    {
                                        "name": "authors"
                                    },
                                    {
                                        "name": "original_publication_year"
                                    },
                                    {
                                        "name": "original_title"
                                    },
                                    {
                                        "name": "title"
                                    },
                                    {
                                        "name": "language_code"
                                    },
                                    {
                                        "name": "average_rating"
                                    },
                                    {
                                        "name": "ratings_count"
                                    },
                                    {
                                        "name": "work_ratings_count"
                                    },
                                    {
                                        "name": "work_text_reviews_count"
                                    },
                                    {
                                        "name": "ratings_1"
                                    },
                                    {
                                        "name": "ratings_2"
                                    },
                                    {
                                        "name": "ratings_3"
                                    },
                                    {
                                        "name": "ratings_4"
                                    },
                                    {
                                        "name": "ratings_5"
                                    },
                                    {
                                        "name": "image_url"
                                    },
                                    {
                                        "name": "small_image_url"
                                    }
                                ]
                            },
                            "data": []
                        },
                        "text/html": [
                            "<table>",
                            "<tr><th>id</th><th>book_id</th><th>best_book_id</th><th>work_id</th><th>books_count</th><th>isbn</th><th>isbn13</th><th>authors</th><th>original_publication_year</th><th>original_title</th><th>title</th><th>language_code</th><th>average_rating</th><th>ratings_count</th><th>work_ratings_count</th><th>work_text_reviews_count</th><th>ratings_1</th><th>ratings_2</th><th>ratings_3</th><th>ratings_4</th><th>ratings_5</th><th>image_url</th><th>small_image_url</th></tr>",
                            "</table>"
                        ]
                    }
                }
            ],
            "execution_count": 6
        },
        {
            "cell_type": "code",
            "source": [
                "SELECT \r\n",
                "    TOP 30 b.title, tr.user_id, tr.book_id\r\n",
                "FROM \r\n",
                "    BooksDB.dbo.books AS b\r\n",
                "FULL JOIN\r\n",
                "    BooksDB.dbo.to_read AS tr\r\n",
                "ON \r\n",
                "    b.book_id = tr.book_id\r\n",
                "WHERE \r\n",
                "    tr.user_id IS NULL"
            ],
            "metadata": {
                "language": "sql",
                "azdata_cell_guid": "362a765a-0b60-4f12-af02-219b873c9bd2",
                "tags": []
            },
            "outputs": [
                {
                    "output_type": "display_data",
                    "data": {
                        "text/html": "(30 rows affected)"
                    },
                    "metadata": {}
                },
                {
                    "output_type": "display_data",
                    "data": {
                        "text/html": "Total execution time: 00:00:00.285"
                    },
                    "metadata": {}
                },
                {
                    "output_type": "execute_result",
                    "metadata": {},
                    "execution_count": 7,
                    "data": {
                        "application/vnd.dataresource+json": {
                            "schema": {
                                "fields": [
                                    {
                                        "name": "title"
                                    },
                                    {
                                        "name": "user_id"
                                    },
                                    {
                                        "name": "book_id"
                                    }
                                ]
                            },
                            "data": [
                                {
                                    "0": "Fish in a Tree",
                                    "1": "NULL",
                                    "2": "NULL"
                                },
                                {
                                    "0": "Gray Mountain",
                                    "1": "NULL",
                                    "2": "NULL"
                                },
                                {
                                    "0": "النبطي",
                                    "1": "NULL",
                                    "2": "NULL"
                                },
                                {
                                    "0": "Rebel Belle (Rebel Belle, #1)",
                                    "1": "NULL",
                                    "2": "NULL"
                                },
                                {
                                    "0": "The Man in the Iron Mask (The D'Artagnan Romances, #3.3)",
                                    "1": "NULL",
                                    "2": "NULL"
                                },
                                {
                                    "0": "Invasion of the Boy Snatchers (The Clique, #4)",
                                    "1": "NULL",
                                    "2": "NULL"
                                },
                                {
                                    "0": "Jamberry",
                                    "1": "NULL",
                                    "2": "NULL"
                                },
                                {
                                    "0": "The Door to December",
                                    "1": "NULL",
                                    "2": "NULL"
                                },
                                {
                                    "0": "Lassie Come-Home",
                                    "1": "NULL",
                                    "2": "NULL"
                                },
                                {
                                    "0": "Abandon (Abandon, #1)",
                                    "1": "NULL",
                                    "2": "NULL"
                                },
                                {
                                    "0": "In Real Life",
                                    "1": "NULL",
                                    "2": "NULL"
                                },
                                {
                                    "0": "The Adventures of Tom Sawyer",
                                    "1": "NULL",
                                    "2": "NULL"
                                },
                                {
                                    "0": "Grass for His Pillow (Tales of the Otori, #2)",
                                    "1": "NULL",
                                    "2": "NULL"
                                },
                                {
                                    "0": "Dream Chaser (Dark-Hunter #13, Dream-Hunter #3)",
                                    "1": "NULL",
                                    "2": "NULL"
                                },
                                {
                                    "0": "The Power of Intention: Learning to Co-create Your World Your Way",
                                    "1": "NULL",
                                    "2": "NULL"
                                },
                                {
                                    "0": "5 cm",
                                    "1": "NULL",
                                    "2": "NULL"
                                },
                                {
                                    "0": "Storm Front (The Dresden Files, #1)",
                                    "1": "NULL",
                                    "2": "NULL"
                                },
                                {
                                    "0": "Inkdeath (Inkworld, #3)",
                                    "1": "NULL",
                                    "2": "NULL"
                                },
                                {
                                    "0": "Once a Runner",
                                    "1": "NULL",
                                    "2": "NULL"
                                },
                                {
                                    "0": "All the President's Men",
                                    "1": "NULL",
                                    "2": "NULL"
                                },
                                {
                                    "0": "By the Light of the Moon",
                                    "1": "NULL",
                                    "2": "NULL"
                                },
                                {
                                    "0": "The Christmas Wedding",
                                    "1": "NULL",
                                    "2": "NULL"
                                },
                                {
                                    "0": "Getting to Yes: Negotiating an Agreement Without Giving In",
                                    "1": "NULL",
                                    "2": "NULL"
                                },
                                {
                                    "0": "Guardians of the West (The Malloreon, #1)",
                                    "1": "NULL",
                                    "2": "NULL"
                                },
                                {
                                    "0": "China Dolls",
                                    "1": "NULL",
                                    "2": "NULL"
                                },
                                {
                                    "0": "Sizzling Sixteen (Stephanie Plum, #16)",
                                    "1": "NULL",
                                    "2": "NULL"
                                },
                                {
                                    "0": "Hunted (The Iron Druid Chronicles, #6)",
                                    "1": "NULL",
                                    "2": "NULL"
                                },
                                {
                                    "0": "Grave Dance (Alex Craft, #2)",
                                    "1": "NULL",
                                    "2": "NULL"
                                },
                                {
                                    "0": "Running Out of Time",
                                    "1": "NULL",
                                    "2": "NULL"
                                },
                                {
                                    "0": "Neanderthal Seeks Human (Knitting in the City, #1)",
                                    "1": "NULL",
                                    "2": "NULL"
                                }
                            ]
                        },
                        "text/html": [
                            "<table>",
                            "<tr><th>title</th><th>user_id</th><th>book_id</th></tr>",
                            "<tr><td>Fish in a Tree</td><td>NULL</td><td>NULL</td></tr>",
                            "<tr><td>Gray Mountain</td><td>NULL</td><td>NULL</td></tr>",
                            "<tr><td>النبطي</td><td>NULL</td><td>NULL</td></tr>",
                            "<tr><td>Rebel Belle (Rebel Belle, #1)</td><td>NULL</td><td>NULL</td></tr>",
                            "<tr><td>The Man in the Iron Mask (The D'Artagnan Romances, #3.3)</td><td>NULL</td><td>NULL</td></tr>",
                            "<tr><td>Invasion of the Boy Snatchers (The Clique, #4)</td><td>NULL</td><td>NULL</td></tr>",
                            "<tr><td>Jamberry</td><td>NULL</td><td>NULL</td></tr>",
                            "<tr><td>The Door to December</td><td>NULL</td><td>NULL</td></tr>",
                            "<tr><td>Lassie Come-Home</td><td>NULL</td><td>NULL</td></tr>",
                            "<tr><td>Abandon (Abandon, #1)</td><td>NULL</td><td>NULL</td></tr>",
                            "<tr><td>In Real Life</td><td>NULL</td><td>NULL</td></tr>",
                            "<tr><td>The Adventures of Tom Sawyer</td><td>NULL</td><td>NULL</td></tr>",
                            "<tr><td>Grass for His Pillow (Tales of the Otori, #2)</td><td>NULL</td><td>NULL</td></tr>",
                            "<tr><td>Dream Chaser (Dark-Hunter #13, Dream-Hunter #3)</td><td>NULL</td><td>NULL</td></tr>",
                            "<tr><td>The Power of Intention: Learning to Co-create Your World Your Way</td><td>NULL</td><td>NULL</td></tr>",
                            "<tr><td>5 cm</td><td>NULL</td><td>NULL</td></tr>",
                            "<tr><td>Storm Front (The Dresden Files, #1)</td><td>NULL</td><td>NULL</td></tr>",
                            "<tr><td>Inkdeath (Inkworld, #3)</td><td>NULL</td><td>NULL</td></tr>",
                            "<tr><td>Once a Runner</td><td>NULL</td><td>NULL</td></tr>",
                            "<tr><td>All the President's Men</td><td>NULL</td><td>NULL</td></tr>",
                            "<tr><td>By the Light of the Moon</td><td>NULL</td><td>NULL</td></tr>",
                            "<tr><td>The Christmas Wedding</td><td>NULL</td><td>NULL</td></tr>",
                            "<tr><td>Getting to Yes: Negotiating an Agreement Without Giving In</td><td>NULL</td><td>NULL</td></tr>",
                            "<tr><td>Guardians of the West (The Malloreon, #1)</td><td>NULL</td><td>NULL</td></tr>",
                            "<tr><td>China Dolls</td><td>NULL</td><td>NULL</td></tr>",
                            "<tr><td>Sizzling Sixteen (Stephanie Plum, #16)</td><td>NULL</td><td>NULL</td></tr>",
                            "<tr><td>Hunted (The Iron Druid Chronicles, #6)</td><td>NULL</td><td>NULL</td></tr>",
                            "<tr><td>Grave Dance (Alex Craft, #2)</td><td>NULL</td><td>NULL</td></tr>",
                            "<tr><td>Running Out of Time</td><td>NULL</td><td>NULL</td></tr>",
                            "<tr><td>Neanderthal Seeks Human (Knitting in the City, #1)</td><td>NULL</td><td>NULL</td></tr>",
                            "</table>"
                        ]
                    }
                }
            ],
            "execution_count": 7
        },
        {
            "cell_type": "markdown",
            "source": [
                "**Left Join**"
            ],
            "metadata": {
                "language": "sql",
                "azdata_cell_guid": "f6223d2c-115c-4a4c-8a85-5c0128ec3e2f"
            },
            "attachments": {}
        },
        {
            "cell_type": "code",
            "source": [
                "SELECT \r\n",
                "    TOP 10 b.title, b.average_rating, tr.user_id, tr.book_id\r\n",
                "FROM \r\n",
                "    BooksDB.dbo.to_read AS tr\r\n",
                "LEFT JOIN \r\n",
                "    BooksDB.dbo.books AS b\r\n",
                "ON \r\n",
                "    tr.book_id = b.book_id\r\n",
                "ORDER BY \r\n",
                "    b.average_rating\r\n",
                ""
            ],
            "metadata": {
                "language": "sql",
                "azdata_cell_guid": "f8b11564-e1ad-4270-97b7-8921e857b89f",
                "tags": []
            },
            "outputs": [
                {
                    "output_type": "display_data",
                    "data": {
                        "text/html": "(10 rows affected)"
                    },
                    "metadata": {}
                },
                {
                    "output_type": "display_data",
                    "data": {
                        "text/html": "Total execution time: 00:00:02.804"
                    },
                    "metadata": {}
                },
                {
                    "output_type": "execute_result",
                    "metadata": {},
                    "execution_count": 10,
                    "data": {
                        "application/vnd.dataresource+json": {
                            "schema": {
                                "fields": [
                                    {
                                        "name": "title"
                                    },
                                    {
                                        "name": "average_rating"
                                    },
                                    {
                                        "name": "user_id"
                                    },
                                    {
                                        "name": "book_id"
                                    }
                                ]
                            },
                            "data": [
                                {
                                    "0": "Four Blondes",
                                    "1": "2.8",
                                    "2": "449",
                                    "3": "6613"
                                },
                                {
                                    "0": "Four Blondes",
                                    "1": "2.8",
                                    "2": "1378",
                                    "3": "6613"
                                },
                                {
                                    "0": "Four Blondes",
                                    "1": "2.8",
                                    "2": "6465",
                                    "3": "6613"
                                },
                                {
                                    "0": "Four Blondes",
                                    "1": "2.8",
                                    "2": "6700",
                                    "3": "6613"
                                },
                                {
                                    "0": "Four Blondes",
                                    "1": "2.8",
                                    "2": "7830",
                                    "3": "6613"
                                },
                                {
                                    "0": "Four Blondes",
                                    "1": "2.8",
                                    "2": "10085",
                                    "3": "6613"
                                },
                                {
                                    "0": "Four Blondes",
                                    "1": "2.8",
                                    "2": "16298",
                                    "3": "6613"
                                },
                                {
                                    "0": "Four Blondes",
                                    "1": "2.8",
                                    "2": "16845",
                                    "3": "6613"
                                },
                                {
                                    "0": "Four Blondes",
                                    "1": "2.8",
                                    "2": "17470",
                                    "3": "6613"
                                },
                                {
                                    "0": "Four Blondes",
                                    "1": "2.8",
                                    "2": "19763",
                                    "3": "6613"
                                }
                            ]
                        },
                        "text/html": [
                            "<table>",
                            "<tr><th>title</th><th>average_rating</th><th>user_id</th><th>book_id</th></tr>",
                            "<tr><td>Four Blondes</td><td>2.8</td><td>449</td><td>6613</td></tr>",
                            "<tr><td>Four Blondes</td><td>2.8</td><td>1378</td><td>6613</td></tr>",
                            "<tr><td>Four Blondes</td><td>2.8</td><td>6465</td><td>6613</td></tr>",
                            "<tr><td>Four Blondes</td><td>2.8</td><td>6700</td><td>6613</td></tr>",
                            "<tr><td>Four Blondes</td><td>2.8</td><td>7830</td><td>6613</td></tr>",
                            "<tr><td>Four Blondes</td><td>2.8</td><td>10085</td><td>6613</td></tr>",
                            "<tr><td>Four Blondes</td><td>2.8</td><td>16298</td><td>6613</td></tr>",
                            "<tr><td>Four Blondes</td><td>2.8</td><td>16845</td><td>6613</td></tr>",
                            "<tr><td>Four Blondes</td><td>2.8</td><td>17470</td><td>6613</td></tr>",
                            "<tr><td>Four Blondes</td><td>2.8</td><td>19763</td><td>6613</td></tr>",
                            "</table>"
                        ]
                    }
                }
            ],
            "execution_count": 10
        },
        {
            "cell_type": "markdown",
            "source": [
                "**Joining Multiple Tables**"
            ],
            "metadata": {
                "language": "sql",
                "azdata_cell_guid": "f8eacb57-6e45-4504-8642-b4741b2e5c15"
            },
            "attachments": {}
        },
        {
            "cell_type": "code",
            "source": [
                "SELECT \r\n",
                "    TOP 10 b.title, bt.tag_id\r\n",
                "FROM \r\n",
                "    BooksDB.dbo.books AS b \r\n",
                "INNER JOIN \r\n",
                "    BooksDB.dbo.book_tags AS bt\r\n",
                "ON \r\n",
                "    b.book_id = bt.goodreads_book_id"
            ],
            "metadata": {
                "language": "sql",
                "azdata_cell_guid": "246359cc-ea4b-42c0-9117-412ecccefbe8"
            },
            "outputs": [
                {
                    "output_type": "display_data",
                    "data": {
                        "text/html": "(10 rows affected)"
                    },
                    "metadata": {}
                },
                {
                    "output_type": "display_data",
                    "data": {
                        "text/html": "Total execution time: 00:00:01.513"
                    },
                    "metadata": {}
                },
                {
                    "output_type": "execute_result",
                    "metadata": {},
                    "execution_count": 12,
                    "data": {
                        "application/vnd.dataresource+json": {
                            "schema": {
                                "fields": [
                                    {
                                        "name": "title"
                                    },
                                    {
                                        "name": "tag_id"
                                    }
                                ]
                            },
                            "data": [
                                {
                                    "0": "The Hunger Games (The Hunger Games, #1)",
                                    "1": "11557"
                                },
                                {
                                    "0": "The Hunger Games (The Hunger Games, #1)",
                                    "1": "8717"
                                },
                                {
                                    "0": "The Hunger Games (The Hunger Games, #1)",
                                    "1": "33114"
                                },
                                {
                                    "0": "The Hunger Games (The Hunger Games, #1)",
                                    "1": "11743"
                                },
                                {
                                    "0": "The Hunger Games (The Hunger Games, #1)",
                                    "1": "10064"
                                },
                                {
                                    "0": "The Hunger Games (The Hunger Games, #1)",
                                    "1": "30574"
                                },
                                {
                                    "0": "The Hunger Games (The Hunger Games, #1)",
                                    "1": "10059"
                                },
                                {
                                    "0": "The Hunger Games (The Hunger Games, #1)",
                                    "1": "11305"
                                },
                                {
                                    "0": "The Hunger Games (The Hunger Games, #1)",
                                    "1": "32989"
                                },
                                {
                                    "0": "The Hunger Games (The Hunger Games, #1)",
                                    "1": "26837"
                                }
                            ]
                        },
                        "text/html": [
                            "<table>",
                            "<tr><th>title</th><th>tag_id</th></tr>",
                            "<tr><td>The Hunger Games (The Hunger Games, #1)</td><td>11557</td></tr>",
                            "<tr><td>The Hunger Games (The Hunger Games, #1)</td><td>8717</td></tr>",
                            "<tr><td>The Hunger Games (The Hunger Games, #1)</td><td>33114</td></tr>",
                            "<tr><td>The Hunger Games (The Hunger Games, #1)</td><td>11743</td></tr>",
                            "<tr><td>The Hunger Games (The Hunger Games, #1)</td><td>10064</td></tr>",
                            "<tr><td>The Hunger Games (The Hunger Games, #1)</td><td>30574</td></tr>",
                            "<tr><td>The Hunger Games (The Hunger Games, #1)</td><td>10059</td></tr>",
                            "<tr><td>The Hunger Games (The Hunger Games, #1)</td><td>11305</td></tr>",
                            "<tr><td>The Hunger Games (The Hunger Games, #1)</td><td>32989</td></tr>",
                            "<tr><td>The Hunger Games (The Hunger Games, #1)</td><td>26837</td></tr>",
                            "</table>"
                        ]
                    }
                }
            ],
            "execution_count": 12
        },
        {
            "cell_type": "code",
            "source": [
                "SELECT \r\n",
                "    TOP 10 b.title, t.tag_name\r\n",
                "FROM \r\n",
                "    BooksDB.dbo.books AS b \r\n",
                "INNER JOIN \r\n",
                "    BooksDB.dbo.book_tags AS bt\r\n",
                "ON \r\n",
                "    b.book_id = bt.goodreads_book_id\r\n",
                "INNER JOIN \r\n",
                "    BooksDB.dbo.tags AS t \r\n",
                "ON \r\n",
                "    bt.tag_id = t.tag_id"
            ],
            "metadata": {
                "language": "sql",
                "azdata_cell_guid": "912700e7-b18a-4154-81dc-3fc158fe9aba",
                "tags": []
            },
            "outputs": [
                {
                    "output_type": "display_data",
                    "data": {
                        "text/html": "(10 rows affected)"
                    },
                    "metadata": {}
                },
                {
                    "output_type": "display_data",
                    "data": {
                        "text/html": "Total execution time: 00:00:01.517"
                    },
                    "metadata": {}
                },
                {
                    "output_type": "execute_result",
                    "metadata": {},
                    "execution_count": 13,
                    "data": {
                        "application/vnd.dataresource+json": {
                            "schema": {
                                "fields": [
                                    {
                                        "name": "title"
                                    },
                                    {
                                        "name": "tag_name"
                                    }
                                ]
                            },
                            "data": [
                                {
                                    "0": "The Hunger Games (The Hunger Games, #1)",
                                    "1": "favorites"
                                },
                                {
                                    "0": "The Hunger Games (The Hunger Games, #1)",
                                    "1": "currently-reading"
                                },
                                {
                                    "0": "The Hunger Games (The Hunger Games, #1)",
                                    "1": "young-adult"
                                },
                                {
                                    "0": "The Hunger Games (The Hunger Games, #1)",
                                    "1": "fiction"
                                },
                                {
                                    "0": "The Hunger Games (The Hunger Games, #1)",
                                    "1": "dystopian"
                                },
                                {
                                    "0": "The Hunger Games (The Hunger Games, #1)",
                                    "1": "to-read"
                                },
                                {
                                    "0": "The Hunger Games (The Hunger Games, #1)",
                                    "1": "dystopia"
                                },
                                {
                                    "0": "The Hunger Games (The Hunger Games, #1)",
                                    "1": "fantasy"
                                },
                                {
                                    "0": "The Hunger Games (The Hunger Games, #1)",
                                    "1": "ya"
                                },
                                {
                                    "0": "The Hunger Games (The Hunger Games, #1)",
                                    "1": "science-fiction"
                                }
                            ]
                        },
                        "text/html": [
                            "<table>",
                            "<tr><th>title</th><th>tag_name</th></tr>",
                            "<tr><td>The Hunger Games (The Hunger Games, #1)</td><td>favorites</td></tr>",
                            "<tr><td>The Hunger Games (The Hunger Games, #1)</td><td>currently-reading</td></tr>",
                            "<tr><td>The Hunger Games (The Hunger Games, #1)</td><td>young-adult</td></tr>",
                            "<tr><td>The Hunger Games (The Hunger Games, #1)</td><td>fiction</td></tr>",
                            "<tr><td>The Hunger Games (The Hunger Games, #1)</td><td>dystopian</td></tr>",
                            "<tr><td>The Hunger Games (The Hunger Games, #1)</td><td>to-read</td></tr>",
                            "<tr><td>The Hunger Games (The Hunger Games, #1)</td><td>dystopia</td></tr>",
                            "<tr><td>The Hunger Games (The Hunger Games, #1)</td><td>fantasy</td></tr>",
                            "<tr><td>The Hunger Games (The Hunger Games, #1)</td><td>ya</td></tr>",
                            "<tr><td>The Hunger Games (The Hunger Games, #1)</td><td>science-fiction</td></tr>",
                            "</table>"
                        ]
                    }
                }
            ],
            "execution_count": 13
        },
        {
            "cell_type": "markdown",
            "source": [
                "**HAVING vs. WHERE**"
            ],
            "metadata": {
                "language": "sql",
                "azdata_cell_guid": "61439154-23bc-478c-b205-383f51275606"
            },
            "attachments": {}
        },
        {
            "cell_type": "code",
            "source": [
                "SELECT  \r\n",
                "    COUNT(*) AS num_books_published\r\n",
                "FROM \r\n",
                "    BooksDB.dbo.books\r\n",
                "WHERE \r\n",
                "    original_publication_year > 2010 \r\n",
                "-- GROUP BY \r\n",
                "--     original_publication_year\r\n",
                "-- ORDER BY   \r\n",
                "--     original_publication_year DESC"
            ],
            "metadata": {
                "language": "sql",
                "azdata_cell_guid": "39fd4dff-b5d5-45e6-abea-0545b9af8a9a",
                "tags": []
            },
            "outputs": [
                {
                    "output_type": "display_data",
                    "data": {
                        "text/html": "(1 row affected)"
                    },
                    "metadata": {}
                },
                {
                    "output_type": "display_data",
                    "data": {
                        "text/html": "Total execution time: 00:00:00.076"
                    },
                    "metadata": {}
                },
                {
                    "output_type": "execute_result",
                    "metadata": {},
                    "execution_count": 24,
                    "data": {
                        "application/vnd.dataresource+json": {
                            "schema": {
                                "fields": [
                                    {
                                        "name": "num_books_published"
                                    }
                                ]
                            },
                            "data": [
                                {
                                    "0": "2594"
                                }
                            ]
                        },
                        "text/html": [
                            "<table>",
                            "<tr><th>num_books_published</th></tr>",
                            "<tr><td>2594</td></tr>",
                            "</table>"
                        ]
                    }
                }
            ],
            "execution_count": 24
        },
        {
            "cell_type": "code",
            "source": [
                "SELECT \r\n",
                "    original_publication_year, \r\n",
                "    COUNT(*) AS num_books_published\r\n",
                "FROM \r\n",
                "    BooksDB.dbo.books\r\n",
                "GROUP BY \r\n",
                "    original_publication_year\r\n",
                "HAVING\r\n",
                "    COUNT(*) > 500\r\n",
                "ORDER BY   \r\n",
                "    original_publication_year DESC\r\n",
                ""
            ],
            "metadata": {
                "language": "sql",
                "azdata_cell_guid": "d164ec31-cdbd-4d4f-90d9-a7772e0ca0b3",
                "tags": []
            },
            "outputs": [
                {
                    "output_type": "display_data",
                    "data": {
                        "text/html": "(3 rows affected)"
                    },
                    "metadata": {}
                },
                {
                    "output_type": "display_data",
                    "data": {
                        "text/html": "Total execution time: 00:00:00.067"
                    },
                    "metadata": {}
                },
                {
                    "output_type": "execute_result",
                    "metadata": {},
                    "execution_count": 21,
                    "data": {
                        "application/vnd.dataresource+json": {
                            "schema": {
                                "fields": [
                                    {
                                        "name": "original_publication_year"
                                    },
                                    {
                                        "name": "num_books_published"
                                    }
                                ]
                            },
                            "data": [
                                {
                                    "0": "2013",
                                    "1": "518"
                                },
                                {
                                    "0": "2012",
                                    "1": "568"
                                },
                                {
                                    "0": "2011",
                                    "1": "556"
                                }
                            ]
                        },
                        "text/html": [
                            "<table>",
                            "<tr><th>original_publication_year</th><th>num_books_published</th></tr>",
                            "<tr><td>2013</td><td>518</td></tr>",
                            "<tr><td>2012</td><td>568</td></tr>",
                            "<tr><td>2011</td><td>556</td></tr>",
                            "</table>"
                        ]
                    }
                }
            ],
            "execution_count": 21
        },
        {
            "cell_type": "code",
            "source": [
                "-- What are the top 10 most popular book titles on the 'to read' list?\r\n",
                "SELECT TOP 10 COUNT(tr.user_id) AS Amount_of_user, b.title\r\n",
                "FROM BooksDB.dbo.books AS b\r\n",
                "LEFT JOIN BooksDB.dbo.to_read AS tr\r\n",
                "ON b.book_id = tr.book_id\r\n",
                "GROUP BY b.title\r\n",
                "ORDER BY Amount_of_user DESC"
            ],
            "metadata": {
                "language": "sql",
                "azdata_cell_guid": "ca2ae273-5baf-4195-bfb6-5f7e949bd4ba"
            },
            "outputs": [
                {
                    "output_type": "display_data",
                    "data": {
                        "text/html": "(10 rows affected)"
                    },
                    "metadata": {}
                },
                {
                    "output_type": "display_data",
                    "data": {
                        "text/html": "Total execution time: 00:00:00.286"
                    },
                    "metadata": {}
                },
                {
                    "output_type": "execute_result",
                    "metadata": {},
                    "execution_count": 28,
                    "data": {
                        "application/vnd.dataresource+json": {
                            "schema": {
                                "fields": [
                                    {
                                        "name": "Amount_of_user"
                                    },
                                    {
                                        "name": "title"
                                    }
                                ]
                            },
                            "data": [
                                {
                                    "0": "1812",
                                    "1": "The Ultimate Hitchhiker's Guide to the Galaxy"
                                },
                                {
                                    "0": "1767",
                                    "1": "The Hitchhiker's Guide to the Galaxy (Hitchhiker's Guide to the Galaxy, #1)"
                                },
                                {
                                    "0": "1499",
                                    "1": "The Lord of the Rings: The Art of The Fellowship of the Ring"
                                },
                                {
                                    "0": "1498",
                                    "1": "Harry Potter Boxed Set, Books 1-5 (Harry Potter, #1-5)"
                                },
                                {
                                    "0": "1484",
                                    "1": "Harry Potter and the Goblet of Fire (Harry Potter, #4)"
                                },
                                {
                                    "0": "1352",
                                    "1": "The Known World"
                                },
                                {
                                    "0": "1293",
                                    "1": "Harry Potter and the Prisoner of Azkaban (Harry Potter, #3)"
                                },
                                {
                                    "0": "1211",
                                    "1": "The Lord of the Rings: Weapons and Warfare"
                                },
                                {
                                    "0": "1148",
                                    "1": "Notes from a Small Island"
                                },
                                {
                                    "0": "1110",
                                    "1": "Harry Potter Collection (Harry Potter, #1-6)"
                                }
                            ]
                        },
                        "text/html": [
                            "<table>",
                            "<tr><th>Amount_of_user</th><th>title</th></tr>",
                            "<tr><td>1812</td><td>The Ultimate Hitchhiker's Guide to the Galaxy</td></tr>",
                            "<tr><td>1767</td><td>The Hitchhiker's Guide to the Galaxy (Hitchhiker's Guide to the Galaxy, #1)</td></tr>",
                            "<tr><td>1499</td><td>The Lord of the Rings: The Art of The Fellowship of the Ring</td></tr>",
                            "<tr><td>1498</td><td>Harry Potter Boxed Set, Books 1-5 (Harry Potter, #1-5)</td></tr>",
                            "<tr><td>1484</td><td>Harry Potter and the Goblet of Fire (Harry Potter, #4)</td></tr>",
                            "<tr><td>1352</td><td>The Known World</td></tr>",
                            "<tr><td>1293</td><td>Harry Potter and the Prisoner of Azkaban (Harry Potter, #3)</td></tr>",
                            "<tr><td>1211</td><td>The Lord of the Rings: Weapons and Warfare</td></tr>",
                            "<tr><td>1148</td><td>Notes from a Small Island</td></tr>",
                            "<tr><td>1110</td><td>Harry Potter Collection (Harry Potter, #1-6)</td></tr>",
                            "</table>"
                        ]
                    }
                }
            ],
            "execution_count": 28
        }
    ]
}