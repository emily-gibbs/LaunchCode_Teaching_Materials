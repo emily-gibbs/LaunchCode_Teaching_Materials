{
    "metadata": {
        "kernelspec": {
            "name": "SQL",
            "display_name": "SQL",
            "language": "sql"
        },
        "language_info": {
            "name": "sql",
            "version": ""
        }
    },
    "nbformat_minor": 2,
    "nbformat": 4,
    "cells": [
        {
            "cell_type": "markdown",
            "source": [
                "**Creating a New Table**"
            ],
            "metadata": {
                "azdata_cell_guid": "e80fc66b-4b15-4d84-ac71-e5541c14bddc"
            }
        },
        {
            "cell_type": "code",
            "source": [
                "CREATE TABLE JunkDB_STL_Sept2022.instructor.flavors (\n",
                "    flavor_id INT PRIMARY KEY IDENTITY(2,2),\n",
                "    flavor_name VARCHAR(50) NOT NULL\n",
                ")"
            ],
            "metadata": {
                "azdata_cell_guid": "61d83b50-7ba3-4274-bbf4-a2d88e38d747",
                "language": "sql",
                "tags": []
            },
            "outputs": [
                {
                    "output_type": "display_data",
                    "data": {
                        "text/html": "Commands completed successfully."
                    },
                    "metadata": {}
                },
                {
                    "output_type": "display_data",
                    "data": {
                        "text/html": "Total execution time: 00:00:00.058"
                    },
                    "metadata": {}
                }
            ],
            "execution_count": 3
        },
        {
            "cell_type": "code",
            "source": [
                "SELECT \n",
                "    *\n",
                "FROM\n",
                "    JunkDB_STL_Sept2022.instructor.flavors"
            ],
            "metadata": {
                "azdata_cell_guid": "62ba3908-7074-4ff8-9bf3-800116eaaf14",
                "language": "sql"
            },
            "outputs": [
                {
                    "output_type": "display_data",
                    "data": {
                        "text/html": "(0 rows affected)"
                    },
                    "metadata": {}
                },
                {
                    "output_type": "display_data",
                    "data": {
                        "text/html": "Total execution time: 00:00:00.084"
                    },
                    "metadata": {}
                },
                {
                    "output_type": "execute_result",
                    "metadata": {},
                    "execution_count": 4,
                    "data": {
                        "application/vnd.dataresource+json": {
                            "schema": {
                                "fields": [
                                    {
                                        "name": "flavor_id"
                                    },
                                    {
                                        "name": "flavor_name"
                                    }
                                ]
                            },
                            "data": []
                        },
                        "text/html": [
                            "<table>",
                            "<tr><th>flavor_id</th><th>flavor_name</th></tr>",
                            "</table>"
                        ]
                    }
                }
            ],
            "execution_count": 4
        },
        {
            "cell_type": "code",
            "source": [
                "CREATE TABLE JunkDB_STL_Sept2022.instructor.ice_cream (\n",
                "    ice_cream_id INT PRIMARY KEY IDENTITY(1,1),\n",
                "    flavor_id INT NOT NULL,\n",
                "    creator VARCHAR(50),\n",
                "    rating DECIMAL(2, 1) CONSTRAINT limited_rating CHECK(rating <= 10), --e.g can be 7.5\n",
                "    creation_date DATE,\n",
                "    release DATETIME,\n",
                "    CONSTRAINT reasonable_realease_date CHECK(release > creation_date), -- can't release a flavor before it is created!\n",
                "    FOREIGN KEY (flavor_id) REFERENCES JunkDB_STL_Sept2022.instructor.flavors (flavor_id)\n",
                ")"
            ],
            "metadata": {
                "azdata_cell_guid": "7a5c13fa-2dcf-4930-97c7-23fd7c078d70",
                "language": "sql",
                "tags": []
            },
            "outputs": [
                {
                    "output_type": "display_data",
                    "data": {
                        "text/html": "Commands completed successfully."
                    },
                    "metadata": {}
                },
                {
                    "output_type": "display_data",
                    "data": {
                        "text/html": "Total execution time: 00:00:00.054"
                    },
                    "metadata": {}
                }
            ],
            "execution_count": 6
        },
        {
            "cell_type": "code",
            "source": [
                "SELECT \n",
                "    *\n",
                "FROM \n",
                "    JunkDB_STL_Sept2022.instructor.ice_cream"
            ],
            "metadata": {
                "azdata_cell_guid": "673d0339-37e7-41d9-a444-9c17d8ffa767",
                "language": "sql",
                "tags": []
            },
            "outputs": [
                {
                    "output_type": "display_data",
                    "data": {
                        "text/html": "(0 rows affected)"
                    },
                    "metadata": {}
                },
                {
                    "output_type": "display_data",
                    "data": {
                        "text/html": "Total execution time: 00:00:00.046"
                    },
                    "metadata": {}
                },
                {
                    "output_type": "execute_result",
                    "metadata": {},
                    "execution_count": 7,
                    "data": {
                        "application/vnd.dataresource+json": {
                            "schema": {
                                "fields": [
                                    {
                                        "name": "ice_cream_id"
                                    },
                                    {
                                        "name": "flavor_id"
                                    },
                                    {
                                        "name": "creator"
                                    },
                                    {
                                        "name": "rating"
                                    },
                                    {
                                        "name": "creation_date"
                                    },
                                    {
                                        "name": "release"
                                    }
                                ]
                            },
                            "data": []
                        },
                        "text/html": [
                            "<table>",
                            "<tr><th>ice_cream_id</th><th>flavor_id</th><th>creator</th><th>rating</th><th>creation_date</th><th>release</th></tr>",
                            "</table>"
                        ]
                    }
                }
            ],
            "execution_count": 7
        },
        {
            "cell_type": "markdown",
            "source": [
                "**Adding Records to a Table**"
            ],
            "metadata": {
                "azdata_cell_guid": "b1dfae4a-5355-4e7b-a38e-33b1b2399516"
            }
        },
        {
            "cell_type": "code",
            "source": [
                "INSERT INTO JunkDB_STL_Sept2022.instructor.ice_cream (flavor_id, creator, rating, creation_date, release)\n",
                "VALUES (10, 'Emily Lynn', 8.5, '2020-07-10', '2022-07-10 12:00:00')"
            ],
            "metadata": {
                "azdata_cell_guid": "fa8ccfc8-a7dc-41bd-b751-6ad3678a7e7f",
                "language": "sql",
                "tags": []
            },
            "outputs": [
                {
                    "output_type": "error",
                    "evalue": "Msg 547, Level 16, State 0, Line 1\r\nThe INSERT statement conflicted with the FOREIGN KEY constraint \"FK__ice_cream__flavo__7FEAFD3E\". The conflict occurred in database \"JunkDB_STL_Sept2022\", table \"instructor.flavors\", column 'flavor_id'.",
                    "ename": "",
                    "traceback": []
                },
                {
                    "output_type": "display_data",
                    "data": {
                        "text/html": "The statement has been terminated."
                    },
                    "metadata": {}
                },
                {
                    "output_type": "display_data",
                    "data": {
                        "text/html": "Total execution time: 00:00:00.045"
                    },
                    "metadata": {}
                }
            ],
            "execution_count": 8
        },
        {
            "cell_type": "code",
            "source": [
                "INSERT INTO JunkDB_STL_Sept2022.instructor.flavors\n",
                "VALUES ('cookies and cream')"
            ],
            "metadata": {
                "azdata_cell_guid": "a37ddca8-f694-455f-98a4-4b2ade288875",
                "language": "sql",
                "tags": []
            },
            "outputs": [
                {
                    "output_type": "display_data",
                    "data": {
                        "text/html": "(1 row affected)"
                    },
                    "metadata": {}
                },
                {
                    "output_type": "display_data",
                    "data": {
                        "text/html": "Total execution time: 00:00:00.043"
                    },
                    "metadata": {}
                }
            ],
            "execution_count": 9
        },
        {
            "cell_type": "code",
            "source": [
                "SELECT\n",
                "    *\n",
                "FROM\n",
                "    JunkDB_STL_Sept2022.instructor.flavors"
            ],
            "metadata": {
                "azdata_cell_guid": "ec0f9560-faa9-4d06-b149-d420515608e5",
                "language": "sql",
                "tags": []
            },
            "outputs": [
                {
                    "output_type": "display_data",
                    "data": {
                        "text/html": "(1 row affected)"
                    },
                    "metadata": {}
                },
                {
                    "output_type": "display_data",
                    "data": {
                        "text/html": "Total execution time: 00:00:00.058"
                    },
                    "metadata": {}
                },
                {
                    "output_type": "execute_result",
                    "metadata": {},
                    "execution_count": 10,
                    "data": {
                        "application/vnd.dataresource+json": {
                            "schema": {
                                "fields": [
                                    {
                                        "name": "flavor_id"
                                    },
                                    {
                                        "name": "flavor_name"
                                    }
                                ]
                            },
                            "data": [
                                {
                                    "0": "2",
                                    "1": "cookies and cream"
                                }
                            ]
                        },
                        "text/html": [
                            "<table>",
                            "<tr><th>flavor_id</th><th>flavor_name</th></tr>",
                            "<tr><td>2</td><td>cookies and cream</td></tr>",
                            "</table>"
                        ]
                    }
                }
            ],
            "execution_count": 10
        },
        {
            "cell_type": "code",
            "source": [
                "INSERT INTO JunkDB_STL_Sept2022.instructor.flavors\n",
                "VALUES ('4', 'chocolate')"
            ],
            "metadata": {
                "azdata_cell_guid": "c5de89db-545b-4f8b-95dd-8e72e8dcd780",
                "language": "sql",
                "tags": []
            },
            "outputs": [
                {
                    "output_type": "error",
                    "evalue": "Msg 8101, Level 16, State 1, Line 1\r\nAn explicit value for the identity column in table 'JunkDB_STL_Sept2022.instructor.flavors' can only be specified when a column list is used and IDENTITY_INSERT is ON.",
                    "ename": "",
                    "traceback": []
                },
                {
                    "output_type": "display_data",
                    "data": {
                        "text/html": "Total execution time: 00:00:00.040"
                    },
                    "metadata": {}
                }
            ],
            "execution_count": 11
        },
        {
            "cell_type": "code",
            "source": [
                "INSERT INTO JunkDB_STL_Sept2022.instructor.flavors\n",
                "VALUES\n",
                "    ('chocolate'),\n",
                "    ('vanilla'),\n",
                "    ('strawberry'),\n",
                "    ('moose tracks'),\n",
                "    ('cotten candy')"
            ],
            "metadata": {
                "azdata_cell_guid": "a98f480a-99fc-4b62-86b8-a9a88ff0466a",
                "language": "sql",
                "tags": []
            },
            "outputs": [
                {
                    "output_type": "display_data",
                    "data": {
                        "text/html": "(5 rows affected)"
                    },
                    "metadata": {}
                },
                {
                    "output_type": "display_data",
                    "data": {
                        "text/html": "Total execution time: 00:00:00.046"
                    },
                    "metadata": {}
                }
            ],
            "execution_count": 12
        },
        {
            "cell_type": "code",
            "source": [
                "SELECT\n",
                "    *\n",
                "FROM\n",
                "    JunkDB_STL_Sept2022.instructor.flavors"
            ],
            "metadata": {
                "azdata_cell_guid": "9adfa7fe-cc16-4796-8178-ee2074f2efd8",
                "language": "sql",
                "tags": []
            },
            "outputs": [
                {
                    "output_type": "display_data",
                    "data": {
                        "text/html": "(6 rows affected)"
                    },
                    "metadata": {}
                },
                {
                    "output_type": "display_data",
                    "data": {
                        "text/html": "Total execution time: 00:00:00.042"
                    },
                    "metadata": {}
                },
                {
                    "output_type": "execute_result",
                    "metadata": {},
                    "execution_count": 13,
                    "data": {
                        "application/vnd.dataresource+json": {
                            "schema": {
                                "fields": [
                                    {
                                        "name": "flavor_id"
                                    },
                                    {
                                        "name": "flavor_name"
                                    }
                                ]
                            },
                            "data": [
                                {
                                    "0": "2",
                                    "1": "cookies and cream"
                                },
                                {
                                    "0": "4",
                                    "1": "chocolate"
                                },
                                {
                                    "0": "6",
                                    "1": "vanilla"
                                },
                                {
                                    "0": "8",
                                    "1": "strawberry"
                                },
                                {
                                    "0": "10",
                                    "1": "moose tracks"
                                },
                                {
                                    "0": "12",
                                    "1": "cotten candy"
                                }
                            ]
                        },
                        "text/html": [
                            "<table>",
                            "<tr><th>flavor_id</th><th>flavor_name</th></tr>",
                            "<tr><td>2</td><td>cookies and cream</td></tr>",
                            "<tr><td>4</td><td>chocolate</td></tr>",
                            "<tr><td>6</td><td>vanilla</td></tr>",
                            "<tr><td>8</td><td>strawberry</td></tr>",
                            "<tr><td>10</td><td>moose tracks</td></tr>",
                            "<tr><td>12</td><td>cotten candy</td></tr>",
                            "</table>"
                        ]
                    }
                }
            ],
            "execution_count": 13
        },
        {
            "cell_type": "code",
            "source": [
                "INSERT INTO JunkDB_STL_Sept2022.instructor.ice_cream (flavor_id, creator, rating, creation_date, release)\n",
                "VALUES (10, 'Emily Lynn', 8.5, '2020-07-10', '2022-07-10 12:00:00')"
            ],
            "metadata": {
                "azdata_cell_guid": "22b64f84-11ec-4553-9e06-e57481f5ac2b",
                "language": "sql",
                "tags": []
            },
            "outputs": [
                {
                    "output_type": "display_data",
                    "data": {
                        "text/html": "(1 row affected)"
                    },
                    "metadata": {}
                },
                {
                    "output_type": "display_data",
                    "data": {
                        "text/html": "Total execution time: 00:00:00.043"
                    },
                    "metadata": {}
                }
            ],
            "execution_count": 14
        },
        {
            "cell_type": "code",
            "source": [
                "SELECT \n",
                "    *\n",
                "FROM\n",
                "    JunkDB_STL_Sept2022.instructor.ice_cream"
            ],
            "metadata": {
                "azdata_cell_guid": "351d8d0e-e9d1-414f-aa99-c2985ddb1a3b",
                "language": "sql",
                "tags": []
            },
            "outputs": [
                {
                    "output_type": "display_data",
                    "data": {
                        "text/html": "(1 row affected)"
                    },
                    "metadata": {}
                },
                {
                    "output_type": "display_data",
                    "data": {
                        "text/html": "Total execution time: 00:00:00.054"
                    },
                    "metadata": {}
                },
                {
                    "output_type": "execute_result",
                    "metadata": {},
                    "execution_count": 15,
                    "data": {
                        "application/vnd.dataresource+json": {
                            "schema": {
                                "fields": [
                                    {
                                        "name": "ice_cream_id"
                                    },
                                    {
                                        "name": "flavor_id"
                                    },
                                    {
                                        "name": "creator"
                                    },
                                    {
                                        "name": "rating"
                                    },
                                    {
                                        "name": "creation_date"
                                    },
                                    {
                                        "name": "release"
                                    }
                                ]
                            },
                            "data": [
                                {
                                    "0": "2",
                                    "1": "10",
                                    "2": "Emily Lynn",
                                    "3": "8.5",
                                    "4": "2020-07-10",
                                    "5": "2022-07-10 12:00:00.000"
                                }
                            ]
                        },
                        "text/html": [
                            "<table>",
                            "<tr><th>ice_cream_id</th><th>flavor_id</th><th>creator</th><th>rating</th><th>creation_date</th><th>release</th></tr>",
                            "<tr><td>2</td><td>10</td><td>Emily Lynn</td><td>8.5</td><td>2020-07-10</td><td>2022-07-10 12:00:00.000</td></tr>",
                            "</table>"
                        ]
                    }
                }
            ],
            "execution_count": 15
        },
        {
            "cell_type": "markdown",
            "source": [
                "Notice the ice\\_cream\\_id..."
            ],
            "metadata": {
                "azdata_cell_guid": "1445c0dc-aa68-4e8f-9fa5-1d347938299e",
                "language": "sql"
            }
        },
        {
            "cell_type": "code",
            "source": [
                "INSERT INTO JunkDB_STL_Sept2022.instructor.ice_cream (flavor_id, creator, rating, creation_date, release)\n",
                "VALUES (8, 'John Smith', 6, '2023-07-10', '2022-07-10 12:00:00')"
            ],
            "metadata": {
                "azdata_cell_guid": "79eb027b-5545-444e-b55e-eb8227800457",
                "language": "sql",
                "tags": []
            },
            "outputs": [
                {
                    "output_type": "error",
                    "evalue": "Msg 547, Level 16, State 0, Line 1\r\nThe INSERT statement conflicted with the CHECK constraint \"reasonable_realease_date\". The conflict occurred in database \"JunkDB_STL_Sept2022\", table \"instructor.ice_cream\".",
                    "ename": "",
                    "traceback": []
                },
                {
                    "output_type": "display_data",
                    "data": {
                        "text/html": "The statement has been terminated."
                    },
                    "metadata": {}
                },
                {
                    "output_type": "display_data",
                    "data": {
                        "text/html": "Total execution time: 00:00:00.041"
                    },
                    "metadata": {}
                }
            ],
            "execution_count": 16
        },
        {
            "cell_type": "code",
            "source": [
                "INSERT INTO JunkDB_STL_Sept2022.instructor.ice_cream \n",
                "VALUES \n",
                "    (6, 'Jonas Campos', 8.3, '2013-05-06', '2014-07-10 12:00:00'),\n",
                "    (4, 'Harper Bryan', 9, '2019-01-01', '2020-07-10 12:00:00'),\n",
                "    (2, 'Lea Lamatina', 9.5, '2015-12-30', '2016-07-10 12:00:00'),\n",
                "    (12, 'Ronisha Harvey', 7.5, '2021-03-15', '2022-07-10 12:00:00')"
            ],
            "metadata": {
                "azdata_cell_guid": "101cb4ff-469a-45b8-915e-d89524b7ea5f",
                "language": "sql",
                "tags": []
            },
            "outputs": [
                {
                    "output_type": "display_data",
                    "data": {
                        "text/html": "(4 rows affected)"
                    },
                    "metadata": {}
                },
                {
                    "output_type": "display_data",
                    "data": {
                        "text/html": "Total execution time: 00:00:00.048"
                    },
                    "metadata": {}
                }
            ],
            "execution_count": 17
        },
        {
            "cell_type": "code",
            "source": [
                "SELECT\n",
                "    *\n",
                "FROM\n",
                "    JunkDB_STL_Sept2022.instructor.ice_cream"
            ],
            "metadata": {
                "azdata_cell_guid": "6109df2a-7c8c-40f1-8579-5a8d1de67d25",
                "language": "sql",
                "tags": []
            },
            "outputs": [
                {
                    "output_type": "display_data",
                    "data": {
                        "text/html": "(5 rows affected)"
                    },
                    "metadata": {}
                },
                {
                    "output_type": "display_data",
                    "data": {
                        "text/html": "Total execution time: 00:00:00.042"
                    },
                    "metadata": {}
                },
                {
                    "output_type": "execute_result",
                    "metadata": {},
                    "execution_count": 18,
                    "data": {
                        "application/vnd.dataresource+json": {
                            "schema": {
                                "fields": [
                                    {
                                        "name": "ice_cream_id"
                                    },
                                    {
                                        "name": "flavor_id"
                                    },
                                    {
                                        "name": "creator"
                                    },
                                    {
                                        "name": "rating"
                                    },
                                    {
                                        "name": "creation_date"
                                    },
                                    {
                                        "name": "release"
                                    }
                                ]
                            },
                            "data": [
                                {
                                    "0": "2",
                                    "1": "10",
                                    "2": "Emily Lynn",
                                    "3": "8.5",
                                    "4": "2020-07-10",
                                    "5": "2022-07-10 12:00:00.000"
                                },
                                {
                                    "0": "4",
                                    "1": "6",
                                    "2": "Jonas Campos",
                                    "3": "8.3",
                                    "4": "2013-05-06",
                                    "5": "2014-07-10 12:00:00.000"
                                },
                                {
                                    "0": "5",
                                    "1": "4",
                                    "2": "Harper Bryan",
                                    "3": "9.0",
                                    "4": "2019-01-01",
                                    "5": "2020-07-10 12:00:00.000"
                                },
                                {
                                    "0": "6",
                                    "1": "2",
                                    "2": "Lea Lamatina",
                                    "3": "9.5",
                                    "4": "2015-12-30",
                                    "5": "2016-07-10 12:00:00.000"
                                },
                                {
                                    "0": "7",
                                    "1": "12",
                                    "2": "Ronisha Harvey",
                                    "3": "7.5",
                                    "4": "2021-03-15",
                                    "5": "2022-07-10 12:00:00.000"
                                }
                            ]
                        },
                        "text/html": [
                            "<table>",
                            "<tr><th>ice_cream_id</th><th>flavor_id</th><th>creator</th><th>rating</th><th>creation_date</th><th>release</th></tr>",
                            "<tr><td>2</td><td>10</td><td>Emily Lynn</td><td>8.5</td><td>2020-07-10</td><td>2022-07-10 12:00:00.000</td></tr>",
                            "<tr><td>4</td><td>6</td><td>Jonas Campos</td><td>8.3</td><td>2013-05-06</td><td>2014-07-10 12:00:00.000</td></tr>",
                            "<tr><td>5</td><td>4</td><td>Harper Bryan</td><td>9.0</td><td>2019-01-01</td><td>2020-07-10 12:00:00.000</td></tr>",
                            "<tr><td>6</td><td>2</td><td>Lea Lamatina</td><td>9.5</td><td>2015-12-30</td><td>2016-07-10 12:00:00.000</td></tr>",
                            "<tr><td>7</td><td>12</td><td>Ronisha Harvey</td><td>7.5</td><td>2021-03-15</td><td>2022-07-10 12:00:00.000</td></tr>",
                            "</table>"
                        ]
                    }
                }
            ],
            "execution_count": 18
        },
        {
            "cell_type": "markdown",
            "source": [
                "**Creating a Table Based on Another Table**"
            ],
            "metadata": {
                "azdata_cell_guid": "9b48a0aa-f043-413b-a36e-fefab542d2f5"
            }
        },
        {
            "cell_type": "code",
            "source": [
                "SELECT\n",
                "    creator AS ice_cream_aficionado\n",
                "INTO \n",
                "    JunkDB_STL_Sept2022.instructor.creators\n",
                "FROM\n",
                "    JunkDB_STL_Sept2022.instructor.ice_cream"
            ],
            "metadata": {
                "azdata_cell_guid": "49afb3b8-037e-46e1-a223-5137697a5e16",
                "language": "sql",
                "tags": []
            },
            "outputs": [
                {
                    "output_type": "display_data",
                    "data": {
                        "text/html": "(5 rows affected)"
                    },
                    "metadata": {}
                },
                {
                    "output_type": "display_data",
                    "data": {
                        "text/html": "Total execution time: 00:00:00.048"
                    },
                    "metadata": {}
                }
            ],
            "execution_count": 19
        },
        {
            "cell_type": "code",
            "source": [
                "SELECT\n",
                "    *\n",
                "FROM    \n",
                "    JunkDB_STL_Sept2022.instructor.creators"
            ],
            "metadata": {
                "azdata_cell_guid": "6ebf3414-a4d6-4bf8-90b6-558fd9a9eacd",
                "language": "sql",
                "tags": []
            },
            "outputs": [
                {
                    "output_type": "display_data",
                    "data": {
                        "text/html": "(5 rows affected)"
                    },
                    "metadata": {}
                },
                {
                    "output_type": "display_data",
                    "data": {
                        "text/html": "Total execution time: 00:00:00.042"
                    },
                    "metadata": {}
                },
                {
                    "output_type": "execute_result",
                    "metadata": {},
                    "execution_count": 20,
                    "data": {
                        "application/vnd.dataresource+json": {
                            "schema": {
                                "fields": [
                                    {
                                        "name": "ice_cream_aficionado"
                                    }
                                ]
                            },
                            "data": [
                                {
                                    "0": "Emily Lynn"
                                },
                                {
                                    "0": "Jonas Campos"
                                },
                                {
                                    "0": "Harper Bryan"
                                },
                                {
                                    "0": "Lea Lamatina"
                                },
                                {
                                    "0": "Ronisha Harvey"
                                }
                            ]
                        },
                        "text/html": [
                            "<table>",
                            "<tr><th>ice_cream_aficionado</th></tr>",
                            "<tr><td>Emily Lynn</td></tr>",
                            "<tr><td>Jonas Campos</td></tr>",
                            "<tr><td>Harper Bryan</td></tr>",
                            "<tr><td>Lea Lamatina</td></tr>",
                            "<tr><td>Ronisha Harvey</td></tr>",
                            "</table>"
                        ]
                    }
                }
            ],
            "execution_count": 20
        },
        {
            "cell_type": "markdown",
            "source": [
                "**Editing an Existing Record**"
            ],
            "metadata": {
                "azdata_cell_guid": "4969a313-1217-42e9-85a6-b3e2c0226efa"
            }
        },
        {
            "cell_type": "code",
            "source": [
                "UPDATE \n",
                "    JunkDB_STL_Sept2022.instructor.ice_cream\n",
                "SET\n",
                "    rating = 5.4\n",
                "WHERE\n",
                "    ice_cream_id = 2"
            ],
            "metadata": {
                "azdata_cell_guid": "5c42efd7-e8b1-4239-95a9-873a71b0495a",
                "language": "sql",
                "tags": []
            },
            "outputs": [
                {
                    "output_type": "display_data",
                    "data": {
                        "text/html": "(1 row affected)"
                    },
                    "metadata": {}
                },
                {
                    "output_type": "display_data",
                    "data": {
                        "text/html": "Total execution time: 00:00:00.046"
                    },
                    "metadata": {}
                }
            ],
            "execution_count": 21
        },
        {
            "cell_type": "code",
            "source": [
                "SELECT\n",
                "    *\n",
                "FROM\n",
                "    JunkDB_STL_Sept2022.instructor.ice_cream"
            ],
            "metadata": {
                "azdata_cell_guid": "c67ae5a6-090c-4195-9d88-a0a341926bc5",
                "language": "sql",
                "tags": []
            },
            "outputs": [
                {
                    "output_type": "display_data",
                    "data": {
                        "text/html": "(5 rows affected)"
                    },
                    "metadata": {}
                },
                {
                    "output_type": "display_data",
                    "data": {
                        "text/html": "Total execution time: 00:00:00.041"
                    },
                    "metadata": {}
                },
                {
                    "output_type": "execute_result",
                    "metadata": {},
                    "execution_count": 22,
                    "data": {
                        "application/vnd.dataresource+json": {
                            "schema": {
                                "fields": [
                                    {
                                        "name": "ice_cream_id"
                                    },
                                    {
                                        "name": "flavor_id"
                                    },
                                    {
                                        "name": "creator"
                                    },
                                    {
                                        "name": "rating"
                                    },
                                    {
                                        "name": "creation_date"
                                    },
                                    {
                                        "name": "release"
                                    }
                                ]
                            },
                            "data": [
                                {
                                    "0": "2",
                                    "1": "10",
                                    "2": "Emily Lynn",
                                    "3": "5.4",
                                    "4": "2020-07-10",
                                    "5": "2022-07-10 12:00:00.000"
                                },
                                {
                                    "0": "4",
                                    "1": "6",
                                    "2": "Jonas Campos",
                                    "3": "8.3",
                                    "4": "2013-05-06",
                                    "5": "2014-07-10 12:00:00.000"
                                },
                                {
                                    "0": "5",
                                    "1": "4",
                                    "2": "Harper Bryan",
                                    "3": "9.0",
                                    "4": "2019-01-01",
                                    "5": "2020-07-10 12:00:00.000"
                                },
                                {
                                    "0": "6",
                                    "1": "2",
                                    "2": "Lea Lamatina",
                                    "3": "9.5",
                                    "4": "2015-12-30",
                                    "5": "2016-07-10 12:00:00.000"
                                },
                                {
                                    "0": "7",
                                    "1": "12",
                                    "2": "Ronisha Harvey",
                                    "3": "7.5",
                                    "4": "2021-03-15",
                                    "5": "2022-07-10 12:00:00.000"
                                }
                            ]
                        },
                        "text/html": [
                            "<table>",
                            "<tr><th>ice_cream_id</th><th>flavor_id</th><th>creator</th><th>rating</th><th>creation_date</th><th>release</th></tr>",
                            "<tr><td>2</td><td>10</td><td>Emily Lynn</td><td>5.4</td><td>2020-07-10</td><td>2022-07-10 12:00:00.000</td></tr>",
                            "<tr><td>4</td><td>6</td><td>Jonas Campos</td><td>8.3</td><td>2013-05-06</td><td>2014-07-10 12:00:00.000</td></tr>",
                            "<tr><td>5</td><td>4</td><td>Harper Bryan</td><td>9.0</td><td>2019-01-01</td><td>2020-07-10 12:00:00.000</td></tr>",
                            "<tr><td>6</td><td>2</td><td>Lea Lamatina</td><td>9.5</td><td>2015-12-30</td><td>2016-07-10 12:00:00.000</td></tr>",
                            "<tr><td>7</td><td>12</td><td>Ronisha Harvey</td><td>7.5</td><td>2021-03-15</td><td>2022-07-10 12:00:00.000</td></tr>",
                            "</table>"
                        ]
                    }
                }
            ],
            "execution_count": 22
        },
        {
            "cell_type": "markdown",
            "source": [
                "**Deleting Records From a Table**"
            ],
            "metadata": {
                "azdata_cell_guid": "03bc3351-e378-41e8-b5b8-f5cacfa0bb6a"
            }
        },
        {
            "cell_type": "code",
            "source": [
                "DELETE FROM \n",
                "    JunkDB_STL_Sept2022.instructor.ice_cream\n",
                "WHERE\n",
                "    creator = 'Emily Lynn'"
            ],
            "metadata": {
                "azdata_cell_guid": "d223df52-f0b9-4c87-95fb-43229245e538",
                "language": "sql",
                "tags": []
            },
            "outputs": [
                {
                    "output_type": "display_data",
                    "data": {
                        "text/html": "(1 row affected)"
                    },
                    "metadata": {}
                },
                {
                    "output_type": "display_data",
                    "data": {
                        "text/html": "Total execution time: 00:00:00.046"
                    },
                    "metadata": {}
                }
            ],
            "execution_count": 23
        },
        {
            "cell_type": "code",
            "source": [
                "SELECT\n",
                "    *\n",
                "FROM\n",
                "    JunkDB_STL_Sept2022.instructor.ice_cream"
            ],
            "metadata": {
                "azdata_cell_guid": "2cbdf8e1-e345-438a-98f6-252867259323",
                "language": "sql",
                "tags": []
            },
            "outputs": [
                {
                    "output_type": "display_data",
                    "data": {
                        "text/html": "(4 rows affected)"
                    },
                    "metadata": {}
                },
                {
                    "output_type": "display_data",
                    "data": {
                        "text/html": "Total execution time: 00:00:00.049"
                    },
                    "metadata": {}
                },
                {
                    "output_type": "execute_result",
                    "metadata": {},
                    "execution_count": 24,
                    "data": {
                        "application/vnd.dataresource+json": {
                            "schema": {
                                "fields": [
                                    {
                                        "name": "ice_cream_id"
                                    },
                                    {
                                        "name": "flavor_id"
                                    },
                                    {
                                        "name": "creator"
                                    },
                                    {
                                        "name": "rating"
                                    },
                                    {
                                        "name": "creation_date"
                                    },
                                    {
                                        "name": "release"
                                    }
                                ]
                            },
                            "data": [
                                {
                                    "0": "4",
                                    "1": "6",
                                    "2": "Jonas Campos",
                                    "3": "8.3",
                                    "4": "2013-05-06",
                                    "5": "2014-07-10 12:00:00.000"
                                },
                                {
                                    "0": "5",
                                    "1": "4",
                                    "2": "Harper Bryan",
                                    "3": "9.0",
                                    "4": "2019-01-01",
                                    "5": "2020-07-10 12:00:00.000"
                                },
                                {
                                    "0": "6",
                                    "1": "2",
                                    "2": "Lea Lamatina",
                                    "3": "9.5",
                                    "4": "2015-12-30",
                                    "5": "2016-07-10 12:00:00.000"
                                },
                                {
                                    "0": "7",
                                    "1": "12",
                                    "2": "Ronisha Harvey",
                                    "3": "7.5",
                                    "4": "2021-03-15",
                                    "5": "2022-07-10 12:00:00.000"
                                }
                            ]
                        },
                        "text/html": [
                            "<table>",
                            "<tr><th>ice_cream_id</th><th>flavor_id</th><th>creator</th><th>rating</th><th>creation_date</th><th>release</th></tr>",
                            "<tr><td>4</td><td>6</td><td>Jonas Campos</td><td>8.3</td><td>2013-05-06</td><td>2014-07-10 12:00:00.000</td></tr>",
                            "<tr><td>5</td><td>4</td><td>Harper Bryan</td><td>9.0</td><td>2019-01-01</td><td>2020-07-10 12:00:00.000</td></tr>",
                            "<tr><td>6</td><td>2</td><td>Lea Lamatina</td><td>9.5</td><td>2015-12-30</td><td>2016-07-10 12:00:00.000</td></tr>",
                            "<tr><td>7</td><td>12</td><td>Ronisha Harvey</td><td>7.5</td><td>2021-03-15</td><td>2022-07-10 12:00:00.000</td></tr>",
                            "</table>"
                        ]
                    }
                }
            ],
            "execution_count": 24
        },
        {
            "cell_type": "markdown",
            "source": [
                "**Deleting a Table**"
            ],
            "metadata": {
                "azdata_cell_guid": "e93a5682-c194-4b2f-bec4-e092e0c6d839"
            }
        },
        {
            "cell_type": "code",
            "source": [
                "DROP TABLE JunkDB_STL_Sept2022.instructor.ice_cream"
            ],
            "metadata": {
                "azdata_cell_guid": "4d41bd04-29c6-4d6a-b9bb-4f26b85f3fd8",
                "language": "sql",
                "tags": [
                    "hide_input"
                ]
            },
            "outputs": [
                {
                    "output_type": "display_data",
                    "data": {
                        "text/html": "Commands completed successfully."
                    },
                    "metadata": {}
                },
                {
                    "output_type": "display_data",
                    "data": {
                        "text/html": "Total execution time: 00:00:00.044"
                    },
                    "metadata": {}
                }
            ],
            "execution_count": 25
        },
        {
            "cell_type": "code",
            "source": [
                "SELECT\n",
                "    *\n",
                "FROM    \n",
                "    JunkDB_STL_Sept2022.instructor.ice_cream"
            ],
            "metadata": {
                "azdata_cell_guid": "d87aba6c-0790-4705-9dfd-a7a6e2b91245",
                "language": "sql",
                "tags": []
            },
            "outputs": [
                {
                    "output_type": "error",
                    "evalue": "Msg 208, Level 16, State 1, Line 1\r\nInvalid object name 'JunkDB_STL_Sept2022.instructor.ice_cream'.",
                    "ename": "",
                    "traceback": []
                },
                {
                    "output_type": "display_data",
                    "data": {
                        "text/html": "Total execution time: 00:00:00.039"
                    },
                    "metadata": {}
                }
            ],
            "execution_count": 26
        },
        {
            "cell_type": "code",
            "source": [
                "TRUNCATE TABLE JunkDB_STL_Sept2022.instructor.flavors"
            ],
            "metadata": {
                "azdata_cell_guid": "807f1fc1-a4f7-4358-a260-103dfe926021",
                "language": "sql",
                "tags": [
                    "hide_input"
                ]
            },
            "outputs": [
                {
                    "output_type": "display_data",
                    "data": {
                        "text/html": "Commands completed successfully."
                    },
                    "metadata": {}
                },
                {
                    "output_type": "display_data",
                    "data": {
                        "text/html": "Total execution time: 00:00:00.046"
                    },
                    "metadata": {}
                }
            ],
            "execution_count": 27
        },
        {
            "cell_type": "code",
            "source": [
                "SELECT\n",
                "    *\n",
                "FROM\n",
                "    JunkDB_STL_Sept2022.instructor.flavors"
            ],
            "metadata": {
                "azdata_cell_guid": "12344c03-b701-48b4-aa5c-b342a3a16478",
                "language": "sql",
                "tags": []
            },
            "outputs": [
                {
                    "output_type": "display_data",
                    "data": {
                        "text/html": "(0 rows affected)"
                    },
                    "metadata": {}
                },
                {
                    "output_type": "display_data",
                    "data": {
                        "text/html": "Total execution time: 00:00:00.042"
                    },
                    "metadata": {}
                },
                {
                    "output_type": "execute_result",
                    "metadata": {},
                    "execution_count": 28,
                    "data": {
                        "application/vnd.dataresource+json": {
                            "schema": {
                                "fields": [
                                    {
                                        "name": "flavor_id"
                                    },
                                    {
                                        "name": "flavor_name"
                                    }
                                ]
                            },
                            "data": []
                        },
                        "text/html": [
                            "<table>",
                            "<tr><th>flavor_id</th><th>flavor_name</th></tr>",
                            "</table>"
                        ]
                    }
                }
            ],
            "execution_count": 28
        },
        {
            "cell_type": "code",
            "source": [
                "DROP TABLE JunkDB_STL_Sept2022.instructor.flavors"
            ],
            "metadata": {
                "azdata_cell_guid": "cf35f598-8b3f-4ae8-b600-c888e2d594c6",
                "language": "sql",
                "tags": [
                    "hide_input"
                ]
            },
            "outputs": [
                {
                    "output_type": "display_data",
                    "data": {
                        "text/html": "Commands completed successfully."
                    },
                    "metadata": {}
                },
                {
                    "output_type": "display_data",
                    "data": {
                        "text/html": "Total execution time: 00:00:00.044"
                    },
                    "metadata": {}
                }
            ],
            "execution_count": 29
        },
        {
            "cell_type": "code",
            "source": [
                "SELECT\n",
                "    *\n",
                "FROM\n",
                "    JunkDB_STL_Sept2022.instructor.flavors"
            ],
            "metadata": {
                "azdata_cell_guid": "d96c7700-c96a-415c-a712-5a37ab3526b0",
                "language": "sql"
            },
            "outputs": [
                {
                    "output_type": "error",
                    "evalue": "Msg 208, Level 16, State 1, Line 1\r\nInvalid object name 'JunkDB_STL_Sept2022.instructor.flavors'.",
                    "ename": "",
                    "traceback": []
                },
                {
                    "output_type": "display_data",
                    "data": {
                        "text/html": "Total execution time: 00:00:00.039"
                    },
                    "metadata": {}
                }
            ],
            "execution_count": 30
        },
        {
            "cell_type": "markdown",
            "source": [
                "**Temporary Tables**"
            ],
            "metadata": {
                "azdata_cell_guid": "6450c9fc-9539-43c8-b618-6935e70272f8"
            }
        },
        {
            "cell_type": "code",
            "source": [
                "CREATE TABLE JunkDB_STL_Sept2022.instructor.flavors (\r\n",
                "    flavor_id INT PRIMARY KEY IDENTITY(2,2),\r\n",
                "    flavor_name VARCHAR(50) NOT NULL\r\n",
                ");\r\n",
                "\r\n",
                "CREATE TABLE JunkDB_STL_Sept2022.instructor.ice_cream (\r\n",
                "    ice_cream_id INT PRIMARY KEY IDENTITY(1,1),\r\n",
                "    flavor_id INT NOT NULL,\r\n",
                "    creator VARCHAR(50),\r\n",
                "    rating DECIMAL(2, 1) CONSTRAINT limited_rating CHECK(rating <= 10), --e.g can be 7.5\r\n",
                "    creation_date DATE,\r\n",
                "    release DATETIME,\r\n",
                "    CONSTRAINT reasonable_realease_date CHECK(release > creation_date), -- can't release a flavor before it is created!\r\n",
                "    FOREIGN KEY (flavor_id) REFERENCES JunkDB_STL_Sept2022.instructor.flavors (flavor_id)\r\n",
                ");\r\n",
                "\r\n",
                "INSERT INTO JunkDB_STL_Sept2022.instructor.flavors\r\n",
                "VALUES\r\n",
                "    ('cookies and cream'),\r\n",
                "    ('chocolate'),\r\n",
                "    ('vanilla'),\r\n",
                "    ('strawberry'),\r\n",
                "    ('moose tracks'),\r\n",
                "    ('cotten candy')\r\n",
                ";\r\n",
                "\r\n",
                "INSERT INTO JunkDB_STL_Sept2022.instructor.ice_cream (flavor_id, creator, rating, creation_date, release)\r\n",
                "VALUES \r\n",
                "    (8, 'Emily Lynn', 8.5, '2020-07-10', '2022-07-10 12:00:00'),\r\n",
                "    (6, 'Jonas Campos', 8.3, '2013-05-06', '2014-07-10 12:00:00'),\r\n",
                "    (4, 'Harper Bryan', 9, '2019-01-01', '2020-07-10 12:00:00'),\r\n",
                "    (2, 'Lea Lamatina', 9.5, '2015-12-30', '2016-07-10 12:00:00'),\r\n",
                "    (10, 'Ronisha Harvey', 7.5, '2021-03-15', '2022-07-10 12:00:00')\r\n",
                "\r\n",
                ""
            ],
            "metadata": {
                "language": "sql",
                "azdata_cell_guid": "a5e44444-4a43-4568-9d6e-08e1810dc623"
            },
            "outputs": [
                {
                    "output_type": "display_data",
                    "data": {
                        "text/html": "(6 rows affected)"
                    },
                    "metadata": {}
                },
                {
                    "output_type": "display_data",
                    "data": {
                        "text/html": "(5 rows affected)"
                    },
                    "metadata": {}
                },
                {
                    "output_type": "display_data",
                    "data": {
                        "text/html": "Total execution time: 00:00:00.066"
                    },
                    "metadata": {}
                }
            ],
            "execution_count": 32
        },
        {
            "cell_type": "code",
            "source": [
                "SELECT \n",
                "    *\n",
                "INTO\n",
                "    #recent_ice_cream\n",
                "FROM\n",
                "    JunkDB_STL_Sept2022.instructor.ice_cream\n",
                "WHERE\n",
                "    release > '2020-01-01'"
            ],
            "metadata": {
                "azdata_cell_guid": "d4991101-f615-4627-8501-7515218f4b3a",
                "language": "sql",
                "tags": []
            },
            "outputs": [
                {
                    "output_type": "display_data",
                    "data": {
                        "text/html": "(3 rows affected)"
                    },
                    "metadata": {}
                },
                {
                    "output_type": "display_data",
                    "data": {
                        "text/html": "Total execution time: 00:00:00.048"
                    },
                    "metadata": {}
                }
            ],
            "execution_count": 33
        },
        {
            "cell_type": "code",
            "source": [
                "SELECT\n",
                "    *\n",
                "FROM\n",
                "    #recent_ice_cream"
            ],
            "metadata": {
                "azdata_cell_guid": "5b0fedee-0d3d-416b-8c6b-0c9fa47efa40",
                "language": "sql",
                "tags": []
            },
            "outputs": [
                {
                    "output_type": "display_data",
                    "data": {
                        "text/html": "(3 rows affected)"
                    },
                    "metadata": {}
                },
                {
                    "output_type": "display_data",
                    "data": {
                        "text/html": "Total execution time: 00:00:00.045"
                    },
                    "metadata": {}
                },
                {
                    "output_type": "execute_result",
                    "metadata": {},
                    "execution_count": 34,
                    "data": {
                        "application/vnd.dataresource+json": {
                            "schema": {
                                "fields": [
                                    {
                                        "name": "ice_cream_id"
                                    },
                                    {
                                        "name": "flavor_id"
                                    },
                                    {
                                        "name": "creator"
                                    },
                                    {
                                        "name": "rating"
                                    },
                                    {
                                        "name": "creation_date"
                                    },
                                    {
                                        "name": "release"
                                    }
                                ]
                            },
                            "data": [
                                {
                                    "0": "1",
                                    "1": "8",
                                    "2": "Emily Lynn",
                                    "3": "8.5",
                                    "4": "2020-07-10",
                                    "5": "2022-07-10 12:00:00.000"
                                },
                                {
                                    "0": "3",
                                    "1": "4",
                                    "2": "Harper Bryan",
                                    "3": "9.0",
                                    "4": "2019-01-01",
                                    "5": "2020-07-10 12:00:00.000"
                                },
                                {
                                    "0": "5",
                                    "1": "10",
                                    "2": "Ronisha Harvey",
                                    "3": "7.5",
                                    "4": "2021-03-15",
                                    "5": "2022-07-10 12:00:00.000"
                                }
                            ]
                        },
                        "text/html": [
                            "<table>",
                            "<tr><th>ice_cream_id</th><th>flavor_id</th><th>creator</th><th>rating</th><th>creation_date</th><th>release</th></tr>",
                            "<tr><td>1</td><td>8</td><td>Emily Lynn</td><td>8.5</td><td>2020-07-10</td><td>2022-07-10 12:00:00.000</td></tr>",
                            "<tr><td>3</td><td>4</td><td>Harper Bryan</td><td>9.0</td><td>2019-01-01</td><td>2020-07-10 12:00:00.000</td></tr>",
                            "<tr><td>5</td><td>10</td><td>Ronisha Harvey</td><td>7.5</td><td>2021-03-15</td><td>2022-07-10 12:00:00.000</td></tr>",
                            "</table>"
                        ]
                    }
                }
            ],
            "execution_count": 34
        }
    ]
}