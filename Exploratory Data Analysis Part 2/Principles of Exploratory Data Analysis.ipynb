{
 "cells": [
  {
   "cell_type": "code",
   "execution_count": 1,
   "id": "23fe9072-b820-4d90-96c1-9b311ad519ed",
   "metadata": {},
   "outputs": [],
   "source": [
    "import pandas as pd"
   ]
  },
  {
   "cell_type": "markdown",
   "id": "d134c24e-f716-4b54-b2e5-1d1ba60243f3",
   "metadata": {},
   "source": [
    "# Principles of Exploratory Data Analysis"
   ]
  },
  {
   "cell_type": "markdown",
   "id": "c3c7e0e3-1291-4cf0-b83c-bab854592c16",
   "metadata": {},
   "source": [
    "<center><img src=\"https://media.tenor.com/images/db6cfa232c0fd929134c96c556d2ae3b/tenor.gif\" width=\"400\" height=\"400\" />"
   ]
  },
  {
   "cell_type": "markdown",
   "id": "5132fef8-7eac-4c9d-850f-5c0ae047b309",
   "metadata": {},
   "source": [
    "**<span style='color:blue'>Exploratory Data Analysis (EDA)</span>** is an analysis approach that identifies general patterns in the data by summarizing the main characteristics and using data visualization methods."
   ]
  },
  {
   "cell_type": "markdown",
   "id": "4597def6-aaa2-42d4-80b1-5a4a55744f11",
   "metadata": {},
   "source": [
    "Like much of what we do, there is no one set way of performing EDA but there are some general principles and common practices we can follow, as well as the pandas functions that help us out."
   ]
  },
  {
   "cell_type": "markdown",
   "id": "890d3f9a-dce4-4131-917d-fa4276244ef4",
   "metadata": {},
   "source": [
    "### Learn the Background of the Data"
   ]
  },
  {
   "cell_type": "markdown",
   "id": "4f85a8e8-4a21-40ee-b876-e7fbb3f10d24",
   "metadata": {},
   "source": [
    "Data does not appear out of a vacuum. Who collected this data? Why was it collected? Under what circumstances? Is the data reliable? Could it be biased? What do each of the records (rows) represent? These are all very valuable questions that provide context for the data that you will be working with. "
   ]
  },
  {
   "cell_type": "markdown",
   "id": "fb1c3ac2-09da-4aa8-9a35-a6557e2fa225",
   "metadata": {},
   "source": [
    "### Read in the Data"
   ]
  },
  {
   "cell_type": "markdown",
   "id": "65ceadce-e16d-4508-ba8f-f9a6e97f632d",
   "metadata": {},
   "source": [
    "You have to get ahold of the data to explore it! Usually with pandas you are going to read the data in from a csv file. In this case you will use this function which turns a csv into a dataframe and returns that dataframe for you to assign to your dataframe variable : `pd.read_csv('path_to_csv_location.csv')`. "
   ]
  },
  {
   "cell_type": "code",
   "execution_count": 2,
   "id": "03a475a9-9cff-4e7d-8f46-7685c133c708",
   "metadata": {},
   "outputs": [
    {
     "data": {
      "text/html": [
       "<div>\n",
       "<style scoped>\n",
       "    .dataframe tbody tr th:only-of-type {\n",
       "        vertical-align: middle;\n",
       "    }\n",
       "\n",
       "    .dataframe tbody tr th {\n",
       "        vertical-align: top;\n",
       "    }\n",
       "\n",
       "    .dataframe thead th {\n",
       "        text-align: right;\n",
       "    }\n",
       "</style>\n",
       "<table border=\"1\" class=\"dataframe\">\n",
       "  <thead>\n",
       "    <tr style=\"text-align: right;\">\n",
       "      <th></th>\n",
       "      <th>PassengerId</th>\n",
       "      <th>Survived</th>\n",
       "      <th>Pclass</th>\n",
       "      <th>Name</th>\n",
       "      <th>Sex</th>\n",
       "      <th>Age</th>\n",
       "      <th>SibSp</th>\n",
       "      <th>Parch</th>\n",
       "      <th>Ticket</th>\n",
       "      <th>Fare</th>\n",
       "      <th>Cabin</th>\n",
       "      <th>Embarked</th>\n",
       "    </tr>\n",
       "  </thead>\n",
       "  <tbody>\n",
       "    <tr>\n",
       "      <th>0</th>\n",
       "      <td>1</td>\n",
       "      <td>0</td>\n",
       "      <td>3</td>\n",
       "      <td>Braund, Mr. Owen Harris</td>\n",
       "      <td>male</td>\n",
       "      <td>22.0</td>\n",
       "      <td>1</td>\n",
       "      <td>0</td>\n",
       "      <td>A/5 21171</td>\n",
       "      <td>7.2500</td>\n",
       "      <td>NaN</td>\n",
       "      <td>S</td>\n",
       "    </tr>\n",
       "    <tr>\n",
       "      <th>1</th>\n",
       "      <td>2</td>\n",
       "      <td>1</td>\n",
       "      <td>1</td>\n",
       "      <td>Cumings, Mrs. John Bradley (Florence Briggs Th...</td>\n",
       "      <td>female</td>\n",
       "      <td>38.0</td>\n",
       "      <td>1</td>\n",
       "      <td>0</td>\n",
       "      <td>PC 17599</td>\n",
       "      <td>71.2833</td>\n",
       "      <td>C85</td>\n",
       "      <td>C</td>\n",
       "    </tr>\n",
       "    <tr>\n",
       "      <th>2</th>\n",
       "      <td>3</td>\n",
       "      <td>1</td>\n",
       "      <td>3</td>\n",
       "      <td>Heikkinen, Miss. Laina</td>\n",
       "      <td>female</td>\n",
       "      <td>26.0</td>\n",
       "      <td>0</td>\n",
       "      <td>0</td>\n",
       "      <td>STON/O2. 3101282</td>\n",
       "      <td>7.9250</td>\n",
       "      <td>NaN</td>\n",
       "      <td>S</td>\n",
       "    </tr>\n",
       "    <tr>\n",
       "      <th>3</th>\n",
       "      <td>4</td>\n",
       "      <td>1</td>\n",
       "      <td>1</td>\n",
       "      <td>Futrelle, Mrs. Jacques Heath (Lily May Peel)</td>\n",
       "      <td>female</td>\n",
       "      <td>35.0</td>\n",
       "      <td>1</td>\n",
       "      <td>0</td>\n",
       "      <td>113803</td>\n",
       "      <td>53.1000</td>\n",
       "      <td>C123</td>\n",
       "      <td>S</td>\n",
       "    </tr>\n",
       "    <tr>\n",
       "      <th>4</th>\n",
       "      <td>5</td>\n",
       "      <td>0</td>\n",
       "      <td>3</td>\n",
       "      <td>Allen, Mr. William Henry</td>\n",
       "      <td>male</td>\n",
       "      <td>35.0</td>\n",
       "      <td>0</td>\n",
       "      <td>0</td>\n",
       "      <td>373450</td>\n",
       "      <td>8.0500</td>\n",
       "      <td>NaN</td>\n",
       "      <td>S</td>\n",
       "    </tr>\n",
       "    <tr>\n",
       "      <th>...</th>\n",
       "      <td>...</td>\n",
       "      <td>...</td>\n",
       "      <td>...</td>\n",
       "      <td>...</td>\n",
       "      <td>...</td>\n",
       "      <td>...</td>\n",
       "      <td>...</td>\n",
       "      <td>...</td>\n",
       "      <td>...</td>\n",
       "      <td>...</td>\n",
       "      <td>...</td>\n",
       "      <td>...</td>\n",
       "    </tr>\n",
       "    <tr>\n",
       "      <th>886</th>\n",
       "      <td>887</td>\n",
       "      <td>0</td>\n",
       "      <td>2</td>\n",
       "      <td>Montvila, Rev. Juozas</td>\n",
       "      <td>male</td>\n",
       "      <td>27.0</td>\n",
       "      <td>0</td>\n",
       "      <td>0</td>\n",
       "      <td>211536</td>\n",
       "      <td>13.0000</td>\n",
       "      <td>NaN</td>\n",
       "      <td>S</td>\n",
       "    </tr>\n",
       "    <tr>\n",
       "      <th>887</th>\n",
       "      <td>888</td>\n",
       "      <td>1</td>\n",
       "      <td>1</td>\n",
       "      <td>Graham, Miss. Margaret Edith</td>\n",
       "      <td>female</td>\n",
       "      <td>19.0</td>\n",
       "      <td>0</td>\n",
       "      <td>0</td>\n",
       "      <td>112053</td>\n",
       "      <td>30.0000</td>\n",
       "      <td>B42</td>\n",
       "      <td>S</td>\n",
       "    </tr>\n",
       "    <tr>\n",
       "      <th>888</th>\n",
       "      <td>889</td>\n",
       "      <td>0</td>\n",
       "      <td>3</td>\n",
       "      <td>Johnston, Miss. Catherine Helen \"Carrie\"</td>\n",
       "      <td>female</td>\n",
       "      <td>NaN</td>\n",
       "      <td>1</td>\n",
       "      <td>2</td>\n",
       "      <td>W./C. 6607</td>\n",
       "      <td>23.4500</td>\n",
       "      <td>NaN</td>\n",
       "      <td>S</td>\n",
       "    </tr>\n",
       "    <tr>\n",
       "      <th>889</th>\n",
       "      <td>890</td>\n",
       "      <td>1</td>\n",
       "      <td>1</td>\n",
       "      <td>Behr, Mr. Karl Howell</td>\n",
       "      <td>male</td>\n",
       "      <td>26.0</td>\n",
       "      <td>0</td>\n",
       "      <td>0</td>\n",
       "      <td>111369</td>\n",
       "      <td>30.0000</td>\n",
       "      <td>C148</td>\n",
       "      <td>C</td>\n",
       "    </tr>\n",
       "    <tr>\n",
       "      <th>890</th>\n",
       "      <td>891</td>\n",
       "      <td>0</td>\n",
       "      <td>3</td>\n",
       "      <td>Dooley, Mr. Patrick</td>\n",
       "      <td>male</td>\n",
       "      <td>32.0</td>\n",
       "      <td>0</td>\n",
       "      <td>0</td>\n",
       "      <td>370376</td>\n",
       "      <td>7.7500</td>\n",
       "      <td>NaN</td>\n",
       "      <td>Q</td>\n",
       "    </tr>\n",
       "  </tbody>\n",
       "</table>\n",
       "<p>891 rows × 12 columns</p>\n",
       "</div>"
      ],
      "text/plain": [
       "     PassengerId  Survived  Pclass  \\\n",
       "0              1         0       3   \n",
       "1              2         1       1   \n",
       "2              3         1       3   \n",
       "3              4         1       1   \n",
       "4              5         0       3   \n",
       "..           ...       ...     ...   \n",
       "886          887         0       2   \n",
       "887          888         1       1   \n",
       "888          889         0       3   \n",
       "889          890         1       1   \n",
       "890          891         0       3   \n",
       "\n",
       "                                                  Name     Sex   Age  SibSp  \\\n",
       "0                              Braund, Mr. Owen Harris    male  22.0      1   \n",
       "1    Cumings, Mrs. John Bradley (Florence Briggs Th...  female  38.0      1   \n",
       "2                               Heikkinen, Miss. Laina  female  26.0      0   \n",
       "3         Futrelle, Mrs. Jacques Heath (Lily May Peel)  female  35.0      1   \n",
       "4                             Allen, Mr. William Henry    male  35.0      0   \n",
       "..                                                 ...     ...   ...    ...   \n",
       "886                              Montvila, Rev. Juozas    male  27.0      0   \n",
       "887                       Graham, Miss. Margaret Edith  female  19.0      0   \n",
       "888           Johnston, Miss. Catherine Helen \"Carrie\"  female   NaN      1   \n",
       "889                              Behr, Mr. Karl Howell    male  26.0      0   \n",
       "890                                Dooley, Mr. Patrick    male  32.0      0   \n",
       "\n",
       "     Parch            Ticket     Fare Cabin Embarked  \n",
       "0        0         A/5 21171   7.2500   NaN        S  \n",
       "1        0          PC 17599  71.2833   C85        C  \n",
       "2        0  STON/O2. 3101282   7.9250   NaN        S  \n",
       "3        0            113803  53.1000  C123        S  \n",
       "4        0            373450   8.0500   NaN        S  \n",
       "..     ...               ...      ...   ...      ...  \n",
       "886      0            211536  13.0000   NaN        S  \n",
       "887      0            112053  30.0000   B42        S  \n",
       "888      2        W./C. 6607  23.4500   NaN        S  \n",
       "889      0            111369  30.0000  C148        C  \n",
       "890      0            370376   7.7500   NaN        Q  \n",
       "\n",
       "[891 rows x 12 columns]"
      ]
     },
     "execution_count": 2,
     "metadata": {},
     "output_type": "execute_result"
    }
   ],
   "source": [
    "titanic_df = pd.read_csv('EDApt2Exercises-main/data/titanic.csv')\n",
    "titanic_df"
   ]
  },
  {
   "cell_type": "markdown",
   "id": "33f7a4c3-222a-40d1-a3c2-f97db87a8cf0",
   "metadata": {},
   "source": [
    "**<span style='color:red'>Warning</span>** : the path to the csv can be relative to the location of the notebook. However if you move the notebook sometimes that can cause bugs, so in that case you may want to use the entire file path. "
   ]
  },
  {
   "cell_type": "markdown",
   "id": "e9316336-91c9-46bd-bf96-342831f607fa",
   "metadata": {},
   "source": [
    "### Determine How Much Data You Have"
   ]
  },
  {
   "cell_type": "markdown",
   "id": "75ccb9e5-3127-4b9c-a45c-c2d913d51881",
   "metadata": {},
   "source": [
    "How many rows and columns are there in your data? This can help put other statistics in perspective based on if you have a large or relatively small dataset. A helpful pandas attribute for this is `dataframe_name.shape` which will give you the number of rows and column:"
   ]
  },
  {
   "cell_type": "code",
   "execution_count": 7,
   "id": "11b5f630-6cf6-4a98-ba8c-ed1369db3d1c",
   "metadata": {},
   "outputs": [
    {
     "data": {
      "text/plain": [
       "(891, 12)"
      ]
     },
     "execution_count": 7,
     "metadata": {},
     "output_type": "execute_result"
    }
   ],
   "source": [
    "titanic_df.shape"
   ]
  },
  {
   "cell_type": "markdown",
   "id": "eb720402-f172-4b78-ad8d-ba5724301b5b",
   "metadata": {},
   "source": [
    "So we can see that we have 891 rows and 12 columns."
   ]
  },
  {
   "cell_type": "markdown",
   "id": "b00d7b50-fce5-4c45-a83e-375f94f07208",
   "metadata": {},
   "source": [
    "### Determine What the Columns Are, Their Data Types, and What They Mean"
   ]
  },
  {
   "cell_type": "markdown",
   "id": "caa2e516-478f-40ff-b908-9845d0a78787",
   "metadata": {},
   "source": [
    "The columns in a dataset indicate what information is available for each of the records. Sometimes the column names are not very clear, and you will likely need to consult the documentation for the data to understand what the names mean and any nuances involved. You will also need to figure out the data type of the values contained in each column, as well as whether those values are categorical or numerical, discrete or continuous."
   ]
  },
  {
   "cell_type": "markdown",
   "id": "015f7f7d-5462-4419-bd97-d0b079d4e874",
   "metadata": {},
   "source": [
    "**<span style='color:orange'>Note</span>** : just because there are numbers in a column doesn't mean it is numerical..."
   ]
  },
  {
   "cell_type": "markdown",
   "id": "41e4f7ee-b369-4840-a8b3-151e9682f1b0",
   "metadata": {},
   "source": [
    "This titanic data is a classic dataset from Kaggle. Information about the columns and their values can be found here : https://www.kaggle.com/competitions/titanic/data"
   ]
  },
  {
   "cell_type": "markdown",
   "id": "a09ace76-22b6-459a-ba8e-451b9ee4916a",
   "metadata": {},
   "source": [
    "To list the columns in the dataframe you can use `dataframe_name.columns`:"
   ]
  },
  {
   "cell_type": "code",
   "execution_count": 8,
   "id": "4c8ef18e-5d5d-4f5c-b2e6-23e1bbecb8ca",
   "metadata": {},
   "outputs": [
    {
     "data": {
      "text/plain": [
       "Index(['PassengerId', 'Survived', 'Pclass', 'Name', 'Sex', 'Age', 'SibSp',\n",
       "       'Parch', 'Ticket', 'Fare', 'Cabin', 'Embarked'],\n",
       "      dtype='object')"
      ]
     },
     "execution_count": 8,
     "metadata": {},
     "output_type": "execute_result"
    }
   ],
   "source": [
    "titanic_df.columns"
   ]
  },
  {
   "cell_type": "markdown",
   "id": "74e6767b-b51e-48ae-bade-429108e88c90",
   "metadata": {},
   "source": [
    "To view the data types of these column you can use `dataframe_name.dtypes`:"
   ]
  },
  {
   "cell_type": "code",
   "execution_count": 13,
   "id": "e43ba7af-7729-4ed1-8cce-2138b75086cf",
   "metadata": {},
   "outputs": [
    {
     "data": {
      "text/plain": [
       "PassengerId      int64\n",
       "Survived         int64\n",
       "Pclass           int64\n",
       "Name            object\n",
       "Sex             object\n",
       "Age            float64\n",
       "SibSp            int64\n",
       "Parch            int64\n",
       "Ticket          object\n",
       "Fare           float64\n",
       "Cabin           object\n",
       "Embarked        object\n",
       "dtype: object"
      ]
     },
     "execution_count": 13,
     "metadata": {},
     "output_type": "execute_result"
    }
   ],
   "source": [
    "titanic_df.dtypes"
   ]
  },
  {
   "cell_type": "markdown",
   "id": "29bbad80-499d-425b-95ac-4c3ad336fd80",
   "metadata": {},
   "source": [
    "**<span style='color:blue'>Note</span>** : strings will be classified as `objects`, but you should check since you can't assume that object always means string"
   ]
  },
  {
   "cell_type": "markdown",
   "id": "c1e5617c-c11d-4e51-b9aa-02ee122a63ea",
   "metadata": {},
   "source": [
    "You can also display both of these pieces of information with `dataframe_name.info()`:"
   ]
  },
  {
   "cell_type": "code",
   "execution_count": 9,
   "id": "50abe4ed-9ff6-4077-b3be-fcf048b77d95",
   "metadata": {},
   "outputs": [
    {
     "name": "stdout",
     "output_type": "stream",
     "text": [
      "<class 'pandas.core.frame.DataFrame'>\n",
      "RangeIndex: 891 entries, 0 to 890\n",
      "Data columns (total 12 columns):\n",
      " #   Column       Non-Null Count  Dtype  \n",
      "---  ------       --------------  -----  \n",
      " 0   PassengerId  891 non-null    int64  \n",
      " 1   Survived     891 non-null    int64  \n",
      " 2   Pclass       891 non-null    int64  \n",
      " 3   Name         891 non-null    object \n",
      " 4   Sex          891 non-null    object \n",
      " 5   Age          714 non-null    float64\n",
      " 6   SibSp        891 non-null    int64  \n",
      " 7   Parch        891 non-null    int64  \n",
      " 8   Ticket       891 non-null    object \n",
      " 9   Fare         891 non-null    float64\n",
      " 10  Cabin        204 non-null    object \n",
      " 11  Embarked     889 non-null    object \n",
      "dtypes: float64(2), int64(5), object(5)\n",
      "memory usage: 83.7+ KB\n"
     ]
    }
   ],
   "source": [
    "titanic_df.info()"
   ]
  },
  {
   "cell_type": "markdown",
   "id": "ed46b617-810d-4d4a-b8d9-b710a79bfbbb",
   "metadata": {},
   "source": [
    "### Understand Your Categorical Data"
   ]
  },
  {
   "cell_type": "markdown",
   "id": "9b16d9a4-b917-42fe-91b1-fde39f60351f",
   "metadata": {},
   "source": [
    "For columns that are categorical, you will want to determine what the categories mean and what the possible categories are, especially if those categories are abstracted in some way (e.g. each category turned into a number). "
   ]
  },
  {
   "cell_type": "markdown",
   "id": "b5d32bb3-dfd9-4210-8216-6b6358b87e5b",
   "metadata": {},
   "source": [
    "To see the number of unqiue values in each column you can use `dataframe_name.nunique()` (this function can also help you determine which columns are categorical):"
   ]
  },
  {
   "cell_type": "code",
   "execution_count": 16,
   "id": "b3fdd91e-00eb-43ca-88d2-2ce690aa841a",
   "metadata": {},
   "outputs": [
    {
     "data": {
      "text/plain": [
       "PassengerId    891\n",
       "Survived         2\n",
       "Pclass           3\n",
       "Name           891\n",
       "Sex              2\n",
       "Age             88\n",
       "SibSp            7\n",
       "Parch            7\n",
       "Ticket         681\n",
       "Fare           248\n",
       "Cabin          147\n",
       "Embarked         3\n",
       "dtype: int64"
      ]
     },
     "execution_count": 16,
     "metadata": {},
     "output_type": "execute_result"
    }
   ],
   "source": [
    "titanic_df.nunique()"
   ]
  },
  {
   "cell_type": "markdown",
   "id": "0a301295-7370-4e08-8bcf-a9cb5d4018fc",
   "metadata": {},
   "source": [
    "To actually see each of the values that show up in a column you can use `dataframe_name['column name'].unique()`. "
   ]
  },
  {
   "cell_type": "code",
   "execution_count": 21,
   "id": "8382813c-574d-41b4-899a-4fa7cc82eb95",
   "metadata": {},
   "outputs": [
    {
     "data": {
      "text/plain": [
       "array(['S', 'C', 'Q', nan], dtype=object)"
      ]
     },
     "execution_count": 21,
     "metadata": {},
     "output_type": "execute_result"
    }
   ],
   "source": [
    "titanic_df['Embarked'].unique()"
   ]
  },
  {
   "cell_type": "markdown",
   "id": "27647627-9719-4d7c-b629-6afe6cd21217",
   "metadata": {},
   "source": [
    "To see how many of each category are in the column you can use `dataframe_name['column name'].value_counts()`:"
   ]
  },
  {
   "cell_type": "code",
   "execution_count": 22,
   "id": "f58c1285-d9b9-4779-b1d9-cb3df87254a2",
   "metadata": {},
   "outputs": [
    {
     "data": {
      "text/plain": [
       "S    644\n",
       "C    168\n",
       "Q     77\n",
       "Name: Embarked, dtype: int64"
      ]
     },
     "execution_count": 22,
     "metadata": {},
     "output_type": "execute_result"
    }
   ],
   "source": [
    "titanic_df['Embarked'].value_counts()"
   ]
  },
  {
   "cell_type": "code",
   "execution_count": 8,
   "id": "3ed61df6-5a87-4ffc-904f-4fe7d10affca",
   "metadata": {},
   "outputs": [
    {
     "data": {
      "text/plain": [
       "array([0, 1], dtype=int64)"
      ]
     },
     "execution_count": 8,
     "metadata": {},
     "output_type": "execute_result"
    }
   ],
   "source": [
    "# Which of the above categories seems like it will be categorical? Pick one and let's look at the unique values and how many times each shows up\n",
    "titanic_df['Survived'].unique()"
   ]
  },
  {
   "cell_type": "code",
   "execution_count": 9,
   "id": "f50430ae-91f7-48df-b276-b62ecdc081f2",
   "metadata": {},
   "outputs": [
    {
     "data": {
      "text/plain": [
       "0    549\n",
       "1    342\n",
       "Name: Survived, dtype: int64"
      ]
     },
     "execution_count": 9,
     "metadata": {},
     "output_type": "execute_result"
    }
   ],
   "source": [
    "titanic_df['Survived'].value_counts()"
   ]
  },
  {
   "cell_type": "markdown",
   "id": "4d54a77d-9eb5-4910-8c8c-f08251a833a9",
   "metadata": {},
   "source": [
    "### Look at How Sparse the Data Is"
   ]
  },
  {
   "cell_type": "markdown",
   "id": "adb7f62a-10d1-43f4-8034-34e19731b76b",
   "metadata": {},
   "source": [
    "**<span style='color:red'>NOTE FOR NEXT TIME TEACHING</span>** : https://towardsdatascience.com/data-cleaning-in-python-the-ultimate-guide-2020-c63b88bf0a0d and https://www.justintodata.com/data-cleaning-techniques-python-guide/ from the data cleaning section includes good methods for visualizing how much data is missing"
   ]
  },
  {
   "cell_type": "markdown",
   "id": "ffb3607c-1e18-4fd9-b1ea-69f880f4cceb",
   "metadata": {},
   "source": [
    "**<span style='color:blue'>Sparseness</span>** refers to how much of the data is missing from the dataset. Datasets or individual columns that are very sparse will have a lot of data missing, which can be problematic for analysis. "
   ]
  },
  {
   "cell_type": "markdown",
   "id": "3dc09288-3428-4eff-ae3a-0bc01e0fd524",
   "metadata": {},
   "source": [
    "In programming, missing values are called **Null** values. To check how many values are missing from each column you case use `dataframe_name.isnull().sum()`:"
   ]
  },
  {
   "cell_type": "code",
   "execution_count": 5,
   "id": "61d5020a-4d23-4c13-8731-865a859a5a5e",
   "metadata": {},
   "outputs": [
    {
     "data": {
      "text/plain": [
       "PassengerId      0\n",
       "Survived         0\n",
       "Pclass           0\n",
       "Name             0\n",
       "Sex              0\n",
       "Age            177\n",
       "SibSp            0\n",
       "Parch            0\n",
       "Ticket           0\n",
       "Fare             0\n",
       "Cabin          687\n",
       "Embarked         2\n",
       "dtype: int64"
      ]
     },
     "execution_count": 5,
     "metadata": {},
     "output_type": "execute_result"
    }
   ],
   "source": [
    "titanic_df.isnull().sum()"
   ]
  },
  {
   "cell_type": "markdown",
   "id": "1056ef79-3171-4487-ac5c-78a4e72960c2",
   "metadata": {},
   "source": [
    "*In what situation would these numbers be problematic?*"
   ]
  },
  {
   "cell_type": "markdown",
   "id": "a34d5cbe-ece3-4338-8be2-84d200a04183",
   "metadata": {},
   "source": [
    "How you will want to handle Null values will depend on the situation. These data values could be missing randomly, or systematically (aka for a reason). When Null values are not random they may provide insights or show valuable trends. "
   ]
  },
  {
   "cell_type": "markdown",
   "id": "5d16cea0-f9c8-474e-981b-afa2e8dcd82f",
   "metadata": {},
   "source": [
    "Some ways you may end up handling Null values:\n",
    "\n",
    "1. Determine that the data is too sparse to provide meaningful results.\n",
    "\n",
    "1. Leave them and just account for them in analysis.\n",
    "\n",
    "1. Delete all of the rows with missing values (*when would this be a good approach?*)\n",
    "\n",
    "1. Fill in the missing values with:\n",
    "\n",
    "    - results from regression\n",
    "    \n",
    "    - the average value for the column\n",
    "    \n",
    "    - the most common value for that column"
   ]
  },
  {
   "cell_type": "markdown",
   "id": "261d3412-c159-483c-816c-73fb152591a4",
   "metadata": {},
   "source": [
    "### Visualize the Data "
   ]
  },
  {
   "cell_type": "markdown",
   "id": "b3a01b17-b700-4cc8-b087-295a600022cd",
   "metadata": {},
   "source": [
    "Coming up in a class soon!"
   ]
  },
  {
   "cell_type": "markdown",
   "id": "cfa386b3-759b-4177-ab57-6cbe82f0033a",
   "metadata": {},
   "source": [
    "### Check In"
   ]
  },
  {
   "cell_type": "markdown",
   "id": "a07146ec-5608-49dc-baff-ca0a3de1b36e",
   "metadata": {},
   "source": [
    "<center><img src=\"https://media.tenor.com/0eCH1vgDVBYAAAAM/its-always-good-to-check-in-dwayne-johnson.gif\" width=\"400\" height=\"400\" />"
   ]
  },
  {
   "cell_type": "markdown",
   "id": "329a8359-5ed8-49e2-b84f-84fdd2a74c30",
   "metadata": {},
   "source": [
    "Once you understand what the columns mean, the nuances of the data that they contain, and have a general idea of the data sparseness, this is a great time to check in with your analysis goals before going further. Is this really the data that you need to answer the questions the analysis is supposed to answer? If not, you should go back and get more/different data instead of wasting too much time with the current data set."
   ]
  },
  {
   "cell_type": "code",
   "execution_count": null,
   "id": "e6fe0638-67c2-4f9f-adcb-dfbd8be3d1d5",
   "metadata": {},
   "outputs": [],
   "source": []
  }
 ],
 "metadata": {
  "kernelspec": {
   "display_name": "Python 3 (ipykernel)",
   "language": "python",
   "name": "python3"
  },
  "language_info": {
   "codemirror_mode": {
    "name": "ipython",
    "version": 3
   },
   "file_extension": ".py",
   "mimetype": "text/x-python",
   "name": "python",
   "nbconvert_exporter": "python",
   "pygments_lexer": "ipython3",
   "version": "3.9.12"
  }
 },
 "nbformat": 4,
 "nbformat_minor": 5
}
