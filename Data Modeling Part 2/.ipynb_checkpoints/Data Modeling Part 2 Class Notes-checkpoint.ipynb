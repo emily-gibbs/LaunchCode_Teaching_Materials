{
 "cells": [
  {
   "cell_type": "markdown",
   "id": "0bc427a2-4c2b-4748-80ec-75ff668785d4",
   "metadata": {},
   "source": [
    "# What is Data Science? "
   ]
  },
  {
   "cell_type": "markdown",
   "id": "db28a50e-b6ee-491b-82f1-3a522cba4265",
   "metadata": {},
   "source": [
    "<center><img src=\"https://i.morioh.com/d2ae7e7467.png\" width=\"500\" height=\"500\" />"
   ]
  },
  {
   "cell_type": "markdown",
   "id": "c6d21873-8f26-4b51-a103-47e86dae260a",
   "metadata": {},
   "source": [
    "In a nutshell, data science combines machine learning with data analysis to solve many different types of problems. "
   ]
  },
  {
   "cell_type": "markdown",
   "id": "1dccc831-9e00-4c90-90c5-07780c839e48",
   "metadata": {},
   "source": [
    "# What is Machine Learning? "
   ]
  },
  {
   "cell_type": "markdown",
   "id": "07e46c0a-a823-4238-b335-e391e3a35747",
   "metadata": {},
   "source": [
    "<center><img src=\"https://th.bing.com/th/id/R.b6b5a3a73f568bd1f2b588feb93cd02a?rik=d0gt%2bmbw7VaQOw&riu=http%3a%2f%2fwww.favouriteblog.com%2fwp-content%2fuploads%2f2017%2f07%2fTypes-of-Learning.png&ehk=z%2btK2BpOxRNtB3u4Gis9bn3dIkKxuVwcqmENF9cGlx0%3d&risl=&pid=ImgRaw&r=0\" width=\"800\" height=\"800\" />"
   ]
  },
  {
   "cell_type": "markdown",
   "id": "7481870f-659e-45b7-bbf5-233640b9834e",
   "metadata": {},
   "source": [
    "**Machine Learning** is the practice of using mathematical models to identify patterns within data and use those patterns to make predictions on data that was not used for training. This is all done without having to explicitly program the rules used for making those predictions. "
   ]
  },
  {
   "cell_type": "markdown",
   "id": "7f538fc9-778e-42b1-a042-3f3ce8633991",
   "metadata": {},
   "source": [
    "# What Type of Data Does ML Work With?"
   ]
  },
  {
   "cell_type": "markdown",
   "id": "6fcb3af3-5c81-4ff6-b291-2a2a4754b4b5",
   "metadata": {},
   "source": [
    "So many different kinds! But they all have something in common: independent and dependent variables."
   ]
  },
  {
   "cell_type": "markdown",
   "id": "59ca944a-cc8b-41ad-adcc-32fae1f8f3d2",
   "metadata": {},
   "source": [
    "**Independent Variables** : These are variables that are 'features' of your particular problem. These are what a model takes in as input. For instance, if you are comparing houses some of the 'features' of the houses could be the square footage, age, number of rooms, type of flooring, etc."
   ]
  },
  {
   "cell_type": "markdown",
   "id": "35c28212-6ab6-41d8-8f97-115d693caa28",
   "metadata": {},
   "source": [
    "**Dependent Variables** : These are the variables that depend on/are determined by the independent variables. Generally an ML model will only have a single dependent variable. It is the output of a model, and what we are trying to get a model to predict based on the independent variables that are input. For examples, if the independent variables are features of a house the dependent variable could be the price of the house, or the probability that it will sell. "
   ]
  },
  {
   "cell_type": "markdown",
   "id": "3862de36-6844-46cd-b87e-2af4156ba6d0",
   "metadata": {},
   "source": [
    "# Types of Problems You Can Solve with Machine Learning"
   ]
  },
  {
   "cell_type": "markdown",
   "id": "e08c5fa1-94ae-4c31-b03c-e96ba0b01ae8",
   "metadata": {},
   "source": [
    "<center><img src=\"https://cdn-images-1.medium.com/max/1600/1*xs6Jr4iAPvoqszF9JgDWOA.png\" width=\"800\" height=\"800\" />"
   ]
  },
  {
   "cell_type": "markdown",
   "id": "381c3040-16e1-4725-a0f6-8e3f3f18e916",
   "metadata": {},
   "source": [
    "### Regression Problem"
   ]
  },
  {
   "cell_type": "markdown",
   "id": "62f2040e-8d15-485d-b5ff-2b0e7306ddc2",
   "metadata": {},
   "source": [
    "This is the type of problem where the output is continuous. In our housing example, this would be the situation where you are trying to predict a house's selling price (dependent variable) based on the house features (independent variables). "
   ]
  },
  {
   "cell_type": "markdown",
   "id": "43870abc-f481-4dd0-925b-a17a0145e76a",
   "metadata": {},
   "source": [
    "<center><img src=\"https://static.wixstatic.com/media/300f21_4adf885a744d4f538991abe20d511c48~mv2.png/v1/fit/w_400%2Ch_400%2Cal_c/file.png\" width=\"500\" height=\"500\" />"
   ]
  },
  {
   "cell_type": "markdown",
   "id": "8ad135fd-f614-4322-be74-71a2b46cabb3",
   "metadata": {},
   "source": [
    "Examples of regression problems:\n",
    "* Prediction temperature\n",
    "* Predicting revenue\n",
    "* prediction sales price"
   ]
  },
  {
   "cell_type": "markdown",
   "id": "f4a9c121-0fb4-4d88-827f-e1e3bc4c3c92",
   "metadata": {},
   "source": [
    "Popular regression algorithms include:\n",
    "* Linear/Polynomial regression\n",
    "* Support vector regression\n",
    "* Regression trees"
   ]
  },
  {
   "cell_type": "markdown",
   "id": "e2984e66-0eb4-458d-88a5-08299dd031f9",
   "metadata": {},
   "source": [
    "### Classification Problem"
   ]
  },
  {
   "cell_type": "markdown",
   "id": "cc10ab33-42eb-4d7a-ab3e-bbd5b515a571",
   "metadata": {},
   "source": [
    "This is the type of problem where the output is discrete. Again with our housing example, if were were instead trying to predict whether the house is safe to live in or not it would be a classification problem. There are only two possible results (called the 'classes') - Safe and Not Safe. A classification problem must at least have two classes, but can have many more. You can think of classification models as working to determine the boundaries between the classes."
   ]
  },
  {
   "cell_type": "markdown",
   "id": "810bc70e-7d4e-4997-8039-ed9c5d5da065",
   "metadata": {},
   "source": [
    "<center><img src=\"Classification Visual.jpg\" width=\"800\" height=\"800\" />"
   ]
  },
  {
   "cell_type": "markdown",
   "id": "ef6b8156-a293-44d1-9c27-30ffbe6310da",
   "metadata": {},
   "source": [
    "Some examples of classification problems:\n",
    "* Classifying objects in an image\n",
    "* Finding duplicate records in a dataset\n",
    "* Fraud detection\n",
    "* Spam filtering\n",
    "* Customer Churn prediction\n",
    "* Document classification\n",
    "* and so many more!"
   ]
  },
  {
   "cell_type": "markdown",
   "id": "215bc910-9fc8-4a05-955d-6d5049d7eda1",
   "metadata": {},
   "source": [
    "Popular classification algorithms include:\n",
    "* Logistic regression\n",
    "* Support vector classification\n",
    "* Decision Trees and Random Forests\n",
    "* Naive Bayes Classification\n",
    "* Neural Networks"
   ]
  },
  {
   "cell_type": "markdown",
   "id": "d67581a8-ba3c-47ee-b100-23e25020bb7c",
   "metadata": {},
   "source": [
    "# Do You Have the Data You Need? "
   ]
  },
  {
   "cell_type": "markdown",
   "id": "22324ac3-8449-47ab-9d9a-8a706278ff0a",
   "metadata": {},
   "source": [
    "Usually to train a ML model you give it a lot of examples of independent variables (features) with their correctly resulting dependent variable ('answer') so that the model can 'learn' by example. Data that includes the correct answer is what we call **labeled data**, and using labeled data to train a model is called **supervised learning**."
   ]
  },
  {
   "cell_type": "markdown",
   "id": "e2a3573a-c946-4a05-98fb-e9493078f190",
   "metadata": {},
   "source": [
    "But what if you don't have data with the correct answer assigned to each example? You can still do ML, just a different kind called **unsupervised learning*."
   ]
  },
  {
   "cell_type": "code",
   "execution_count": null,
   "id": "b35031bd-6cb2-471a-a8b0-160f4bc9f15b",
   "metadata": {},
   "outputs": [],
   "source": []
  }
 ],
 "metadata": {
  "kernelspec": {
   "display_name": "Python 3 (ipykernel)",
   "language": "python",
   "name": "python3"
  },
  "language_info": {
   "codemirror_mode": {
    "name": "ipython",
    "version": 3
   },
   "file_extension": ".py",
   "mimetype": "text/x-python",
   "name": "python",
   "nbconvert_exporter": "python",
   "pygments_lexer": "ipython3",
   "version": "3.8.8"
  }
 },
 "nbformat": 4,
 "nbformat_minor": 5
}
