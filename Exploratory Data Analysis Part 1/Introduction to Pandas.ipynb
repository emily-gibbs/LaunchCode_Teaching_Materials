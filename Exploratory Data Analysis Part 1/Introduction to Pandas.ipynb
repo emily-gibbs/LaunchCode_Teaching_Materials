{
 "cells": [
  {
   "cell_type": "markdown",
   "id": "1c32c571-28cd-4a49-a820-85b19e39072b",
   "metadata": {},
   "source": [
    "# Introduction to Pandas"
   ]
  },
  {
   "cell_type": "markdown",
   "id": "3a64bea9-af73-4580-b6f9-7f3a7921f995",
   "metadata": {},
   "source": [
    "We're starting to work with data!!! So far we've learned different types of data:\n",
    "* ints\n",
    "* floats\n",
    "* booleans\n",
    "* strings (text)\n",
    "* qualitative vs. quantitative\n",
    "* discrete vs. continuous\n",
    "* numerical vs. categorical"
   ]
  },
  {
   "cell_type": "markdown",
   "id": "ab98b42f-4b59-480d-a057-fcfebb41af88",
   "metadata": {},
   "source": [
    "And we've also learned different ways that this data can be organized (structures):\n",
    "* variables\n",
    "* lists\n",
    "* dictionaries"
   ]
  },
  {
   "cell_type": "markdown",
   "id": "46d6d3ec-9540-4435-a2f0-4dc59fe741b8",
   "metadata": {},
   "source": [
    "And we've learned that there are a lot of steps in the data analysis process for working with this data! But how do we actually perform those steps? Fortunately there is a package written for Python that makes working with data much easier - **<span style='color:blue'>Pandas</span>**!"
   ]
  },
  {
   "cell_type": "markdown",
   "id": "1a446e03-d23c-4ba0-bee3-aeb89b68bdbf",
   "metadata": {},
   "source": [
    "Pandas is basically the de facto data analysis package for python. It has its own structure for working with data (series and dataframes), provides many common commands for actions data analysts often do with their data, and it integrates really well with other packages (like the matplotlib package for plotting that we'll learn about in a future class!)."
   ]
  },
  {
   "cell_type": "markdown",
   "id": "df085630-3254-4e2a-a774-54a39b925db0",
   "metadata": {},
   "source": [
    "<center><img src=\"https://media1.giphy.com/media/VCzhhGsOVH2PNIa3hQ/giphy.gif\" width=\"400\" height=\"400\" />"
   ]
  },
  {
   "cell_type": "markdown",
   "id": "97da9406-9324-4885-b740-4b73a420ecab",
   "metadata": {},
   "source": [
    "## Prerequisites"
   ]
  },
  {
   "cell_type": "markdown",
   "id": "043c9cd9-722a-4785-a511-7805931e2ec2",
   "metadata": {},
   "source": [
    "Pandas is a **package** in Python, which means we need to *import* it in order to tell our python code that we are using it. To do that we use the following format:\n",
    "\n",
    "```\n",
    "import package_name as name_you_use_to_refer_to_the_package\n",
    "```\n",
    "\n",
    "So for pandas the convention is to always import it as `pd` like below:"
   ]
  },
  {
   "cell_type": "code",
   "execution_count": 3,
   "id": "d8eb0fd0-795f-450e-b61f-2d05664adc01",
   "metadata": {},
   "outputs": [],
   "source": [
    "import pandas as pd"
   ]
  },
  {
   "cell_type": "markdown",
   "id": "2800cece-a629-439a-abdb-5429c86851e9",
   "metadata": {},
   "source": [
    "**<span style='color:red'>Warning</span>** : If you get an error with this code for some reason, that means that you haven't installed pandas yet and so Python can't import it."
   ]
  },
  {
   "cell_type": "markdown",
   "id": "df66aead-c1f6-42a3-9857-0e82154c1dce",
   "metadata": {},
   "source": [
    "Now anywhere where you want to use a command that comes from the pandas library you just have to use `pd.command_name` to tell python where to look for the code for that command."
   ]
  },
  {
   "cell_type": "markdown",
   "id": "0ca6d358-f093-4755-9298-55948b81e45d",
   "metadata": {},
   "source": [
    "## Series"
   ]
  },
  {
   "cell_type": "markdown",
   "id": "99e4e9bb-b2fb-4368-b803-6715ffdc7725",
   "metadata": {},
   "source": [
    "The most basic data structure in pandas is a **<span style='color:blue'>series</span>**. A Series is very similar to a list, except that when you print it out it will explicitely say what the index values are and you can change those values based on the data. These indices are then more like row labels than the numerical position of the item in the list."
   ]
  },
  {
   "cell_type": "code",
   "execution_count": 1,
   "id": "c16c09f9-63be-4d86-911c-3b9fbab2bab4",
   "metadata": {},
   "outputs": [
    {
     "name": "stdout",
     "output_type": "stream",
     "text": [
      "['eggs', 'cheese', 'bacon']\n"
     ]
    }
   ],
   "source": [
    "my_list = ['eggs', 'cheese', 'bacon']\n",
    "print(my_list)"
   ]
  },
  {
   "cell_type": "code",
   "execution_count": 2,
   "id": "88853781-1716-42cb-ae83-f92020d56cb1",
   "metadata": {},
   "outputs": [
    {
     "data": {
      "text/plain": [
       "'cheese'"
      ]
     },
     "execution_count": 2,
     "metadata": {},
     "output_type": "execute_result"
    }
   ],
   "source": [
    "my_list[1]"
   ]
  },
  {
   "cell_type": "markdown",
   "id": "1f7ec80f-8b86-4804-9ec9-acde612f30a7",
   "metadata": {},
   "source": [
    "You even define a series with a list:\n",
    "\n",
    "```\n",
    "series_name = pd.Series(data = [list of values], index = [list of row labels])\n",
    "```\n",
    "\n",
    "The index parameter is optional, and if you don't provide values they will just be like the normal list index values:"
   ]
  },
  {
   "cell_type": "code",
   "execution_count": 6,
   "id": "0f304c1f-7905-48b3-81fa-bd66ce08e47b",
   "metadata": {},
   "outputs": [
    {
     "name": "stdout",
     "output_type": "stream",
     "text": [
      "123       Hannah\n",
      "456        Henry\n",
      "789    Henrietta\n",
      "000     Humphrey\n",
      "dtype: object\n"
     ]
    }
   ],
   "source": [
    "employee_ids = ['123', '456', '789', '000']\n",
    "employees = pd.Series(data=['Hannah', 'Henry', 'Henrietta', 'Humphrey'], index=employee_ids)\n",
    "print(employees)"
   ]
  },
  {
   "cell_type": "markdown",
   "id": "65c9f0d1-fc98-4ec1-83de-eaf5d9e0ae28",
   "metadata": {},
   "source": [
    "Then working with them is very similar to a list as well. If you want a specific value out of a Series, you use square brackets with the index location or the row label:"
   ]
  },
  {
   "cell_type": "code",
   "execution_count": 28,
   "id": "ec394249-e87c-4dc4-b716-16d2b84620b7",
   "metadata": {},
   "outputs": [
    {
     "data": {
      "text/plain": [
       "'Hannah'"
      ]
     },
     "execution_count": 28,
     "metadata": {},
     "output_type": "execute_result"
    }
   ],
   "source": [
    "employees[0] # Using just the index location"
   ]
  },
  {
   "cell_type": "code",
   "execution_count": 29,
   "id": "97b59acf-7b59-4f76-bf60-9b2352123c60",
   "metadata": {},
   "outputs": [
    {
     "data": {
      "text/plain": [
       "'Hannah'"
      ]
     },
     "execution_count": 29,
     "metadata": {},
     "output_type": "execute_result"
    }
   ],
   "source": [
    "employees['123'] # Using the specific row label"
   ]
  },
  {
   "cell_type": "markdown",
   "id": "2e46e3a4-6450-4ad5-925f-67526df6d79e",
   "metadata": {},
   "source": [
    "With pandas, series are like individual columns of a table."
   ]
  },
  {
   "cell_type": "markdown",
   "id": "cacaa944-2820-4a1e-8cc5-5be136cb1bd4",
   "metadata": {},
   "source": [
    "## Dataframes"
   ]
  },
  {
   "cell_type": "markdown",
   "id": "a2010305-d086-4ddd-a53c-7770fb5f6aba",
   "metadata": {},
   "source": [
    "*In what formats have you seen data in your experiences?*"
   ]
  },
  {
   "cell_type": "markdown",
   "id": "d7a77f24-1ac1-4450-8544-557cca9ef5c2",
   "metadata": {},
   "source": [
    "Likely one of those formats has been a table. This is the general anatomy of a table that holds data:"
   ]
  },
  {
   "cell_type": "markdown",
   "id": "f5637323-bbeb-4f91-993c-511323a9367f",
   "metadata": {},
   "source": [
    "<center><img src=\"https://bam.files.bbci.co.uk/bam/live/content/zvxgd2p/large\" width=\"600\" height=\"600\" />"
   ]
  },
  {
   "cell_type": "markdown",
   "id": "24a3d5ff-157f-47d6-ac8b-31a8b463f40e",
   "metadata": {},
   "source": [
    "**Field** : usually a column of a table; holds a certain piece of information\n",
    "\n",
    "**Record** : usually a row of a table; holds all of the different pieces of information for a single instance\n",
    "\n",
    "**Unit** : a single cell of the table (intersection of a row and column)"
   ]
  },
  {
   "cell_type": "markdown",
   "id": "b733213d-d85d-4bc7-86df-11b4e1aa4be4",
   "metadata": {},
   "source": [
    "A **<span style='color:blue'>dataframe</span>** is just the main way that we make tables in Python. It is like glueing multiple series together that all have the same row labels."
   ]
  },
  {
   "cell_type": "markdown",
   "id": "7bbaf18b-b461-407e-8486-5eb42982b9c6",
   "metadata": {},
   "source": [
    "## Creating a Dataframe"
   ]
  },
  {
   "cell_type": "markdown",
   "id": "6b44d785-c32f-4cd9-afde-8aa54662110d",
   "metadata": {},
   "source": [
    "You can either create a dataframe from scratch, or read in data from another compatible format like an excel/csv file."
   ]
  },
  {
   "cell_type": "markdown",
   "id": "7bf67c8f-f8fd-4743-8b8f-da8c36286fc5",
   "metadata": {},
   "source": [
    "The most used format for creating a DataFrame from scratch is with a dictionary-like format:\n",
    "\n",
    "```\n",
    "dataframe_name = pd.DataFrame(\n",
    "    data = {\n",
    "        'column_name' : [list or Series of column values],\n",
    "        'column_name2' : [list or Series of column 2 values],\n",
    "        ...\n",
    "    },\n",
    "    index = [list of row lables]\n",
    ")\n",
    "```\n",
    "\n",
    "So the `data` parameter is given a dictionary where the keys of the dictionary are the names of the columns in the table, and the values of those keys are the units of data within those rows (order matters!). The `index` parameter is for if you want specific labels for the rows, but if you don't care what the indices of the rows are, you can leave the index parameter out and the dataframe with automatically assign indices to the rows."
   ]
  },
  {
   "cell_type": "code",
   "execution_count": 7,
   "id": "4ecf61fb-7e26-4869-8d78-3676bb7889e6",
   "metadata": {},
   "outputs": [],
   "source": [
    "employees_df = pd.DataFrame(\n",
    "    data = {\n",
    "        'name' : employees, # using an already defined Series\n",
    "        'age' : [24, 56, 61, 32], # using a list\n",
    "        'department' : ['sales', 'marketing', 'development', 'sales']\n",
    "    }\n",
    ")"
   ]
  },
  {
   "cell_type": "code",
   "execution_count": 15,
   "id": "d3337057-dc1a-4907-878c-fbb55c517254",
   "metadata": {},
   "outputs": [
    {
     "data": {
      "text/html": [
       "<div>\n",
       "<style scoped>\n",
       "    .dataframe tbody tr th:only-of-type {\n",
       "        vertical-align: middle;\n",
       "    }\n",
       "\n",
       "    .dataframe tbody tr th {\n",
       "        vertical-align: top;\n",
       "    }\n",
       "\n",
       "    .dataframe thead th {\n",
       "        text-align: right;\n",
       "    }\n",
       "</style>\n",
       "<table border=\"1\" class=\"dataframe\">\n",
       "  <thead>\n",
       "    <tr style=\"text-align: right;\">\n",
       "      <th></th>\n",
       "      <th>name</th>\n",
       "      <th>age</th>\n",
       "      <th>department</th>\n",
       "    </tr>\n",
       "  </thead>\n",
       "  <tbody>\n",
       "    <tr>\n",
       "      <th>123</th>\n",
       "      <td>Hannah</td>\n",
       "      <td>24</td>\n",
       "      <td>sales</td>\n",
       "    </tr>\n",
       "    <tr>\n",
       "      <th>456</th>\n",
       "      <td>Henry</td>\n",
       "      <td>56</td>\n",
       "      <td>marketing</td>\n",
       "    </tr>\n",
       "    <tr>\n",
       "      <th>789</th>\n",
       "      <td>Henrietta</td>\n",
       "      <td>61</td>\n",
       "      <td>development</td>\n",
       "    </tr>\n",
       "    <tr>\n",
       "      <th>000</th>\n",
       "      <td>Humphrey</td>\n",
       "      <td>32</td>\n",
       "      <td>sales</td>\n",
       "    </tr>\n",
       "  </tbody>\n",
       "</table>\n",
       "</div>"
      ],
      "text/plain": [
       "          name  age   department\n",
       "123     Hannah   24        sales\n",
       "456      Henry   56    marketing\n",
       "789  Henrietta   61  development\n",
       "000   Humphrey   32        sales"
      ]
     },
     "execution_count": 15,
     "metadata": {},
     "output_type": "execute_result"
    }
   ],
   "source": [
    "employees_df"
   ]
  },
  {
   "cell_type": "markdown",
   "id": "c72ca7ba-3eb4-4d31-9bfe-94a448083a4d",
   "metadata": {},
   "source": [
    "Notice how it brought along the row labels from the Series we used!"
   ]
  },
  {
   "cell_type": "markdown",
   "id": "51ad134e-6fd6-44a6-8bee-d0aeaedc9dd4",
   "metadata": {},
   "source": [
    "These are the different parts of this kind of dataframe:"
   ]
  },
  {
   "cell_type": "markdown",
   "id": "441fd339-75c7-4623-a7c1-5dff97af2001",
   "metadata": {},
   "source": [
    "<center><img src=\"https://files.realpython.com/media/fig-1.d6e5d754edf5.png\" width=\"600\" height=\"600\" />"
   ]
  },
  {
   "cell_type": "code",
   "execution_count": 9,
   "id": "4e981de7-cdda-433e-a2ca-9646ab2c015d",
   "metadata": {},
   "outputs": [
    {
     "data": {
      "text/html": [
       "<div>\n",
       "<style scoped>\n",
       "    .dataframe tbody tr th:only-of-type {\n",
       "        vertical-align: middle;\n",
       "    }\n",
       "\n",
       "    .dataframe tbody tr th {\n",
       "        vertical-align: top;\n",
       "    }\n",
       "\n",
       "    .dataframe thead th {\n",
       "        text-align: right;\n",
       "    }\n",
       "</style>\n",
       "<table border=\"1\" class=\"dataframe\">\n",
       "  <thead>\n",
       "    <tr style=\"text-align: right;\">\n",
       "      <th></th>\n",
       "      <th>Apples</th>\n",
       "      <th>Bananas</th>\n",
       "    </tr>\n",
       "  </thead>\n",
       "  <tbody>\n",
       "    <tr>\n",
       "      <th>2017 Sales</th>\n",
       "      <td>35</td>\n",
       "      <td>21</td>\n",
       "    </tr>\n",
       "    <tr>\n",
       "      <th>2018 Sales</th>\n",
       "      <td>41</td>\n",
       "      <td>34</td>\n",
       "    </tr>\n",
       "  </tbody>\n",
       "</table>\n",
       "</div>"
      ],
      "text/plain": [
       "            Apples  Bananas\n",
       "2017 Sales      35       21\n",
       "2018 Sales      41       34"
      ]
     },
     "execution_count": 9,
     "metadata": {},
     "output_type": "execute_result"
    }
   ],
   "source": [
    "# How would you create a dataframe that looks like the example below?\n",
    "fruit_df = pd.DataFrame(\n",
    "    data = {\n",
    "        'Apples':[35, 41],\n",
    "        'Bananas':[21, 34]\n",
    "    },\n",
    "    index = ['2017 Sales', '2018 Sales']\n",
    ")\n",
    "\n",
    "fruit_df"
   ]
  },
  {
   "cell_type": "code",
   "execution_count": 21,
   "id": "32980fe1-7f0d-4622-b244-9ab1a942ff9b",
   "metadata": {},
   "outputs": [
    {
     "name": "stdout",
     "output_type": "stream",
     "text": [
      "[[35, 41], [12, 34]]\n"
     ]
    }
   ],
   "source": [
    "apples = [35, 41]\n",
    "bananas = [12, 34]\n",
    "\n",
    "fruits = [apples, bananas]\n",
    "print(fruits)"
   ]
  },
  {
   "cell_type": "code",
   "execution_count": 20,
   "id": "e911d4ad-98f1-4b92-b743-d5d58acba8d9",
   "metadata": {},
   "outputs": [
    {
     "data": {
      "text/html": [
       "<div>\n",
       "<style scoped>\n",
       "    .dataframe tbody tr th:only-of-type {\n",
       "        vertical-align: middle;\n",
       "    }\n",
       "\n",
       "    .dataframe tbody tr th {\n",
       "        vertical-align: top;\n",
       "    }\n",
       "\n",
       "    .dataframe thead th {\n",
       "        text-align: right;\n",
       "    }\n",
       "</style>\n",
       "<table border=\"1\" class=\"dataframe\">\n",
       "  <thead>\n",
       "    <tr style=\"text-align: right;\">\n",
       "      <th></th>\n",
       "      <th>Apples</th>\n",
       "      <th>Bananas</th>\n",
       "    </tr>\n",
       "  </thead>\n",
       "  <tbody>\n",
       "    <tr>\n",
       "      <th>2017 Sales</th>\n",
       "      <td>35.0</td>\n",
       "      <td>NaN</td>\n",
       "    </tr>\n",
       "    <tr>\n",
       "      <th>2018 Sales</th>\n",
       "      <td>41.0</td>\n",
       "      <td>NaN</td>\n",
       "    </tr>\n",
       "    <tr>\n",
       "      <th>2019 Sales</th>\n",
       "      <td>NaN</td>\n",
       "      <td>21.0</td>\n",
       "    </tr>\n",
       "    <tr>\n",
       "      <th>2020 Sales</th>\n",
       "      <td>NaN</td>\n",
       "      <td>34.0</td>\n",
       "    </tr>\n",
       "  </tbody>\n",
       "</table>\n",
       "</div>"
      ],
      "text/plain": [
       "            Apples  Bananas\n",
       "2017 Sales    35.0      NaN\n",
       "2018 Sales    41.0      NaN\n",
       "2019 Sales     NaN     21.0\n",
       "2020 Sales     NaN     34.0"
      ]
     },
     "execution_count": 20,
     "metadata": {},
     "output_type": "execute_result"
    }
   ],
   "source": [
    "years = ['2017 Sales', '2018 Sales']\n",
    "apples = pd.Series([35,41], name='Apples', index=['2017 Sales', '2018 Sales'])\n",
    "bananas = pd.Series([21, 34], name='Bananas', index=['2019 Sales', '2020 Sales'])\n",
    "\n",
    "fruits_2 = pd.DataFrame(\n",
    "    data = {\n",
    "        'Apples': apples,\n",
    "        'Bananas': bananas\n",
    "    }\n",
    ")\n",
    "\n",
    "fruits_2"
   ]
  },
  {
   "cell_type": "markdown",
   "id": "4acf2ffc-db10-4687-9dcf-cac17f954c48",
   "metadata": {},
   "source": [
    "![](https://i.imgur.com/CHPn7ZF.png)"
   ]
  },
  {
   "cell_type": "markdown",
   "id": "bb11133a-58b3-46fc-98e7-e5c2b96e4fd6",
   "metadata": {},
   "source": [
    "## Viewing A Sample of a Dataframe"
   ]
  },
  {
   "cell_type": "markdown",
   "id": "52604d1c-cee5-40f5-b90d-33baa67aa14b",
   "metadata": {},
   "source": [
    "For our itty bitty dataframe it doesn't matter a lot because there is only 4 rows. But if you have a 10,000 row dataframe you aren't going to want to print the whole thing! Instead you can look at a sample of it by printing just the first several rows with `df_name.head(number_of_rows)`:"
   ]
  },
  {
   "cell_type": "code",
   "execution_count": 25,
   "id": "7f55a9e8-e2dc-4730-8bd8-7f597c310078",
   "metadata": {},
   "outputs": [
    {
     "data": {
      "text/html": [
       "<div>\n",
       "<style scoped>\n",
       "    .dataframe tbody tr th:only-of-type {\n",
       "        vertical-align: middle;\n",
       "    }\n",
       "\n",
       "    .dataframe tbody tr th {\n",
       "        vertical-align: top;\n",
       "    }\n",
       "\n",
       "    .dataframe thead th {\n",
       "        text-align: right;\n",
       "    }\n",
       "</style>\n",
       "<table border=\"1\" class=\"dataframe\">\n",
       "  <thead>\n",
       "    <tr style=\"text-align: right;\">\n",
       "      <th></th>\n",
       "      <th>name</th>\n",
       "      <th>age</th>\n",
       "      <th>department</th>\n",
       "    </tr>\n",
       "  </thead>\n",
       "  <tbody>\n",
       "    <tr>\n",
       "      <th>123</th>\n",
       "      <td>Hannah</td>\n",
       "      <td>24</td>\n",
       "      <td>sales</td>\n",
       "    </tr>\n",
       "    <tr>\n",
       "      <th>456</th>\n",
       "      <td>Henry</td>\n",
       "      <td>56</td>\n",
       "      <td>marketing</td>\n",
       "    </tr>\n",
       "  </tbody>\n",
       "</table>\n",
       "</div>"
      ],
      "text/plain": [
       "       name  age department\n",
       "123  Hannah   24      sales\n",
       "456   Henry   56  marketing"
      ]
     },
     "execution_count": 25,
     "metadata": {},
     "output_type": "execute_result"
    }
   ],
   "source": [
    "employees_df.head(2)"
   ]
  },
  {
   "cell_type": "markdown",
   "id": "dc57bad1-5dfa-4920-b10a-f33ec2906b05",
   "metadata": {},
   "source": [
    "## Selecting Specific Columns in a Dataframe"
   ]
  },
  {
   "cell_type": "code",
   "execution_count": 33,
   "id": "3f16b731-3ce7-4add-b01e-4f05a08e895c",
   "metadata": {},
   "outputs": [
    {
     "data": {
      "text/html": [
       "<div>\n",
       "<style scoped>\n",
       "    .dataframe tbody tr th:only-of-type {\n",
       "        vertical-align: middle;\n",
       "    }\n",
       "\n",
       "    .dataframe tbody tr th {\n",
       "        vertical-align: top;\n",
       "    }\n",
       "\n",
       "    .dataframe thead th {\n",
       "        text-align: right;\n",
       "    }\n",
       "</style>\n",
       "<table border=\"1\" class=\"dataframe\">\n",
       "  <thead>\n",
       "    <tr style=\"text-align: right;\">\n",
       "      <th></th>\n",
       "      <th>name</th>\n",
       "      <th>age</th>\n",
       "      <th>department</th>\n",
       "    </tr>\n",
       "  </thead>\n",
       "  <tbody>\n",
       "    <tr>\n",
       "      <th>123</th>\n",
       "      <td>Hannah</td>\n",
       "      <td>24</td>\n",
       "      <td>sales</td>\n",
       "    </tr>\n",
       "    <tr>\n",
       "      <th>456</th>\n",
       "      <td>Henry</td>\n",
       "      <td>56</td>\n",
       "      <td>marketing</td>\n",
       "    </tr>\n",
       "    <tr>\n",
       "      <th>789</th>\n",
       "      <td>Henrietta</td>\n",
       "      <td>61</td>\n",
       "      <td>development</td>\n",
       "    </tr>\n",
       "    <tr>\n",
       "      <th>000</th>\n",
       "      <td>Humphrey</td>\n",
       "      <td>32</td>\n",
       "      <td>sales</td>\n",
       "    </tr>\n",
       "  </tbody>\n",
       "</table>\n",
       "</div>"
      ],
      "text/plain": [
       "          name  age   department\n",
       "123     Hannah   24        sales\n",
       "456      Henry   56    marketing\n",
       "789  Henrietta   61  development\n",
       "000   Humphrey   32        sales"
      ]
     },
     "execution_count": 33,
     "metadata": {},
     "output_type": "execute_result"
    }
   ],
   "source": [
    "employees_df"
   ]
  },
  {
   "cell_type": "markdown",
   "id": "7b975358-0a03-4446-933d-51048686a746",
   "metadata": {},
   "source": [
    "There are two ways to get a specific column/Series from a dataframe:\n",
    "\n",
    "```\n",
    "dataframe_name.column_name\n",
    "```\n",
    "OR\n",
    "```\n",
    "dataframe_name['column_name']\n",
    "```\n",
    "\n",
    "They both work great EXCEPT if a column name has spaces in it. If that is the case, you have to use the square bracket `[]` version."
   ]
  },
  {
   "cell_type": "code",
   "execution_count": 29,
   "id": "71b45f12-3f68-4666-b059-90b2d6af7104",
   "metadata": {},
   "outputs": [
    {
     "data": {
      "text/plain": [
       "[24, 56, 61, 32]"
      ]
     },
     "execution_count": 29,
     "metadata": {},
     "output_type": "execute_result"
    }
   ],
   "source": [
    "employees_df.age.to_list()"
   ]
  },
  {
   "cell_type": "code",
   "execution_count": 27,
   "id": "26178ede-bf28-4ef2-a708-a3d0fa662039",
   "metadata": {},
   "outputs": [
    {
     "data": {
      "text/plain": [
       "123       Hannah\n",
       "456        Henry\n",
       "789    Henrietta\n",
       "000     Humphrey\n",
       "Name: name, dtype: object"
      ]
     },
     "execution_count": 27,
     "metadata": {},
     "output_type": "execute_result"
    }
   ],
   "source": [
    "employees_df.name"
   ]
  },
  {
   "cell_type": "code",
   "execution_count": 35,
   "id": "9e986ab1-1c6c-46d5-8483-d036f080babf",
   "metadata": {},
   "outputs": [
    {
     "data": {
      "text/plain": [
       "123       Hannah\n",
       "456        Henry\n",
       "789    Henrietta\n",
       "000     Humphrey\n",
       "Name: name, dtype: object"
      ]
     },
     "execution_count": 35,
     "metadata": {},
     "output_type": "execute_result"
    }
   ],
   "source": [
    "employees_df['name']"
   ]
  },
  {
   "cell_type": "markdown",
   "id": "dca5f96c-f208-4ee3-81c8-dde3f5c200f3",
   "metadata": {},
   "source": [
    "<center><img src=\"https://files.realpython.com/media/fig-2.2bee1e181467.png\" width=\"500\" height=\"500\" />"
   ]
  },
  {
   "cell_type": "markdown",
   "id": "9c4c4da2-d5af-4b87-ac1c-b33856ce5791",
   "metadata": {},
   "source": [
    "As you can see, you get back the Series for that column with that column name. If you then want a specific value/unit of data from that column, you just have to use the index/row label like what we did with Series:"
   ]
  },
  {
   "cell_type": "code",
   "execution_count": 36,
   "id": "5dc61f29-f77b-4cbe-8943-6a4df0a53d60",
   "metadata": {},
   "outputs": [
    {
     "data": {
      "text/plain": [
       "'Hannah'"
      ]
     },
     "execution_count": 36,
     "metadata": {},
     "output_type": "execute_result"
    }
   ],
   "source": [
    "employees_df['name'][0]"
   ]
  },
  {
   "cell_type": "code",
   "execution_count": 37,
   "id": "0b664150-c4c4-49c6-af13-cd9f49a66eeb",
   "metadata": {},
   "outputs": [
    {
     "data": {
      "text/plain": [
       "'Hannah'"
      ]
     },
     "execution_count": 37,
     "metadata": {},
     "output_type": "execute_result"
    }
   ],
   "source": [
    "employees_df['name']['123']"
   ]
  },
  {
   "cell_type": "markdown",
   "id": "9b9e0f36-3d46-4b6b-9cfe-e23bab4269ed",
   "metadata": {},
   "source": [
    "## Selecting Specific Rows in a Dataframe"
   ]
  },
  {
   "cell_type": "code",
   "execution_count": 33,
   "id": "76c8681a-22d4-4942-8b3e-ec308bc08fd4",
   "metadata": {},
   "outputs": [
    {
     "data": {
      "text/html": [
       "<div>\n",
       "<style scoped>\n",
       "    .dataframe tbody tr th:only-of-type {\n",
       "        vertical-align: middle;\n",
       "    }\n",
       "\n",
       "    .dataframe tbody tr th {\n",
       "        vertical-align: top;\n",
       "    }\n",
       "\n",
       "    .dataframe thead th {\n",
       "        text-align: right;\n",
       "    }\n",
       "</style>\n",
       "<table border=\"1\" class=\"dataframe\">\n",
       "  <thead>\n",
       "    <tr style=\"text-align: right;\">\n",
       "      <th></th>\n",
       "      <th>name</th>\n",
       "      <th>age</th>\n",
       "      <th>department</th>\n",
       "    </tr>\n",
       "  </thead>\n",
       "  <tbody>\n",
       "    <tr>\n",
       "      <th>123</th>\n",
       "      <td>Hannah</td>\n",
       "      <td>24</td>\n",
       "      <td>sales</td>\n",
       "    </tr>\n",
       "    <tr>\n",
       "      <th>456</th>\n",
       "      <td>Henry</td>\n",
       "      <td>56</td>\n",
       "      <td>marketing</td>\n",
       "    </tr>\n",
       "    <tr>\n",
       "      <th>789</th>\n",
       "      <td>Henrietta</td>\n",
       "      <td>61</td>\n",
       "      <td>development</td>\n",
       "    </tr>\n",
       "    <tr>\n",
       "      <th>000</th>\n",
       "      <td>Humphrey</td>\n",
       "      <td>32</td>\n",
       "      <td>sales</td>\n",
       "    </tr>\n",
       "  </tbody>\n",
       "</table>\n",
       "</div>"
      ],
      "text/plain": [
       "          name  age   department\n",
       "123     Hannah   24        sales\n",
       "456      Henry   56    marketing\n",
       "789  Henrietta   61  development\n",
       "000   Humphrey   32        sales"
      ]
     },
     "execution_count": 33,
     "metadata": {},
     "output_type": "execute_result"
    }
   ],
   "source": [
    "employees_df"
   ]
  },
  {
   "cell_type": "markdown",
   "id": "20014db5-ad57-445e-bdb1-54d69ea3842e",
   "metadata": {},
   "source": [
    "To select a specific row, you can use the `df.iloc[numerical position]` or `df.loc[row label]`:"
   ]
  },
  {
   "cell_type": "code",
   "execution_count": 35,
   "id": "04a427df-949f-4663-b288-b2709607643c",
   "metadata": {},
   "outputs": [
    {
     "data": {
      "text/plain": [
       "name          Hannah\n",
       "age               24\n",
       "department     sales\n",
       "Name: 123, dtype: object"
      ]
     },
     "execution_count": 35,
     "metadata": {},
     "output_type": "execute_result"
    }
   ],
   "source": [
    "employees_df.iloc[0]"
   ]
  },
  {
   "cell_type": "code",
   "execution_count": 39,
   "id": "930942d8-0069-470c-8746-91852866c585",
   "metadata": {},
   "outputs": [
    {
     "data": {
      "text/plain": [
       "name          Hannah\n",
       "age               24\n",
       "department     sales\n",
       "Name: 123, dtype: object"
      ]
     },
     "execution_count": 39,
     "metadata": {},
     "output_type": "execute_result"
    }
   ],
   "source": [
    "employees_df.loc['123']"
   ]
  },
  {
   "cell_type": "markdown",
   "id": "0825da99-c942-4daf-8e1e-eeb59f9435f1",
   "metadata": {},
   "source": [
    "As you can see, this also returns a Series for that row."
   ]
  },
  {
   "cell_type": "markdown",
   "id": "4edaeb94-a42e-4ef1-b66f-8e880a6fe851",
   "metadata": {},
   "source": [
    "<center><img src=\"https://files.realpython.com/media/fig-3.2e2d5c452c23.png\" width=\"600\" height=\"600\" />"
   ]
  },
  {
   "cell_type": "markdown",
   "id": "458b72dd-a7b2-4f89-9a18-47605ce037a4",
   "metadata": {},
   "source": [
    "## Additional Resource"
   ]
  },
  {
   "cell_type": "markdown",
   "id": "9d66fb3b-8445-4bb7-ad30-eadaada34bcb",
   "metadata": {},
   "source": [
    "We are going to continue to talk about and learn how to use Pandas, but for some additional practice I highly recommend the mini lessons on Kaggle : https://www.kaggle.com/learn/pandas"
   ]
  }
 ],
 "metadata": {
  "kernelspec": {
   "display_name": "Python 3 (ipykernel)",
   "language": "python",
   "name": "python3"
  },
  "language_info": {
   "codemirror_mode": {
    "name": "ipython",
    "version": 3
   },
   "file_extension": ".py",
   "mimetype": "text/x-python",
   "name": "python",
   "nbconvert_exporter": "python",
   "pygments_lexer": "ipython3",
   "version": "3.9.12"
  }
 },
 "nbformat": 4,
 "nbformat_minor": 5
}
