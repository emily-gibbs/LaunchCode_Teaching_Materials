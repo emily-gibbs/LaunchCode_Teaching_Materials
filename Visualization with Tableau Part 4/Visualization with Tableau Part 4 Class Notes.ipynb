{
 "cells": [
  {
   "cell_type": "markdown",
   "id": "e53a027d-34f7-45e9-b048-e1cb61cc1ad6",
   "metadata": {},
   "source": [
    "<img src=\"https://media3.giphy.com/media/UqeH2KKx0U65oETdDR/source.gif\" width=\"400\" height=\"400\" />"
   ]
  },
  {
   "cell_type": "markdown",
   "id": "2bd80a84-1d06-4770-b0f8-bfdf0ab041a3",
   "metadata": {},
   "source": [
    "**What do the colors green and blue indicate about fields in the Tableau interface?**"
   ]
  },
  {
   "cell_type": "markdown",
   "id": "b4014bec-464a-40d3-809c-4a358440ab2c",
   "metadata": {},
   "source": [
    "*Blue means that the field is discrete, while green means that it is continuous*"
   ]
  },
  {
   "cell_type": "markdown",
   "id": "e495bdb9-3302-4e41-9e22-c9bc8b76ab33",
   "metadata": {},
   "source": [
    "**What is a Dimension?**"
   ]
  },
  {
   "cell_type": "markdown",
   "id": "d2689889-d747-4584-9d04-08739ba533b7",
   "metadata": {},
   "source": [
    "*A categorical field that is qualitative, descriptive, and usually discrete.*"
   ]
  },
  {
   "cell_type": "markdown",
   "id": "1e9aa1d8-869c-4171-9ac6-eaa973288f99",
   "metadata": {},
   "source": [
    "**What is a Measure?**"
   ]
  },
  {
   "cell_type": "markdown",
   "id": "23dbefb1-099a-42c1-8035-a6affef856ba",
   "metadata": {},
   "source": [
    "*A quantitative field that is numeric, can be aggregated, and usually continuous.*"
   ]
  },
  {
   "cell_type": "markdown",
   "id": "b7b53997-b1b1-43f9-b6a2-e932732572ed",
   "metadata": {},
   "source": [
    "**What are the 3 types of Sheets?**"
   ]
  },
  {
   "cell_type": "markdown",
   "id": "33958e77-84b5-4f71-8e8b-23c8099ae669",
   "metadata": {},
   "source": [
    "1. *Worksheet* - has a single visualization\n",
    "1. *Dashboard* - collection of several views to compare a variety of data all at once\n",
    "1. *Story* - we'll learn about them today!"
   ]
  },
  {
   "cell_type": "markdown",
   "id": "90be0869-f224-46f1-8478-2a121f956771",
   "metadata": {},
   "source": [
    "**What is an Aggregation?**"
   ]
  },
  {
   "cell_type": "markdown",
   "id": "6122eebb-4079-4e74-a4b9-02313698e10f",
   "metadata": {},
   "source": [
    "*When a function is applied to a field so that the values for that field are converted into a single value. Applied to groups based upon any dimensions being used to group the data*"
   ]
  },
  {
   "cell_type": "markdown",
   "id": "6f183b13-56be-48f3-9a12-0ab127fc26aa",
   "metadata": {},
   "source": [
    "**What is Granularity?**"
   ]
  },
  {
   "cell_type": "markdown",
   "id": "98692ae2-5307-4368-b753-9c1e251b4f0e",
   "metadata": {},
   "source": [
    "*The level of detail that you see in your visualization/how the data is sectioned. Can think of it as the number of data points on the visualization.*"
   ]
  },
  {
   "cell_type": "markdown",
   "id": "79e278e5-7ec9-4eb2-95ca-8ea0743ea598",
   "metadata": {},
   "source": [
    "_________________________"
   ]
  },
  {
   "cell_type": "markdown",
   "id": "b0d280a0-8683-42ee-8c37-175a77364611",
   "metadata": {},
   "source": [
    "# Data Used in Live Examples"
   ]
  },
  {
   "cell_type": "markdown",
   "id": "9de5fc43-81cd-462f-b4ce-198ece9493aa",
   "metadata": {},
   "source": [
    "We will be using two data sets that we have used previously: the world happiness data set and the hotel booking data set."
   ]
  },
  {
   "cell_type": "markdown",
   "id": "aa6f8313-fb9b-459b-b449-781a925a11e1",
   "metadata": {},
   "source": [
    "**<span style=\"color:orange\">NOTE</span>** : All Tableau gifs and most images are from articles in the official [help.tableau.com](https://help.tableau.com) website and are not created using the data we are using in the live examples"
   ]
  },
  {
   "cell_type": "markdown",
   "id": "fc5262f1-4f4d-4114-b584-aeb812dea2b7",
   "metadata": {},
   "source": [
    "______________"
   ]
  },
  {
   "cell_type": "markdown",
   "id": "60b7e763-c7a4-4aaa-9535-57d9b6221eb8",
   "metadata": {},
   "source": [
    "# Some Details About Dates"
   ]
  },
  {
   "cell_type": "markdown",
   "id": "29570620-573c-4576-b136-eb4e1f9a3e5d",
   "metadata": {},
   "source": [
    "### Default Date Level"
   ]
  },
  {
   "cell_type": "markdown",
   "id": "ac2c01d3-0d4c-4772-97a7-ff3b036f1a7f",
   "metadata": {},
   "source": [
    "<img src=\"https://media.giphy.com/media/l41JJUXsujSKDCxB6/giphy.gif\" width=\"400\" height=\"400\" />"
   ]
  },
  {
   "cell_type": "markdown",
   "id": "1c3dc8fa-9f50-4657-856f-4ff357f841f5",
   "metadata": {},
   "source": [
    "By default, when you have a field of type 'date' or 'date-time' in Tableau it will be treated as a discrete Dimension and have one of the following icons:"
   ]
  },
  {
   "cell_type": "markdown",
   "id": "29576ec3-3c18-4e04-bcf5-9db8d8c853c1",
   "metadata": {},
   "source": [
    "Icon for date:"
   ]
  },
  {
   "cell_type": "markdown",
   "id": "1736355b-1ad5-49e0-b004-2c5156ad0f67",
   "metadata": {},
   "source": [
    "<center><img src=\"https://help.tableau.com/current/pro/desktop/en-us/Img/symbol_date.png\" width=\"100\" height=\"100\" />"
   ]
  },
  {
   "cell_type": "markdown",
   "id": "95ae6705-2024-472e-a083-5703f972b83a",
   "metadata": {},
   "source": [
    "Icon for date-time:"
   ]
  },
  {
   "cell_type": "markdown",
   "id": "108f446e-0860-4d36-a353-f3bf8f04c9a7",
   "metadata": {},
   "source": [
    "<center><img src=\"https://help.tableau.com/current/pro/desktop/en-us/Img/symbol_datetime.png\" width=\"100\" height=\"100\" />"
   ]
  },
  {
   "cell_type": "markdown",
   "id": "f5dc13c9-7eef-44ae-add3-ef1df3c957e2",
   "metadata": {},
   "source": [
    "Tableau will also automatically choose a 'default date level', which will be the granularity (level of detail) it initially displays when put on a shelf. The level will appear like an aggregation function around the field when places (e.g. MONTH(Order Date)).\n",
    "\n",
    "**Default Date Level** : the highest level of the date at which there are multiple value. \n",
    "* E.g. if there are dates from multiple years, the default date level will be Year. If all of the dates are from the same year but multiple months, the default date level will be Month. If all of the dates are from the same year and same month but different days, the default date level will be Day."
   ]
  },
  {
   "cell_type": "markdown",
   "id": "c83dc367-11c4-4cdf-a5d9-29d6e69b820a",
   "metadata": {},
   "source": [
    "### Change the Date Level"
   ]
  },
  {
   "cell_type": "markdown",
   "id": "4d26d315-fd2a-487e-ad21-11bdde5e97cc",
   "metadata": {},
   "source": [
    "If you want to change the level being displayed, right-click on the field pill in the shelf and select a different level. Each level will show in grey text on the right an example of a field value if that level is used."
   ]
  },
  {
   "cell_type": "markdown",
   "id": "cd91ec46-c353-4a92-a8d4-137baf34aa89",
   "metadata": {},
   "source": [
    "**<span style=\"color:orange\">NOTE</span>** : The top set of level options are discrete, while the bottom set of level options is continuous."
   ]
  },
  {
   "cell_type": "markdown",
   "id": "04d9b86a-4469-4587-ad64-22c4ee19f435",
   "metadata": {},
   "source": [
    "<img src=\"https://help.tableau.com/current/pro/desktop/en-us/Img/date_level_selection.gif\" width=\"500\" height=\"500\" />"
   ]
  },
  {
   "cell_type": "markdown",
   "id": "10f739a7-3f1d-43b2-9591-eec4abe2c935",
   "metadata": {},
   "source": [
    "This is different than drilling up/down in the hierarchy, because you are choose exactly which single part of the date to display instead of displaying several parts at once.  "
   ]
  },
  {
   "cell_type": "markdown",
   "id": "e36b0251-f465-4d5b-8244-af1b3cc50ca0",
   "metadata": {},
   "source": [
    "For more information about dates, see this relatable blog post: [Dates in Tableau Make Me Want to Tear My Hair Out!](https://vizpainter.com/dates-in-tableau-make-me-want-to-tear-my-hair-out/) or this more technical presentation [Greatest of All Time Analytics: Conquering Date Calculations](https://tc19.tableau.com/learn/sessions/greatest-all-time-analytics-conquering-date-calculations?_ga=2.90710490.1964167778.1660091482-1437317394.1657639474)."
   ]
  },
  {
   "cell_type": "markdown",
   "id": "221ed553-30f1-46cf-bce8-62d8a174a391",
   "metadata": {},
   "source": [
    "_________________________"
   ]
  },
  {
   "cell_type": "markdown",
   "id": "966c4493-21fc-4190-994b-07b47f5be1c2",
   "metadata": {},
   "source": [
    "# Stories"
   ]
  },
  {
   "cell_type": "markdown",
   "id": "88a5c389-1b51-43a6-87b8-146b3eb3f8cf",
   "metadata": {},
   "source": [
    "<img src=\"https://data.whicdn.com/images/201491687/original.gif\" width=\"600\" height=\"600\" />"
   ]
  },
  {
   "cell_type": "markdown",
   "id": "e9a5cf88-f965-47a1-9a4d-a89560036ccc",
   "metadata": {},
   "source": [
    "A **Story** in Tableau is a type of sheet that uses a collection of sheets arranged in an interactive sequence to convey information. Each one of these individual sheets is called a **story point** and could contain a viz, a dashboard, or just text. Unlike a dashboard, a story has a very particular journey it will take the user on instead of displaying all of the data at once."
   ]
  },
  {
   "cell_type": "markdown",
   "id": "5f98283d-37fa-4282-929b-927069c799b4",
   "metadata": {},
   "source": [
    "### Create a Story"
   ]
  },
  {
   "cell_type": "markdown",
   "id": "e9bb4dc7-3062-440a-97ea-d67ed7ed23bc",
   "metadata": {},
   "source": [
    "To create a story:\n",
    "1. Select the 'New Story' sheet tab at the bottom left of the screen (where you would normally make a new worksheet):"
   ]
  },
  {
   "cell_type": "markdown",
   "id": "38019020-610b-4620-9211-40fa67acedc2",
   "metadata": {},
   "source": [
    "<center><img src=\"https://help.tableau.com/current/pro/desktop/en-us/Img/story_new_story.png\" width=\"100\" height=\"100\" />"
   ]
  },
  {
   "cell_type": "markdown",
   "id": "2c05f928-45e2-43f8-b649-2ad5c9a3f431",
   "metadata": {},
   "source": [
    "2. Choose a size (in pixels) for your story in the lower-left corner. This is the size your story will be viewed at."
   ]
  },
  {
   "cell_type": "markdown",
   "id": "67922522-4e63-49ad-a158-44fcf6117ac8",
   "metadata": {},
   "source": [
    "<center><img src=\"https://help.tableau.com/current/pro/desktop/en-us/Img/story_size.png\" width=\"200\" height=\"200\" />"
   ]
  },
  {
   "cell_type": "markdown",
   "id": "a9f765b7-7d42-4761-999d-58fcf62a847f",
   "metadata": {},
   "source": [
    "3. Choose sheets to include in the story by double-clicking on them or dragging onto the page from the left pane. This list includes all of the other sheets in the workbook. "
   ]
  },
  {
   "cell_type": "markdown",
   "id": "2e9134ba-69a9-47b1-beb7-850dbe8ec8b2",
   "metadata": {},
   "source": [
    "<center><img src=\"https://help.tableau.com/current/pro/desktop/en-us/Img/story_first_point.png\" width=\"500\" height=\"500\" />"
   ]
  },
  {
   "cell_type": "markdown",
   "id": "f18a1222-abdc-490d-acfe-cf980ead991a",
   "metadata": {},
   "source": [
    "4. Create additional story points (each their own 'page'), either by creating blank story points or duplicating an existing story point to base the new point off of. "
   ]
  },
  {
   "cell_type": "markdown",
   "id": "3a37e5d4-1567-42ee-84c1-465b2d41a5e5",
   "metadata": {},
   "source": [
    "<center><img src=\"Create a New Story Point.png\" width=\"500\" height=\"500\" />"
   ]
  },
  {
   "cell_type": "markdown",
   "id": "25586932-8862-424d-ac3f-423949d718c1",
   "metadata": {},
   "source": [
    "5. Personalize:\n",
    "    * **Add a caption** -- Meant to summarize the story point.\n",
    "    * **Add text objects** -- Drag in from the left pane where it says 'Drag to add text'. Use the text to guide the user\n",
    "    * **Update the navigation style** -- Click on the Layout tabe in the pane to the left and pick how you want the different pages to appear at the top"
   ]
  },
  {
   "cell_type": "markdown",
   "id": "4a232a52-7671-4eb9-a551-e294f9983c46",
   "metadata": {},
   "source": [
    "6. Present using the 'Presentation Mode' button on the top option bar"
   ]
  },
  {
   "cell_type": "markdown",
   "id": "353887a2-53a5-4096-b29f-e4dacd750acb",
   "metadata": {},
   "source": [
    "<center><img src=\"https://help.tableau.com/current/pro/desktop/en-us/Img/story_present_icon.png\" width=\"100\" height=\"100\" />"
   ]
  },
  {
   "cell_type": "markdown",
   "id": "5ae2bbfc-508a-4190-a058-995e3e0387e0",
   "metadata": {},
   "source": [
    "**<span style=\"color:orange\">NOTE</span>** : these sheets are directly connected to the original workbook sheet, so if you modify the original sheet that could change the story point that uses the sheet."
   ]
  },
  {
   "cell_type": "markdown",
   "id": "c2df3a4d-333c-4de6-b880-d545c0bfe1b3",
   "metadata": {},
   "source": [
    "### Types of Data Stories to Tell"
   ]
  },
  {
   "cell_type": "markdown",
   "id": "e8a5ed50-6528-4d8d-9fee-e6f00bab78fc",
   "metadata": {},
   "source": [
    "There are **7 common types of data stories** you may want to tell. These aren't strictly defined categories, but rather a starting point to get you thinking about how you want to present data:"
   ]
  },
  {
   "cell_type": "markdown",
   "id": "1050a9a0-fd39-44d5-91ae-ef74d37dc99c",
   "metadata": {},
   "source": [
    "1. *Change Over Time* -- uses chronology to illustrate a trend."
   ]
  },
  {
   "cell_type": "markdown",
   "id": "f7033eae-c06d-4896-b68b-8634fc21512e",
   "metadata": {},
   "source": [
    "<center><img src=\"https://help.tableau.com/current/pro/desktop/en-us/Img/story_best_practices_changeovertime.png\" width=\"100\" height=\"100\" />"
   ]
  },
  {
   "cell_type": "markdown",
   "id": "049f1435-cbdb-42e6-a10c-027769a690fc",
   "metadata": {},
   "source": [
    "2. *Drill Down* -- begins by setting context and then gets into specifics."
   ]
  },
  {
   "cell_type": "markdown",
   "id": "b5e805f0-4915-4e6a-ab9b-6dcf3c7f3afb",
   "metadata": {},
   "source": [
    "<center><img src=\"https://help.tableau.com/current/pro/desktop/en-us/Img/story_best_practices_drilldown.png\" width=\"100\" height=\"100\" />"
   ]
  },
  {
   "cell_type": "markdown",
   "id": "7abd3e40-e127-4fb6-a879-13d8eb73c144",
   "metadata": {},
   "source": [
    "3. *Zoom Out* -- explains how something specific fits into the bigger picture."
   ]
  },
  {
   "cell_type": "markdown",
   "id": "48cb5069-3955-4b59-825a-317c283bd884",
   "metadata": {},
   "source": [
    "<center><img src=\"https://help.tableau.com/current/pro/desktop/en-us/Img/story_best_practices_zoomout.png\" width=\"100\" height=\"100\" />"
   ]
  },
  {
   "cell_type": "markdown",
   "id": "e92b544f-65cf-4f18-a7a8-201cd8204c78",
   "metadata": {},
   "source": [
    "4. *Contrast* -- shows the difference betweeen two or more things."
   ]
  },
  {
   "cell_type": "markdown",
   "id": "9450653f-0c6f-4e32-9c54-9ecd1f14cdfa",
   "metadata": {},
   "source": [
    "<center><img src=\"https://help.tableau.com/current/pro/desktop/en-us/Img/story_best_practices_contrast.png\" width=\"100\" height=\"100\" />"
   ]
  },
  {
   "cell_type": "markdown",
   "id": "fc242192-cac6-44ee-adc9-356044c93736",
   "metadata": {},
   "source": [
    "5. *Intersections* -- highlights cause and effect when two things interact."
   ]
  },
  {
   "cell_type": "markdown",
   "id": "676341aa-bdf9-4612-8bfe-11362663a017",
   "metadata": {},
   "source": [
    "<center><img src=\"https://help.tableau.com/current/pro/desktop/en-us/Img/story_best_practices_intersections.png\" width=\"100\" height=\"100\" />"
   ]
  },
  {
   "cell_type": "markdown",
   "id": "8ee54d24-ed2c-440d-91f5-c3c2e38a5b73",
   "metadata": {},
   "source": [
    "6. *Factors* -- breaks a subject down into subcategories."
   ]
  },
  {
   "cell_type": "markdown",
   "id": "bdc884cd-308b-48da-907f-33b5ef232926",
   "metadata": {},
   "source": [
    "<center><img src=\"https://help.tableau.com/current/pro/desktop/en-us/Img/story_best_practices_factors.png\" width=\"100\" height=\"100\" />"
   ]
  },
  {
   "cell_type": "markdown",
   "id": "6eb144e9-304a-4fc6-84e2-9d6484921160",
   "metadata": {},
   "source": [
    "7. *Outliers* -- looks at anomalies."
   ]
  },
  {
   "cell_type": "markdown",
   "id": "24864df2-f084-443a-a47d-84aadfa6d367",
   "metadata": {},
   "source": [
    "<center><img src=\"https://help.tableau.com/current/pro/desktop/en-us/Img/story_best_practices_outliers.png\" width=\"100\" height=\"100\" />"
   ]
  }
 ],
 "metadata": {
  "kernelspec": {
   "display_name": "Python 3 (ipykernel)",
   "language": "python",
   "name": "python3"
  },
  "language_info": {
   "codemirror_mode": {
    "name": "ipython",
    "version": 3
   },
   "file_extension": ".py",
   "mimetype": "text/x-python",
   "name": "python",
   "nbconvert_exporter": "python",
   "pygments_lexer": "ipython3",
   "version": "3.9.12"
  }
 },
 "nbformat": 4,
 "nbformat_minor": 5
}
