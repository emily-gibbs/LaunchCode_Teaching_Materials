{
 "cells": [
  {
   "cell_type": "markdown",
   "id": "a1dc3e38-a88d-44b7-b92c-aedbf017f7fd",
   "metadata": {},
   "source": [
    "<img src=\"https://media3.giphy.com/media/UqeH2KKx0U65oETdDR/source.gif\" width=\"400\" height=\"400\" />"
   ]
  },
  {
   "cell_type": "markdown",
   "id": "bfad1d3f-8eaf-4905-b4d5-0958ded001b1",
   "metadata": {},
   "source": [
    "**What file type do you need to select in order to connect a .csv file to Tableau?**"
   ]
  },
  {
   "cell_type": "markdown",
   "id": "ea81373a-a2f9-419e-8ddd-88196f69ff7f",
   "metadata": {},
   "source": [
    "*Text file*"
   ]
  },
  {
   "cell_type": "markdown",
   "id": "755cfa70-024c-4fbd-80e1-0bab2e762826",
   "metadata": {},
   "source": [
    "**What are the 3 types of Sheets?**"
   ]
  },
  {
   "cell_type": "markdown",
   "id": "2fd5994b-81e1-4459-88f8-58fdad323c6a",
   "metadata": {},
   "source": [
    "1. *Worksheet*\n",
    "1. *Dashboard*\n",
    "1. *Story*"
   ]
  },
  {
   "cell_type": "markdown",
   "id": "a0a321bb-ea3c-410c-b702-8f35bce8b88a",
   "metadata": {},
   "source": [
    "**What is a Dimension?**"
   ]
  },
  {
   "cell_type": "markdown",
   "id": "f5f5f17b-9430-4218-a1cf-915d5d09256b",
   "metadata": {},
   "source": [
    "*A categorical field that is qualitative, descriptive, and usually discrete.*"
   ]
  },
  {
   "cell_type": "markdown",
   "id": "90de0184-c2b4-4351-abf9-72eeda2abf4e",
   "metadata": {},
   "source": [
    "**What is a Measure?**"
   ]
  },
  {
   "cell_type": "markdown",
   "id": "a588ec20-1491-4387-a13f-58974cef9be1",
   "metadata": {},
   "source": [
    "*A quantitative field that is numeric, can be aggregated, and usually continuous.*"
   ]
  },
  {
   "cell_type": "markdown",
   "id": "decc5d29-f9dc-4915-877b-d7a4705332a0",
   "metadata": {},
   "source": [
    "**What is Aggregation?**"
   ]
  },
  {
   "cell_type": "markdown",
   "id": "99fb22ee-b1c9-404f-8750-25755fb212fe",
   "metadata": {},
   "source": [
    "*When a function is applied to a filed so that the values for that field are converted into a single value. Applied to groups based upon any dimensions being used to group the data*"
   ]
  },
  {
   "cell_type": "markdown",
   "id": "50de5dc2-a2d5-4815-847a-e851fda16426",
   "metadata": {},
   "source": [
    "**What is Granularity?**"
   ]
  },
  {
   "cell_type": "markdown",
   "id": "b003c754-b805-41be-bd92-a8aed2d8bf3a",
   "metadata": {},
   "source": [
    "*The level of detail that you see in your visualization/how the data is sectioned. Can think of it as the number of data points on the visualization.*"
   ]
  },
  {
   "cell_type": "markdown",
   "id": "fc0e7744-c828-4b82-9fd4-89054df53eed",
   "metadata": {},
   "source": [
    "**What do the colors green and blue indicate about fields in the Tableau interface?**"
   ]
  },
  {
   "cell_type": "markdown",
   "id": "e6206dab-9f09-4f18-9fe3-37e24baaa4d9",
   "metadata": {},
   "source": [
    "*Green means that the field is discrete, while blue means that it is continuous*"
   ]
  },
  {
   "cell_type": "markdown",
   "id": "31cda467-14e9-4e04-896f-5eb0cbcacdd0",
   "metadata": {},
   "source": [
    "# Data Used in Live Examples"
   ]
  },
  {
   "cell_type": "markdown",
   "id": "29e068eb-2b4a-4f06-afd5-fe72fb31e183",
   "metadata": {},
   "source": [
    "We will be using the csv file on hotel bookings that was used for this week's exercise. For more information on this dataset see: [https://www.kaggle.com/datasets/jessemostipak/hotel-booking-demand](https://www.kaggle.com/datasets/jessemostipak/hotel-booking-demand) and [https://www.sciencedirect.com/science/article/pii/S2352340918315191](https://www.sciencedirect.com/science/article/pii/S2352340918315191)"
   ]
  },
  {
   "cell_type": "markdown",
   "id": "32788210-434a-47eb-bf96-4fafcbe73f64",
   "metadata": {},
   "source": [
    "**<span style=\"color:orange\">NOTE</span>** : All Tableau gifs are from articles in the official [help.tableau.com](https://help.tableau.com) website and are not created using the data we are using in the live examples"
   ]
  },
  {
   "cell_type": "markdown",
   "id": "887202a8-7400-4975-85d4-9941699fab20",
   "metadata": {},
   "source": [
    "# Filtering Data"
   ]
  },
  {
   "cell_type": "markdown",
   "id": "162aa271-72f0-4817-9e8b-c06b89f96f3e",
   "metadata": {},
   "source": [
    "<center><img src=\"https://static.dribbble.com/users/754943/screenshots/2761885/dribbble-filter.gif\" width=\"500\" height=\"500\" />"
   ]
  },
  {
   "cell_type": "markdown",
   "id": "9671e911-7809-47b0-9481-7f59e8efdc1c",
   "metadata": {},
   "source": [
    "When we filter data in Tableau, it is like using the WHERE clause in a SQL query to limit what type of data we are returned, except this time it is limiting what type of data is displayed in our visualization."
   ]
  },
  {
   "cell_type": "markdown",
   "id": "132ea29b-0f9e-49f3-8b2b-454a02114ebf",
   "metadata": {},
   "source": [
    "### Ways to Filter Data"
   ]
  },
  {
   "cell_type": "markdown",
   "id": "8fe7b1ca-1b15-47f6-967b-863fea5fc397",
   "metadata": {},
   "source": [
    "1. **Select** data points and/or headers and choose to exclude those points/headers or keep only those points/headers:"
   ]
  },
  {
   "cell_type": "markdown",
   "id": "6bee9fff-fd16-41f7-adb9-e44286914713",
   "metadata": {},
   "source": [
    "<center><img src=\"https://help.tableau.com/current/pro/desktop/en-us/Img/include1.gif\" width=\"500\" height=\"500\" />"
   ]
  },
  {
   "cell_type": "markdown",
   "id": "8ce0daf7-4216-46ef-a48f-1949818b9180",
   "metadata": {},
   "source": [
    "<center><img src=\"https://help.tableau.com/current/pro/desktop/en-us/Img/exclude1.gif\" width=\"500\" height=\"500\" />"
   ]
  },
  {
   "cell_type": "markdown",
   "id": "37d4ca2e-915b-4244-96cb-2dc02e356f53",
   "metadata": {},
   "source": [
    "2. **Drag** data fields to the Filters shelf and customize the filter based on the type of field."
   ]
  },
  {
   "cell_type": "markdown",
   "id": "00925463-4568-423c-be38-84e1df826f86",
   "metadata": {},
   "source": [
    "<center><img src=\"https://help.tableau.com/current/pro/desktop/en-us/Img/filtering-drag.gif\" width=\"400\" height=\"400\" />"
   ]
  },
  {
   "cell_type": "markdown",
   "id": "887eac0f-8679-4c18-a10f-f666d5dda1ce",
   "metadata": {},
   "source": [
    "3. **Click** the drop-down arrow of a data pill being used in the viz and choose 'Show Filter'"
   ]
  },
  {
   "cell_type": "markdown",
   "id": "b9ff1d7e-7f38-4691-b44b-cf805873fd1e",
   "metadata": {},
   "source": [
    "<center><img src=\"https://help.tableau.com/current/pro/desktop/en-us/Img/show_filter1.gif\" width=\"400\" height=\"400\" />"
   ]
  },
  {
   "cell_type": "markdown",
   "id": "8a6dc470-b6af-44e4-a727-a97f23776681",
   "metadata": {},
   "source": [
    "### Filters on Dimensions"
   ]
  },
  {
   "cell_type": "markdown",
   "id": "4d317023-1ba2-4d1c-b151-563f5c3f44d1",
   "metadata": {},
   "source": [
    "When filtering dimension fields there are 4 different options for how to filter:\n",
    "\n",
    "1. **General** : Select the values you want to include/exclude. This is similar to using '=' in the WHERE clause in SQL.\n",
    "\n",
    "1. **Wildcard** : Define a pattern to filter on. This is similar to use the 'LIKE' filter in the WHERE clause in SQL.\n",
    "\n",
    "1. **Condition** : Define a custom rule/formula to filter by. This is like using something like '>' or '>=' in the WHERE clause in SQL.\n",
    "\n",
    "1. **Top** : Choose to include only the top X number of values. This is similar to the TOP option in the SELECT clause in SQL (or LIMIT in other SQL variants). "
   ]
  },
  {
   "cell_type": "markdown",
   "id": "2923dd7c-367f-41b8-a1c1-05f77c9381ff",
   "metadata": {},
   "source": [
    "You can choose to filter by one or several of these types of filters, and those filters will build upon each other."
   ]
  },
  {
   "cell_type": "markdown",
   "id": "9a18493f-ce7d-43ff-a7a4-741cbec67ecd",
   "metadata": {},
   "source": [
    "### Filters on Measures"
   ]
  },
  {
   "cell_type": "markdown",
   "id": "289a3d8d-095e-4725-b427-9597d551d42b",
   "metadata": {},
   "source": [
    "When filtering measure fiels you first must choose what aggregate value you are basing that filter off of (e.g. do you want to filter based on the Sum of this field, or the Average value of this field?). "
   ]
  },
  {
   "cell_type": "markdown",
   "id": "71e86eef-65e7-41f1-bf3f-60be28b1dee2",
   "metadata": {},
   "source": [
    "Once you have chose the type of aggregate value you are basing the filter on, you have 4 options for the filter:\n",
    "\n",
    "1. **Range of Values** : Choose a range to include based on a minimum value and a maximum value (>= X AND <= Y).\n",
    "\n",
    "1. **At Least** : Include all values greater than or equal to (>=) a minimum value.\n",
    "\n",
    "1. **At Most** : Include all values that are less than or equal (<=) to a minimum value.\n",
    "\n",
    "1. **Special** : Where you can choose in include only Null values, non-Null values, or all values (IS/NOT Null)"
   ]
  },
  {
   "cell_type": "markdown",
   "id": "5e64388f-c18f-402c-ae2f-a4fa776ecb16",
   "metadata": {},
   "source": [
    "### Filters on Dates"
   ]
  },
  {
   "cell_type": "markdown",
   "id": "ded3a4aa-a38f-4d32-8c45-f1dfe49a3902",
   "metadata": {},
   "source": [
    "When you apply a filter to a data, its going to look like a combination of the options for Dimensions and Measures. First you have to choose whether you want to filter on a specific part of the date (month, day, etc.), type of day (week days or weekend days), date aggregations (quarters, min, max, etc.), dates relative to when you are making the viz (all the days for this year so far), a range of dates, or just the individual dates themselves:"
   ]
  },
  {
   "cell_type": "markdown",
   "id": "eb9e8fe7-be34-4a90-b819-dc4629675779",
   "metadata": {},
   "source": [
    "<center><img src=\"https://help.tableau.com/current/pro/desktop/en-us/Img/filtering-drag3.png\" width=\"300\" height=\"300\" />"
   ]
  },
  {
   "cell_type": "markdown",
   "id": "0010ecb5-b424-42ad-af76-9a0b01541081",
   "metadata": {},
   "source": [
    "If you choose any of the continuous options (the green ones) then the next dialog box will look a lot like the ones for measures. If you choose a discrete options (the blue ones) then the next dialog box will look a lot like the ones for dimensions."
   ]
  },
  {
   "cell_type": "markdown",
   "id": "90fc4fa5-e1b4-466e-932c-b9ac91320776",
   "metadata": {},
   "source": [
    "### Make your Filter Interactive!"
   ]
  },
  {
   "cell_type": "markdown",
   "id": "ffb6a3bd-a5d8-424e-bd14-77a40d61254f",
   "metadata": {},
   "source": [
    "Any time you have a filter (or even if you haven't added a filter to a field used in the visualization) you can click the down arrow on the filter or data field pill and choose 'Show Filter' to have the filter options show up on the right side."
   ]
  },
  {
   "cell_type": "markdown",
   "id": "6d9e39c1-8e37-498c-b83f-bd6b423450e2",
   "metadata": {},
   "source": [
    "* Discrete filters show checkbox options you can check/uncheck\n",
    "\n",
    "* Continuous filters show sliders you can move"
   ]
  },
  {
   "cell_type": "markdown",
   "id": "0b21d4e5-bbe7-4d9e-a3d7-e0da4f8dcf0e",
   "metadata": {},
   "source": [
    "Play around with the options you have for customizing the way these filter options appear!"
   ]
  },
  {
   "cell_type": "markdown",
   "id": "6d7e5475-4a0c-449f-b9e1-4cc87135626d",
   "metadata": {},
   "source": [
    "<center><img src=\"https://31.media.tumblr.com/777956b7d824ea54a24c8ad867fa8e38/tumblr_inline_mzduz2DiZ91rbwza0.gif\" width=\"300\" height=\"300\" />"
   ]
  },
  {
   "cell_type": "markdown",
   "id": "0d242981-e834-4dd4-bd48-cd26c1858963",
   "metadata": {},
   "source": [
    "### Data Source Filters"
   ]
  },
  {
   "cell_type": "markdown",
   "id": "3de65305-3ebd-4721-b873-9bbef55b20a2",
   "metadata": {},
   "source": [
    "It is also possible to filter the data directly from the data source that will be used by all worksheets (e.g. if you know you are only interested in one subset of data and won't use anything else). For more info on how to do this see: [https://help.tableau.com/current/pro/desktop/en-us/filtering_datasource.htm](https://help.tableau.com/current/pro/desktop/en-us/filtering_datasource.htm)"
   ]
  },
  {
   "cell_type": "markdown",
   "id": "6ddc5d6b-e740-4c03-85b9-9198e40cd6b7",
   "metadata": {},
   "source": [
    "### Context Filters"
   ]
  },
  {
   "cell_type": "markdown",
   "id": "3584c35a-cf87-47fa-a206-47538c0ffe3e",
   "metadata": {},
   "source": [
    "A context filter is a filter that will be carried out before all others. This is often used to improve performance on very large datasets to narrow the data down before other filters are applied/operations are carried out, or to force a filter to happen first to change the data output. For more info on how to use context filters see: [https://help.tableau.com/current/pro/desktop/en-us/filtering_context.htm](https://help.tableau.com/current/pro/desktop/en-us/filtering_context.htm)"
   ]
  },
  {
   "cell_type": "markdown",
   "id": "a036d6a0-f1cc-4103-84f2-b5a2cd3fddcc",
   "metadata": {},
   "source": [
    "# Groups"
   ]
  },
  {
   "cell_type": "markdown",
   "id": "5696f592-2eaf-40de-8c94-e04b769216dc",
   "metadata": {},
   "source": [
    "<center><img src=\"https://th.bing.com/th/id/R.9ac8c4d645ab73bf2edc4974d117552c?rik=DppWwqih7qjymQ&riu=http%3a%2f%2fwww.thelasthonestguy.com%2fwp-content%2fuploads%2f2011%2f04%2ftoo-many-friends.jpg&ehk=9OJwePtV7MFGy4riaR33KAhxGQ5jBAqdqrfAEQnR6%2fY%3d&risl=&pid=ImgRaw&r=0\" width=\"300\" height=\"300\" />"
   ]
  },
  {
   "cell_type": "markdown",
   "id": "b3ee1698-9136-45d5-8751-76aa70b48522",
   "metadata": {},
   "source": [
    "Groups are used to combine the data for several related values from a categorical field (Dimension). "
   ]
  },
  {
   "cell_type": "markdown",
   "id": "01c2e52d-508b-4b5d-88c2-070864c6979d",
   "metadata": {},
   "source": [
    "To create a Group:\n",
    "1. Click the down arrow on a data field in the Data pane.\n",
    "2. Click Create --> Group...\n",
    "3. Select the values that you want grouped together. \n",
    "    * You can do this by holding down CTRL while selecting. \n",
    "    * You can also search for values using the 'Find >>' capability.\n",
    "4. Click the 'Group' button. \n",
    "5. It will immediately give you the option to rename the group if desired (usually a good idea).\n",
    "6. Check the \"Include 'Other'\" checkbox if you want all other values that you did put into any groups to be put into a catch-all 'Other' group. \n",
    "\n",
    "The group will then appear as a new data field in the Data pane. "
   ]
  },
  {
   "cell_type": "markdown",
   "id": "0d8536f3-919b-4a5f-9788-3d9918187947",
   "metadata": {},
   "source": [
    "# Sets"
   ]
  },
  {
   "cell_type": "markdown",
   "id": "a6cbe7ee-a95b-4745-a0c3-f47a4331b646",
   "metadata": {},
   "source": [
    "# Hierarchies"
   ]
  },
  {
   "cell_type": "code",
   "execution_count": null,
   "id": "f76154ff-161c-47a7-a082-b6ecb9b833ac",
   "metadata": {},
   "outputs": [],
   "source": []
  }
 ],
 "metadata": {
  "kernelspec": {
   "display_name": "Python 3 (ipykernel)",
   "language": "python",
   "name": "python3"
  },
  "language_info": {
   "codemirror_mode": {
    "name": "ipython",
    "version": 3
   },
   "file_extension": ".py",
   "mimetype": "text/x-python",
   "name": "python",
   "nbconvert_exporter": "python",
   "pygments_lexer": "ipython3",
   "version": "3.8.8"
  }
 },
 "nbformat": 4,
 "nbformat_minor": 5
}
