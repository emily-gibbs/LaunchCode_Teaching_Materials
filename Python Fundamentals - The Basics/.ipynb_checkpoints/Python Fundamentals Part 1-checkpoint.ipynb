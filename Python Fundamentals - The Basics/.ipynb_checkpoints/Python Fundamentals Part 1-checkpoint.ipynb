{
 "cells": [
  {
   "cell_type": "markdown",
   "id": "1934d2b1-2f0d-4d93-aae4-cc881a5a533e",
   "metadata": {},
   "source": [
    "# Introductions"
   ]
  },
  {
   "cell_type": "markdown",
   "id": "478a98a8-b33f-4ecc-a486-82939fe32c5d",
   "metadata": {},
   "source": [
    "<center><img src=\"https://media1.tenor.com/images/f15057a41413c960db1f328ca5a732e3/tenor.gif?itemid=6203225\" width=\"500\" height=\"500\" />"
   ]
  },
  {
   "cell_type": "markdown",
   "id": "c62beab6-9bbe-4262-b605-a0d10f0fdb84",
   "metadata": {},
   "source": [
    "Everyone tell me their name and why they chose to join LaunchCode!"
   ]
  },
  {
   "cell_type": "markdown",
   "id": "ddc5a96a-44dd-40bc-a232-362fcd2689c6",
   "metadata": {},
   "source": [
    "# A Couple of Class Guidelines"
   ]
  },
  {
   "cell_type": "markdown",
   "id": "24be9f4d-6386-4aed-93ad-1d5c240989ee",
   "metadata": {},
   "source": [
    "1. **This class is interactive**. If we wanted you to just want while I talk for an hour and a half then we would have just made video recordings :) This is not a presentation, so feel free to interrupt at any point. \n",
    "\n",
    "1. **There are no dumb questions**. My purpose as teacher is to help explain and clarify information that you read and learned independently during the week, so answering questions is a huge part of that!\n",
    "\n",
    "1. **Mistakes are learning opportunities**. Every person who codes gets error messages no matter how long they have been coding. All of the time. I will get errors when doing live coding for this class! So don't look at them as failures but as just part of the world of coding. \n",
    "\n",
    "1. **The internet is your best friend**. Unlike when in elementary and high school when they don't want you to look info up, here it is always allowed and encouraged. Memorizing all the syntax, command names, etc. is not practical, so don't be afraid to look anything up. Learning to use the internet well is an invaluable skill. \n",
    "\n",
    "1. **Work along with me!**. I encourage everyone to pull up Replit, a Jupyter notebook, or whatever software we are using during class to experiment and code along. "
   ]
  },
  {
   "cell_type": "markdown",
   "id": "5b7d8b34-f68a-46e8-9d63-4fcca5f54a92",
   "metadata": {},
   "source": [
    "I use Jupyter notebooks to teach my classes, because it's interactive in individual coding cells. For more information on Jupyter notebooks and Jupyter Lab, see https://jupyter.org/."
   ]
  },
  {
   "cell_type": "markdown",
   "id": "923aa0c0-d280-4e29-ad21-979364455b1c",
   "metadata": {},
   "source": [
    "# What is Programming and Why are We Learning It?"
   ]
  },
  {
   "cell_type": "markdown",
   "id": "707c957f-e9fc-48ab-9c75-45373b2d5a90",
   "metadata": {},
   "source": [
    "<center><img src=\"https://images.saymedia-content.com/.image/t_share/MTc0NDc1NTU1NzA4Njc1NDMy/what-is-language-the-five-basic-elements-of-language-defined.jpg\" width=\"600\" height=\"600\" />"
   ]
  },
  {
   "cell_type": "markdown",
   "id": "4ad30369-78ae-460a-9a62-a288ae2c7f53",
   "metadata": {},
   "source": [
    "Just like humans have ways to communicate, computers do too. The main difference is that computers are **<span style=\"color:blue\">stupid</span>**. They can only understand if you tell them *exactly* what you want them to do. Half of the battle of learning to code is learning to break down what you want the computer to do into the small and very specific steps it will understand. Everything else is just syntax."
   ]
  },
  {
   "cell_type": "markdown",
   "id": "4307fb63-1f0b-4364-906e-434fda80269e",
   "metadata": {},
   "source": [
    "* **Syntax** : the grammer and punctuation of the language computers speak. Different computer langauges have different syntax, just like different human languages have different grammer and sometimes different written characters."
   ]
  },
  {
   "cell_type": "markdown",
   "id": "fb150734-6e62-4e18-b302-387d54c6450b",
   "metadata": {},
   "source": [
    "<center><img src=\"https://media.istockphoto.com/vectors/cartoon-peanut-butter-and-jelly-jam-sandwich-vector-vector-id1043520442?k=6&m=1043520442&s=612x612&w=0&h=05Jkeq9EWMtpPQwieOxllScJTU49kl2uPZBP-iHNOMo=\" width=\"500\" height=\"500\" />"
   ]
  },
  {
   "cell_type": "markdown",
   "id": "aa2641c8-d2fc-4376-be9b-7d1fdb790aa9",
   "metadata": {},
   "source": [
    "However, even though computers are stupid in many ways, they are very fast and have a lot of memory, which means that they can handle the large amounts of data that we work with as data analysts. We don't want to go back to the pen and paper days with this stuff! Depending on where you work as an analyst, you may work in Python instead of something like Tableau, so we teach you coding to provide future flexibility. Coding opens up a lot of doors."
   ]
  },
  {
   "cell_type": "markdown",
   "id": "fcf2f1b6-ea38-4b5d-acaf-bac2f2ee0917",
   "metadata": {},
   "source": [
    "_______________________"
   ]
  },
  {
   "cell_type": "markdown",
   "id": "4ecd3cd3-e4dc-4bc7-945c-10936760852e",
   "metadata": {},
   "source": [
    "# Our First Program"
   ]
  },
  {
   "cell_type": "markdown",
   "id": "8bbdd523-7cf3-48e4-8266-3cfbad0f543b",
   "metadata": {},
   "source": [
    "<center><img src=\"https://media.giphy.com/media/lwXbNSQr4QEtq/200.gif\" width=\"500\" height=\"500\" />"
   ]
  },
  {
   "cell_type": "markdown",
   "id": "88223b9a-3225-42f1-a4bb-c4b91e491ef4",
   "metadata": {},
   "source": [
    "The first thing you learn in any programming language is to tell the computer to display something to the screen for you -- with python we do this with the `print` command:"
   ]
  },
  {
   "cell_type": "code",
   "execution_count": 4,
   "id": "ba5409a6-392b-4e4f-bcfc-38d425b50588",
   "metadata": {},
   "outputs": [
    {
     "name": "stdout",
     "output_type": "stream",
     "text": [
      "hello world\n"
     ]
    }
   ],
   "source": [
    "print('hello world')"
   ]
  },
  {
   "cell_type": "markdown",
   "id": "e7c68504-9c38-48a9-abbe-765565677fff",
   "metadata": {},
   "source": [
    "We'll learn more about these 'commands' later. But for now know that most command follow this pattern:\n",
    "\n",
    "`command(input, input2, input3, ...)`\n",
    "\n",
    "where the number of inputs depends on the command. The print command can actually take in as many inputs as you want, and it will display each of them separated by a space:"
   ]
  },
  {
   "cell_type": "code",
   "execution_count": 5,
   "id": "8ba114f5-9d2d-4aeb-af69-225e0c3e88c9",
   "metadata": {},
   "outputs": [
    {
     "name": "stdout",
     "output_type": "stream",
     "text": [
      "hello world\n"
     ]
    }
   ],
   "source": [
    "print('hello', 'world')"
   ]
  },
  {
   "cell_type": "markdown",
   "id": "d2ac0c4f-3c38-4301-81d4-e4cefe1215a6",
   "metadata": {},
   "source": [
    "_______________"
   ]
  },
  {
   "cell_type": "markdown",
   "id": "e664e787-54d1-4632-a28c-c38d309b2bbc",
   "metadata": {},
   "source": [
    "# Debugging and Searching for Answers"
   ]
  },
  {
   "cell_type": "markdown",
   "id": "d7e7fb36-5664-4fa8-aa94-f0755f0d9bda",
   "metadata": {},
   "source": [
    "<center><img src=\"https://th.bing.com/th/id/R.a9c00d8a4f365f8179deff5c58307e65?rik=8CxvaQtA8WHr%2bQ&riu=http%3a%2f%2f31.media.tumblr.com%2f12d8ca237c77c5e750015b29aacaf2f0%2ftumblr_msmm32rgXo1shbirro1_500.gif&ehk=5Yy%2fnOVrpLwh7lzlFsBwlRf8loAdHpu8qmWBlQVqlPc%3d&risl=&pid=ImgRaw&r=0\" width=\"500\" height=\"500\" />"
   ]
  },
  {
   "cell_type": "markdown",
   "id": "fe50f656-9ce4-4c52-bd75-f2af2c9da1f5",
   "metadata": {},
   "source": [
    "You will get errors, and you will forget what the right command is to do something - everybody does! Here are some tips for figuring things out:\n",
    "\n",
    "* Really read the error message. It will tell on which line the error occured.\n",
    "\n",
    "* Indicate that you are asking the question about specifically **Python** programming when typing up a search/question, because people are probably asking the same question for other programming languages that have different syntax/ways of doing things\n",
    "\n",
    "* Copy and past the error message that you get into the search bar to look for other people trying to solve that error\n",
    "\n",
    "* Talk it through with someone (or a rubber ducky!). Having to explain each step outloud will often help you realize the answer on your own.\n",
    "\n",
    "* Write down what happens at every step line in the program."
   ]
  },
  {
   "cell_type": "markdown",
   "id": "c2880c5d-6c32-4933-9880-5bf7e3531363",
   "metadata": {},
   "source": [
    "<center><img src=\"https://th.bing.com/th/id/OIP.FD0Fa-cChC_BhXOBChkRawHaIu?pid=ImgDet&rs=1\" width=\"300\" height=\"300\" />"
   ]
  },
  {
   "cell_type": "markdown",
   "id": "03072902-1baf-4fb8-8d7f-a76b65c2644b",
   "metadata": {},
   "source": [
    "# Data Types"
   ]
  },
  {
   "cell_type": "markdown",
   "id": "407e4468-3d68-4b4b-82b3-6eead371fdb4",
   "metadata": {},
   "source": [
    "In human language we have verbs and nouns that mean and do different things and have their own rules. \n",
    "\n",
    "In programming (as well as other areas of data analysis) we have what are called different **<span style=\"color:blue\">data types</span>** that also do different things and have their own rules. The most common are:\n",
    "* **numbers with decimals** (called 'floats' by computers)\n",
    "* **numbers without decimals** (called 'integers' by computers)\n",
    "* **true/false** (called 'booleans' by computers)\n",
    "* **text** (called 'strings' by computers)"
   ]
  },
  {
   "cell_type": "markdown",
   "id": "89d5ea03-5bea-4749-9efd-c85d2a622385",
   "metadata": {},
   "source": [
    "The data type that you are working will will change how the computer handles it. For instance the `+` operator..."
   ]
  },
  {
   "cell_type": "code",
   "execution_count": null,
   "id": "5f2735a3-777e-4c43-9081-504359f63295",
   "metadata": {},
   "outputs": [],
   "source": [
    "# What is 2 + 2? --> This usage is called addition"
   ]
  },
  {
   "cell_type": "code",
   "execution_count": null,
   "id": "526cf532-2940-4fb3-82e8-3eedd06e810a",
   "metadata": {},
   "outputs": [],
   "source": [
    "# What is 'hello' + 'world'? --> This usage is called concatenation"
   ]
  },
  {
   "cell_type": "markdown",
   "id": "a537f5e1-042e-4c4b-9e07-9421fb4b81a0",
   "metadata": {},
   "source": [
    "But **<span style=\"color:red\">be careful!</span>**. Sometimes its not as easy to tell what data type something is."
   ]
  },
  {
   "cell_type": "markdown",
   "id": "fa7c6807-7711-4668-b3fd-8dd6a1bd347e",
   "metadata": {},
   "source": [
    "If you are ever unsure, you can ask the computer with the `type` command that takes in a single input:"
   ]
  },
  {
   "cell_type": "code",
   "execution_count": 3,
   "id": "9c914f94-ad70-4e39-954a-0f974726f0d9",
   "metadata": {},
   "outputs": [
    {
     "data": {
      "text/plain": [
       "str"
      ]
     },
     "execution_count": 3,
     "metadata": {},
     "output_type": "execute_result"
    }
   ],
   "source": [
    "type('hello')"
   ]
  },
  {
   "cell_type": "code",
   "execution_count": null,
   "id": "8fd2a26f-0721-4809-ab20-16a7f7bd962c",
   "metadata": {},
   "outputs": [],
   "source": [
    "# What data type is '20.6'? "
   ]
  },
  {
   "cell_type": "markdown",
   "id": "db94ed06-c58e-41a7-a905-e2c503a37d0e",
   "metadata": {},
   "source": [
    "#### Integers"
   ]
  },
  {
   "cell_type": "markdown",
   "id": "d810fc77-6cd7-46a2-a4bf-f1c1d59a8ea2",
   "metadata": {},
   "source": [
    "Integers are numbers that do not have a decimal."
   ]
  },
  {
   "cell_type": "markdown",
   "id": "ac2c22af-209b-4057-8d97-7253bd3c2a1e",
   "metadata": {},
   "source": [
    "**<span style=\"color:orange\">TIP</span>** : The word 'integer' is often shortened to 'int'"
   ]
  },
  {
   "cell_type": "code",
   "execution_count": 12,
   "id": "ad62a537-48fe-41ab-a89d-c3367e54e3e9",
   "metadata": {},
   "outputs": [
    {
     "data": {
      "text/plain": [
       "int"
      ]
     },
     "execution_count": 12,
     "metadata": {},
     "output_type": "execute_result"
    }
   ],
   "source": [
    "type(1)"
   ]
  },
  {
   "cell_type": "markdown",
   "id": "b14a17df-2d73-4ac8-8912-180fdaa98c62",
   "metadata": {},
   "source": [
    "#### Floats"
   ]
  },
  {
   "cell_type": "markdown",
   "id": "79ab4bf9-0a25-4ca0-a332-fc213262cd0f",
   "metadata": {},
   "source": [
    "Floats are numbers that do have a decimal."
   ]
  },
  {
   "cell_type": "code",
   "execution_count": 14,
   "id": "0a15de68-d877-4ec7-bd16-3804920ea654",
   "metadata": {},
   "outputs": [
    {
     "data": {
      "text/plain": [
       "float"
      ]
     },
     "execution_count": 14,
     "metadata": {},
     "output_type": "execute_result"
    }
   ],
   "source": [
    "type(1.0)"
   ]
  },
  {
   "cell_type": "code",
   "execution_count": 15,
   "id": "555d3ad1-8031-4e9f-8ef0-35bb2f58c132",
   "metadata": {},
   "outputs": [
    {
     "data": {
      "text/plain": [
       "float"
      ]
     },
     "execution_count": 15,
     "metadata": {},
     "output_type": "execute_result"
    }
   ],
   "source": [
    "type(1.)"
   ]
  },
  {
   "cell_type": "markdown",
   "id": "c3bdc28b-7979-405b-ac3c-3f084e74b044",
   "metadata": {},
   "source": [
    "With integers and booleans we can now do math!"
   ]
  },
  {
   "cell_type": "markdown",
   "id": "bb390b40-65bb-41fb-9e35-7e4e606760c0",
   "metadata": {},
   "source": [
    "<center><img src=\"https://cdn2.iconfinder.com/data/icons/back-to-school-filled-outline-1/64/Math-512.png\" width=\"100\" height=\"100\" />"
   ]
  },
  {
   "cell_type": "code",
   "execution_count": 46,
   "id": "3caae5a8-7750-48ee-8007-33672bbb18d0",
   "metadata": {},
   "outputs": [
    {
     "name": "stdout",
     "output_type": "stream",
     "text": [
      "2+3 is equal to 5\n",
      "10.0-3.3 is equal to 6.7\n",
      "4/2 is equal to 2.0\n",
      "2.5*3 is equal to 7.5\n"
     ]
    }
   ],
   "source": [
    "print('2+3 is equal to', 2+3)\n",
    "print('10.0-3.3 is equal to', 10.0-3.3)\n",
    "print('4/2 is equal to', 4/2) # '/' is how we do division (think fraction)\n",
    "print('2.5*3 is equal to', 2.5*3) # '*' is how we do multiplication"
   ]
  },
  {
   "cell_type": "markdown",
   "id": "5a8a1a00-f3a5-4b97-9004-6f84198f4aee",
   "metadata": {},
   "source": [
    "Note the data types of the results..."
   ]
  },
  {
   "cell_type": "markdown",
   "id": "64a8ec36-f01e-4dc0-90e1-1c633a036715",
   "metadata": {},
   "source": [
    "#### Booleans"
   ]
  },
  {
   "cell_type": "markdown",
   "id": "75e29101-359e-4654-99c9-9cffa3d29350",
   "metadata": {},
   "source": [
    "Booleans just have two possible values : `True` or `False`."
   ]
  },
  {
   "cell_type": "markdown",
   "id": "fa2265b8-2e92-490d-a51f-16f6f80f70bf",
   "metadata": {},
   "source": [
    "**<span style=\"color:orange\">TIP</span>** : The word 'boolean' is often shortened to 'bool'"
   ]
  },
  {
   "cell_type": "code",
   "execution_count": 16,
   "id": "ef93e66f-5391-4967-a42d-d65aff04da5b",
   "metadata": {},
   "outputs": [
    {
     "data": {
      "text/plain": [
       "bool"
      ]
     },
     "execution_count": 16,
     "metadata": {},
     "output_type": "execute_result"
    }
   ],
   "source": [
    "type(True)"
   ]
  },
  {
   "cell_type": "code",
   "execution_count": 17,
   "id": "8bdd8603-41ac-47be-b51f-dbb2d36cc845",
   "metadata": {},
   "outputs": [
    {
     "data": {
      "text/plain": [
       "bool"
      ]
     },
     "execution_count": 17,
     "metadata": {},
     "output_type": "execute_result"
    }
   ],
   "source": [
    "type(False)"
   ]
  },
  {
   "cell_type": "markdown",
   "id": "a0fd5254-b71c-46da-a6f7-514516ae03c4",
   "metadata": {},
   "source": [
    "Any expression that evaluates to true/false is also a boolean:"
   ]
  },
  {
   "cell_type": "code",
   "execution_count": 37,
   "id": "f8629110-7bb7-4913-9cf9-f24e1307234a",
   "metadata": {},
   "outputs": [
    {
     "data": {
      "text/plain": [
       "True"
      ]
     },
     "execution_count": 37,
     "metadata": {},
     "output_type": "execute_result"
    }
   ],
   "source": [
    "5>3"
   ]
  },
  {
   "cell_type": "code",
   "execution_count": 38,
   "id": "b80b1954-c82b-443e-b655-9e93cc25a316",
   "metadata": {},
   "outputs": [
    {
     "data": {
      "text/plain": [
       "bool"
      ]
     },
     "execution_count": 38,
     "metadata": {},
     "output_type": "execute_result"
    }
   ],
   "source": [
    "type(5>3)"
   ]
  },
  {
   "cell_type": "code",
   "execution_count": 39,
   "id": "e309bb33-d268-40c4-ac09-909372577652",
   "metadata": {},
   "outputs": [
    {
     "data": {
      "text/plain": [
       "True"
      ]
     },
     "execution_count": 39,
     "metadata": {},
     "output_type": "execute_result"
    }
   ],
   "source": [
    "'hello'=='hello' # double '=' signs are how we test equality in Python"
   ]
  },
  {
   "cell_type": "code",
   "execution_count": 36,
   "id": "20b935e2-e582-442a-81e4-3ea9ccac7a73",
   "metadata": {},
   "outputs": [
    {
     "data": {
      "text/plain": [
       "bool"
      ]
     },
     "execution_count": 36,
     "metadata": {},
     "output_type": "execute_result"
    }
   ],
   "source": [
    "type('hello'=='hello')"
   ]
  },
  {
   "cell_type": "code",
   "execution_count": 42,
   "id": "f5be3833-bb72-41c5-8bea-8cc10cd41d61",
   "metadata": {},
   "outputs": [
    {
     "data": {
      "text/plain": [
       "True"
      ]
     },
     "execution_count": 42,
     "metadata": {},
     "output_type": "execute_result"
    }
   ],
   "source": [
    "'hello'!='goodbye' # '!=' is how we say 'NOT equal to'"
   ]
  },
  {
   "cell_type": "code",
   "execution_count": 43,
   "id": "dd73b39d-7612-4c20-b434-2f51f87a3caa",
   "metadata": {},
   "outputs": [
    {
     "data": {
      "text/plain": [
       "bool"
      ]
     },
     "execution_count": 43,
     "metadata": {},
     "output_type": "execute_result"
    }
   ],
   "source": [
    "type('hello'!='goodbye')"
   ]
  },
  {
   "cell_type": "code",
   "execution_count": 40,
   "id": "3f62b477-3318-47d8-a19f-1a930ff5a0bb",
   "metadata": {},
   "outputs": [
    {
     "data": {
      "text/plain": [
       "False"
      ]
     },
     "execution_count": 40,
     "metadata": {},
     "output_type": "execute_result"
    }
   ],
   "source": [
    "15>=16 # how we say 'greater than or equal to'"
   ]
  },
  {
   "cell_type": "code",
   "execution_count": 41,
   "id": "47a6faf4-b77e-4058-8a2b-f30b9e057709",
   "metadata": {},
   "outputs": [
    {
     "data": {
      "text/plain": [
       "bool"
      ]
     },
     "execution_count": 41,
     "metadata": {},
     "output_type": "execute_result"
    }
   ],
   "source": [
    "type(15>=16)"
   ]
  },
  {
   "cell_type": "markdown",
   "id": "5cf8726d-dd32-4024-89e6-8b1c6f4829ad",
   "metadata": {},
   "source": [
    "#### Strings"
   ]
  },
  {
   "cell_type": "markdown",
   "id": "2144cfb5-5ed1-4ab0-85d2-707f02b6e97b",
   "metadata": {},
   "source": [
    "This is what a computer calls the text data type. It is **anything** enclosed in single quotes (`'hello world'`), double quotes (`\"hello world\"`), or triple quotes (`\"\"\"hello world\"\"\"`) even if that thing would be a different data type without the quotes:"
   ]
  },
  {
   "cell_type": "code",
   "execution_count": 7,
   "id": "1ade1b5e-b8a7-421b-a989-fba017a3eae9",
   "metadata": {},
   "outputs": [
    {
     "data": {
      "text/plain": [
       "str"
      ]
     },
     "execution_count": 7,
     "metadata": {},
     "output_type": "execute_result"
    }
   ],
   "source": [
    "type('python')"
   ]
  },
  {
   "cell_type": "code",
   "execution_count": 8,
   "id": "69337ccf-d91c-4e05-ae8e-b42a004b7538",
   "metadata": {},
   "outputs": [
    {
     "data": {
      "text/plain": [
       "str"
      ]
     },
     "execution_count": 8,
     "metadata": {},
     "output_type": "execute_result"
    }
   ],
   "source": [
    "type(\"python\")"
   ]
  },
  {
   "cell_type": "code",
   "execution_count": 22,
   "id": "b28e8406-111a-4bea-9924-01925c371106",
   "metadata": {},
   "outputs": [
    {
     "data": {
      "text/plain": [
       "str"
      ]
     },
     "execution_count": 22,
     "metadata": {},
     "output_type": "execute_result"
    }
   ],
   "source": [
    "type(\"\"\"python\"\"\")"
   ]
  },
  {
   "cell_type": "code",
   "execution_count": 9,
   "id": "9c4d8143-607d-40b1-9c07-b4db1657f93d",
   "metadata": {},
   "outputs": [
    {
     "data": {
      "text/plain": [
       "str"
      ]
     },
     "execution_count": 9,
     "metadata": {},
     "output_type": "execute_result"
    }
   ],
   "source": [
    "type('20')"
   ]
  },
  {
   "cell_type": "code",
   "execution_count": 10,
   "id": "4aeeb47e-894d-4cf8-97a0-b96e2308485f",
   "metadata": {},
   "outputs": [
    {
     "data": {
      "text/plain": [
       "str"
      ]
     },
     "execution_count": 10,
     "metadata": {},
     "output_type": "execute_result"
    }
   ],
   "source": [
    "type('12.3')"
   ]
  },
  {
   "cell_type": "code",
   "execution_count": 11,
   "id": "a1ecb8fc-1c8b-4f65-a125-09890a4649b6",
   "metadata": {},
   "outputs": [
    {
     "data": {
      "text/plain": [
       "str"
      ]
     },
     "execution_count": 11,
     "metadata": {},
     "output_type": "execute_result"
    }
   ],
   "source": [
    "type('true')"
   ]
  },
  {
   "cell_type": "markdown",
   "id": "30e7c4b1-0813-40bb-8c89-21bee35826ac",
   "metadata": {},
   "source": [
    "Why the option to have single, double, or triple quotes? So that you can include the other kind of quote in the string itself. Double quotes lets you include single quotes in the text. Triple quotes let you include both single and double quotes in the text."
   ]
  },
  {
   "cell_type": "code",
   "execution_count": 19,
   "id": "f8abefbc-3be5-4d09-b2f1-ec7790bb8ad5",
   "metadata": {},
   "outputs": [
    {
     "name": "stdout",
     "output_type": "stream",
     "text": [
      "Do you pronouce it 'wash' or 'warsh'?\n"
     ]
    }
   ],
   "source": [
    "print(\"Do you pronouce it 'wash' or 'warsh'?\")"
   ]
  },
  {
   "cell_type": "code",
   "execution_count": 24,
   "id": "e5e35ef3-eb06-4fe0-9bb6-d483d8a11bba",
   "metadata": {},
   "outputs": [],
   "source": [
    "# What happens if you try to put single quotes around that string?"
   ]
  },
  {
   "cell_type": "markdown",
   "id": "17f10add-bd80-4bc1-82da-e83249195f58",
   "metadata": {},
   "source": [
    "#### Type Conversion"
   ]
  },
  {
   "cell_type": "markdown",
   "id": "8e25f1b1-7a74-4ee8-a8e5-d86ddd23ea64",
   "metadata": {},
   "source": [
    "You can switch between different types, just use a command that start with the data type and takes as input what you want converted. "
   ]
  },
  {
   "cell_type": "code",
   "execution_count": 27,
   "id": "5c08a0f5-4ddd-41a8-9e45-2bf242406d55",
   "metadata": {},
   "outputs": [
    {
     "data": {
      "text/plain": [
       "str"
      ]
     },
     "execution_count": 27,
     "metadata": {},
     "output_type": "execute_result"
    }
   ],
   "source": [
    "type('20')"
   ]
  },
  {
   "cell_type": "code",
   "execution_count": 29,
   "id": "38303fe8-fc5d-4e58-8a19-0dad5c5f43ff",
   "metadata": {},
   "outputs": [
    {
     "data": {
      "text/plain": [
       "20.0"
      ]
     },
     "execution_count": 29,
     "metadata": {},
     "output_type": "execute_result"
    }
   ],
   "source": [
    "float('20')"
   ]
  },
  {
   "cell_type": "code",
   "execution_count": 30,
   "id": "aef38f0e-aeb3-4448-a33d-d2ca42b6e81f",
   "metadata": {},
   "outputs": [
    {
     "data": {
      "text/plain": [
       "float"
      ]
     },
     "execution_count": 30,
     "metadata": {},
     "output_type": "execute_result"
    }
   ],
   "source": [
    "type(float('20'))"
   ]
  },
  {
   "cell_type": "markdown",
   "id": "226e85c0-e3d2-45e6-8838-b9c4a0c27861",
   "metadata": {},
   "source": [
    "Just make sure the type of conversion you are telling the computer to do makes sense!"
   ]
  },
  {
   "cell_type": "code",
   "execution_count": 31,
   "id": "c153c675-7bab-469d-baa2-a44a8f3574f6",
   "metadata": {},
   "outputs": [
    {
     "ename": "ValueError",
     "evalue": "could not convert string to float: 'not a number'",
     "output_type": "error",
     "traceback": [
      "\u001b[1;31m---------------------------------------------------------------------------\u001b[0m",
      "\u001b[1;31mValueError\u001b[0m                                Traceback (most recent call last)",
      "\u001b[1;32m~\\AppData\\Local\\Temp\\ipykernel_27496\\2564248788.py\u001b[0m in \u001b[0;36m<module>\u001b[1;34m\u001b[0m\n\u001b[1;32m----> 1\u001b[1;33m \u001b[0mfloat\u001b[0m\u001b[1;33m(\u001b[0m\u001b[1;34m'not a number'\u001b[0m\u001b[1;33m)\u001b[0m\u001b[1;33m\u001b[0m\u001b[1;33m\u001b[0m\u001b[0m\n\u001b[0m",
      "\u001b[1;31mValueError\u001b[0m: could not convert string to float: 'not a number'"
     ]
    }
   ],
   "source": [
    "float('not a number')"
   ]
  },
  {
   "cell_type": "code",
   "execution_count": 33,
   "id": "fa091e97-a08d-447f-9b07-22bf2d4bcf2e",
   "metadata": {},
   "outputs": [],
   "source": [
    "# What happens if you try to convert a float to an int?"
   ]
  },
  {
   "cell_type": "markdown",
   "id": "72cb82b8-4330-4cc7-a385-56922f0ed86f",
   "metadata": {},
   "source": [
    "_____________________________"
   ]
  },
  {
   "cell_type": "markdown",
   "id": "28d4bed8-ca43-44fc-bb9a-35da99d6ca26",
   "metadata": {},
   "source": [
    "# Variables"
   ]
  },
  {
   "cell_type": "markdown",
   "id": "6e074dc8-b33f-4156-8d0b-ebba6b954806",
   "metadata": {},
   "source": [
    "But what if you want to make a program where something changes? For instance if you created a program to calculate the area of a rectangle : Area = width * height. If you put numbers directly into the program then you would have to manually change them every time the width and height changed. Instead, we can assign values to names that represent those values, and use those names in the program instead. These are called **<span style=\"color:blue\">variables</span>** because the value that they represent can change or vary. \n",
    "\n",
    "The syntax for creating a variable is:\n",
    "`variable_name = value it will represent`"
   ]
  },
  {
   "cell_type": "code",
   "execution_count": 2,
   "id": "6216d950-3488-4ae6-b9f5-bf3f310711dc",
   "metadata": {},
   "outputs": [
    {
     "name": "stdout",
     "output_type": "stream",
     "text": [
      "The area of the rectange is 16\n"
     ]
    }
   ],
   "source": [
    "width = 8\n",
    "height = 2\n",
    "\n",
    "area = width * height\n",
    "\n",
    "print('The area of the rectange is', area)"
   ]
  },
  {
   "cell_type": "markdown",
   "id": "12abce06-aa5e-4e24-887a-eb9d0bddf5f1",
   "metadata": {},
   "source": [
    "Rules for variable names:\n",
    "* Can't start with a numbers (e.g. can't do `2nd_place`)\n",
    "* Can't have space in the name or special characters other than an underscore (e.g. can't do `Ashley's Address`)\n",
    "* For readability, should either use camelcase (e.g. `secondPlace`) or snakecase (e.g. `second_place`)\n",
    "* There are certain words that are reserved as 'special' words by python that serve a different purpose (e.g. like the word `print` or `for` which we'll talk about in a bit). If you try to use one of these words, Python will either throw an error or overwrite something important that will cause errors later. \n",
    "    - **<span style=\"color:orange\">TIP</span>** : When writing code in an editor that knows you are using Python, these special words will show up as a different color than black when you type them out."
   ]
  },
  {
   "cell_type": "code",
   "execution_count": 48,
   "id": "d33beaf8-f62d-4ad3-a05e-d0a6d6c43b1d",
   "metadata": {},
   "outputs": [
    {
     "ename": "TypeError",
     "evalue": "'str' object is not callable",
     "output_type": "error",
     "traceback": [
      "\u001b[1;31m---------------------------------------------------------------------------\u001b[0m",
      "\u001b[1;31mTypeError\u001b[0m                                 Traceback (most recent call last)",
      "\u001b[1;32m~\\AppData\\Local\\Temp\\ipykernel_27496\\1780213705.py\u001b[0m in \u001b[0;36m<module>\u001b[1;34m\u001b[0m\n\u001b[0;32m      2\u001b[0m \u001b[0mwidth\u001b[0m \u001b[1;33m=\u001b[0m \u001b[1;36m9\u001b[0m\u001b[1;33m\u001b[0m\u001b[1;33m\u001b[0m\u001b[0m\n\u001b[0;32m      3\u001b[0m \u001b[0mprint\u001b[0m \u001b[1;33m=\u001b[0m \u001b[1;34m'hello'\u001b[0m\u001b[1;33m\u001b[0m\u001b[1;33m\u001b[0m\u001b[0m\n\u001b[1;32m----> 4\u001b[1;33m \u001b[0mprint\u001b[0m\u001b[1;33m(\u001b[0m\u001b[1;34m'hello world'\u001b[0m\u001b[1;33m)\u001b[0m\u001b[1;33m\u001b[0m\u001b[1;33m\u001b[0m\u001b[0m\n\u001b[0m",
      "\u001b[1;31mTypeError\u001b[0m: 'str' object is not callable"
     ]
    }
   ],
   "source": [
    "print = 'hello'\n",
    "print('hello world')"
   ]
  },
  {
   "cell_type": "markdown",
   "id": "23e20580-f1eb-4163-9d6b-28a91e6eb564",
   "metadata": {},
   "source": [
    "#### User Input"
   ]
  },
  {
   "cell_type": "markdown",
   "id": "ed4f8e72-e7cc-4e60-aadc-0af323897982",
   "metadata": {},
   "source": [
    "Variables can be especially helpful if we ask the computer user for input. We aren't going to know what they put when we write the program, so we have to use variables!"
   ]
  },
  {
   "cell_type": "markdown",
   "id": "7c827f25-fc8e-4a4e-bb71-fb94d0764cbc",
   "metadata": {},
   "source": [
    "The syntax for taking in user input is : `variable_name = input(\"The message you want the user to see\")`"
   ]
  },
  {
   "cell_type": "code",
   "execution_count": 8,
   "id": "eeb9a5fd-6724-49f4-8784-9d5ba00ec193",
   "metadata": {},
   "outputs": [
    {
     "name": "stdin",
     "output_type": "stream",
     "text": [
      "What is your name? Emily \n"
     ]
    },
    {
     "name": "stdout",
     "output_type": "stream",
     "text": [
      "Hello Emily \n"
     ]
    }
   ],
   "source": [
    "name = input('What is your name?')\n",
    "print('Hello', name)"
   ]
  },
  {
   "cell_type": "markdown",
   "id": "c1ca8a30-f1a9-4cf4-8b42-bc907a7a5162",
   "metadata": {},
   "source": [
    "But be **<span style=\"color:red\">careful</span>**! Everything put in by a user is always interpreted as a string, so if you want it be anything else you will need to cast it."
   ]
  },
  {
   "cell_type": "code",
   "execution_count": 7,
   "id": "a6bdc26a-8147-41b9-a1fd-0935d7a09983",
   "metadata": {},
   "outputs": [
    {
     "name": "stdin",
     "output_type": "stream",
     "text": [
      "What is the width of the rectangle? 5\n",
      "What is the height of the rectangle? 5\n"
     ]
    },
    {
     "ename": "TypeError",
     "evalue": "can't multiply sequence by non-int of type 'str'",
     "output_type": "error",
     "traceback": [
      "\u001b[1;31m---------------------------------------------------------------------------\u001b[0m",
      "\u001b[1;31mTypeError\u001b[0m                                 Traceback (most recent call last)",
      "\u001b[1;32m~\\AppData\\Local\\Temp\\ipykernel_30680\\3496616314.py\u001b[0m in \u001b[0;36m<module>\u001b[1;34m\u001b[0m\n\u001b[0;32m      1\u001b[0m \u001b[0mwidth\u001b[0m \u001b[1;33m=\u001b[0m \u001b[0minput\u001b[0m\u001b[1;33m(\u001b[0m\u001b[1;34m'What is the width of the rectangle?'\u001b[0m\u001b[1;33m)\u001b[0m\u001b[1;33m\u001b[0m\u001b[1;33m\u001b[0m\u001b[0m\n\u001b[0;32m      2\u001b[0m \u001b[0mheight\u001b[0m \u001b[1;33m=\u001b[0m \u001b[0minput\u001b[0m\u001b[1;33m(\u001b[0m\u001b[1;34m'What is the height of the rectangle?'\u001b[0m\u001b[1;33m)\u001b[0m\u001b[1;33m\u001b[0m\u001b[1;33m\u001b[0m\u001b[0m\n\u001b[1;32m----> 3\u001b[1;33m \u001b[0marea\u001b[0m \u001b[1;33m=\u001b[0m \u001b[0mwidth\u001b[0m\u001b[1;33m*\u001b[0m\u001b[0mheight\u001b[0m\u001b[1;33m\u001b[0m\u001b[1;33m\u001b[0m\u001b[0m\n\u001b[0m\u001b[0;32m      4\u001b[0m \u001b[0mprint\u001b[0m\u001b[1;33m(\u001b[0m\u001b[1;34mf'The area of the rectange with width {width} and height {height} is {area}'\u001b[0m\u001b[1;33m)\u001b[0m\u001b[1;33m\u001b[0m\u001b[1;33m\u001b[0m\u001b[0m\n",
      "\u001b[1;31mTypeError\u001b[0m: can't multiply sequence by non-int of type 'str'"
     ]
    }
   ],
   "source": [
    "# How would we fix this?\n",
    "width = input('What is the width of the rectangle?')\n",
    "height = input('What is the height of the rectangle?')\n",
    "area = width*height\n",
    "print('The area of the rectange with width', width, 'and height', height, 'is', area)"
   ]
  },
  {
   "cell_type": "markdown",
   "id": "a78c8546-5b4b-40fb-a4b6-da8c9d8d154f",
   "metadata": {},
   "source": [
    "# Break Time"
   ]
  },
  {
   "cell_type": "markdown",
   "id": "4b134b9c-b269-4c7e-9164-dd42f0c503d9",
   "metadata": {},
   "source": [
    "<center><img src=\"https://media1.tenor.com/images/82b89873320e6e4df68e11cf2c9230ab/tenor.gif?itemid=10415113\" width=\"500\" height=\"500\" />"
   ]
  },
  {
   "cell_type": "markdown",
   "id": "52a97b89-1fa0-4751-aec9-f80d6e03484b",
   "metadata": {},
   "source": [
    "# Decision Making"
   ]
  },
  {
   "cell_type": "markdown",
   "id": "af350ce5-f5a0-40ed-87be-e100f86b3558",
   "metadata": {},
   "source": [
    "Sometime what we want the computer depends on the situation. When this happens, we have to code like a Yes/No decision tree:"
   ]
  },
  {
   "cell_type": "markdown",
   "id": "20ab6fa2-0c73-4695-b431-cc0ccb20ce61",
   "metadata": {},
   "source": [
    "<center><img src=\"https://i.pinimg.com/originals/a8/b6/2f/a8b62f8ca2d360fa0761f15ca4ad7008.jpg\" width=\"500\" height=\"500\" />"
   ]
  },
  {
   "cell_type": "markdown",
   "id": "6440c3b8-1848-4be6-9b0e-191f5bcb9e96",
   "metadata": {},
   "source": [
    "Python has a special syntax for this : if-else statements. They take this form:\n",
    "\n",
    "```\n",
    "if (expression1):\n",
    "    # Do this if expression1 evaluates to True (boolean)\n",
    "elif (expression2):\n",
    "    # Do this if expression1 evaluates to False \n",
    "    # but expression2 evaluates to True\n",
    "else:\n",
    "    # Do this is expression1 and expression2 both evaluated to False\n",
    "```"
   ]
  },
  {
   "cell_type": "markdown",
   "id": "9b480068-fd19-4440-b27c-548adfee9899",
   "metadata": {},
   "source": [
    "So the above decision tree would be:"
   ]
  },
  {
   "cell_type": "code",
   "execution_count": 34,
   "id": "230043fa-7b44-45b8-9183-21375a3c4486",
   "metadata": {},
   "outputs": [
    {
     "name": "stdout",
     "output_type": "stream",
     "text": [
      "I don't want it\n"
     ]
    }
   ],
   "source": [
    "thing_for_cat = True\n",
    "\n",
    "if thing_for_cat:\n",
    "    # What is indented here only executes if thing_for_cat is True\n",
    "    print(\"I don't want it\")\n",
    "else:\n",
    "    # What is indented here only executes if thing_for_cat is False\n",
    "    print(\"That's for me\")"
   ]
  },
  {
   "cell_type": "markdown",
   "id": "9cdc6cbb-f4ba-4113-ad5f-83fc81c6e106",
   "metadata": {},
   "source": [
    "You can put an if-else statement inside of another if-else statement to make as many layers as you need!"
   ]
  },
  {
   "cell_type": "markdown",
   "id": "14908038-06be-4e86-9ab0-d3f36fdde733",
   "metadata": {},
   "source": [
    "<center><img src=\"https://i.pinimg.com/originals/a8/ed/99/a8ed996e8c5bb0f088c3296ebf4c44e8.jpg\" width=\"600\" height=\"600\" />"
   ]
  },
  {
   "cell_type": "code",
   "execution_count": null,
   "id": "0ae0cb1b-481e-4509-b2a0-58fa0e969e3d",
   "metadata": {},
   "outputs": [],
   "source": [
    "# How would we code the right side of this decision tree?\n",
    "# to start off, we need 4 boolean variables...\n",
    "remember_name = False"
   ]
  },
  {
   "cell_type": "markdown",
   "id": "30cfe252-97bf-4379-afa5-d504b8a3c2a6",
   "metadata": {},
   "source": [
    "# Loops"
   ]
  },
  {
   "cell_type": "markdown",
   "id": "2eedef30-3667-4ca4-9613-2da7cacb1122",
   "metadata": {},
   "source": [
    "<center><img src=\"https://clipground.com/images/loops-clipart-4.jpg\" width=\"300\" height=\"300\" />"
   ]
  },
  {
   "cell_type": "markdown",
   "id": "e1303654-7b34-417f-83d6-fc29b4944de5",
   "metadata": {},
   "source": [
    "So if/elif/else is how we can do different things based on the situations, but what if we want to do something multiple times? Do we have to type it tons of times? "
   ]
  },
  {
   "cell_type": "code",
   "execution_count": 5,
   "id": "ca4ac20a-4ded-428a-bf49-b3af77f0ab94",
   "metadata": {},
   "outputs": [
    {
     "name": "stdout",
     "output_type": "stream",
     "text": [
      "area of the retangle is 6\n",
      "area of the retangle is 12\n",
      "area of the retangle is 18\n",
      "area of the retangle is 24\n",
      "area of the retangle is 30\n"
     ]
    }
   ],
   "source": [
    "# want to calculate the area of a triangle for widths from 1-5\n",
    "height = 6\n",
    "width = 1\n",
    "\n",
    "area = width * height\n",
    "print('area of the retangle is', area)\n",
    "\n",
    "width = 2\n",
    "area = width*height\n",
    "print('area of the retangle is', area)\n",
    "\n",
    "width = 3\n",
    "area = width*height\n",
    "print('area of the retangle is', area)\n",
    "\n",
    "width = 4\n",
    "area = width*height\n",
    "print('area of the retangle is', area)\n",
    "\n",
    "width = 5\n",
    "area = width*height\n",
    "print('area of the retangle is', area)"
   ]
  },
  {
   "cell_type": "markdown",
   "id": "dcd09ec0-0476-4717-9148-3ee09172504b",
   "metadata": {},
   "source": [
    "But what if the number of times changes depending on the situation? Do we just need to make an iterator and have a lot of if statements? "
   ]
  },
  {
   "cell_type": "code",
   "execution_count": null,
   "id": "b9d3c4dc-4989-4841-b9bb-2480af7eb4ed",
   "metadata": {},
   "outputs": [],
   "source": [
    "thing_to_print = input('what should we print?')\n",
    "number_of_times_to_print = input('how many times should we print?')\n",
    "\n",
    "times_we_have_printed = 0\n",
    "print(thing_to_print)\n",
    "times_we_have_printed = times_we_have_printed + 1\n",
    "\n",
    "if times_we_have_printed < number_of_times_to_print:\n",
    "    print(thing_to_print)\n",
    "    times_we_have_printed = times_we_have_printed + 1\n",
    "\n",
    "if times_we_have_printed < number_of_times_to_print:\n",
    "    print(thing_to_print)\n",
    "    times_we_have_printed = times_we_have_printed + 1\n",
    "    \n",
    "if times_we_have_printed < number_of_times_to_print:\n",
    "    print(thing_to_print)\n",
    "    times_we_have_printed = times_we_have_printed + 1\n",
    "    \n",
    "if times_we_have_printed < number_of_times_to_print:\n",
    "    print(thing_to_print)\n",
    "    times_we_have_printed = times_we_have_printed + 1\n",
    "    \n",
    "if times_we_have_printed < number_of_times_to_print:\n",
    "    print(thing_to_print)\n",
    "    times_we_have_printed = times_we_have_printed + 1\n",
    "    \n",
    "# ...But what if they want to print 100 times??!"
   ]
  },
  {
   "cell_type": "markdown",
   "id": "f7eb9336-3a3a-4dff-95d5-ca4af012f143",
   "metadata": {},
   "source": [
    "This problem of having to do something multiple times in a row is solved by *loops*. There are two different types of loops : `for` loops and `while` loops"
   ]
  },
  {
   "cell_type": "markdown",
   "id": "3b6fd7ce-33f4-4150-98e0-03804c9fbea2",
   "metadata": {},
   "source": [
    "#### For Loops"
   ]
  },
  {
   "cell_type": "markdown",
   "id": "419739ad-fb70-4dfe-a191-c32b8996bfb9",
   "metadata": {},
   "source": [
    "`for` loops let you tell the program how many times you want it to iterate (or set the number of times based on a variable). The syntax is:\n",
    "\n",
    "```\n",
    "for iterator in range(start, stop, step):\n",
    "    # Do this thing\n",
    "    # invisible line where the computer does 'iterator = iterator + step'\n",
    "```\n",
    "\n",
    "The value for the `iterator` will start off at the `start` value, and then each time it goes through the body of the loop the `iterator` will increase its value by `step`. It will then go back to the top of the `for` loop and check if the value of the iterator is still *in-between* `start` and `stop`, and if it is it will go through the loop again. This will continue until the value for `iterator` is not *in-between* the `start` and `stop` value."
   ]
  },
  {
   "cell_type": "markdown",
   "id": "0bfc2783-71ea-40c6-9f75-3eaed1dca89c",
   "metadata": {},
   "source": [
    "**<span style=\"color:orange\">TIP</span>** : It is easy to forget that once the value of the iterator reaches the `stop` value it will not go through the loop again, so the stop value never goes through the code in the body of the for loop. "
   ]
  },
  {
   "cell_type": "markdown",
   "id": "24ef9772-0023-4b1a-b607-81d2aaa0b795",
   "metadata": {},
   "source": [
    "<center><img src=\"https://education.launchcode.org/data-analysis/_images/for-loop-diagram.png\" width=\"500\" height=\"500\" />"
   ]
  },
  {
   "cell_type": "code",
   "execution_count": 11,
   "id": "b5a84267-ba77-4723-bf49-a2be822e053a",
   "metadata": {},
   "outputs": [
    {
     "name": "stdout",
     "output_type": "stream",
     "text": [
      "2\n",
      "4\n",
      "6\n",
      "8\n"
     ]
    }
   ],
   "source": [
    "for iterator in range(2, 10, 2):\n",
    "    print(iterator)"
   ]
  },
  {
   "cell_type": "markdown",
   "id": "66ab7955-2aa2-4f59-8763-260938730236",
   "metadata": {},
   "source": [
    "**<span style=\"color:orange\">TIP</span>** : The default is to start at 0 and step by 1, so if you want that to happen you only have to include the stop value"
   ]
  },
  {
   "cell_type": "code",
   "execution_count": 13,
   "id": "5c3a1032-106a-4a81-959b-0d0e9270a1ce",
   "metadata": {},
   "outputs": [
    {
     "name": "stdout",
     "output_type": "stream",
     "text": [
      "0\n",
      "1\n",
      "2\n",
      "3\n",
      "4\n"
     ]
    }
   ],
   "source": [
    "for iterator in range(5):\n",
    "    print(iterator)"
   ]
  },
  {
   "cell_type": "markdown",
   "id": "5207a9d8-4457-4cd8-983a-bec4ae379dda",
   "metadata": {},
   "source": [
    "You can also replace the `start`, `stop`, and/or `step` value with variables!"
   ]
  },
  {
   "cell_type": "code",
   "execution_count": 14,
   "id": "7e29b3cf-c80d-46ea-8305-31a6bf4e1fc3",
   "metadata": {},
   "outputs": [
    {
     "name": "stdout",
     "output_type": "stream",
     "text": [
      "I'm printing again!\n",
      "I'm printing again!\n",
      "I'm printing again!\n",
      "I'm printing again!\n"
     ]
    }
   ],
   "source": [
    "number_of_times_to_repeat = 4\n",
    "\n",
    "for iterator in range(number_of_times_to_repeat):\n",
    "    print(\"I'm printing again!\")\n",
    "    # Note how we don't have to use the iterator in the body of the \n",
    "    # loop unless we need it"
   ]
  },
  {
   "cell_type": "markdown",
   "id": "cada13da-2f1d-4c9c-8c94-a4cb41bfba92",
   "metadata": {},
   "source": [
    "Also the name of the iterator can be anything as well, just like a variable:"
   ]
  },
  {
   "cell_type": "code",
   "execution_count": 15,
   "id": "ea7c1b8e-2504-46a7-b6ca-263b2eb98700",
   "metadata": {},
   "outputs": [
    {
     "name": "stdout",
     "output_type": "stream",
     "text": [
      "0\n",
      "2\n",
      "4\n"
     ]
    }
   ],
   "source": [
    "for num in range(3):\n",
    "    print(num*2)"
   ]
  },
  {
   "cell_type": "code",
   "execution_count": null,
   "id": "718f43f1-7162-4577-8f66-818f003cc6b4",
   "metadata": {},
   "outputs": [],
   "source": [
    "# How would we code the program we did above where we asked the user\n",
    "# what we should print and how many times we should print it, but this time\n",
    "# using a for loop?"
   ]
  },
  {
   "cell_type": "markdown",
   "id": "b000edeb-45e3-4cd9-85f2-7f96d4aafc6a",
   "metadata": {},
   "source": [
    "#### While Loops"
   ]
  },
  {
   "cell_type": "markdown",
   "id": "951cc3b6-ca00-442e-aed2-ad9990c294da",
   "metadata": {},
   "source": [
    "What if you want to repeat something a certain number of times, but we don't really have a variable that represents how many times it should repeat, but instead we want it to keep happening as long as a certain condition is in place? This is what `while` loops are for! The syntax for `while` loops is:\n",
    "\n",
    "```\n",
    "while (boolean condition):\n",
    "    # Keep doing this code for as long as the boolean condition evaluates to True\n",
    "```\n",
    "\n",
    "After every iteration the while loop will check the boolean condition again. If it is still True it will run the code in the body of the loop. Otherwise it will move on to the code past the loop:"
   ]
  },
  {
   "cell_type": "markdown",
   "id": "deda1a81-de37-4e25-99b8-08bc0408d609",
   "metadata": {},
   "source": [
    "<center><img src=\"https://education.launchcode.org/data-analysis/_images/while-loop-flow.png\" width=\"500\" height=\"500\" />"
   ]
  },
  {
   "cell_type": "code",
   "execution_count": 19,
   "id": "48f8859f-c57f-4cd0-a0c6-a4d31b00dcdb",
   "metadata": {},
   "outputs": [
    {
     "name": "stdout",
     "output_type": "stream",
     "text": [
      "50\n",
      "Number of tries it took to get 50 randomly : 51\n"
     ]
    }
   ],
   "source": [
    "import random\n",
    "\n",
    "num = random.randint(0, 100)\n",
    "num_tries = 0\n",
    "\n",
    "while(num != 50):\n",
    "    num = random.randint(0,100)\n",
    "    num_tries += 1 # This is a shortcut for saying 'num_tries = num_tries + 1'\n",
    "    \n",
    "print(num)\n",
    "print('Number of tries it took to get 50 randomly :', num_tries)"
   ]
  },
  {
   "cell_type": "markdown",
   "id": "3ff50072-f21c-4a28-ba11-2fa746c26bc7",
   "metadata": {},
   "source": [
    "**<span style=\"color:red\">WARNING</span>** : Make sure that your while loop will eventually end. Otherwise you may create an infinite loop that will eventually throw an error. (E.g. don't do `while (True)`)"
   ]
  },
  {
   "cell_type": "markdown",
   "id": "944995c2-ed8c-4cff-ae4a-5fbabbb19e51",
   "metadata": {},
   "source": [
    "**<span style=\"color:orange\">TIP</span>** : Many times you could use either a `for` loop or a `while` loop to get something done. In fact, every for loop can be written as a while loop, you just have to manage the iterator yourself!"
   ]
  },
  {
   "cell_type": "code",
   "execution_count": null,
   "id": "05390c82-fa00-4422-9def-ba450bf543dd",
   "metadata": {},
   "outputs": [],
   "source": [
    "# How would we re-write the program we did above where we asked the user\n",
    "# what we should print and how many times we should print it, but this time\n",
    "# using a while loop?"
   ]
  },
  {
   "cell_type": "markdown",
   "id": "29079f48-1062-4b45-a7be-3e544725749c",
   "metadata": {},
   "source": [
    "# Additional Resources"
   ]
  },
  {
   "cell_type": "markdown",
   "id": "6d1c9e5c-48a7-4dfd-868a-7e6ed8b18b6a",
   "metadata": {},
   "source": [
    "We'll continue to learn more python in the next couple of weeks. But if you ever feel like you need more explanation and/or practice, these are some great ways to improve outside of the class material:"
   ]
  },
  {
   "cell_type": "markdown",
   "id": "2f2d5175-542d-4f22-8845-1ea42fe9b00d",
   "metadata": {},
   "source": [
    "* Stack Overflow is the quintessential place where programmers go to ask questions and see other questions that have been asked before. If you have a coding question, it has probably been answered here - https://stackoverflow.com/\n",
    "\n",
    "* Geeks for Geeks is a great site for getting coding questions answered or learning more about Python - https://www.geeksforgeeks.org/python-programming-language/\n",
    "\n",
    "* Some other sites that provide Python tutorials and ways to interactively practice:\n",
    "    - https://www.sololearn.com/learning/1073 (will need to register first, but great content)\n",
    "    - https://realpython.com/\n",
    "    - https://www.learnpython.org/\n",
    "    - https://docs.python.org/3/tutorial/index.html (Python's own website)\n",
    "\n",
    "\n",
    "* A site where you can practice your Python by solving fun riddles! - http://www.pythonchallenge.com/"
   ]
  },
  {
   "cell_type": "code",
   "execution_count": null,
   "id": "6cbd4f02-9577-419d-9ddb-908eabd9e26b",
   "metadata": {},
   "outputs": [],
   "source": []
  }
 ],
 "metadata": {
  "kernelspec": {
   "display_name": "Python 3 (ipykernel)",
   "language": "python",
   "name": "python3"
  },
  "language_info": {
   "codemirror_mode": {
    "name": "ipython",
    "version": 3
   },
   "file_extension": ".py",
   "mimetype": "text/x-python",
   "name": "python",
   "nbconvert_exporter": "python",
   "pygments_lexer": "ipython3",
   "version": "3.8.8"
  }
 },
 "nbformat": 4,
 "nbformat_minor": 5
}
