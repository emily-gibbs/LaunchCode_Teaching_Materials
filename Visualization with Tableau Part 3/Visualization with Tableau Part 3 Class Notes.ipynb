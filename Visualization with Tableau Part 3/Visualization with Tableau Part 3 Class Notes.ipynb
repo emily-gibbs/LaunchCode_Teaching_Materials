{
 "cells": [
  {
   "cell_type": "markdown",
   "id": "db321b72-f2cf-4d39-8c96-d25627676a0c",
   "metadata": {},
   "source": [
    "<img src=\"https://media3.giphy.com/media/UqeH2KKx0U65oETdDR/source.gif\" width=\"400\" height=\"400\" />"
   ]
  },
  {
   "cell_type": "markdown",
   "id": "8b86e59a-d4fa-4912-98e9-692f14de9cd8",
   "metadata": {},
   "source": [
    "**What do the colors green and blue indicate about fields in the Tableau interface?**"
   ]
  },
  {
   "cell_type": "markdown",
   "id": "5523440e-792c-4608-a3fd-f79b3fe5239a",
   "metadata": {},
   "source": [
    "*Blue means that the field is discrete, while green means that it is continuous*"
   ]
  },
  {
   "cell_type": "markdown",
   "id": "3553b46d-4978-40df-b0cc-d7a48ca7cab9",
   "metadata": {},
   "source": [
    "**What are the 3 types of Sheets?**"
   ]
  },
  {
   "cell_type": "markdown",
   "id": "fd2bf153-498f-4d05-9922-dfba41ee76ca",
   "metadata": {},
   "source": [
    "1. *Worksheet*\n",
    "1. *Dashboard*\n",
    "1. *Story*"
   ]
  },
  {
   "cell_type": "markdown",
   "id": "80dc4749-7619-4fbc-b064-a89ec78f3708",
   "metadata": {},
   "source": [
    "**What is NOT true about groups and sets?**"
   ]
  },
  {
   "cell_type": "markdown",
   "id": "c9b626e3-2c2e-4f09-a2fd-9b1bf1ddff13",
   "metadata": {},
   "source": [
    "1. *Groups always apply to a single dimension while sets can apply to more than one dimension.*\n",
    "\n",
    "**2**. *Sets require that you explictly select the values you want included while groups let you set the conditions for what should be included.*\n",
    "\n",
    "3. *Both groups and sets make it easier to filter your data if you will be using the same filters multiple times.* \n",
    "\n",
    "4. *There can be several groups under a single dimension, while sets only have two options ('in' and 'out')*"
   ]
  },
  {
   "cell_type": "markdown",
   "id": "686d34dd-1307-4677-b643-78fa49e070a5",
   "metadata": {},
   "source": [
    "**What makes a Fixed Set 'fixed'?**"
   ]
  },
  {
   "cell_type": "markdown",
   "id": "494ae9d6-20f0-4f15-8f54-fbb2402960b3",
   "metadata": {},
   "source": [
    "*The values in that set will not change if the underlying data is updated because specific values for the dimension(s) have been selected and are not based on conditions.*"
   ]
  },
  {
   "cell_type": "markdown",
   "id": "69cccce7-d415-4b69-9093-df257ccdbe1b",
   "metadata": {},
   "source": [
    "**What is an Aggregation?**"
   ]
  },
  {
   "cell_type": "markdown",
   "id": "bf93cde4-a968-40ed-b32a-49b012f0bdc6",
   "metadata": {},
   "source": [
    "*When a function is applied to a field so that the values for that field are converted into a single value. Applied to groups based upon any dimensions being used to group the data*"
   ]
  },
  {
   "cell_type": "markdown",
   "id": "abf78182-729d-497e-aeb6-71a99075c841",
   "metadata": {},
   "source": [
    "____________________"
   ]
  },
  {
   "cell_type": "markdown",
   "id": "9a2f34da-d541-4341-a138-f26df096b253",
   "metadata": {},
   "source": [
    "# Data Used in Live Examples"
   ]
  },
  {
   "cell_type": "markdown",
   "id": "1859c192-3b17-4602-b54e-ca14d0131aa0",
   "metadata": {},
   "source": [
    "We will be using the csv file on bike sharing data that was used for this week's exercise. For more information on this dataset see: [https://www.kaggle.com/datasets/marklvl/bike-sharing-dataset](https://www.kaggle.com/datasets/marklvl/bike-sharing-dataset)."
   ]
  },
  {
   "cell_type": "markdown",
   "id": "31c354f8-ff6d-4018-8fde-95d7dba9de4a",
   "metadata": {},
   "source": [
    "**<span style=\"color:orange\">NOTE</span>** : All Tableau gifs and most images are from articles in the official [help.tableau.com](https://help.tableau.com) website and are not created using the data we are using in the live examples"
   ]
  },
  {
   "cell_type": "markdown",
   "id": "f0e5be82-79da-4a7c-8e40-3992022c74f7",
   "metadata": {},
   "source": [
    "________________"
   ]
  },
  {
   "cell_type": "markdown",
   "id": "4e68b44a-46a2-4577-9b23-403393605b5d",
   "metadata": {},
   "source": [
    "# Calculated Fields"
   ]
  },
  {
   "cell_type": "markdown",
   "id": "2ebd8b5a-6433-471b-8e3e-6b082252ee59",
   "metadata": {},
   "source": [
    "A **Calculated Field** allows you to create a new data field (column) from data that already exists in your data source. You can use them to:\n",
    "* *Convert* the data type of a field (e.g. convert 0's and 1's to boolean values)\n",
    "* *Fill in gaps* in the data (such as creating a Profit field using the Sales and Cost data fields)\n",
    "* *Categorize* data into meaningful bins (such classifying sales that are over a certain amount as \"Profitable\" and those below that amount as \"Unprofitable\" and then coloring your vizualization based on that segmentation).\n",
    "* And more!"
   ]
  },
  {
   "cell_type": "markdown",
   "id": "09033406-7994-464a-a1d0-f19d700bc86e",
   "metadata": {},
   "source": [
    "### Creating Calculation Formulas"
   ]
  },
  {
   "cell_type": "markdown",
   "id": "fbb01fea-8d94-4261-b67c-370a8bc55a1a",
   "metadata": {},
   "source": [
    "Calculations can contain any of the following components:\n",
    "\n",
    "**Functions** : Key words that denote the logic of the calculation, which is a little different than the meaning in programming, as well as manipulate data according to the function definition. They will be made up of all capital letters and show up in blue text in the calculation. Examples include IF, THEN, ELSE, ELSEIF, END, SUM, AVG, etc.\n",
    "* You can browse the list of available functions (as well as their required syntax, description, and an example) by clicking the arrow to the right edge of the Calculation Editor.\n",
    "* Alternatively, for a list of all Tableau functions and their required syntax (e.g. number of parameters) see [https://help.tableau.com/current/pro/desktop/en-us/functions_all_alphabetical.htm](https://help.tableau.com/current/pro/desktop/en-us/functions_all_alphabetical.htm).\n",
    "* You can also add by dragging an aggregation function being used by the current viz from one of the shelves/cards."
   ]
  },
  {
   "cell_type": "markdown",
   "id": "9c306728-abeb-4e35-a838-280269850374",
   "metadata": {},
   "source": [
    "<center><img src=\"https://help.tableau.com/current/pro/desktop/en-us/Img/functions_operators2.gif\" width=\"700\" height=\"700\" />"
   ]
  },
  {
   "cell_type": "markdown",
   "id": "e5432d10-669f-4049-849e-c6789f1296e3",
   "metadata": {},
   "source": [
    "**Fields** : Data fields (dimensions or measures) from the data pane. These should be surrounded by square brackets ('[]') and will show up in orange text in the calculation.\n",
    "* Can add by typing the name (it will try to autocomplete for you) or by dragging it in from the Data pane."
   ]
  },
  {
   "cell_type": "markdown",
   "id": "cd2ed4cf-29eb-4cbe-be84-724ad977f323",
   "metadata": {},
   "source": [
    "**Operators** : Performs a comparison (e.g. '<'), mathematical operation (e.g. '+'), or boolean evaluation (e.g. 'AND', 'OR', 'NOT')"
   ]
  },
  {
   "cell_type": "markdown",
   "id": "142f8fa7-05ba-44bf-8051-27e157374f77",
   "metadata": {},
   "source": [
    "**Literal Expressions** : Constant values that will be compared with the value of the data field or will be the output of the calculation. These could be text surrounded by double quotes (e.g. \"In Stock\"), numerical (e.g. 1000 or 0.36), dates surrounded by '#' symbols (e.g. #July 10, 1998#), booleans (e.g. true or false), or Null."
   ]
  },
  {
   "cell_type": "markdown",
   "id": "d0279671-3d5d-45e9-87a7-6d00d8e5f792",
   "metadata": {},
   "source": [
    "**Parameters** : Variables that represent constant values. They are also surrounded by square brackets and will show up in purple text in the calculation. "
   ]
  },
  {
   "cell_type": "markdown",
   "id": "7422e239-e18c-479b-b31b-ee3fe38be2c2",
   "metadata": {},
   "source": [
    "**Comments** : Additional text provides additional explanation for the calculation but isn't actually a part of the logic. They can be single line (start with '//') or multi-line (start with '/\\*' and end with '\\*/'."
   ]
  },
  {
   "cell_type": "markdown",
   "id": "49bb2222-5ea2-4b4e-a312-3f42658319ec",
   "metadata": {},
   "source": [
    "**<span style=\"color:orange\">NOTE</span>** : For more details on formatting all of these parts of the calculation, see [https://help.tableau.com/current/pro/desktop/en-us/functions_operators.htm](https://help.tableau.com/current/pro/desktop/en-us/functions_operators.htm)"
   ]
  },
  {
   "cell_type": "markdown",
   "id": "c7b29cff-a02d-4d12-aa51-182fe672a5b7",
   "metadata": {},
   "source": [
    "### Basic Calculated Fields"
   ]
  },
  {
   "cell_type": "markdown",
   "id": "28ac74e7-0b0e-48b6-b9cc-ca201c9f304f",
   "metadata": {},
   "source": [
    "Basic calculated fields are calculated based on the full set of data from the data source (i.e. all of the values for the fields/columns that are used as fields in the calculation). They are added to the data pane and can be used on any sheet. "
   ]
  },
  {
   "cell_type": "markdown",
   "id": "a66274cd-1276-41c3-8958-ed04edd5cd48",
   "metadata": {},
   "source": [
    "To create a basic calculated field:"
   ]
  },
  {
   "cell_type": "markdown",
   "id": "e496e7c4-34bd-4208-bb8a-6e1f58d31f22",
   "metadata": {},
   "source": [
    "1. Select Analysis > Create Calculated Field\n",
    "\n",
    "2. Give you calculated field a name.\n",
    "\n",
    "3. Enter a formula for the calculation that will create the field.\n",
    "    * Remember, to see a list of all of the available functions, click the triangle icon on the right-side of the Calculation Editor"
   ]
  },
  {
   "cell_type": "markdown",
   "id": "362003e9-fde3-4321-bd3e-696241ef2d37",
   "metadata": {},
   "source": [
    "<center><img src=\"https://help.tableau.com/current/pro/desktop/en-us/Img/calc_field3.png\" width=\"700\" height=\"700\" />"
   ]
  },
  {
   "cell_type": "markdown",
   "id": "6a8f6461-1989-4067-864a-4f9dc6e1ff33",
   "metadata": {},
   "source": [
    "4. Click 'OK' to add the new calculated field to the list of fields in the data pane.\n",
    "    * All calculated fields will have a data type symbol that is preceded by an equal sign '='. For example, for a calculated field that results in a number the symbol would be:"
   ]
  },
  {
   "cell_type": "markdown",
   "id": "05377ae2-72e8-4a42-a021-b9f053c55b8f",
   "metadata": {},
   "source": [
    "<center><img src=\"Calculated Field Symbol.png\" width=\"100\" height=\"100\" />"
   ]
  },
  {
   "cell_type": "markdown",
   "id": "eaa3dad5-0785-453c-ba45-80f55f0688bb",
   "metadata": {},
   "source": [
    "**<span style=\"color:orange\">NOTE</span>** : If you edit the calculation (click the drop-down arrow on the field in the Data pane and choose 'Edit') it will change to the updated version anywhere that calculated field is used in any of the sheets in the workbook. To see which sheets will be affected you can click on the 'Sheets Affected' drop-down at the bottom of the Editor:"
   ]
  },
  {
   "cell_type": "markdown",
   "id": "5bcb7061-8ee8-44ba-99cf-80b7d39db700",
   "metadata": {},
   "source": [
    "<center><img src=\"https://help.tableau.com/current/pro/desktop/en-us/Img/calcs_tips6.png\" width=\"700\" height=\"700\" />"
   ]
  },
  {
   "cell_type": "markdown",
   "id": "33b1d8c6-4230-407e-a60c-2a5119ece0ad",
   "metadata": {},
   "source": [
    "### Break Time!"
   ]
  },
  {
   "cell_type": "markdown",
   "id": "5b6d55be-0fd1-4804-954f-4fc3d52e19bf",
   "metadata": {},
   "source": [
    "<center><img src=\"https://media1.tenor.com/images/82b89873320e6e4df68e11cf2c9230ab/tenor.gif?itemid=10415113\" width=\"300\" height=\"300\" />"
   ]
  },
  {
   "cell_type": "markdown",
   "id": "6c980da2-d25a-4b4a-97b7-ae0ce51c774e",
   "metadata": {},
   "source": [
    "### Table Calculations"
   ]
  },
  {
   "cell_type": "markdown",
   "id": "c477de89-ee05-47d0-b21b-e97d51b1908a",
   "metadata": {},
   "source": [
    "Table calculations take into account only the 'virtual table' of data being used in the visualization, so won't take into account any information not included or filtered out. They don't create a field in the Data pane and are only used for the current viz. "
   ]
  },
  {
   "cell_type": "markdown",
   "id": "9cfe3b59-fb08-4b5e-b78b-b5b808f0cb03",
   "metadata": {},
   "source": [
    "**Quick table calculations** use common formulas that Tableau already has available to implement with a single click. These include calculations such as running total, percent of total, moving average, YTD Growth, etc."
   ]
  },
  {
   "cell_type": "markdown",
   "id": "831efd17-a8af-4580-b846-c7072ea272b5",
   "metadata": {},
   "source": [
    "1. Create a visualization.\n",
    "2. Click the drop-down arrow on a measure pill being used in the visualization on one of the shelves/cards and select 'Quick Table Calculation'.\n",
    "3. Choose the type of table calculation you want applied. To show that a table calculation is being used a delta symbol (triangle) will appear on the data pill."
   ]
  },
  {
   "attachments": {
    "89e6a1b8-a833-4792-b2f0-d4539c43ef8c.png": {
     "image/png": "[encoded data removed]"
    }
   },
   "cell_type": "markdown",
   "id": "fca0f23e-e153-4a70-a013-266bd0db4c35",
   "metadata": {},
   "source": [
    "<center><img src=\"attachment:89e6a1b8-a833-4792-b2f0-d4539c43ef8c.png\" width=\"50\" height=\"50\" />"
   ]
  },
  {
   "cell_type": "markdown",
   "id": "89f74709-e5e1-4b08-97dd-1433ad11f0f8",
   "metadata": {},
   "source": [
    "**Manual table calculations** are like creating calculated fields in that you have to write the formula for the calculation yourself. For more info on how to create these manually, see [https://help.tableau.com/current/pro/desktop/en-us/calculations_tablecalculations.htm#Create](https://help.tableau.com/current/pro/desktop/en-us/calculations_tablecalculations.htm#Create)."
   ]
  },
  {
   "cell_type": "markdown",
   "id": "7c887c66-99cb-4c19-9b02-572593b2316c",
   "metadata": {},
   "source": [
    "**<span style=\"color:orange\">NOTE</span>** : For some more nifty tips on making calculations see [https://help.tableau.com/current/pro/desktop/en-us/calculations_calculatedfields_tips.htm](https://help.tableau.com/current/pro/desktop/en-us/calculations_calculatedfields_tips.htm)"
   ]
  },
  {
   "cell_type": "markdown",
   "id": "0b285bdb-e790-42c8-b100-5a1a71362e28",
   "metadata": {},
   "source": [
    "_______________"
   ]
  },
  {
   "cell_type": "markdown",
   "id": "c6e06dfb-d014-4e5f-8750-36dd89c9a2fb",
   "metadata": {},
   "source": [
    "# Parameters"
   ]
  },
  {
   "cell_type": "markdown",
   "id": "9b8f4d55-b009-4a2c-a2e3-4caaecf1e72d",
   "metadata": {},
   "source": [
    "Parameters are variables that represent constant values. Just like in programming, you can put the name of a parameter into a calculation and the result of the calculation will update if you change the value of the parameter. They are added to the Data pane, can be used by any sheet, and are used to:\n",
    "* Dynamically change when the data in the data source changes\n",
    "* Make visualizations more interactive\n",
    "* Make calculations more understandable\n",
    "* Much more - A whole 45 minute video on what you can do with parameters can be found at [https://youtu.be/Xk9HnpmWtsU](https://youtu.be/Xk9HnpmWtsU)"
   ]
  },
  {
   "cell_type": "markdown",
   "id": "df81a036-20e7-4e41-9e51-e859c957f278",
   "metadata": {},
   "source": [
    "### Creating a Parameter"
   ]
  },
  {
   "cell_type": "markdown",
   "id": "13871588-2110-4868-bbb0-3db62d012f21",
   "metadata": {},
   "source": [
    "1. Click the drop-down arrow in the upper right corner of the Data pane and choose 'Create Parameter'."
   ]
  },
  {
   "cell_type": "markdown",
   "id": "d1caac7e-f19a-40ee-8aa8-597bae86c4df",
   "metadata": {},
   "source": [
    "<center><img src=\"https://help.tableau.com/current/pro/desktop/en-us/Img/DPVcreate-parameter-contextmenu.png\" width=\"200\" height=\"200\" />"
   ]
  },
  {
   "cell_type": "markdown",
   "id": "902ffc04-ee10-4c82-b00e-6197036d9c0c",
   "metadata": {},
   "source": [
    "    This will open the editor:"
   ]
  },
  {
   "cell_type": "markdown",
   "id": "0609f56e-2d38-45c6-81ce-8efe7b445bce",
   "metadata": {},
   "source": [
    "<center><img src=\"https://help.tableau.com/current/pro/desktop/en-us/Img/change-view-parameters-DPV.png\" width=\"500\" height=\"500\" />"
   ]
  },
  {
   "cell_type": "markdown",
   "id": "4826be58-3d8a-4c77-b8c4-0efacfc19ea0",
   "metadata": {},
   "source": [
    "2. Name the parameter."
   ]
  },
  {
   "cell_type": "markdown",
   "id": "5a4cbbe4-5601-42bc-ae1e-e7c0379400dc",
   "metadata": {},
   "source": [
    "3. Specify what data type the parameter is (e.g. Float, Integer, String, Date, etc.)"
   ]
  },
  {
   "cell_type": "markdown",
   "id": "b5d1771f-a455-497a-bf34-d30ba6749d83",
   "metadata": {},
   "source": [
    "4. Specify either the exact value for the parameter, or the value it should be assigned when the workbook is opened based on the current data in the data source (called a **dynamic parameter**)"
   ]
  },
  {
   "cell_type": "markdown",
   "id": "8c71ac2a-d645-4a08-9606-e809ccadd098",
   "metadata": {},
   "source": [
    "5. Specify what values the parameter can be changed to. The options are:\n",
    "    * *All* : you can fill in any value you want in a text field.\n",
    "    * *List* : requires that you specify the possible values that could be selected.\n",
    "    * *Range* : requires that you set a min and max value, as well as a step size. "
   ]
  },
  {
   "cell_type": "markdown",
   "id": "a05994ee-6f99-4d2c-985c-dda46b5d7389",
   "metadata": {},
   "source": [
    "6. Click 'OK' to add the new parameter to a Parameter section of the Data pane."
   ]
  },
  {
   "cell_type": "markdown",
   "id": "2fcb4e36-797b-42b8-9961-d3321926616d",
   "metadata": {},
   "source": [
    "<center><img src=\"https://help.tableau.com/current/pro/desktop/en-us/Img/DPV-parameter-in-datapane.png\" width=\"200\" height=\"200\" />"
   ]
  },
  {
   "cell_type": "markdown",
   "id": "0328edf1-0b6a-4e70-baee-9774ef5d02c9",
   "metadata": {},
   "source": [
    "**<span style=\"color:orange\">NOTE</span>** : If you edit the parameter (click the drop-down arrow on the field in the Data pane and choose 'Edit') it will change to the updated version anywhere that parameter is used in any of the sheets in the workbook."
   ]
  },
  {
   "cell_type": "markdown",
   "id": "731dfbcc-fc78-4906-b5f1-48a1deb6a2cc",
   "metadata": {},
   "source": [
    "### Making Parameters Interactive"
   ]
  },
  {
   "cell_type": "markdown",
   "id": "2fa5f946-acea-4715-8cd0-db234a480d89",
   "metadata": {},
   "source": [
    "Just like you can make filters interactive, you can make parameters interactive. The process is similar to filters: Click the down-arrow on the parameter field in the data pane and select 'Show Parameter':"
   ]
  },
  {
   "cell_type": "markdown",
   "id": "6e326f62-a5ff-43fe-8685-ba899d6a211a",
   "metadata": {},
   "source": [
    "<center><img src=\"https://help.tableau.com/current/pro/desktop/en-us/Img/example_parameters13.png\" width=\"300\" height=\"300\" />"
   ]
  },
  {
   "cell_type": "markdown",
   "id": "fc30bf18-2329-486b-9f75-eaf477ee2450",
   "metadata": {},
   "source": [
    "This will add a new interactive card where you can change the value of the parameter based on whether you chose parameter options as All, List, or Range. You can update how the card appears using the drow-down arrow in the upper right corner of the interactive card:"
   ]
  },
  {
   "cell_type": "markdown",
   "id": "22988a1f-9252-4ab0-95af-3ce9f728754c",
   "metadata": {},
   "source": [
    "<center><img src=\"https://help.tableau.com/current/pro/desktop/en-us/Img/parameters13.png\" width=\"200\" height=\"200\" />"
   ]
  }
 ],
 "metadata": {
  "kernelspec": {
   "display_name": "Python 3 (ipykernel)",
   "language": "python",
   "name": "python3"
  },
  "language_info": {
   "codemirror_mode": {
    "name": "ipython",
    "version": 3
   },
   "file_extension": ".py",
   "mimetype": "text/x-python",
   "name": "python",
   "nbconvert_exporter": "python",
   "pygments_lexer": "ipython3",
   "version": "3.9.12"
  }
 },
 "nbformat": 4,
 "nbformat_minor": 5
}
